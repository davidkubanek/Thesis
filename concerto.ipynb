{
  "cells": [
    {
      "cell_type": "markdown",
      "metadata": {
        "colab_type": "text",
        "id": "view-in-github"
      },
      "source": [
        "<a href=\"https://colab.research.google.com/github/davidkubanek/Thesis/blob/main/concerto.ipynb\" target=\"_parent\"><img src=\"https://colab.research.google.com/assets/colab-badge.svg\" alt=\"Open In Colab\"/></a>"
      ]
    },
    {
      "cell_type": "markdown",
      "metadata": {
        "id": "hpnAQeFgIIKA"
      },
      "source": [
        "# CONCERTO architecture"
      ]
    },
    {
      "cell_type": "code",
      "execution_count": null,
      "metadata": {
        "colab": {
          "base_uri": "https://localhost:8080/"
        },
        "id": "t1jm2t5MI4af",
        "outputId": "793f5653-af48-4b46-f0a8-ea70052b9fc6"
      },
      "outputs": [],
      "source": [
        "# for running in colab\n",
        "!pip install dgl\n",
        "!pip install rdkit\n",
        "!pip install torch_geometric\n",
        "!pip install wandb"
      ]
    },
    {
      "cell_type": "code",
      "execution_count": 2,
      "metadata": {
        "colab": {
          "base_uri": "https://localhost:8080/"
        },
        "id": "T69lAzjYIIKB",
        "outputId": "023e98ca-09d4-4179-ff08-8815f2839f5e"
      },
      "outputs": [
        {
          "name": "stdout",
          "output_type": "stream",
          "text": [
            "cpu\n"
          ]
        }
      ],
      "source": [
        "import numpy as np\n",
        "import pandas as pd\n",
        "import matplotlib.pyplot as plt\n",
        "import torch\n",
        "plt.rcParams[\"font.family\"] = \"Palatino\"\n",
        "\n",
        "import dgl\n",
        "import torch.nn as nn\n",
        "import torch.nn.functional as F\n",
        "from torch.optim import Adam, lr_scheduler\n",
        "from torch.utils.data import Dataset, DataLoader\n",
        "from torch_geometric.loader import DataLoader\n",
        "#import wandb\n",
        "import warnings\n",
        "\n",
        "from rdkit import Chem\n",
        "from rdkit.Chem import MACCSkeys\n",
        "from rdkit.Chem import AllChem\n",
        "from rdkit.Chem import DataStructs\n",
        "\n",
        "# check if cuda is available\n",
        "device = torch.device('cuda' if torch.cuda.is_available() else 'cpu')\n",
        "print(device)"
      ]
    },
    {
      "cell_type": "code",
      "execution_count": 3,
      "metadata": {
        "colab": {
          "base_uri": "https://localhost:8080/"
        },
        "id": "zQK8GKzgKVqk",
        "outputId": "14520bd6-c4e7-41a0-bffe-a12986118c53"
      },
      "outputs": [
        {
          "name": "stdout",
          "output_type": "stream",
          "text": [
            "Mounted at /content/drive\n"
          ]
        }
      ],
      "source": [
        "from google.colab import drive\n",
        "drive.mount('/content/drive')"
      ]
    },
    {
      "cell_type": "markdown",
      "metadata": {
        "id": "BiDm45e0IIKC"
      },
      "source": [
        "# Data"
      ]
    },
    {
      "cell_type": "markdown",
      "metadata": {
        "id": "326XAtvEIIKC"
      },
      "source": [
        "## Carci + Mut CONCERTO data\n",
        "Load in the carcinogenecity and mutagenecity data as in CONCERTO paper."
      ]
    },
    {
      "cell_type": "code",
      "execution_count": null,
      "metadata": {
        "id": "_RPSdghoIIKC"
      },
      "outputs": [],
      "source": [
        "class CancerMutDatasetClass(Dataset):\n",
        "\t'''\n",
        "\tImports and pre-processes the Cancer and Mutagenecity data and returns them in the form of a dataset\n",
        "\t'''\n",
        "\tdef __init__(self, out_feats=1, drop_ionic=True, min_carbon_count=0, fraction_of_data=1, use_carc_prob=False, carc_percentile_to_drop=0):\n",
        "\t\tself.out_feats = out_feats\n",
        "\t\tself.drop_ionic = drop_ionic\n",
        "\t\tself.min_carbon_count = min_carbon_count\n",
        "\t\tself.fraction_of_data = fraction_of_data\n",
        "\t\tself.use_carc_prob = use_carc_prob\n",
        "\t\tself.carc_percentile_to_drop = carc_percentile_to_drop\n",
        "\n",
        "\tdef load_carc_cpdb(cls):\n",
        "\t\tcpdb = pd.read_csv(\n",
        "\t\t\t'Data/concerto data/cpdb_aggergated.csv',\n",
        "\t\t\tusecols=['smiles', 'td50_log_harmonic', 'cas', 'carc_class', 'carc_class_multi']\n",
        "\t\t)\n",
        "\t\tcpdb['smiles'] = cls.smiles_standardize(cpdb['smiles'].values)\n",
        "\t\tcpdb = cpdb[cpdb['smiles'].notnull()]\n",
        "\t\tcpdb.rename(columns={'td50_log_harmonic': 'td50'}, inplace=True)\n",
        "\t\tassert cpdb['smiles'].duplicated().sum() == 0, \\\n",
        "\t\t\tcpdb[cpdb['smiles'].duplicated(keep=False)].sort_values('smiles').to_string()\n",
        "\t\tcpdb['source'] = 'cpdb'\n",
        "\t\treturn cpdb\n",
        "\n",
        "\tdef load_mut_hansen(cls):\n",
        "\t\tames_df = pd.read_csv('Data/concerto data/hansen_2009_ames.smi', sep='\\t', names=['smiles', 'cas', 'class'])\n",
        "\t\tames_df['smiles'] = cls.smiles_standardize(ames_df['smiles'].values)\n",
        "\t\tames_df = ames_df[ames_df['smiles'].notnull()]\n",
        "\t\tames_df.rename(columns={'class': 'mut_class'}, inplace=True)\n",
        "\t\tames_df.drop(columns='cas', inplace=True)\n",
        "\t\tames_df = ames_df[~ames_df.duplicated(['smiles', 'mut_class'])]\n",
        "\t\tassert ames_df['smiles'].duplicated().sum() == 0, \\\n",
        "\t\t\tames_df[ames_df['smiles'].duplicated(keep=False)].sort_values('smiles').to_string()\n",
        "\t\tames_df['source'] = 'hansen'\n",
        "\t\treturn ames_df\n",
        "\n",
        "\n",
        "\tdef smiles_standardize(cls, smiles):\n",
        "\t\tnew_smiles = []\n",
        "\t\tfor smile in smiles:\n",
        "\t\t\tif pd.isnull(smile):\n",
        "\t\t\t\tnew_smiles.append(None)\n",
        "\t\t\t\tcontinue\n",
        "\t\t\t# Generate the molecule from smile string\n",
        "\t\t\tmol = Chem.MolFromSmiles(smile)\n",
        "\t\t\t# If the smile string is null then continue\n",
        "\t\t\tif pd.isnull(mol):\n",
        "\t\t\t\tnew_smiles.append(None)\n",
        "\t\t\telse:\n",
        "\t\t\t\tnew_smiles.append(Chem.MolToSmiles(mol,canonical=True,isomericSmiles=False,allBondsExplicit=False))\n",
        "\t\treturn new_smiles\n",
        "\n",
        "\tdef count_num_carbons(cls, smile):\n",
        "\t\tmol = Chem.MolFromSmiles(smile)\n",
        "\t\tnum_c = 0\n",
        "\t\tfor atom in mol.GetAtoms():\n",
        "\t\t\tif atom.GetSymbol().upper() == 'C':\n",
        "\t\t\t\tnum_c += 1\n",
        "\t\treturn num_c\n",
        "\n",
        "\tdef load_data(self):\n",
        "\t\t# Loaded data should not overlap mut_hansn and carc_cpdb since they are the two primary training data sources\n",
        "\t\tmut = self.load_mut_hansen()\n",
        "\t\tcarc = self.load_carc_cpdb()\n",
        "\n",
        "\t\tcarc_datasets = []\n",
        "\t\tmut_datasets = []\n",
        "\n",
        "\t\tcarc_datasets.append(carc)\n",
        "\n",
        "\t\t# if 'carc_ccris' in self.carc_datasets:\n",
        "\t\t# \ttemp = self.load_carc_ccris()\n",
        "\t\t# \t# drop samples that are in training data by default cpdb & carc_pred_el\n",
        "\t\t# \ttemp = temp[~temp['smiles'].isin(carc['smiles'])]\n",
        "\t\t# \tcarc_datasets.append(temp)\n",
        "\n",
        "\t\tmut_datasets.append(mut)\n",
        "\n",
        "\t\tif mut_datasets:\n",
        "\t\t\tmut = pd.concat(mut_datasets)\n",
        "\t\telse:\n",
        "\t\t\tmut = pd.DataFrame(columns=mut.columns)\n",
        "\n",
        "\t\tif carc_datasets:\n",
        "\t\t\tcarc = pd.concat(carc_datasets)\n",
        "\t\telse:\n",
        "\t\t\tcarc = pd.DataFrame(columns=carc.columns)\n",
        "\n",
        "\t\t# check for duplicates\n",
        "\t\tif mut['smiles'].duplicated().sum() != 0:\n",
        "\t\t\twarnings.warn(f\"duplicated samples {mut['smiles'].duplicated().sum()} contained in mutagenicity data \"\n",
        "\t\t\t\t\t\t  f\"from {mut_datasets}\\n\"\n",
        "\t\t\t\t\t\t  f\" {mut[mut['smiles'].duplicated(keep=False)].sort_values('smiles').head().to_string()}\")\n",
        "\t\t\tmut.sort_values(['smiles', 'mut_class'], ascending=False)\n",
        "\t\t\tmut = mut[~mut.duplicated('smiles')]\n",
        "\n",
        "\t\tif carc['smiles'].duplicated().sum() != 0:\n",
        "\t\t\twarnings.warn(f\"duplicated samples {carc['smiles'].duplicated().sum()} contained in carcinogenicity data \"\n",
        "\t\t\t\t\t\t  f\"from {carc_datasets}\\n\"\n",
        "\t\t\t\t\t\t  f\" {carc[carc['smiles'].duplicated(keep=False)].sort_values('smiles').head().to_string()}\")\n",
        "\t\t\tcarc = carc[~carc.duplicated('smiles')]\n",
        "\n",
        "\t\t# merge the mut and carc datasets\n",
        "\t\tdf = pd.merge(mut, carc, how='outer', on='smiles')\n",
        "\t\tdf['source'] = df['source_x'].fillna('') + ',' + df['source_y'].fillna('')\n",
        "\t\tdf.drop(columns=['source_x', 'source_y'], inplace=True)\n",
        "\n",
        "\t\trequired_columns = ['td50', 'carc_class', 'mut_class', 'carc_class_multi']\n",
        "\t\tfor column in required_columns:\n",
        "\t\t\tif column not in df.columns:\n",
        "\t\t\t\tdf[column] = np.nan\n",
        "\n",
        "\t\tif self.drop_ionic:\n",
        "\t\t\tdf = df[~df['smiles'].str.contains('\\.')]\n",
        "\n",
        "\t\tdf['carbon_count'] = [self.count_num_carbons(x) for x in df['smiles'].values]\n",
        "\t\tif self.min_carbon_count:\n",
        "\t\t\tdf = df[df['carbon_count'] >= self.min_carbon_count]\n",
        "\n",
        "\t\t# Shuffle the data\n",
        "\t\tindex = np.arange(len(df))\n",
        "\t\tnp.random.seed(1337)\n",
        "\t\tnp.random.shuffle(index)\n",
        "\t\tdf = df.iloc[index].reset_index(drop=True)\n",
        "\n",
        "\t\t# Log of Betas that were fitted using a cox regression model\n",
        "\t\tif self.carc_percentile_to_drop > 0:\n",
        "\t\t\t# cleave off the top percentile\n",
        "\t\t\tlowest_td_50_val = np.nanpercentile(df['td50'].values, self.carc_percentile_to_drop)\n",
        "\t\t\tmask = df[df['td50'] <= lowest_td_50_val].index\n",
        "\t\t\tdf.loc[mask, 'td50'] = lowest_td_50_val\n",
        "\n",
        "\t\tbetas = np.log((np.log(2) / df[\"td50\"].values))\n",
        "\n",
        "\t\t# standardize\n",
        "\t\tbeta_standardized = (betas - np.nanmean(betas)) / np.nanstd(betas)\n",
        "\t\t# normalize\n",
        "\t\tbeta_normalized = betas - np.nanmin(betas)\n",
        "\t\tbeta_normalized = beta_normalized / np.nanmax(beta_normalized)\n",
        "\n",
        "\t\tdf['beta_standardized'] = beta_standardized\n",
        "\t\tdf['beta_normalized'] = beta_normalized\n",
        "\n",
        "\t\tif self.fraction_of_data < 1:\n",
        "\t\t\tnew_data_len = int(len(df) * self.fraction_of_data)\n",
        "\t\t\tdf = df.iloc[:new_data_len]\n",
        "\n",
        "\t\t#save the resulting dataframe\n",
        "\t\tself.df = df\n"
      ]
    },
    {
      "cell_type": "code",
      "execution_count": null,
      "metadata": {
        "id": "LaxYg7WEIIKD"
      },
      "outputs": [],
      "source": [
        "dataset = CancerMutDatasetClass()\n",
        "dataset.load_data()"
      ]
    },
    {
      "cell_type": "code",
      "execution_count": null,
      "metadata": {
        "id": "rqIw9U3KIIKD",
        "outputId": "38d05ec9-18da-4ae4-a48d-a9528aebd544"
      },
      "outputs": [
        {
          "data": {
            "text/html": [
              "<div>\n",
              "<style scoped>\n",
              "    .dataframe tbody tr th:only-of-type {\n",
              "        vertical-align: middle;\n",
              "    }\n",
              "\n",
              "    .dataframe tbody tr th {\n",
              "        vertical-align: top;\n",
              "    }\n",
              "\n",
              "    .dataframe thead th {\n",
              "        text-align: right;\n",
              "    }\n",
              "</style>\n",
              "<table border=\"1\" class=\"dataframe\">\n",
              "  <thead>\n",
              "    <tr style=\"text-align: right;\">\n",
              "      <th></th>\n",
              "      <th>smiles</th>\n",
              "      <th>mut_class</th>\n",
              "      <th>cas</th>\n",
              "      <th>td50</th>\n",
              "      <th>carc_class_multi</th>\n",
              "      <th>carc_class</th>\n",
              "      <th>source</th>\n",
              "      <th>carbon_count</th>\n",
              "      <th>beta_standardized</th>\n",
              "      <th>beta_normalized</th>\n",
              "    </tr>\n",
              "  </thead>\n",
              "  <tbody>\n",
              "    <tr>\n",
              "      <th>1633</th>\n",
              "      <td>CC(C)(C)c1ccc(OP2OCC3(CO2)COP(Oc2ccc(C(C)(C)C)...</td>\n",
              "      <td>0.0</td>\n",
              "      <td>NaN</td>\n",
              "      <td>NaN</td>\n",
              "      <td>NaN</td>\n",
              "      <td>NaN</td>\n",
              "      <td>hansen,</td>\n",
              "      <td>33</td>\n",
              "      <td>NaN</td>\n",
              "      <td>NaN</td>\n",
              "    </tr>\n",
              "    <tr>\n",
              "      <th>4820</th>\n",
              "      <td>Nc1ccc(CO)c([N+](=O)[O-])c1</td>\n",
              "      <td>1.0</td>\n",
              "      <td>NaN</td>\n",
              "      <td>NaN</td>\n",
              "      <td>NaN</td>\n",
              "      <td>NaN</td>\n",
              "      <td>hansen,</td>\n",
              "      <td>7</td>\n",
              "      <td>NaN</td>\n",
              "      <td>NaN</td>\n",
              "    </tr>\n",
              "    <tr>\n",
              "      <th>6547</th>\n",
              "      <td>NCCNCCNCCN</td>\n",
              "      <td>1.0</td>\n",
              "      <td>NaN</td>\n",
              "      <td>NaN</td>\n",
              "      <td>NaN</td>\n",
              "      <td>NaN</td>\n",
              "      <td>hansen,</td>\n",
              "      <td>6</td>\n",
              "      <td>NaN</td>\n",
              "      <td>NaN</td>\n",
              "    </tr>\n",
              "    <tr>\n",
              "      <th>1001</th>\n",
              "      <td>BrCc1c2ccccc2c2ccc3cccc4ccc1c2c43</td>\n",
              "      <td>1.0</td>\n",
              "      <td>NaN</td>\n",
              "      <td>NaN</td>\n",
              "      <td>NaN</td>\n",
              "      <td>NaN</td>\n",
              "      <td>hansen,</td>\n",
              "      <td>21</td>\n",
              "      <td>NaN</td>\n",
              "      <td>NaN</td>\n",
              "    </tr>\n",
              "    <tr>\n",
              "      <th>545</th>\n",
              "      <td>OC1C=Cc2ncccc2C1O</td>\n",
              "      <td>0.0</td>\n",
              "      <td>NaN</td>\n",
              "      <td>NaN</td>\n",
              "      <td>NaN</td>\n",
              "      <td>NaN</td>\n",
              "      <td>hansen,</td>\n",
              "      <td>9</td>\n",
              "      <td>NaN</td>\n",
              "      <td>NaN</td>\n",
              "    </tr>\n",
              "    <tr>\n",
              "      <th>4971</th>\n",
              "      <td>COC(C(=O)O)c1ccccc1</td>\n",
              "      <td>NaN</td>\n",
              "      <td>1701-77-5</td>\n",
              "      <td>6.598778</td>\n",
              "      <td>2.0</td>\n",
              "      <td>1.0</td>\n",
              "      <td>,cpdb</td>\n",
              "      <td>9</td>\n",
              "      <td>-0.085314</td>\n",
              "      <td>0.175281</td>\n",
              "    </tr>\n",
              "    <tr>\n",
              "      <th>1094</th>\n",
              "      <td>CC(C)[N+](C)(CCOC(=O)C1c2ccccc2Oc2ccccc21)C(C)C</td>\n",
              "      <td>0.0</td>\n",
              "      <td>NaN</td>\n",
              "      <td>NaN</td>\n",
              "      <td>NaN</td>\n",
              "      <td>NaN</td>\n",
              "      <td>hansen,</td>\n",
              "      <td>23</td>\n",
              "      <td>NaN</td>\n",
              "      <td>NaN</td>\n",
              "    </tr>\n",
              "    <tr>\n",
              "      <th>1664</th>\n",
              "      <td>CC(=O)Nc1nc2c3cccnc3ccc2n1C</td>\n",
              "      <td>1.0</td>\n",
              "      <td>NaN</td>\n",
              "      <td>NaN</td>\n",
              "      <td>NaN</td>\n",
              "      <td>NaN</td>\n",
              "      <td>hansen,</td>\n",
              "      <td>13</td>\n",
              "      <td>NaN</td>\n",
              "      <td>NaN</td>\n",
              "    </tr>\n",
              "    <tr>\n",
              "      <th>5062</th>\n",
              "      <td>O=[N+]([O-])c1ccc2c3ccccc3c3cccc4ccc1c2c43</td>\n",
              "      <td>1.0</td>\n",
              "      <td>NaN</td>\n",
              "      <td>NaN</td>\n",
              "      <td>NaN</td>\n",
              "      <td>NaN</td>\n",
              "      <td>hansen,</td>\n",
              "      <td>20</td>\n",
              "      <td>NaN</td>\n",
              "      <td>NaN</td>\n",
              "    </tr>\n",
              "    <tr>\n",
              "      <th>1571</th>\n",
              "      <td>CN(C)c1nc(N(C)C)nc(N(C)C)n1</td>\n",
              "      <td>0.0</td>\n",
              "      <td>NaN</td>\n",
              "      <td>NaN</td>\n",
              "      <td>NaN</td>\n",
              "      <td>NaN</td>\n",
              "      <td>hansen,</td>\n",
              "      <td>9</td>\n",
              "      <td>NaN</td>\n",
              "      <td>NaN</td>\n",
              "    </tr>\n",
              "  </tbody>\n",
              "</table>\n",
              "</div>"
            ],
            "text/plain": [
              "                                                 smiles  mut_class        cas  \\\n",
              "1633  CC(C)(C)c1ccc(OP2OCC3(CO2)COP(Oc2ccc(C(C)(C)C)...        0.0        NaN   \n",
              "4820                        Nc1ccc(CO)c([N+](=O)[O-])c1        1.0        NaN   \n",
              "6547                                         NCCNCCNCCN        1.0        NaN   \n",
              "1001                  BrCc1c2ccccc2c2ccc3cccc4ccc1c2c43        1.0        NaN   \n",
              "545                                   OC1C=Cc2ncccc2C1O        0.0        NaN   \n",
              "4971                                COC(C(=O)O)c1ccccc1        NaN  1701-77-5   \n",
              "1094    CC(C)[N+](C)(CCOC(=O)C1c2ccccc2Oc2ccccc21)C(C)C        0.0        NaN   \n",
              "1664                        CC(=O)Nc1nc2c3cccnc3ccc2n1C        1.0        NaN   \n",
              "5062         O=[N+]([O-])c1ccc2c3ccccc3c3cccc4ccc1c2c43        1.0        NaN   \n",
              "1571                        CN(C)c1nc(N(C)C)nc(N(C)C)n1        0.0        NaN   \n",
              "\n",
              "          td50  carc_class_multi  carc_class   source  carbon_count  \\\n",
              "1633       NaN               NaN         NaN  hansen,            33   \n",
              "4820       NaN               NaN         NaN  hansen,             7   \n",
              "6547       NaN               NaN         NaN  hansen,             6   \n",
              "1001       NaN               NaN         NaN  hansen,            21   \n",
              "545        NaN               NaN         NaN  hansen,             9   \n",
              "4971  6.598778               2.0         1.0    ,cpdb             9   \n",
              "1094       NaN               NaN         NaN  hansen,            23   \n",
              "1664       NaN               NaN         NaN  hansen,            13   \n",
              "5062       NaN               NaN         NaN  hansen,            20   \n",
              "1571       NaN               NaN         NaN  hansen,             9   \n",
              "\n",
              "      beta_standardized  beta_normalized  \n",
              "1633                NaN              NaN  \n",
              "4820                NaN              NaN  \n",
              "6547                NaN              NaN  \n",
              "1001                NaN              NaN  \n",
              "545                 NaN              NaN  \n",
              "4971          -0.085314         0.175281  \n",
              "1094                NaN              NaN  \n",
              "1664                NaN              NaN  \n",
              "5062                NaN              NaN  \n",
              "1571                NaN              NaN  "
            ]
          },
          "execution_count": 236,
          "metadata": {},
          "output_type": "execute_result"
        }
      ],
      "source": [
        "# give random draw of data\n",
        "dataset.df.sample(10)"
      ]
    },
    {
      "cell_type": "code",
      "execution_count": null,
      "metadata": {
        "id": "eiHvtRoHIIKE"
      },
      "outputs": [],
      "source": [
        "'''\n",
        "Some things from the original code that I might need to use later\n",
        "'''\n",
        "# Clip loss\n",
        "# torch.nn.utils.clip_grad_norm_(model.parameters(), args[\"gradient_clip_norm\"])\n",
        "# optimizer = Adam(model.parameters(), lr=args['lr'], weight_decay=args['network_weight_decay'])\n",
        "# scheduler = lr_scheduler.ReduceLROnPlateau(optimizer, 'min', factor=args['lr_decay_factor'])\n",
        "\n",
        "# early_stop = stopper.step(val_score, model)\n",
        "# if args[\"use_wandb\"]:\n",
        "#     wandb.log({\n",
        "#         f\"epoch{note}\": epoch + 1,\n",
        "#         f\"training_carcinogenic_loss{note}\": train_carc_loss,\n",
        "#         f\"training_mutagenic_loss{note}\": train_mut_loss,\n",
        "#         f\"training_loss{note}\": train_loss,\n",
        "#         f\"training_mut_{train_mut_metric_name}{note}\": train_mut_metric,\n",
        "#         f\"training_mut_{train_mut_metric_name2}{note}\": train_mut_metric2,\n",
        "#         f\"training_carc_{train_carc_metric_name}{note}\": train_carc_metric,\n",
        "#         f\"training_carc_{train_carc_metric_name2}{note}\": train_carc_metric2,\n",
        "\n",
        "#         f\"validation_loss{note}\": val_loss,\n",
        "#         f\"validation_carc_loss{note}\": val_carc_loss,\n",
        "#         f\"validation_mut_loss{note}\": val_mut_loss,\n",
        "#         f\"validation_carc_{val_carc_metric_name}{note}\": val_carc_metric,\n",
        "#         f\"validation_carc_{val_carc_metric_name2}{note}\": val_carc_metric2,\n",
        "#         f\"validation_mut_{val_mut_metric_name}{note}\": val_mut_metric,\n",
        "#         f\"validation_mut_{val_mut_metric_name2}{note}\": val_mut_metric2,\n",
        "#     })\n",
        "\n",
        "# if early_stop:\n",
        "#     break\n",
        "# stopper.load_checkpoint(model)\n"
      ]
    },
    {
      "cell_type": "markdown",
      "metadata": {
        "id": "5GydVVxwIIKE"
      },
      "source": [
        "## HTSFP PubChem data\n",
        "Load in the HTSFP data from the activity matrix generated in 'HTS_fingerprints'"
      ]
    },
    {
      "cell_type": "code",
      "execution_count": 4,
      "metadata": {
        "colab": {
          "base_uri": "https://localhost:8080/",
          "height": 300
        },
        "id": "APkgleI6IIKE",
        "outputId": "76708869-fe64-4ef9-b5cf-3a72979169f4"
      },
      "outputs": [
        {
          "data": {
            "text/html": [
              "<div>\n",
              "<style scoped>\n",
              "    .dataframe tbody tr th:only-of-type {\n",
              "        vertical-align: middle;\n",
              "    }\n",
              "\n",
              "    .dataframe tbody tr th {\n",
              "        vertical-align: top;\n",
              "    }\n",
              "\n",
              "    .dataframe thead th {\n",
              "        text-align: right;\n",
              "    }\n",
              "</style>\n",
              "<table border=\"1\" class=\"dataframe\">\n",
              "  <thead>\n",
              "    <tr style=\"text-align: right;\">\n",
              "      <th></th>\n",
              "      <th>SMILES</th>\n",
              "      <th>1347041</th>\n",
              "      <th>652048</th>\n",
              "      <th>652051</th>\n",
              "      <th>1259415</th>\n",
              "      <th>624414</th>\n",
              "      <th>623870</th>\n",
              "      <th>624415</th>\n",
              "      <th>652067</th>\n",
              "      <th>652126</th>\n",
              "      <th>...</th>\n",
              "      <th>588405</th>\n",
              "      <th>588458</th>\n",
              "      <th>588489</th>\n",
              "      <th>588492</th>\n",
              "      <th>588493</th>\n",
              "      <th>588621</th>\n",
              "      <th>588850</th>\n",
              "      <th>602141</th>\n",
              "      <th>588352</th>\n",
              "      <th>588664</th>\n",
              "    </tr>\n",
              "  </thead>\n",
              "  <tbody>\n",
              "    <tr>\n",
              "      <th>0</th>\n",
              "      <td>CCN(CC)C1=CC2=C(C=C1)C(=C3C=CC(=[N+](CC)CC)C=C...</td>\n",
              "      <td>-38.089760</td>\n",
              "      <td>-0.854682</td>\n",
              "      <td>-0.854682</td>\n",
              "      <td>0.000000</td>\n",
              "      <td>2.996274</td>\n",
              "      <td>-0.000844</td>\n",
              "      <td>-0.370409</td>\n",
              "      <td>0.000000</td>\n",
              "      <td>0.000000</td>\n",
              "      <td>...</td>\n",
              "      <td>-0.06599</td>\n",
              "      <td>-0.045673</td>\n",
              "      <td>-0.030214</td>\n",
              "      <td>NaN</td>\n",
              "      <td>-0.038655</td>\n",
              "      <td>-0.024894</td>\n",
              "      <td>-0.046669</td>\n",
              "      <td>-0.030226</td>\n",
              "      <td>0.260380</td>\n",
              "      <td>-0.372029</td>\n",
              "    </tr>\n",
              "    <tr>\n",
              "      <th>1</th>\n",
              "      <td>C1CN(C(C2=C1C3=CC=CC=C3N2)C4=CC(=CC=C4)O)CC5=C...</td>\n",
              "      <td>-19.754667</td>\n",
              "      <td>-0.054001</td>\n",
              "      <td>-0.054001</td>\n",
              "      <td>0.460832</td>\n",
              "      <td>0.190177</td>\n",
              "      <td>0.141050</td>\n",
              "      <td>0.024654</td>\n",
              "      <td>1.223655</td>\n",
              "      <td>1.856588</td>\n",
              "      <td>...</td>\n",
              "      <td>-0.06599</td>\n",
              "      <td>-0.045673</td>\n",
              "      <td>-0.030214</td>\n",
              "      <td>NaN</td>\n",
              "      <td>-0.038655</td>\n",
              "      <td>-0.024894</td>\n",
              "      <td>-0.046669</td>\n",
              "      <td>-0.030226</td>\n",
              "      <td>0.500548</td>\n",
              "      <td>0.058574</td>\n",
              "    </tr>\n",
              "    <tr>\n",
              "      <th>2</th>\n",
              "      <td>CN(C)C1=CC2=C(C=C1)C=C3C=CC(=[N+](C)C)C=C3O2.[...</td>\n",
              "      <td>-19.184208</td>\n",
              "      <td>-0.411341</td>\n",
              "      <td>-0.411341</td>\n",
              "      <td>-1.302143</td>\n",
              "      <td>3.293683</td>\n",
              "      <td>0.897816</td>\n",
              "      <td>-0.629843</td>\n",
              "      <td>-0.924189</td>\n",
              "      <td>-0.475099</td>\n",
              "      <td>...</td>\n",
              "      <td>-0.06599</td>\n",
              "      <td>-0.045673</td>\n",
              "      <td>-0.030214</td>\n",
              "      <td>NaN</td>\n",
              "      <td>-0.038655</td>\n",
              "      <td>-0.024894</td>\n",
              "      <td>-0.046669</td>\n",
              "      <td>-0.030226</td>\n",
              "      <td>-0.002158</td>\n",
              "      <td>-1.399202</td>\n",
              "    </tr>\n",
              "    <tr>\n",
              "      <th>3</th>\n",
              "      <td>CCN=C(N/N=C/C1=CC=C(C=C1)[N+](=O)[O-])SC.I</td>\n",
              "      <td>-17.771549</td>\n",
              "      <td>-0.728801</td>\n",
              "      <td>-0.728801</td>\n",
              "      <td>0.000339</td>\n",
              "      <td>-0.240306</td>\n",
              "      <td>-0.048142</td>\n",
              "      <td>-0.277951</td>\n",
              "      <td>-0.316357</td>\n",
              "      <td>-0.264545</td>\n",
              "      <td>...</td>\n",
              "      <td>-0.06599</td>\n",
              "      <td>-0.045673</td>\n",
              "      <td>-0.030214</td>\n",
              "      <td>NaN</td>\n",
              "      <td>-0.038655</td>\n",
              "      <td>-0.024894</td>\n",
              "      <td>-0.046669</td>\n",
              "      <td>-0.030226</td>\n",
              "      <td>0.265324</td>\n",
              "      <td>0.124896</td>\n",
              "    </tr>\n",
              "    <tr>\n",
              "      <th>4</th>\n",
              "      <td>CS(=O)(=O)C1=NSC2=NC(=O)/C(=C\\C3=CC=CN3C4=CC=C...</td>\n",
              "      <td>-17.696121</td>\n",
              "      <td>-0.566208</td>\n",
              "      <td>-0.566208</td>\n",
              "      <td>-0.134861</td>\n",
              "      <td>-0.087835</td>\n",
              "      <td>0.093752</td>\n",
              "      <td>0.262823</td>\n",
              "      <td>-0.520670</td>\n",
              "      <td>0.000596</td>\n",
              "      <td>...</td>\n",
              "      <td>-0.06599</td>\n",
              "      <td>-0.045673</td>\n",
              "      <td>-0.030214</td>\n",
              "      <td>NaN</td>\n",
              "      <td>6.467426</td>\n",
              "      <td>10.042401</td>\n",
              "      <td>-0.046669</td>\n",
              "      <td>-0.030226</td>\n",
              "      <td>0.421434</td>\n",
              "      <td>-0.018203</td>\n",
              "    </tr>\n",
              "  </tbody>\n",
              "</table>\n",
              "<p>5 rows × 96 columns</p>\n",
              "</div>"
            ],
            "text/plain": [
              "                                              SMILES    1347041    652048  \\\n",
              "0  CCN(CC)C1=CC2=C(C=C1)C(=C3C=CC(=[N+](CC)CC)C=C... -38.089760 -0.854682   \n",
              "1  C1CN(C(C2=C1C3=CC=CC=C3N2)C4=CC(=CC=C4)O)CC5=C... -19.754667 -0.054001   \n",
              "2  CN(C)C1=CC2=C(C=C1)C=C3C=CC(=[N+](C)C)C=C3O2.[... -19.184208 -0.411341   \n",
              "3         CCN=C(N/N=C/C1=CC=C(C=C1)[N+](=O)[O-])SC.I -17.771549 -0.728801   \n",
              "4  CS(=O)(=O)C1=NSC2=NC(=O)/C(=C\\C3=CC=CN3C4=CC=C... -17.696121 -0.566208   \n",
              "\n",
              "     652051   1259415    624414    623870    624415    652067    652126  ...  \\\n",
              "0 -0.854682  0.000000  2.996274 -0.000844 -0.370409  0.000000  0.000000  ...   \n",
              "1 -0.054001  0.460832  0.190177  0.141050  0.024654  1.223655  1.856588  ...   \n",
              "2 -0.411341 -1.302143  3.293683  0.897816 -0.629843 -0.924189 -0.475099  ...   \n",
              "3 -0.728801  0.000339 -0.240306 -0.048142 -0.277951 -0.316357 -0.264545  ...   \n",
              "4 -0.566208 -0.134861 -0.087835  0.093752  0.262823 -0.520670  0.000596  ...   \n",
              "\n",
              "    588405    588458    588489  588492    588493     588621    588850  \\\n",
              "0 -0.06599 -0.045673 -0.030214     NaN -0.038655  -0.024894 -0.046669   \n",
              "1 -0.06599 -0.045673 -0.030214     NaN -0.038655  -0.024894 -0.046669   \n",
              "2 -0.06599 -0.045673 -0.030214     NaN -0.038655  -0.024894 -0.046669   \n",
              "3 -0.06599 -0.045673 -0.030214     NaN -0.038655  -0.024894 -0.046669   \n",
              "4 -0.06599 -0.045673 -0.030214     NaN  6.467426  10.042401 -0.046669   \n",
              "\n",
              "     602141    588352    588664  \n",
              "0 -0.030226  0.260380 -0.372029  \n",
              "1 -0.030226  0.500548  0.058574  \n",
              "2 -0.030226 -0.002158 -1.399202  \n",
              "3 -0.030226  0.265324  0.124896  \n",
              "4 -0.030226  0.421434 -0.018203  \n",
              "\n",
              "[5 rows x 96 columns]"
            ]
          },
          "execution_count": 4,
          "metadata": {},
          "output_type": "execute_result"
        }
      ],
      "source": [
        "# Load the matrix\n",
        "if torch.cuda.is_available():\n",
        "    directory = '/content/drive/MyDrive/Thesis/Data/'\n",
        "else:\n",
        "    directory = 'Data/'\n",
        "\n",
        "matrix_df = pd.read_csv(directory+'activity_matrix_100.csv') #Thesis/Data\n",
        "matrix_df.head()"
      ]
    },
    {
      "cell_type": "code",
      "execution_count": null,
      "metadata": {},
      "outputs": [],
      "source": [
        "# find assays which are have only positive or only negative values\n",
        "def data_explore(matrix_df):\n",
        "    '''\n",
        "    Explore the data\n",
        "    '''\n",
        "    # replace null values with 0\n",
        "    matrix_df.fillna(0, inplace=True)\n",
        "    # check proportion of positive and negative samples across each assay\n",
        "    pos = np.sum(matrix_df.values, axis=0)\n",
        "    print(f'Proportion of positive samples in each assay: {np.round(pos/len(matrix_df),2)}')\n",
        "\n",
        "\n",
        "    # check proportion of positive and negative samples across each assay\n",
        "    pos = np.sum(y, axis=0)\n",
        "    print(f'Proportion of positive samples in each assay: {np.round(pos/len(y),2)}')\n",
        "\n",
        "\n"
      ]
    },
    {
      "cell_type": "code",
      "execution_count": 38,
      "metadata": {},
      "outputs": [
        {
          "ename": "TypeError",
          "evalue": "where() received an invalid combination of arguments - got (numpy.ndarray, int, int), but expected one of:\n * (Tensor condition)\n * (Tensor condition, Tensor input, Tensor other, *, Tensor out)\n * (Tensor condition, Number self, Tensor other)\n      didn't match because some of the arguments have invalid types: (!numpy.ndarray!, !int!, !int!)\n * (Tensor condition, Tensor input, Number other)\n      didn't match because some of the arguments have invalid types: (!numpy.ndarray!, !int!, !int!)\n * (Tensor condition, Number self, Number other)\n      didn't match because some of the arguments have invalid types: (!numpy.ndarray!, !int!, !int!)\n",
          "output_type": "error",
          "traceback": [
            "\u001b[0;31m---------------------------------------------------------------------------\u001b[0m",
            "\u001b[0;31mTypeError\u001b[0m                                 Traceback (most recent call last)",
            "Cell \u001b[0;32mIn[38], line 28\u001b[0m\n\u001b[1;32m     26\u001b[0m         \u001b[39mcontinue\u001b[39;00m\n\u001b[1;32m     27\u001b[0m     \u001b[39m# first make column binary\u001b[39;00m\n\u001b[0;32m---> 28\u001b[0m     y \u001b[39m=\u001b[39m torch\u001b[39m.\u001b[39;49mwhere(matrix_df[assay]\u001b[39m.\u001b[39;49mvalues\u001b[39m>\u001b[39;49m\u001b[39m0\u001b[39;49m, \u001b[39m1\u001b[39;49m, \u001b[39m0\u001b[39;49m)\n\u001b[1;32m     29\u001b[0m     pos_ratio[i\u001b[39m-\u001b[39m\u001b[39m1\u001b[39m] \u001b[39m=\u001b[39m y\u001b[39m.\u001b[39msum()\u001b[39m/\u001b[39m\u001b[39mlen\u001b[39m(y)\n\u001b[1;32m     32\u001b[0m \u001b[39mprint\u001b[39m(\u001b[39m'\u001b[39m\u001b[39mAssays without activity: \u001b[39m\u001b[39m'\u001b[39m, matrix_df\u001b[39m.\u001b[39mcolumns[\u001b[39m1\u001b[39m:][pos_assays])\n",
            "\u001b[0;31mTypeError\u001b[0m: where() received an invalid combination of arguments - got (numpy.ndarray, int, int), but expected one of:\n * (Tensor condition)\n * (Tensor condition, Tensor input, Tensor other, *, Tensor out)\n * (Tensor condition, Number self, Tensor other)\n      didn't match because some of the arguments have invalid types: (!numpy.ndarray!, !int!, !int!)\n * (Tensor condition, Tensor input, Number other)\n      didn't match because some of the arguments have invalid types: (!numpy.ndarray!, !int!, !int!)\n * (Tensor condition, Number self, Number other)\n      didn't match because some of the arguments have invalid types: (!numpy.ndarray!, !int!, !int!)\n"
          ]
        }
      ],
      "source": [
        "# replace null values with 0\n",
        "matrix_df.fillna(0, inplace=True)\n",
        "\n",
        "# check if there is any assay that has zero values across all compounds\n",
        "pos_assays = torch.ones(len(matrix_df.columns)-1)\n",
        "for i, assay in enumerate(matrix_df.columns):\n",
        "    # print(matrix_df[assay])\n",
        "    if assay=='SMILES':\n",
        "        continue\n",
        "    \n",
        "    if matrix_df[assay].any() != 0:\n",
        "        pos_assays[i-1] = 0\n",
        "    \n",
        "# check if there is any compound that has zero values across all assays\n",
        "pos_compounds = torch.ones(len(matrix_df))\n",
        "for i, compound in enumerate(matrix_df['SMILES']):\n",
        "    # print(matrix_df.iloc[i,1:])\n",
        "    if matrix_df.iloc[i,1:].any() != 0:\n",
        "        pos_compounds[i] = 0\n",
        "\n",
        "# check proportion of positive and negative samples across each assay\n",
        "pos_ratio = torch.zeros(len(matrix_df.columns)-1)\n",
        "for i, assay in enumerate(matrix_df.columns):\n",
        "    # print(matrix_df[assay])\n",
        "    if assay=='SMILES':\n",
        "        continue\n",
        "    # first make column binary\n",
        "    y = np.where(matrix_df[assay].values>0, 1, 0)\n",
        "    pos_ratio[i-1] = y.sum()/len(y)\n"
      ]
    },
    {
      "cell_type": "code",
      "execution_count": 55,
      "metadata": {},
      "outputs": [
        {
          "name": "stdout",
          "output_type": "stream",
          "text": [
            "Assays without activity:  Index(['651725', '588492'], dtype='object')\n",
            "Compounds without activity: All compounds have activity\n"
          ]
        }
      ],
      "source": [
        "print('Assays without activity: ', matrix_df.columns[1:][np.where(pos_assays.int().numpy()==1)])\n",
        "if pos_compounds.sum() > 0:\n",
        "    print('Compounds without activity: ', matrix_df['SMILES'][np.where(pos_compounds.int().numpy()==1)])\n",
        "else:\n",
        "    print('Compounds without activity: All compounds have activity')\n",
        "\n"
      ]
    },
    {
      "cell_type": "code",
      "execution_count": 45,
      "metadata": {},
      "outputs": [
        {
          "data": {
            "image/png": "[encoded data removed]",
            "text/plain": [
              "<Figure size 1000x500 with 1 Axes>"
            ]
          },
          "metadata": {},
          "output_type": "display_data"
        }
      ],
      "source": [
        "#plot pos_ratio\n",
        "plt.figure(figsize=(10,5))\n",
        "plt.hist(pos_ratio, bins=20)\n",
        "plt.xlabel('Proportion of positive samples')\n",
        "plt.ylabel('Number of assays')\n",
        "plt.title('Distribution of positive samples across assays')\n",
        "plt.show()"
      ]
    },
    {
      "cell_type": "code",
      "execution_count": 53,
      "metadata": {},
      "outputs": [
        {
          "name": "stdout",
          "output_type": "stream",
          "text": [
            "Assays with few positive samples: \n",
            " ['493056' '493084' '504660' '651725' '602429' '602438' '602440' '602449'\n",
            " '624168' '624204' '624304' '624352' '624354' '651560' '651636' '651699'\n",
            " '651999' '602244' '602261' '602274' '602399' '743279' '651647' '504651'\n",
            " '588405' '588458' '588489' '588492' '588493' '588621' '588850' '602141']\n"
          ]
        }
      ],
      "source": [
        "print('Assays with few positive samples: \\n', matrix_df.columns[1:][torch.where(pos_ratio<0.2)].values)\n"
      ]
    },
    {
      "cell_type": "code",
      "execution_count": 60,
      "metadata": {},
      "outputs": [
        {
          "data": {
            "image/png": "[encoded data removed]",
            "text/plain": [
              "<Figure size 1000x500 with 1 Axes>"
            ]
          },
          "metadata": {},
          "output_type": "display_data"
        }
      ],
      "source": [
        "# show the distribution of values for any assay\n",
        "assay = '624304'\n",
        "plt.figure(figsize=(10,5))\n",
        "plt.hist(matrix_df[assay], bins=100)\n",
        "plt.xlabel('z-score')\n",
        "plt.ylabel('Number of compounds')\n",
        "plt.title('Distribution of activity for assay '+assay)\n",
        "plt.show()"
      ]
    },
    {
      "cell_type": "markdown",
      "metadata": {},
      "source": [
        "A number of assays have mainly positive z-scores or mainly negative z-scores.\n",
        "It seems that all of those have many compoounds with low negative scores and very few with very high positive scores. This indicates that few compounds are strong outliers on one side and shift the mean such that almost all compounds get a negative z-score. The effect of one strong outlier washes out the distribution for all other compound -> is this a valid outlier or noise?"
      ]
    },
    {
      "cell_type": "markdown",
      "metadata": {
        "id": "HgPnbAIFIIKE"
      },
      "source": [
        "# Representation"
      ]
    },
    {
      "cell_type": "markdown",
      "metadata": {
        "id": "VgoO5qXJIIKE"
      },
      "source": [
        "## Fingerprints\n",
        "smiles →  fingerprints"
      ]
    },
    {
      "cell_type": "code",
      "execution_count": 16,
      "metadata": {
        "id": "3gD8ciy5IIKF"
      },
      "outputs": [],
      "source": [
        "def convert_smile_to_fp_bit_string(smile):\n",
        "        \"\"\"\n",
        "        Convert SMILES string to concatenation of RDFKIT, Morgan and MACCSS fingerprints.\n",
        "        \"\"\"\n",
        "        # RDFKIT (fingerprint dim fpSize=1024)\n",
        "        x = Chem.MolFromSmiles(smile)\n",
        "        fp1 = Chem.RDKFingerprint(x, fpSize=1024)\n",
        "\n",
        "        # MACCSS substructure (fingerprint dim 167)\n",
        "        fp2 = MACCSkeys.GenMACCSKeys(x)\n",
        "\n",
        "        # Morgan (fingerprint dim fpSize=1024)\n",
        "        fp_hashes = []\n",
        "        fp3 = AllChem.GetHashedMorganFingerprint(x, 2, nBits=1024)\n",
        "        fp3_array = np.zeros((0,), dtype=np.int8)\n",
        "        DataStructs.ConvertToNumpyArray(fp3, fp3_array)\n",
        "        fp_hashes.append(fp3_array)\n",
        "\n",
        "        # combine all fingerprints\n",
        "        fp = fp1.ToBitString() + fp2.ToBitString()\n",
        "        fp = np.array(list(fp)).astype(np.int8)\n",
        "        fp = np.concatenate([fp] + fp_hashes)\n",
        "        fp = torch.tensor(fp).to(torch.float32)\n",
        "        return fp"
      ]
    },
    {
      "cell_type": "markdown",
      "metadata": {
        "id": "vqxiY9IkIIKF"
      },
      "source": [
        "Get sample fingerprint"
      ]
    },
    {
      "cell_type": "code",
      "execution_count": 17,
      "metadata": {
        "colab": {
          "base_uri": "https://localhost:8080/",
          "height": 0
        },
        "id": "D2nilgtgIIKF",
        "outputId": "448a2b75-490e-41ef-d716-70ac9e3938af"
      },
      "outputs": [
        {
          "name": "stdout",
          "output_type": "stream",
          "text": [
            "SMILES: CN(CC(=O)NC1=CC=CC=C1Br)C(=O)C2=CC=C(O2)C3=CC=C(C=C3)Cl\n",
            "Fingerprint: tensor([1., 1., 1.,  ..., 0., 0., 0.]) torch.Size([2215])\n",
            "RDK Fingerprint:\n"
          ]
        },
        {
          "data": {
            "image/png": "[encoded data removed]",
            "text/plain": [
              "<PIL.PngImagePlugin.PngImageFile image mode=RGB size=300x300 at 0x7FAB8391A410>"
            ]
          },
          "execution_count": 17,
          "metadata": {},
          "output_type": "execute_result"
        }
      ],
      "source": [
        "smile = matrix_df.sample(1)['SMILES'].item()\n",
        "fp = convert_smile_to_fp_bit_string(smile)\n",
        "print('SMILES:', smile)\n",
        "print('Fingerprint:', fp, fp.shape)\n",
        "\n",
        "x = Chem.MolFromSmiles(smile)\n",
        "fp1 = Chem.RDKFingerprint(x, fpSize=1024)\n",
        "fp1 = np.array(list(fp1.ToBitString())).astype(np.int8)\n",
        "from rdkit.Chem import Draw\n",
        "img = Draw.MolToImage(x)\n",
        "print('RDK Fingerprint:')\n",
        "img"
      ]
    },
    {
      "cell_type": "markdown",
      "metadata": {
        "id": "IhaFsFzEIIKF"
      },
      "source": [
        "## Graph embedding\n",
        "smiles →  graph embedding"
      ]
    },
    {
      "cell_type": "code",
      "execution_count": 15,
      "metadata": {
        "id": "4lvMEw3gIIKF"
      },
      "outputs": [],
      "source": [
        "# smiles to graphs\n",
        "import numpy as np\n",
        "\n",
        "# RDkit\n",
        "from rdkit import Chem\n",
        "from rdkit.Chem.rdmolops import GetAdjacencyMatrix\n",
        "\n",
        "# Pytorch and Pytorch Geometric\n",
        "import torch\n",
        "from torch_geometric.data import Data\n",
        "from torch.utils.data import DataLoader\n",
        "\n",
        "class GraphDatasetClass:\n",
        "    '''\n",
        "    Convert a dataframe of SMILES into a Pytorch Geometric Graph Dataset.\n",
        "    https://www.blopig.com/blog/2022/02/how-to-turn-a-smiles-string-into-a-molecular-graph-for-pytorch-geometric/\n",
        "    '''\n",
        "\n",
        "    def __init__(self):\n",
        "        pass\n",
        "\n",
        "    def one_hot_encoding(self, x, permitted_list):\n",
        "        \"\"\"\n",
        "        Maps input elements x which are not in the permitted list to the last element\n",
        "        of the permitted list.\n",
        "        \"\"\"\n",
        "\n",
        "        if x not in permitted_list:\n",
        "            x = permitted_list[-1]\n",
        "\n",
        "        binary_encoding = [int(boolean_value) for boolean_value in list(map(lambda s: x == s, permitted_list))]\n",
        "\n",
        "        return binary_encoding\n",
        "\n",
        "\n",
        "    def get_atom_features(self, atom,\n",
        "                        use_chirality = True,\n",
        "                        hydrogens_implicit = True):\n",
        "        \"\"\"\n",
        "        Takes an RDKit atom object as input and gives a 1d-numpy array of atom features as output.\n",
        "        \"\"\"\n",
        "\n",
        "        # define list of permitted atoms\n",
        "\n",
        "        permitted_list_of_atoms =  ['C','N','O','S','F','Si','P','Cl','Br','Mg','Na','Ca','Fe','As','Al','I', 'B','V','K','Tl','Yb','Sb','Sn','Ag','Pd','Co','Se','Ti','Zn', 'Li','Ge','Cu','Au','Ni','Cd','In','Mn','Zr','Cr','Pt','Hg','Pb','Unknown']\n",
        "\n",
        "        if hydrogens_implicit == False:\n",
        "            permitted_list_of_atoms = ['H'] + permitted_list_of_atoms\n",
        "\n",
        "        # compute atom features\n",
        "\n",
        "        atom_type_enc = self.one_hot_encoding(str(atom.GetSymbol()), permitted_list_of_atoms)\n",
        "\n",
        "        n_heavy_neighbors_enc = self.one_hot_encoding(int(atom.GetDegree()), [0, 1, 2, 3, 4, \"MoreThanFour\"])\n",
        "\n",
        "        formal_charge_enc = self.one_hot_encoding(int(atom.GetFormalCharge()), [-3, -2, -1, 0, 1, 2, 3, \"Extreme\"])\n",
        "\n",
        "        hybridisation_type_enc = self.one_hot_encoding(str(atom.GetHybridization()), [\"S\", \"SP\", \"SP2\", \"SP3\", \"SP3D\", \"SP3D2\", \"OTHER\"])\n",
        "\n",
        "        is_in_a_ring_enc = [int(atom.IsInRing())]\n",
        "\n",
        "        is_aromatic_enc = [int(atom.GetIsAromatic())]\n",
        "\n",
        "        atomic_mass_scaled = [float((atom.GetMass() - 10.812)/116.092)]\n",
        "\n",
        "        vdw_radius_scaled = [float((Chem.GetPeriodicTable().GetRvdw(atom.GetAtomicNum()) - 1.5)/0.6)]\n",
        "\n",
        "        covalent_radius_scaled = [float((Chem.GetPeriodicTable().GetRcovalent(atom.GetAtomicNum()) - 0.64)/0.76)]\n",
        "\n",
        "        atom_feature_vector = atom_type_enc + n_heavy_neighbors_enc + formal_charge_enc + hybridisation_type_enc + is_in_a_ring_enc + is_aromatic_enc + atomic_mass_scaled + vdw_radius_scaled + covalent_radius_scaled\n",
        "\n",
        "        if use_chirality == True:\n",
        "            chirality_type_enc = self.one_hot_encoding(str(atom.GetChiralTag()), [\"CHI_UNSPECIFIED\", \"CHI_TETRAHEDRAL_CW\", \"CHI_TETRAHEDRAL_CCW\", \"CHI_OTHER\"])\n",
        "            atom_feature_vector += chirality_type_enc\n",
        "\n",
        "        if hydrogens_implicit == True:\n",
        "            n_hydrogens_enc = self.one_hot_encoding(int(atom.GetTotalNumHs()), [0, 1, 2, 3, 4, \"MoreThanFour\"])\n",
        "            atom_feature_vector += n_hydrogens_enc\n",
        "\n",
        "        return np.array(atom_feature_vector)\n",
        "\n",
        "    def get_bond_features(self, bond,\n",
        "                        use_stereochemistry = True):\n",
        "        \"\"\"\n",
        "        Takes an RDKit bond object as input and gives a 1d-numpy array of bond features as output.\n",
        "        \"\"\"\n",
        "\n",
        "        permitted_list_of_bond_types = [Chem.rdchem.BondType.SINGLE, Chem.rdchem.BondType.DOUBLE, Chem.rdchem.BondType.TRIPLE, Chem.rdchem.BondType.AROMATIC]\n",
        "\n",
        "        bond_type_enc = self.one_hot_encoding(bond.GetBondType(), permitted_list_of_bond_types)\n",
        "\n",
        "        bond_is_conj_enc = [int(bond.GetIsConjugated())]\n",
        "\n",
        "        bond_is_in_ring_enc = [int(bond.IsInRing())]\n",
        "\n",
        "        bond_feature_vector = bond_type_enc + bond_is_conj_enc + bond_is_in_ring_enc\n",
        "\n",
        "        if use_stereochemistry == True:\n",
        "            stereo_type_enc = self.one_hot_encoding(str(bond.GetStereo()), [\"STEREOZ\", \"STEREOE\", \"STEREOANY\", \"STEREONONE\"])\n",
        "            bond_feature_vector += stereo_type_enc\n",
        "\n",
        "        return np.array(bond_feature_vector)\n",
        "\n",
        "    def create_pytorch_geometric_graph_data_list_from_smiles_and_labels(self, x_smiles, y):\n",
        "        \"\"\"\n",
        "        Inputs:\n",
        "\n",
        "        x_smiles = [smiles_1, smiles_2, ....] ... a list of SMILES strings\n",
        "        y = [y_1, y_2, ...] ... a list of numerial labels for the SMILES strings (such as associated pKi values)\n",
        "\n",
        "        Outputs:\n",
        "\n",
        "        data_list = [G_1, G_2, ...] ... a list of torch_geometric.data.Data objects which represent labeled molecular graphs that can readily be used for machine learning\n",
        "\n",
        "        \"\"\"\n",
        "\n",
        "        data_list = []\n",
        "\n",
        "        for (smiles, y_val) in zip(x_smiles, y):\n",
        "\n",
        "            # convert SMILES to RDKit mol object\n",
        "            mol = Chem.MolFromSmiles(smiles)\n",
        "\n",
        "            # get feature dimensions\n",
        "            n_nodes = mol.GetNumAtoms()\n",
        "            n_edges = 2*mol.GetNumBonds()\n",
        "            unrelated_smiles = \"O=O\"\n",
        "            unrelated_mol = Chem.MolFromSmiles(unrelated_smiles)\n",
        "            n_node_features = len(self.get_atom_features(unrelated_mol.GetAtomWithIdx(0)))\n",
        "            n_edge_features = len(self.get_bond_features(unrelated_mol.GetBondBetweenAtoms(0,1)))\n",
        "\n",
        "            # construct node feature matrix X of shape (n_nodes, n_node_features)\n",
        "            X = np.zeros((n_nodes, n_node_features))\n",
        "\n",
        "            for atom in mol.GetAtoms():\n",
        "                X[atom.GetIdx(), :] = self.get_atom_features(atom)\n",
        "\n",
        "            X = torch.tensor(X, dtype = torch.float)\n",
        "\n",
        "            # construct edge index array E of shape (2, n_edges)\n",
        "            (rows, cols) = np.nonzero(GetAdjacencyMatrix(mol))\n",
        "            torch_rows = torch.from_numpy(rows.astype(np.int64)).to(torch.long)\n",
        "            torch_cols = torch.from_numpy(cols.astype(np.int64)).to(torch.long)\n",
        "            E = torch.stack([torch_rows, torch_cols], dim = 0)\n",
        "\n",
        "            # construct edge feature array EF of shape (n_edges, n_edge_features)\n",
        "            EF = np.zeros((n_edges, n_edge_features))\n",
        "\n",
        "            for (k, (i,j)) in enumerate(zip(rows, cols)):\n",
        "\n",
        "                EF[k] = self.get_bond_features(mol.GetBondBetweenAtoms(int(i),int(j)))\n",
        "\n",
        "            EF = torch.tensor(EF, dtype = torch.float)\n",
        "\n",
        "            # construct label tensor\n",
        "            y_tensor = torch.tensor(np.array([y_val]), dtype = torch.float)\n",
        "\n",
        "            # construct Pytorch Geometric data object and append to data list\n",
        "            data_list.append(Data(x = X, edge_index = E, edge_attr = EF, y = y_tensor))\n",
        "\n",
        "        return data_list"
      ]
    },
    {
      "cell_type": "markdown",
      "metadata": {
        "id": "59Kuh4GnIIKG"
      },
      "source": [
        "## GROVER: graph transformer  fingerprints\n",
        "smiles → node/edge features using RDkit → to fingerprint embedding using GTransformer"
      ]
    },
    {
      "cell_type": "code",
      "execution_count": 24,
      "metadata": {
        "colab": {
          "base_uri": "https://localhost:8080/"
        },
        "id": "OqsZpRCAIIKG",
        "outputId": "995b3452-1b05-4c01-81d3-99bffde31e24"
      },
      "outputs": [
        {
          "name": "stdout",
          "output_type": "stream",
          "text": [
            "Index(['smiles', 'fps'], dtype='object')\n"
          ]
        }
      ],
      "source": [
        "# import fingerprint .np file\n",
        "if torch.cuda.is_available():\n",
        "    directory = '/content/drive/MyDrive/Thesis/Data/'\n",
        "else:\n",
        "    directory = 'Data/'\n",
        "\n",
        "grover_fp = np.load(directory + 'fp_large.npz', allow_pickle=True)\n",
        "print(grover_fp.keys())  # Display the keys or attributes in the file\n",
        "# Access and examine the data as needed\n",
        "assert len(matrix_df)==len(grover_fp['smiles']), 'SMILES mismatch'"
      ]
    },
    {
      "cell_type": "code",
      "execution_count": 25,
      "metadata": {
        "colab": {
          "base_uri": "https://localhost:8080/"
        },
        "id": "glY9qMR5IIKG",
        "outputId": "da89bf9f-ab6e-4f01-a180-3d0805b7d66c"
      },
      "outputs": [
        {
          "data": {
            "text/plain": [
              "0         CCN(CC)C1=CC2=C(C=C1)C(=C3C=CC(=[N+](CC)CC)C=C...\n",
              "1         C1CN(C(C2=C1C3=CC=CC=C3N2)C4=CC(=CC=C4)O)CC5=C...\n",
              "2         CN(C)C1=CC2=C(C=C1)C=C3C=CC(=[N+](C)C)C=C3O2.[...\n",
              "3                CCN=C(N/N=C/C1=CC=C(C=C1)[N+](=O)[O-])SC.I\n",
              "4         CS(=O)(=O)C1=NSC2=NC(=O)/C(=C\\C3=CC=CN3C4=CC=C...\n",
              "                                ...                        \n",
              "364285               CCN(CC)CCNC1=NC=NC2=C1N(C3=CC=CC=C32)C\n",
              "364286    CO/N=C(\\C1=CN=C(S1)N)/C(=O)N[C@H]2[C@@H]3N(C2=...\n",
              "364287     CC1(CC2=C(CO1)C(=NC(=C2C#N)NC3CCCCC3)C4=CC=CO4)C\n",
              "364288       CNC(=O)C1=C(SC2=C1CCC2)NC(=O)C3=NC4=CC=CC=C4S3\n",
              "364289    C1=CC(=CC(=C1)[N+](=O)[O-])N=N/C(=C(/C2=CC=C(C...\n",
              "Name: smiles, Length: 364290, dtype: object"
            ]
          },
          "execution_count": 25,
          "metadata": {},
          "output_type": "execute_result"
        }
      ],
      "source": [
        "grover_fp['smiles']"
      ]
    },
    {
      "cell_type": "code",
      "execution_count": 27,
      "metadata": {
        "colab": {
          "base_uri": "https://localhost:8080/"
        },
        "id": "BSZ2u2duIIKG",
        "outputId": "09edad60-23cd-4fbb-df71-8a425f9ecdc3"
      },
      "outputs": [
        {
          "data": {
            "text/plain": [
              "5000"
            ]
          },
          "execution_count": 27,
          "metadata": {},
          "output_type": "execute_result"
        }
      ],
      "source": [
        "grover_fp['fps'][0].shape[0]"
      ]
    },
    {
      "cell_type": "code",
      "execution_count": 12,
      "metadata": {
        "id": "kAAqLGZgIIKG"
      },
      "outputs": [],
      "source": [
        "args = {}\n",
        "args['device'] = torch.device('cuda' if torch.cuda.is_available() else 'cpu')\n",
        "\n",
        "# data parameters\n",
        "args['num_data_points'] = 1000 # number of data points to use\n",
        "args['num_assays'] = 1 # number of assays to use (i.e., no. of output classes)\n",
        "args['assay_start'] = 0 # which assay to start from\n",
        "args['num_node_features'] = 79 # number of node features in graph representation\n",
        "args['grover_fp_dim'] = grover_fp['fps'][0].shape[0] # dim of grover fingerprints\n",
        "args['fp_dim'] = 2215 # dim of fingerprints\n",
        "\n",
        "\n",
        "# training parameters\n",
        "args['model'] = 'GCN' # 'GCN', 'GCN_FP', 'FP', 'GROVER', 'GROVER_FP'\n",
        "args['pred_type'] = 'classification' # 'regression', 'classification'\n",
        "args['num_layers'] = 5 # number of layers in MLP\n",
        "args['hidden_channels'] = 64\n",
        "args['dropout'] = 0.1\n",
        "args['batch_size'] = 64\n",
        "args['num_epochs'] = 100\n",
        "args['lr'] = 0.01\n",
        "#args['gradient_clip_norm'] = 1.0\n",
        "#args['network_weight_decay'] = 0.0001\n",
        "#args['lr_decay_factor'] = 0.5\n",
        "\n",
        "\n",
        "\n"
      ]
    },
    {
      "cell_type": "code",
      "execution_count": 36,
      "metadata": {
        "id": "2Dxa36FMIIKF"
      },
      "outputs": [],
      "source": [
        "from torch_geometric.loader import DataLoader\n",
        "\n",
        "def prepare_dataset(matrix_df, args, grover_fp=None):\n",
        "    '''\n",
        "    Convert matrix dataframe to a dataloader with pytorch geometric graph data, fingerprints and labels.\n",
        "    Inputs:\n",
        "        matrix_df: dataframe of SMILES, assays and bioactivity labels\n",
        "        args: arguments\n",
        "    Outputs:\n",
        "        dataloader: dictionary of dataloaders for train and test\n",
        "    '''\n",
        "    # only use subset of data (assays and data points)\n",
        "    num_assays = args['num_assays']\n",
        "    assay_start = args['assay_start']\n",
        "    num_data_points = args['num_data_points']\n",
        "    # get columns names (assays) of the matrix\n",
        "    assays = matrix_df.columns.values[1:]\n",
        "    # get target labels\n",
        "    y = matrix_df[assays[assay_start:assay_start+num_assays]].values[:num_data_points]\n",
        "    if args['pred_type'] == 'regression':\n",
        "        y = y.astype(np.float32)\n",
        "    else:\n",
        "        # convert to binary for classification\n",
        "        y = np.where(y > 0, 1, 0)\n",
        "    # get SMILES strings\n",
        "    data = matrix_df['SMILES'].values[:num_data_points]\n",
        "\n",
        "\n",
        "\n",
        "    GraphDataset = GraphDatasetClass()\n",
        "    # create pytorch geometric graph data list\n",
        "    data_list = GraphDataset.create_pytorch_geometric_graph_data_list_from_smiles_and_labels(data, y)\n",
        "\n",
        "    # add fingerprint data to each graph\n",
        "    for i, smile in enumerate(data):\n",
        "        fp = convert_smile_to_fp_bit_string(smile)\n",
        "        data_list[i].fp = fp\n",
        "\n",
        "\n",
        "    # add grover fingerprint to each graph\n",
        "    if grover_fp is not None:\n",
        "        for i, gfp in enumerate(grover_fp['fps'][:args['num_data_points']]):\n",
        "          data_list[i].grover_fp = gfp\n",
        "\n",
        "\n",
        "    # split into train and test\n",
        "    train_dataset = data_list[:int(len(data)*0.8)]\n",
        "    test_dataset = data_list[int(len(data)*0.8):]\n",
        "\n",
        "    print(f'Number of training graphs: {len(train_dataset)}')\n",
        "    print(f'Number of test graphs: {len(test_dataset)}')\n",
        "    print(f'Example of a graph data object: {data_list[0]}')\n",
        "\n",
        "    # create data loaders\n",
        "    dataloader = {}\n",
        "    dataloader['train'] = DataLoader(train_dataset, batch_size=args['batch_size'], shuffle=True)\n",
        "    dataloader['test'] = DataLoader(test_dataset, batch_size=args['batch_size'], shuffle=False)\n",
        "\n",
        "    return dataloader\n",
        "\n",
        "def data_explore(data, y):\n",
        "    '''\n",
        "    Explore the data\n",
        "    '''\n",
        "    # check proportion of positive and negative samples across each assay\n",
        "    pos = np.sum(y, axis=0)\n",
        "    print(f'Proportion of positive samples in each assay: {np.round(pos/len(y),2)}')\n",
        "\n"
      ]
    },
    {
      "cell_type": "code",
      "execution_count": 37,
      "metadata": {
        "colab": {
          "base_uri": "https://localhost:8080/"
        },
        "id": "Q24QpEUYIIKG",
        "outputId": "1531d19a-e765-40e3-dfa6-dc9023a9dce6"
      },
      "outputs": [
        {
          "name": "stdout",
          "output_type": "stream",
          "text": [
            "Number of training graphs: 800\n",
            "Number of test graphs: 200\n",
            "Example of a graph data object: Data(x=[39, 79], edge_index=[2, 82], edge_attr=[82, 10], y=[1, 1], fp=[2215], grover_fp=[5000])\n"
          ]
        }
      ],
      "source": [
        "dataloader = prepare_dataset(matrix_df, args, grover_fp=grover_fp)"
      ]
    },
    {
      "cell_type": "markdown",
      "metadata": {
        "id": "oYWyacYyIIKG"
      },
      "source": [
        "# Models\n",
        "### GCN and GCN_FP\n",
        "- GCN: graph embedding followed by a final classification layer\n",
        "- GCN_FP: graph + fingerprints embedding followed by a final classification layer"
      ]
    },
    {
      "cell_type": "code",
      "execution_count": 38,
      "metadata": {
        "id": "1q43d46hIIKG"
      },
      "outputs": [],
      "source": [
        "from torch.nn import Linear\n",
        "import torch.nn.functional as F\n",
        "from torch_geometric.nn import GCNConv\n",
        "from torch_geometric.nn import global_mean_pool\n",
        "\n",
        "\n",
        "class GCN(torch.nn.Module):\n",
        "    '''\n",
        "    Define a Graph Convolutional Network (GCN) model architecture.\n",
        "    Can include 'graph' only or 'graph + fingerprints' embedding before final classification layer.\n",
        "    '''\n",
        "    def __init__(self, args):\n",
        "        super(GCN, self).__init__()\n",
        "        torch.manual_seed(12345)\n",
        "\n",
        "        num_node_features = args['num_node_features']\n",
        "        hidden_channels = args['hidden_channels']\n",
        "        num_classes = args['num_assays']\n",
        "        if args['model'] == 'GCN_FP':\n",
        "            fp_dim = args['fp_dim']\n",
        "        else:\n",
        "            fp_dim = 0\n",
        "\n",
        "        self.conv1 = GCNConv(num_node_features, hidden_channels)\n",
        "        self.conv2 = GCNConv(hidden_channels, hidden_channels)\n",
        "        self.conv3 = GCNConv(hidden_channels, hidden_channels)\n",
        "\n",
        "        self.lin = Linear(hidden_channels + fp_dim, num_classes)\n",
        "\n",
        "    def forward(self, x, edge_index, batch, fp=None):\n",
        "        # 1. Obtain node embeddings\n",
        "        x = self.conv1(x, edge_index)\n",
        "        x = x.relu()\n",
        "        x = self.conv2(x, edge_index)\n",
        "        x = x.relu()\n",
        "        x = self.conv3(x, edge_index)\n",
        "\n",
        "        # 2. Readout layer\n",
        "        x = global_mean_pool(x, batch)  # [batch_size, hidden_channels]\n",
        "\n",
        "        # if also using fingerprints\n",
        "        if fp is not None:\n",
        "            # reshape fp to batch_size x fp_dim\n",
        "            fp = fp.reshape(x.shape[0], -1)\n",
        "            # concatenate graph node embeddings with fingerprint\n",
        "            # print('BEFORE CONCAT x:',x.shape, 'fp:', fp.shape)\n",
        "            x = torch.cat([x, fp], dim=1)\n",
        "            # print('AFTER CONCAT x:',x.shape)\n",
        "\n",
        "        # 3. Apply a final classifier\n",
        "        x = F.dropout(x, p=0.1, training=self.training)\n",
        "        x = self.lin(x)\n",
        "\n",
        "        return x\n"
      ]
    },
    {
      "cell_type": "markdown",
      "metadata": {
        "id": "3cENu4SMIIKG"
      },
      "source": [
        "### FP, GROVER and GROVER_FP"
      ]
    },
    {
      "cell_type": "code",
      "execution_count": 39,
      "metadata": {
        "id": "PXTwqghIIIKG"
      },
      "outputs": [],
      "source": [
        "\n",
        "class LinearBlock(nn.Module):\n",
        "\t\"\"\" basic block in an MLP, with dropout and batch norm \"\"\"\n",
        "\n",
        "\tdef __init__(self, in_feats, out_feats, dropout=0.1):\n",
        "\t\tsuper(LinearBlock, self).__init__()\n",
        "\t\tself.linear = nn.Linear(in_feats, out_feats)\n",
        "\t\tself.bn = nn.BatchNorm1d(out_feats)\n",
        "\t\tself.dropout = nn.Dropout(dropout)\n",
        "\n",
        "\tdef forward(self, x):\n",
        "\t\t# ReLU activation, batch norm, dropout on layer\n",
        "\t\treturn self.bn(self.dropout(F.relu(self.linear(x))))\n",
        "\n",
        "def construct_mlp(in_dim, out_dim, hidden_dim, hidden_layers, dropout=0.1):\n",
        "\t\"\"\"\n",
        "\tConstructs an MLP with specified dimensions.\n",
        "\t\t- total number of layers = hidden_layers + 1 (the + 1 is for the output linear)\n",
        "\t\t- no activation/batch norm/dropout on output layer\n",
        "\t\"\"\"\n",
        "\n",
        "\tassert hidden_layers >= 1, hidden_layers\n",
        "\tmlp_list = []\n",
        "\tmlp_list.append(LinearBlock(in_dim,hidden_dim,dropout=dropout))\n",
        "\tfor i in range(hidden_layers-1):\n",
        "\t\tmlp_list.append(LinearBlock(hidden_dim,hidden_dim,dropout=dropout))\n",
        "\n",
        "\t# no activation/batch norm/dropout on output layer\n",
        "\tmlp_list.append(nn.Linear(hidden_dim,out_dim))\n",
        "\tmlp = nn.Sequential(*mlp_list)\n",
        "\treturn mlp\n",
        "\n",
        "class MLP(nn.Module):\n",
        "\t'''\n",
        "\tMLP with optional Grover fingerprints.\n",
        "\tCustomizable number of layers, hidden dimensions, and dropout.\n",
        "\t'''\n",
        "\tdef __init__(self, args):\n",
        "\n",
        "\t\tsuper(MLP, self).__init__()\n",
        "\n",
        "\t\tself.fp_dim = args['fp_dim'] # can be 0\n",
        "\t\tself.grover_fp_dim = args['grover_fp_dim'] # can be 0\n",
        "\t\tself.hidden_dim = args['hidden_channels']\n",
        "\t\tself.output_dim = args['num_assays']\n",
        "\t\tself.num_layers = args['num_layers']\n",
        "\t\tself.dropout = args['dropout']\n",
        "\n",
        "\t\tself.ff_layers = construct_mlp(\n",
        "\t\t\tself.fp_dim + self.grover_fp_dim,\n",
        "\t\t\tself.output_dim,\n",
        "\t\t\tself.hidden_dim,\n",
        "\t\t\tself.num_layers,\n",
        "\t\t\tself.dropout\n",
        "\t\t)\n",
        "\n",
        "\tdef forward(self, data):\n",
        "\n",
        "\t\tfingerprints = data.fp\n",
        "\t\t# reshape fp to batch_size x fp_dim\n",
        "\t\tfingerprints = fingerprints.reshape(int(fingerprints.shape[0]/self.fp_dim), -1)\n",
        "\n",
        "\t\tif self.grover_fp_dim > 0: #grover and fp are concatenated\n",
        "\t\t\tgrover_fp = data.grover_fp\n",
        "\t\t\toutput = self.ff_layers(torch.cat([fingerprints, grover_fp], dim=1))\n",
        "\t\telse:\t# only fp is used\n",
        "\t\t\toutput = self.ff_layers(fingerprints)\n",
        "\n",
        "\t\treturn output"
      ]
    },
    {
      "cell_type": "code",
      "execution_count": 40,
      "metadata": {
        "colab": {
          "base_uri": "https://localhost:8080/",
          "height": 416
        },
        "id": "1d0acAIRIIKH",
        "outputId": "2d5483da-8299-40d6-a3b5-d98ed4fc05bf"
      },
      "outputs": [
        {
          "name": "stdout",
          "output_type": "stream",
          "text": [
            "torch.Size([1645, 79]) torch.Size([64, 1]) torch.Size([141760])\n",
            "reshape: torch.Size([141760])\n"
          ]
        },
        {
          "ename": "TypeError",
          "evalue": "ignored",
          "output_type": "error",
          "traceback": [
            "\u001b[0;31m---------------------------------------------------------------------------\u001b[0m",
            "\u001b[0;31mTypeError\u001b[0m                                 Traceback (most recent call last)",
            "\u001b[0;32m<ipython-input-40-cec84e9ae717>\u001b[0m in \u001b[0;36m<cell line: 2>\u001b[0;34m()\u001b[0m\n\u001b[1;32m      3\u001b[0m         \u001b[0mprint\u001b[0m\u001b[0;34m(\u001b[0m\u001b[0mdata\u001b[0m\u001b[0;34m.\u001b[0m\u001b[0mx\u001b[0m\u001b[0;34m.\u001b[0m\u001b[0mshape\u001b[0m\u001b[0;34m,\u001b[0m \u001b[0mdata\u001b[0m\u001b[0;34m.\u001b[0m\u001b[0my\u001b[0m\u001b[0;34m.\u001b[0m\u001b[0mshape\u001b[0m\u001b[0;34m,\u001b[0m \u001b[0mdata\u001b[0m\u001b[0;34m.\u001b[0m\u001b[0mfp\u001b[0m\u001b[0;34m.\u001b[0m\u001b[0mshape\u001b[0m\u001b[0;34m)\u001b[0m\u001b[0;34m\u001b[0m\u001b[0;34m\u001b[0m\u001b[0m\n\u001b[1;32m      4\u001b[0m         \u001b[0mprint\u001b[0m\u001b[0;34m(\u001b[0m\u001b[0;34m'reshape:'\u001b[0m\u001b[0;34m,\u001b[0m \u001b[0mdata\u001b[0m\u001b[0;34m.\u001b[0m\u001b[0mfp\u001b[0m\u001b[0;34m.\u001b[0m\u001b[0mshape\u001b[0m\u001b[0;34m)\u001b[0m\u001b[0;34m\u001b[0m\u001b[0;34m\u001b[0m\u001b[0m\n\u001b[0;32m----> 5\u001b[0;31m         \u001b[0mout\u001b[0m \u001b[0;34m=\u001b[0m \u001b[0mmodel\u001b[0m\u001b[0;34m(\u001b[0m\u001b[0mdata\u001b[0m\u001b[0;34m)\u001b[0m  \u001b[0;31m# Perform a single forward pass\u001b[0m\u001b[0;34m\u001b[0m\u001b[0;34m\u001b[0m\u001b[0m\n\u001b[0m\u001b[1;32m      6\u001b[0m         \u001b[0mprint\u001b[0m\u001b[0;34m(\u001b[0m\u001b[0mout\u001b[0m\u001b[0;34m.\u001b[0m\u001b[0mshape\u001b[0m\u001b[0;34m)\u001b[0m\u001b[0;34m\u001b[0m\u001b[0;34m\u001b[0m\u001b[0m\n\u001b[1;32m      7\u001b[0m         \u001b[0;31m# add dimension to y\u001b[0m\u001b[0;34m\u001b[0m\u001b[0;34m\u001b[0m\u001b[0m\n",
            "\u001b[0;32m/usr/local/lib/python3.10/dist-packages/torch/nn/modules/module.py\u001b[0m in \u001b[0;36m_call_impl\u001b[0;34m(self, *args, **kwargs)\u001b[0m\n\u001b[1;32m   1499\u001b[0m                 \u001b[0;32mor\u001b[0m \u001b[0m_global_backward_pre_hooks\u001b[0m \u001b[0;32mor\u001b[0m \u001b[0m_global_backward_hooks\u001b[0m\u001b[0;34m\u001b[0m\u001b[0;34m\u001b[0m\u001b[0m\n\u001b[1;32m   1500\u001b[0m                 or _global_forward_hooks or _global_forward_pre_hooks):\n\u001b[0;32m-> 1501\u001b[0;31m             \u001b[0;32mreturn\u001b[0m \u001b[0mforward_call\u001b[0m\u001b[0;34m(\u001b[0m\u001b[0;34m*\u001b[0m\u001b[0margs\u001b[0m\u001b[0;34m,\u001b[0m \u001b[0;34m**\u001b[0m\u001b[0mkwargs\u001b[0m\u001b[0;34m)\u001b[0m\u001b[0;34m\u001b[0m\u001b[0;34m\u001b[0m\u001b[0m\n\u001b[0m\u001b[1;32m   1502\u001b[0m         \u001b[0;31m# Do not call functions when jit is used\u001b[0m\u001b[0;34m\u001b[0m\u001b[0;34m\u001b[0m\u001b[0m\n\u001b[1;32m   1503\u001b[0m         \u001b[0mfull_backward_hooks\u001b[0m\u001b[0;34m,\u001b[0m \u001b[0mnon_full_backward_hooks\u001b[0m \u001b[0;34m=\u001b[0m \u001b[0;34m[\u001b[0m\u001b[0;34m]\u001b[0m\u001b[0;34m,\u001b[0m \u001b[0;34m[\u001b[0m\u001b[0;34m]\u001b[0m\u001b[0;34m\u001b[0m\u001b[0;34m\u001b[0m\u001b[0m\n",
            "\u001b[0;32m<ipython-input-39-ce42ad7897eb>\u001b[0m in \u001b[0;36mforward\u001b[0;34m(self, data)\u001b[0m\n\u001b[1;32m     62\u001b[0m                 \u001b[0;32mif\u001b[0m \u001b[0mself\u001b[0m\u001b[0;34m.\u001b[0m\u001b[0mgrover_fp_dim\u001b[0m \u001b[0;34m>\u001b[0m \u001b[0;36m0\u001b[0m\u001b[0;34m:\u001b[0m \u001b[0;31m#grover and fp are concatenated\u001b[0m\u001b[0;34m\u001b[0m\u001b[0;34m\u001b[0m\u001b[0m\n\u001b[1;32m     63\u001b[0m                         \u001b[0mgrover_fp\u001b[0m \u001b[0;34m=\u001b[0m \u001b[0mdata\u001b[0m\u001b[0;34m.\u001b[0m\u001b[0mgrover_fp\u001b[0m\u001b[0;34m\u001b[0m\u001b[0;34m\u001b[0m\u001b[0m\n\u001b[0;32m---> 64\u001b[0;31m                         \u001b[0moutput\u001b[0m \u001b[0;34m=\u001b[0m \u001b[0mself\u001b[0m\u001b[0;34m.\u001b[0m\u001b[0mff_layers\u001b[0m\u001b[0;34m(\u001b[0m\u001b[0mtorch\u001b[0m\u001b[0;34m.\u001b[0m\u001b[0mcat\u001b[0m\u001b[0;34m(\u001b[0m\u001b[0;34m[\u001b[0m\u001b[0mfingerprints\u001b[0m\u001b[0;34m,\u001b[0m \u001b[0mgrover_fp\u001b[0m\u001b[0;34m]\u001b[0m\u001b[0;34m,\u001b[0m \u001b[0mdim\u001b[0m\u001b[0;34m=\u001b[0m\u001b[0;36m1\u001b[0m\u001b[0;34m)\u001b[0m\u001b[0;34m)\u001b[0m\u001b[0;34m\u001b[0m\u001b[0;34m\u001b[0m\u001b[0m\n\u001b[0m\u001b[1;32m     65\u001b[0m                 \u001b[0;32melse\u001b[0m\u001b[0;34m:\u001b[0m   \u001b[0;31m# only fp is used\u001b[0m\u001b[0;34m\u001b[0m\u001b[0;34m\u001b[0m\u001b[0m\n\u001b[1;32m     66\u001b[0m                         \u001b[0moutput\u001b[0m \u001b[0;34m=\u001b[0m \u001b[0mself\u001b[0m\u001b[0;34m.\u001b[0m\u001b[0mff_layers\u001b[0m\u001b[0;34m(\u001b[0m\u001b[0mfingerprints\u001b[0m\u001b[0;34m)\u001b[0m\u001b[0;34m\u001b[0m\u001b[0;34m\u001b[0m\u001b[0m\n",
            "\u001b[0;31mTypeError\u001b[0m: expected Tensor as element 1 in argument 0, but got list"
          ]
        }
      ],
      "source": [
        "model = MLP(args)\n",
        "for data in dataloader['train']:  # Iterate in batches over the training dataset\n",
        "        print(data.x.shape, data.y.shape, data.fp.shape)\n",
        "        print('reshape:', data.fp.shape)\n",
        "        out = model(data)  # Perform a single forward pass\n",
        "        print(out.shape)\n",
        "        # add dimension to y\n",
        "        data.y = data.y.unsqueeze(1)\n",
        "        print(data.y.shape)\n",
        "        break"
      ]
    },
    {
      "cell_type": "code",
      "execution_count": null,
      "metadata": {
        "id": "eGdSH9QpIIKH",
        "outputId": "9cfff3ee-0660-4ff0-a02c-82d8a5429dbb"
      },
      "outputs": [
        {
          "name": "stdout",
          "output_type": "stream",
          "text": [
            "torch.Size([1758, 79]) torch.Size([64]) torch.Size([141760])\n",
            "reshape: torch.Size([141760])\n",
            "torch.Size([64, 1])\n",
            "torch.Size([64, 1])\n"
          ]
        }
      ],
      "source": [
        "args['model'] = 'GCN_FP'\n",
        "model = GCN(args)\n",
        "for data in dataloader['train']:  # Iterate in batches over the training dataset\n",
        "        print(data.x.shape, data.y.shape, data.fp.shape)\n",
        "        print('reshape:', data.fp.shape)\n",
        "        out = model(data.x, data.edge_index, data.batch, fp=data.fp)  # Perform a single forward pass\n",
        "        print(out.shape)\n",
        "        # add dimension to y\n",
        "        data.y = data.y.unsqueeze(1)\n",
        "        print(data.y.shape)\n",
        "        break"
      ]
    },
    {
      "cell_type": "markdown",
      "metadata": {
        "id": "jMXuJkTGIIKH"
      },
      "source": [
        "# Training"
      ]
    },
    {
      "cell_type": "code",
      "execution_count": null,
      "metadata": {
        "id": "A3SbXTXlIIKH"
      },
      "outputs": [],
      "source": [
        "class TrainManager:\n",
        "\n",
        "    def __init__(self, dataloader, args, model=None, wandb=False):\n",
        "\n",
        "        self.args = args\n",
        "        self.num_assays = args['num_assays']\n",
        "        self.num_node_features = args['num_node_features']\n",
        "        self.hideen_channels = args['hidden_channels']\n",
        "\n",
        "        if not model:\n",
        "            # initialize model depending on model type\n",
        "            if args['model'] == 'GCN':\n",
        "                self.model = GCN(args)\n",
        "            elif args['model'] == 'GCN_FP':\n",
        "                self.model = GCN(args)\n",
        "\n",
        "            self.model.to(args['device'])\n",
        "        else:\n",
        "            self.model = model\n",
        "\n",
        "        self.dataloader = dataloader\n",
        "\n",
        "        self.optimizer = torch.optim.Adam(self.model.parameters(), lr=0.01)\n",
        "        self.criterion = nn.BCEWithLogitsLoss()\n",
        "\n",
        "        self.curr_epoch = 0\n",
        "\n",
        "        # logging\n",
        "        self.log_loss = []\n",
        "        self.log_acc_train = []\n",
        "        self.log_acc_test = []\n",
        "\n",
        "\n",
        "    def train(self, epochs=100, log=False):\n",
        "        '''\n",
        "        Train the model for a given number of epochs.\n",
        "        '''\n",
        "        self.model.train()\n",
        "\n",
        "\n",
        "        for epoch in range(epochs):\n",
        "\n",
        "            cum_loss = 0\n",
        "\n",
        "            for data in self.dataloader['train']:  # Iterate in batches over the training dataset.\n",
        "\n",
        "                data = data.to(self.args['device'])\n",
        "\n",
        "\n",
        "                if args['model'] == 'GCN':\n",
        "                    out = self.model(data.x, data.edge_index, data.batch)\n",
        "                elif args['model'] == 'GCN_FP':\n",
        "                    out = self.model(data.x, data.edge_index, data.batch, fp=data.fp)\n",
        "\n",
        "                data.y = data.y.unsqueeze(1)\n",
        "                loss = self.criterion(out, data.y)  # Compute the loss.\n",
        "                loss.backward()  # Derive gradients.\n",
        "                self.optimizer.step()  # Update parameters based on gradients.\n",
        "                self.optimizer.zero_grad()  # Clear gradients.\n",
        "                cum_loss += loss.item()\n",
        "\n",
        "            self.log_loss.append(cum_loss/len(self.dataloader['train']))\n",
        "\n",
        "            if log:\n",
        "                # evaluate\n",
        "                acc_train = self.eval(self.dataloader['train'])\n",
        "                acc_test = self.eval(self.dataloader['test'])\n",
        "\n",
        "                self.log_acc_train.append(acc_train)\n",
        "                self.log_acc_test.append(acc_test)\n",
        "\n",
        "\n",
        "                if epoch % 10 == 0:\n",
        "                    print(f'Epoch: {epoch}, Loss: {loss.item():.4f}, Train Acc: {acc_train:.4f}, Test Acc: {acc_test:.4f}')\n",
        "\n",
        "            self.curr_epoch += 1\n",
        "\n",
        "    def eval(self, loader):\n",
        "        '''\n",
        "        Evaluate the model on a given dataset (train/val/test).\n",
        "        '''\n",
        "        self.model.eval()\n",
        "\n",
        "        correct = 0\n",
        "        for data in loader:  # Iterate in batches over the training/test dataset.\n",
        "\n",
        "            data = data.to(self.args['device'])\n",
        "\n",
        "            # run forward based on model type\n",
        "            if args['model'] == 'GCN':\n",
        "                    out = self.model(data.x, data.edge_index, data.batch)\n",
        "            elif args['model'] == 'GCN_FP':\n",
        "                out = self.model(data.x, data.edge_index, data.batch, fp=data.fp)\n",
        "\n",
        "            # convert out to binary\n",
        "            pred = torch.round(torch.sigmoid(out))\n",
        "            data.y = data.y.unsqueeze(1)\n",
        "            correct += int((pred == data.y).sum())  # Check against ground-truth labels.\n",
        "            acc = correct / len(loader.dataset)  # Derive ratio of correct predictions.\n",
        "        return acc\n",
        "\n",
        "\n",
        "\n",
        "    def analyze(self):\n",
        "        '''\n",
        "        Plot the model performance.\n",
        "        '''\n",
        "\n",
        "        # plot side by side\n",
        "        fig, (ax1, ax2) = plt.subplots(1, 2, figsize=(10, 5))\n",
        "        ax1.plot(self.log_loss)\n",
        "        ax1.set_xlabel('Epoch')\n",
        "        ax1.set_ylabel('Loss')\n",
        "        ax1.set_title('Losses')\n",
        "\n",
        "        ax2.plot(self.log_acc_train, label='train')\n",
        "        ax2.plot(self.log_acc_test, label='test')\n",
        "        ax2.set_xlabel('Epoch')\n",
        "        ax2.set_ylabel('Accuracy')\n",
        "        ax2.set_title('Accuracy')\n",
        "        ax2.legend()\n",
        "        plt.show()\n",
        "\n",
        "\n",
        "\n",
        "    def save_model(self, folder, filename, save_weights=True, save_logs=True):\n",
        "        print('saving experiment...')\n",
        "\n",
        "        filename += f'_{self.curr_epoch}e'\n",
        "        if save_weights:\n",
        "            torch.save(self.model.state_dict(), os.path.join(folder, filename+'.pt'))\n",
        "\n",
        "        #if save_logs:\n",
        "\n",
        "    def load_model(self, folder, filename):\n",
        "        print('loading model...')\n",
        "        self.model.load_state_dict(torch.load(os.path.join(folder, filename+'.pt')))\n"
      ]
    },
    {
      "cell_type": "markdown",
      "metadata": {
        "id": "mxwqEHtDIIKH"
      },
      "source": [
        "# Experiments"
      ]
    },
    {
      "cell_type": "code",
      "execution_count": null,
      "metadata": {
        "id": "C3edhIHjIIKH",
        "outputId": "d90aa926-9316-48f2-d962-988458bf4c4d"
      },
      "outputs": [
        {
          "name": "stdout",
          "output_type": "stream",
          "text": [
            "Number of training graphs: 800\n",
            "Number of test graphs: 200\n",
            "Example of a graph data object: Data(x=[39, 79], edge_index=[2, 82], edge_attr=[82, 10], y=[1, 3], fp=[2215])\n",
            "Proportion of positive samples in each assay: [0.37 0.37 0.45]\n"
          ]
        }
      ],
      "source": [
        "dataloader = prepare_dataset(matrix_df, args)\n",
        "data_explore(data, y)"
      ]
    },
    {
      "cell_type": "code",
      "execution_count": null,
      "metadata": {
        "id": "7eo_6lyLIIKH",
        "outputId": "1de57546-73ab-44d9-eef7-8d0b8611e4d1"
      },
      "outputs": [
        {
          "name": "stdout",
          "output_type": "stream",
          "text": [
            "Epoch: 0, Loss: 0.6697, Train Acc: 0.6312, Test Acc: 0.6350\n",
            "Epoch: 10, Loss: 0.5761, Train Acc: 0.6350, Test Acc: 0.6550\n",
            "Epoch: 20, Loss: 0.5977, Train Acc: 0.6500, Test Acc: 0.6450\n",
            "Epoch: 30, Loss: 0.6248, Train Acc: 0.6675, Test Acc: 0.6650\n",
            "Epoch: 40, Loss: 0.6470, Train Acc: 0.6875, Test Acc: 0.6700\n",
            "Epoch: 50, Loss: 0.4427, Train Acc: 0.6863, Test Acc: 0.6450\n",
            "Epoch: 60, Loss: 0.6447, Train Acc: 0.7100, Test Acc: 0.6550\n",
            "Epoch: 70, Loss: 0.5270, Train Acc: 0.6987, Test Acc: 0.6600\n",
            "Epoch: 80, Loss: 0.3699, Train Acc: 0.7125, Test Acc: 0.6600\n",
            "Epoch: 90, Loss: 0.6815, Train Acc: 0.7462, Test Acc: 0.6650\n",
            "Epoch: 100, Loss: 0.5555, Train Acc: 0.7262, Test Acc: 0.6600\n",
            "Epoch: 110, Loss: 0.6707, Train Acc: 0.7562, Test Acc: 0.6600\n",
            "Epoch: 120, Loss: 0.6151, Train Acc: 0.7388, Test Acc: 0.6850\n",
            "Epoch: 130, Loss: 0.4503, Train Acc: 0.7388, Test Acc: 0.6300\n",
            "Epoch: 140, Loss: 0.5061, Train Acc: 0.7562, Test Acc: 0.6150\n",
            "Epoch: 150, Loss: 0.4884, Train Acc: 0.7625, Test Acc: 0.6600\n",
            "Epoch: 160, Loss: 0.5590, Train Acc: 0.7762, Test Acc: 0.6850\n",
            "Epoch: 170, Loss: 0.3959, Train Acc: 0.7812, Test Acc: 0.6450\n",
            "Epoch: 180, Loss: 0.5679, Train Acc: 0.7863, Test Acc: 0.6000\n",
            "Epoch: 190, Loss: 0.3491, Train Acc: 0.7825, Test Acc: 0.6650\n"
          ]
        }
      ],
      "source": [
        "args['model'] = 'GCN'\n",
        "exp = TrainManager(dataloader, args)\n",
        "exp.train(epochs=200, log=True)"
      ]
    },
    {
      "cell_type": "code",
      "execution_count": null,
      "metadata": {
        "id": "IbkcnuDFIIKH",
        "outputId": "4b5a2902-96cf-4e8f-b26a-969b1365a513"
      },
      "outputs": [
        {
          "data": {
            "image/png": "[encoded data removed]",
            "text/plain": [
              "<Figure size 1000x500 with 2 Axes>"
            ]
          },
          "metadata": {},
          "output_type": "display_data"
        }
      ],
      "source": [
        "exp.analyze()"
      ]
    },
    {
      "cell_type": "code",
      "execution_count": null,
      "metadata": {
        "id": "TsHWV5QtIIKI"
      },
      "outputs": [],
      "source": [
        "args['model'] = 'GCN_FP'\n",
        "exp = TrainManager(dataloader, args)\n",
        "exp.train(epochs=300, log=True)"
      ]
    },
    {
      "cell_type": "code",
      "execution_count": null,
      "metadata": {
        "id": "3Xvghic6IIKI",
        "outputId": "80bc73bb-8156-4a89-f0c2-a4a8986ba3d6"
      },
      "outputs": [
        {
          "data": {
            "image/png": "[encoded data removed]",
            "text/plain": [
              "<Figure size 1000x500 with 2 Axes>"
            ]
          },
          "metadata": {},
          "output_type": "display_data"
        }
      ],
      "source": [
        "exp.analyze()"
      ]
    }
  ],
  "metadata": {
    "accelerator": "GPU",
    "colab": {
      "gpuType": "A100",
      "include_colab_link": true,
      "machine_shape": "hm",
      "provenance": []
    },
    "kernelspec": {
      "display_name": "Python 3",
      "name": "python3"
    },
    "language_info": {
      "codemirror_mode": {
        "name": "ipython",
        "version": 3
      },
      "file_extension": ".py",
      "mimetype": "text/x-python",
      "name": "python",
      "nbconvert_exporter": "python",
      "pygments_lexer": "ipython3",
      "version": "3.11.4"
    },
    "orig_nbformat": 4
  },
  "nbformat": 4,
  "nbformat_minor": 0
}
