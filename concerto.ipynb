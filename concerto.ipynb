{
  "cells": [
    {
      "cell_type": "markdown",
      "metadata": {
        "colab_type": "text",
        "id": "view-in-github"
      },
      "source": [
        "<a href=\"https://colab.research.google.com/github/davidkubanek/Thesis/blob/main/concerto.ipynb\" target=\"_parent\"><img src=\"https://colab.research.google.com/assets/colab-badge.svg\" alt=\"Open In Colab\"/></a>"
      ]
    },
    {
      "cell_type": "markdown",
      "metadata": {
        "id": "hpnAQeFgIIKA"
      },
      "source": [
        "# CONCERTO architecture"
      ]
    },
    {
      "cell_type": "code",
      "execution_count": null,
      "metadata": {
        "colab": {
          "base_uri": "https://localhost:8080/"
        },
        "id": "t1jm2t5MI4af",
        "outputId": "c7383c64-df44-4ae0-b339-d76dcff110f1"
      },
      "outputs": [],
      "source": [
        "# for running in colab\n",
        "!pip install dgl\n",
        "!pip install rdkit\n",
        "!pip install torch_geometric\n",
        "!pip install wandb"
      ]
    },
    {
      "cell_type": "code",
      "execution_count": 1,
      "metadata": {
        "colab": {
          "base_uri": "https://localhost:8080/"
        },
        "id": "T69lAzjYIIKB",
        "outputId": "4ccfdff4-9480-402d-c4c1-06eb9a2aa31e"
      },
      "outputs": [
        {
          "name": "stdout",
          "output_type": "stream",
          "text": [
            "cpu\n"
          ]
        }
      ],
      "source": [
        "import numpy as np\n",
        "import pandas as pd\n",
        "import matplotlib.pyplot as plt\n",
        "import torch\n",
        "if not torch.cuda.is_available():\n",
        "  plt.rcParams[\"font.family\"] = \"Palatino\"\n",
        "\n",
        "import dgl\n",
        "import torch.nn as nn\n",
        "import torch.nn.functional as F\n",
        "from torch.optim import Adam, lr_scheduler\n",
        "from torch.utils.data import Dataset, DataLoader\n",
        "from torch_geometric.loader import DataLoader\n",
        "import wandb\n",
        "import warnings\n",
        "from tqdm import tqdm\n",
        "\n",
        "from rdkit import Chem\n",
        "from rdkit.Chem import MACCSkeys\n",
        "from rdkit.Chem import AllChem\n",
        "from rdkit.Chem import DataStructs\n",
        "\n",
        "# check if cuda is available\n",
        "device = torch.device('cuda' if torch.cuda.is_available() else 'cpu')\n",
        "print(device)"
      ]
    },
    {
      "cell_type": "code",
      "execution_count": 3,
      "metadata": {
        "colab": {
          "base_uri": "https://localhost:8080/"
        },
        "id": "zQK8GKzgKVqk",
        "outputId": "538ee4ad-0213-4888-81fd-cffef88ff355"
      },
      "outputs": [
        {
          "name": "stdout",
          "output_type": "stream",
          "text": [
            "Mounted at /content/drive\n"
          ]
        }
      ],
      "source": [
        "from google.colab import drive\n",
        "drive.mount('/content/drive')"
      ]
    },
    {
      "cell_type": "markdown",
      "metadata": {
        "id": "BiDm45e0IIKC"
      },
      "source": [
        "# Data"
      ]
    },
    {
      "cell_type": "markdown",
      "metadata": {
        "id": "326XAtvEIIKC"
      },
      "source": [
        "## Carci + Mut CONCERTO data\n",
        "Load in the carcinogenecity and mutagenecity data as in CONCERTO paper."
      ]
    },
    {
      "cell_type": "code",
      "execution_count": null,
      "metadata": {
        "id": "_RPSdghoIIKC"
      },
      "outputs": [],
      "source": [
        "class CancerMutDatasetClass(Dataset):\n",
        "\t'''\n",
        "\tImports and pre-processes the Cancer and Mutagenecity data and returns them in the form of a dataset\n",
        "\t'''\n",
        "\tdef __init__(self, out_feats=1, drop_ionic=True, min_carbon_count=0, fraction_of_data=1, use_carc_prob=False, carc_percentile_to_drop=0):\n",
        "\t\tself.out_feats = out_feats\n",
        "\t\tself.drop_ionic = drop_ionic\n",
        "\t\tself.min_carbon_count = min_carbon_count\n",
        "\t\tself.fraction_of_data = fraction_of_data\n",
        "\t\tself.use_carc_prob = use_carc_prob\n",
        "\t\tself.carc_percentile_to_drop = carc_percentile_to_drop\n",
        "\n",
        "\tdef load_carc_cpdb(cls):\n",
        "\t\tcpdb = pd.read_csv(\n",
        "\t\t\t'Data/concerto data/cpdb_aggergated.csv',\n",
        "\t\t\tusecols=['smiles', 'td50_log_harmonic', 'cas', 'carc_class', 'carc_class_multi']\n",
        "\t\t)\n",
        "\t\tcpdb['smiles'] = cls.smiles_standardize(cpdb['smiles'].values)\n",
        "\t\tcpdb = cpdb[cpdb['smiles'].notnull()]\n",
        "\t\tcpdb.rename(columns={'td50_log_harmonic': 'td50'}, inplace=True)\n",
        "\t\tassert cpdb['smiles'].duplicated().sum() == 0, \\\n",
        "\t\t\tcpdb[cpdb['smiles'].duplicated(keep=False)].sort_values('smiles').to_string()\n",
        "\t\tcpdb['source'] = 'cpdb'\n",
        "\t\treturn cpdb\n",
        "\n",
        "\tdef load_mut_hansen(cls):\n",
        "\t\tames_df = pd.read_csv('Data/concerto data/hansen_2009_ames.smi', sep='\\t', names=['smiles', 'cas', 'class'])\n",
        "\t\tames_df['smiles'] = cls.smiles_standardize(ames_df['smiles'].values)\n",
        "\t\tames_df = ames_df[ames_df['smiles'].notnull()]\n",
        "\t\tames_df.rename(columns={'class': 'mut_class'}, inplace=True)\n",
        "\t\tames_df.drop(columns='cas', inplace=True)\n",
        "\t\tames_df = ames_df[~ames_df.duplicated(['smiles', 'mut_class'])]\n",
        "\t\tassert ames_df['smiles'].duplicated().sum() == 0, \\\n",
        "\t\t\tames_df[ames_df['smiles'].duplicated(keep=False)].sort_values('smiles').to_string()\n",
        "\t\tames_df['source'] = 'hansen'\n",
        "\t\treturn ames_df\n",
        "\n",
        "\n",
        "\tdef smiles_standardize(cls, smiles):\n",
        "\t\tnew_smiles = []\n",
        "\t\tfor smile in smiles:\n",
        "\t\t\tif pd.isnull(smile):\n",
        "\t\t\t\tnew_smiles.append(None)\n",
        "\t\t\t\tcontinue\n",
        "\t\t\t# Generate the molecule from smile string\n",
        "\t\t\tmol = Chem.MolFromSmiles(smile)\n",
        "\t\t\t# If the smile string is null then continue\n",
        "\t\t\tif pd.isnull(mol):\n",
        "\t\t\t\tnew_smiles.append(None)\n",
        "\t\t\telse:\n",
        "\t\t\t\tnew_smiles.append(Chem.MolToSmiles(mol,canonical=True,isomericSmiles=False,allBondsExplicit=False))\n",
        "\t\treturn new_smiles\n",
        "\n",
        "\tdef count_num_carbons(cls, smile):\n",
        "\t\tmol = Chem.MolFromSmiles(smile)\n",
        "\t\tnum_c = 0\n",
        "\t\tfor atom in mol.GetAtoms():\n",
        "\t\t\tif atom.GetSymbol().upper() == 'C':\n",
        "\t\t\t\tnum_c += 1\n",
        "\t\treturn num_c\n",
        "\n",
        "\tdef load_data(self):\n",
        "\t\t# Loaded data should not overlap mut_hansn and carc_cpdb since they are the two primary training data sources\n",
        "\t\tmut = self.load_mut_hansen()\n",
        "\t\tcarc = self.load_carc_cpdb()\n",
        "\n",
        "\t\tcarc_datasets = []\n",
        "\t\tmut_datasets = []\n",
        "\n",
        "\t\tcarc_datasets.append(carc)\n",
        "\n",
        "\t\t# if 'carc_ccris' in self.carc_datasets:\n",
        "\t\t# \ttemp = self.load_carc_ccris()\n",
        "\t\t# \t# drop samples that are in training data by default cpdb & carc_pred_el\n",
        "\t\t# \ttemp = temp[~temp['smiles'].isin(carc['smiles'])]\n",
        "\t\t# \tcarc_datasets.append(temp)\n",
        "\n",
        "\t\tmut_datasets.append(mut)\n",
        "\n",
        "\t\tif mut_datasets:\n",
        "\t\t\tmut = pd.concat(mut_datasets)\n",
        "\t\telse:\n",
        "\t\t\tmut = pd.DataFrame(columns=mut.columns)\n",
        "\n",
        "\t\tif carc_datasets:\n",
        "\t\t\tcarc = pd.concat(carc_datasets)\n",
        "\t\telse:\n",
        "\t\t\tcarc = pd.DataFrame(columns=carc.columns)\n",
        "\n",
        "\t\t# check for duplicates\n",
        "\t\tif mut['smiles'].duplicated().sum() != 0:\n",
        "\t\t\twarnings.warn(f\"duplicated samples {mut['smiles'].duplicated().sum()} contained in mutagenicity data \"\n",
        "\t\t\t\t\t\t  f\"from {mut_datasets}\\n\"\n",
        "\t\t\t\t\t\t  f\" {mut[mut['smiles'].duplicated(keep=False)].sort_values('smiles').head().to_string()}\")\n",
        "\t\t\tmut.sort_values(['smiles', 'mut_class'], ascending=False)\n",
        "\t\t\tmut = mut[~mut.duplicated('smiles')]\n",
        "\n",
        "\t\tif carc['smiles'].duplicated().sum() != 0:\n",
        "\t\t\twarnings.warn(f\"duplicated samples {carc['smiles'].duplicated().sum()} contained in carcinogenicity data \"\n",
        "\t\t\t\t\t\t  f\"from {carc_datasets}\\n\"\n",
        "\t\t\t\t\t\t  f\" {carc[carc['smiles'].duplicated(keep=False)].sort_values('smiles').head().to_string()}\")\n",
        "\t\t\tcarc = carc[~carc.duplicated('smiles')]\n",
        "\n",
        "\t\t# merge the mut and carc datasets\n",
        "\t\tdf = pd.merge(mut, carc, how='outer', on='smiles')\n",
        "\t\tdf['source'] = df['source_x'].fillna('') + ',' + df['source_y'].fillna('')\n",
        "\t\tdf.drop(columns=['source_x', 'source_y'], inplace=True)\n",
        "\n",
        "\t\trequired_columns = ['td50', 'carc_class', 'mut_class', 'carc_class_multi']\n",
        "\t\tfor column in required_columns:\n",
        "\t\t\tif column not in df.columns:\n",
        "\t\t\t\tdf[column] = np.nan\n",
        "\n",
        "\t\tif self.drop_ionic:\n",
        "\t\t\tdf = df[~df['smiles'].str.contains('\\.')]\n",
        "\n",
        "\t\tdf['carbon_count'] = [self.count_num_carbons(x) for x in df['smiles'].values]\n",
        "\t\tif self.min_carbon_count:\n",
        "\t\t\tdf = df[df['carbon_count'] >= self.min_carbon_count]\n",
        "\n",
        "\t\t# Shuffle the data\n",
        "\t\tindex = np.arange(len(df))\n",
        "\t\tnp.random.seed(1337)\n",
        "\t\tnp.random.shuffle(index)\n",
        "\t\tdf = df.iloc[index].reset_index(drop=True)\n",
        "\n",
        "\t\t# Log of Betas that were fitted using a cox regression model\n",
        "\t\tif self.carc_percentile_to_drop > 0:\n",
        "\t\t\t# cleave off the top percentile\n",
        "\t\t\tlowest_td_50_val = np.nanpercentile(df['td50'].values, self.carc_percentile_to_drop)\n",
        "\t\t\tmask = df[df['td50'] <= lowest_td_50_val].index\n",
        "\t\t\tdf.loc[mask, 'td50'] = lowest_td_50_val\n",
        "\n",
        "\t\tbetas = np.log((np.log(2) / df[\"td50\"].values))\n",
        "\n",
        "\t\t# standardize\n",
        "\t\tbeta_standardized = (betas - np.nanmean(betas)) / np.nanstd(betas)\n",
        "\t\t# normalize\n",
        "\t\tbeta_normalized = betas - np.nanmin(betas)\n",
        "\t\tbeta_normalized = beta_normalized / np.nanmax(beta_normalized)\n",
        "\n",
        "\t\tdf['beta_standardized'] = beta_standardized\n",
        "\t\tdf['beta_normalized'] = beta_normalized\n",
        "\n",
        "\t\tif self.fraction_of_data < 1:\n",
        "\t\t\tnew_data_len = int(len(df) * self.fraction_of_data)\n",
        "\t\t\tdf = df.iloc[:new_data_len]\n",
        "\n",
        "\t\t#save the resulting dataframe\n",
        "\t\tself.df = df\n"
      ]
    },
    {
      "cell_type": "code",
      "execution_count": null,
      "metadata": {
        "id": "LaxYg7WEIIKD"
      },
      "outputs": [],
      "source": [
        "dataset = CancerMutDatasetClass()\n",
        "dataset.load_data()"
      ]
    },
    {
      "cell_type": "code",
      "execution_count": null,
      "metadata": {
        "id": "rqIw9U3KIIKD",
        "outputId": "38d05ec9-18da-4ae4-a48d-a9528aebd544"
      },
      "outputs": [
        {
          "data": {
            "text/html": [
              "<div>\n",
              "<style scoped>\n",
              "    .dataframe tbody tr th:only-of-type {\n",
              "        vertical-align: middle;\n",
              "    }\n",
              "\n",
              "    .dataframe tbody tr th {\n",
              "        vertical-align: top;\n",
              "    }\n",
              "\n",
              "    .dataframe thead th {\n",
              "        text-align: right;\n",
              "    }\n",
              "</style>\n",
              "<table border=\"1\" class=\"dataframe\">\n",
              "  <thead>\n",
              "    <tr style=\"text-align: right;\">\n",
              "      <th></th>\n",
              "      <th>smiles</th>\n",
              "      <th>mut_class</th>\n",
              "      <th>cas</th>\n",
              "      <th>td50</th>\n",
              "      <th>carc_class_multi</th>\n",
              "      <th>carc_class</th>\n",
              "      <th>source</th>\n",
              "      <th>carbon_count</th>\n",
              "      <th>beta_standardized</th>\n",
              "      <th>beta_normalized</th>\n",
              "    </tr>\n",
              "  </thead>\n",
              "  <tbody>\n",
              "    <tr>\n",
              "      <th>1633</th>\n",
              "      <td>CC(C)(C)c1ccc(OP2OCC3(CO2)COP(Oc2ccc(C(C)(C)C)...</td>\n",
              "      <td>0.0</td>\n",
              "      <td>NaN</td>\n",
              "      <td>NaN</td>\n",
              "      <td>NaN</td>\n",
              "      <td>NaN</td>\n",
              "      <td>hansen,</td>\n",
              "      <td>33</td>\n",
              "      <td>NaN</td>\n",
              "      <td>NaN</td>\n",
              "    </tr>\n",
              "    <tr>\n",
              "      <th>4820</th>\n",
              "      <td>Nc1ccc(CO)c([N+](=O)[O-])c1</td>\n",
              "      <td>1.0</td>\n",
              "      <td>NaN</td>\n",
              "      <td>NaN</td>\n",
              "      <td>NaN</td>\n",
              "      <td>NaN</td>\n",
              "      <td>hansen,</td>\n",
              "      <td>7</td>\n",
              "      <td>NaN</td>\n",
              "      <td>NaN</td>\n",
              "    </tr>\n",
              "    <tr>\n",
              "      <th>6547</th>\n",
              "      <td>NCCNCCNCCN</td>\n",
              "      <td>1.0</td>\n",
              "      <td>NaN</td>\n",
              "      <td>NaN</td>\n",
              "      <td>NaN</td>\n",
              "      <td>NaN</td>\n",
              "      <td>hansen,</td>\n",
              "      <td>6</td>\n",
              "      <td>NaN</td>\n",
              "      <td>NaN</td>\n",
              "    </tr>\n",
              "    <tr>\n",
              "      <th>1001</th>\n",
              "      <td>BrCc1c2ccccc2c2ccc3cccc4ccc1c2c43</td>\n",
              "      <td>1.0</td>\n",
              "      <td>NaN</td>\n",
              "      <td>NaN</td>\n",
              "      <td>NaN</td>\n",
              "      <td>NaN</td>\n",
              "      <td>hansen,</td>\n",
              "      <td>21</td>\n",
              "      <td>NaN</td>\n",
              "      <td>NaN</td>\n",
              "    </tr>\n",
              "    <tr>\n",
              "      <th>545</th>\n",
              "      <td>OC1C=Cc2ncccc2C1O</td>\n",
              "      <td>0.0</td>\n",
              "      <td>NaN</td>\n",
              "      <td>NaN</td>\n",
              "      <td>NaN</td>\n",
              "      <td>NaN</td>\n",
              "      <td>hansen,</td>\n",
              "      <td>9</td>\n",
              "      <td>NaN</td>\n",
              "      <td>NaN</td>\n",
              "    </tr>\n",
              "    <tr>\n",
              "      <th>4971</th>\n",
              "      <td>COC(C(=O)O)c1ccccc1</td>\n",
              "      <td>NaN</td>\n",
              "      <td>1701-77-5</td>\n",
              "      <td>6.598778</td>\n",
              "      <td>2.0</td>\n",
              "      <td>1.0</td>\n",
              "      <td>,cpdb</td>\n",
              "      <td>9</td>\n",
              "      <td>-0.085314</td>\n",
              "      <td>0.175281</td>\n",
              "    </tr>\n",
              "    <tr>\n",
              "      <th>1094</th>\n",
              "      <td>CC(C)[N+](C)(CCOC(=O)C1c2ccccc2Oc2ccccc21)C(C)C</td>\n",
              "      <td>0.0</td>\n",
              "      <td>NaN</td>\n",
              "      <td>NaN</td>\n",
              "      <td>NaN</td>\n",
              "      <td>NaN</td>\n",
              "      <td>hansen,</td>\n",
              "      <td>23</td>\n",
              "      <td>NaN</td>\n",
              "      <td>NaN</td>\n",
              "    </tr>\n",
              "    <tr>\n",
              "      <th>1664</th>\n",
              "      <td>CC(=O)Nc1nc2c3cccnc3ccc2n1C</td>\n",
              "      <td>1.0</td>\n",
              "      <td>NaN</td>\n",
              "      <td>NaN</td>\n",
              "      <td>NaN</td>\n",
              "      <td>NaN</td>\n",
              "      <td>hansen,</td>\n",
              "      <td>13</td>\n",
              "      <td>NaN</td>\n",
              "      <td>NaN</td>\n",
              "    </tr>\n",
              "    <tr>\n",
              "      <th>5062</th>\n",
              "      <td>O=[N+]([O-])c1ccc2c3ccccc3c3cccc4ccc1c2c43</td>\n",
              "      <td>1.0</td>\n",
              "      <td>NaN</td>\n",
              "      <td>NaN</td>\n",
              "      <td>NaN</td>\n",
              "      <td>NaN</td>\n",
              "      <td>hansen,</td>\n",
              "      <td>20</td>\n",
              "      <td>NaN</td>\n",
              "      <td>NaN</td>\n",
              "    </tr>\n",
              "    <tr>\n",
              "      <th>1571</th>\n",
              "      <td>CN(C)c1nc(N(C)C)nc(N(C)C)n1</td>\n",
              "      <td>0.0</td>\n",
              "      <td>NaN</td>\n",
              "      <td>NaN</td>\n",
              "      <td>NaN</td>\n",
              "      <td>NaN</td>\n",
              "      <td>hansen,</td>\n",
              "      <td>9</td>\n",
              "      <td>NaN</td>\n",
              "      <td>NaN</td>\n",
              "    </tr>\n",
              "  </tbody>\n",
              "</table>\n",
              "</div>"
            ],
            "text/plain": [
              "                                                 smiles  mut_class        cas  \\\n",
              "1633  CC(C)(C)c1ccc(OP2OCC3(CO2)COP(Oc2ccc(C(C)(C)C)...        0.0        NaN   \n",
              "4820                        Nc1ccc(CO)c([N+](=O)[O-])c1        1.0        NaN   \n",
              "6547                                         NCCNCCNCCN        1.0        NaN   \n",
              "1001                  BrCc1c2ccccc2c2ccc3cccc4ccc1c2c43        1.0        NaN   \n",
              "545                                   OC1C=Cc2ncccc2C1O        0.0        NaN   \n",
              "4971                                COC(C(=O)O)c1ccccc1        NaN  1701-77-5   \n",
              "1094    CC(C)[N+](C)(CCOC(=O)C1c2ccccc2Oc2ccccc21)C(C)C        0.0        NaN   \n",
              "1664                        CC(=O)Nc1nc2c3cccnc3ccc2n1C        1.0        NaN   \n",
              "5062         O=[N+]([O-])c1ccc2c3ccccc3c3cccc4ccc1c2c43        1.0        NaN   \n",
              "1571                        CN(C)c1nc(N(C)C)nc(N(C)C)n1        0.0        NaN   \n",
              "\n",
              "          td50  carc_class_multi  carc_class   source  carbon_count  \\\n",
              "1633       NaN               NaN         NaN  hansen,            33   \n",
              "4820       NaN               NaN         NaN  hansen,             7   \n",
              "6547       NaN               NaN         NaN  hansen,             6   \n",
              "1001       NaN               NaN         NaN  hansen,            21   \n",
              "545        NaN               NaN         NaN  hansen,             9   \n",
              "4971  6.598778               2.0         1.0    ,cpdb             9   \n",
              "1094       NaN               NaN         NaN  hansen,            23   \n",
              "1664       NaN               NaN         NaN  hansen,            13   \n",
              "5062       NaN               NaN         NaN  hansen,            20   \n",
              "1571       NaN               NaN         NaN  hansen,             9   \n",
              "\n",
              "      beta_standardized  beta_normalized  \n",
              "1633                NaN              NaN  \n",
              "4820                NaN              NaN  \n",
              "6547                NaN              NaN  \n",
              "1001                NaN              NaN  \n",
              "545                 NaN              NaN  \n",
              "4971          -0.085314         0.175281  \n",
              "1094                NaN              NaN  \n",
              "1664                NaN              NaN  \n",
              "5062                NaN              NaN  \n",
              "1571                NaN              NaN  "
            ]
          },
          "execution_count": 236,
          "metadata": {},
          "output_type": "execute_result"
        }
      ],
      "source": [
        "# give random draw of data\n",
        "dataset.df.sample(10)"
      ]
    },
    {
      "cell_type": "code",
      "execution_count": null,
      "metadata": {
        "id": "eiHvtRoHIIKE"
      },
      "outputs": [],
      "source": [
        "'''\n",
        "Some things from the original code that I might need to use later\n",
        "'''\n",
        "# Clip loss\n",
        "# torch.nn.utils.clip_grad_norm_(model.parameters(), args[\"gradient_clip_norm\"])\n",
        "# optimizer = Adam(model.parameters(), lr=args['lr'], weight_decay=args['network_weight_decay'])\n",
        "# scheduler = lr_scheduler.ReduceLROnPlateau(optimizer, 'min', factor=args['lr_decay_factor'])\n",
        "\n",
        "# early_stop = stopper.step(val_score, model)\n",
        "# if args[\"use_wandb\"]:\n",
        "#     wandb.log({\n",
        "#         f\"epoch{note}\": epoch + 1,\n",
        "#         f\"training_carcinogenic_loss{note}\": train_carc_loss,\n",
        "#         f\"training_mutagenic_loss{note}\": train_mut_loss,\n",
        "#         f\"training_loss{note}\": train_loss,\n",
        "#         f\"training_mut_{train_mut_metric_name}{note}\": train_mut_metric,\n",
        "#         f\"training_mut_{train_mut_metric_name2}{note}\": train_mut_metric2,\n",
        "#         f\"training_carc_{train_carc_metric_name}{note}\": train_carc_metric,\n",
        "#         f\"training_carc_{train_carc_metric_name2}{note}\": train_carc_metric2,\n",
        "\n",
        "#         f\"validation_loss{note}\": val_loss,\n",
        "#         f\"validation_carc_loss{note}\": val_carc_loss,\n",
        "#         f\"validation_mut_loss{note}\": val_mut_loss,\n",
        "#         f\"validation_carc_{val_carc_metric_name}{note}\": val_carc_metric,\n",
        "#         f\"validation_carc_{val_carc_metric_name2}{note}\": val_carc_metric2,\n",
        "#         f\"validation_mut_{val_mut_metric_name}{note}\": val_mut_metric,\n",
        "#         f\"validation_mut_{val_mut_metric_name2}{note}\": val_mut_metric2,\n",
        "#     })\n",
        "\n",
        "# if early_stop:\n",
        "#     break\n",
        "# stopper.load_checkpoint(model)\n"
      ]
    },
    {
      "cell_type": "markdown",
      "metadata": {
        "id": "5GydVVxwIIKE"
      },
      "source": [
        "## HTSFP PubChem data\n",
        "Load in the HTSFP data from the activity matrix generated in 'HTS_fingerprints'"
      ]
    },
    {
      "cell_type": "code",
      "execution_count": 3,
      "metadata": {
        "colab": {
          "base_uri": "https://localhost:8080/"
        },
        "id": "APkgleI6IIKE",
        "outputId": "9999ad22-fb31-48fd-bb3b-fc726ae373be"
      },
      "outputs": [
        {
          "name": "stdout",
          "output_type": "stream",
          "text": [
            "Binary activity matrix shape:  (324192, 272)\n"
          ]
        },
        {
          "data": {
            "text/html": [
              "<div>\n",
              "<style scoped>\n",
              "    .dataframe tbody tr th:only-of-type {\n",
              "        vertical-align: middle;\n",
              "    }\n",
              "\n",
              "    .dataframe tbody tr th {\n",
              "        vertical-align: top;\n",
              "    }\n",
              "\n",
              "    .dataframe thead th {\n",
              "        text-align: right;\n",
              "    }\n",
              "</style>\n",
              "<table border=\"1\" class=\"dataframe\">\n",
              "  <thead>\n",
              "    <tr style=\"text-align: right;\">\n",
              "      <th></th>\n",
              "      <th>SMILES</th>\n",
              "      <th>602399</th>\n",
              "      <th>588352</th>\n",
              "      <th>720702</th>\n",
              "      <th>624377</th>\n",
              "      <th>602429</th>\n",
              "      <th>588621</th>\n",
              "      <th>720700</th>\n",
              "      <th>720648</th>\n",
              "      <th>624416</th>\n",
              "      <th>...</th>\n",
              "      <th>485344</th>\n",
              "      <th>651550</th>\n",
              "      <th>588674</th>\n",
              "      <th>743397</th>\n",
              "      <th>651719</th>\n",
              "      <th>651724</th>\n",
              "      <th>1259313</th>\n",
              "      <th>1259400</th>\n",
              "      <th>588511</th>\n",
              "      <th>588726</th>\n",
              "    </tr>\n",
              "  </thead>\n",
              "  <tbody>\n",
              "    <tr>\n",
              "      <th>0</th>\n",
              "      <td>CC(=O)C1=CC(=C(C=C1)OC)COC2=NC=NC3=CC=CC=C32</td>\n",
              "      <td>0</td>\n",
              "      <td>0</td>\n",
              "      <td>0</td>\n",
              "      <td>0</td>\n",
              "      <td>0</td>\n",
              "      <td>0</td>\n",
              "      <td>0</td>\n",
              "      <td>0</td>\n",
              "      <td>0</td>\n",
              "      <td>...</td>\n",
              "      <td>0</td>\n",
              "      <td>0</td>\n",
              "      <td>0</td>\n",
              "      <td>0</td>\n",
              "      <td>0</td>\n",
              "      <td>0</td>\n",
              "      <td>0</td>\n",
              "      <td>1</td>\n",
              "      <td>0</td>\n",
              "      <td>0</td>\n",
              "    </tr>\n",
              "    <tr>\n",
              "      <th>1</th>\n",
              "      <td>CC1=CC2=C(N1)C=CC(=C2)CNC(=O)C3=CC(=CC=C3)OC</td>\n",
              "      <td>1</td>\n",
              "      <td>0</td>\n",
              "      <td>0</td>\n",
              "      <td>0</td>\n",
              "      <td>0</td>\n",
              "      <td>0</td>\n",
              "      <td>0</td>\n",
              "      <td>0</td>\n",
              "      <td>0</td>\n",
              "      <td>...</td>\n",
              "      <td>0</td>\n",
              "      <td>0</td>\n",
              "      <td>0</td>\n",
              "      <td>0</td>\n",
              "      <td>0</td>\n",
              "      <td>0</td>\n",
              "      <td>0</td>\n",
              "      <td>0</td>\n",
              "      <td>0</td>\n",
              "      <td>0</td>\n",
              "    </tr>\n",
              "    <tr>\n",
              "      <th>2</th>\n",
              "      <td>CC1=C(C=CC(=C1)NC(=O)C2=CC=C(C=C2)[N+](=O)[O-]...</td>\n",
              "      <td>0</td>\n",
              "      <td>0</td>\n",
              "      <td>0</td>\n",
              "      <td>0</td>\n",
              "      <td>0</td>\n",
              "      <td>0</td>\n",
              "      <td>0</td>\n",
              "      <td>0</td>\n",
              "      <td>0</td>\n",
              "      <td>...</td>\n",
              "      <td>0</td>\n",
              "      <td>0</td>\n",
              "      <td>0</td>\n",
              "      <td>1</td>\n",
              "      <td>0</td>\n",
              "      <td>0</td>\n",
              "      <td>0</td>\n",
              "      <td>0</td>\n",
              "      <td>0</td>\n",
              "      <td>0</td>\n",
              "    </tr>\n",
              "    <tr>\n",
              "      <th>3</th>\n",
              "      <td>CC1=CSC2=NC(=O)C(=NN12)C3=CC=CC=C3N</td>\n",
              "      <td>0</td>\n",
              "      <td>0</td>\n",
              "      <td>0</td>\n",
              "      <td>0</td>\n",
              "      <td>0</td>\n",
              "      <td>0</td>\n",
              "      <td>0</td>\n",
              "      <td>0</td>\n",
              "      <td>0</td>\n",
              "      <td>...</td>\n",
              "      <td>0</td>\n",
              "      <td>1</td>\n",
              "      <td>0</td>\n",
              "      <td>0</td>\n",
              "      <td>0</td>\n",
              "      <td>0</td>\n",
              "      <td>0</td>\n",
              "      <td>0</td>\n",
              "      <td>0</td>\n",
              "      <td>0</td>\n",
              "    </tr>\n",
              "    <tr>\n",
              "      <th>4</th>\n",
              "      <td>C1=CC(=CC=C1C2=NC(=NO2)C3=CC=NC=C3)Br</td>\n",
              "      <td>0</td>\n",
              "      <td>0</td>\n",
              "      <td>0</td>\n",
              "      <td>0</td>\n",
              "      <td>0</td>\n",
              "      <td>0</td>\n",
              "      <td>0</td>\n",
              "      <td>0</td>\n",
              "      <td>0</td>\n",
              "      <td>...</td>\n",
              "      <td>0</td>\n",
              "      <td>0</td>\n",
              "      <td>1</td>\n",
              "      <td>0</td>\n",
              "      <td>0</td>\n",
              "      <td>0</td>\n",
              "      <td>0</td>\n",
              "      <td>0</td>\n",
              "      <td>0</td>\n",
              "      <td>0</td>\n",
              "    </tr>\n",
              "  </tbody>\n",
              "</table>\n",
              "<p>5 rows × 272 columns</p>\n",
              "</div>"
            ],
            "text/plain": [
              "                                              SMILES  602399  588352  720702  \\\n",
              "0       CC(=O)C1=CC(=C(C=C1)OC)COC2=NC=NC3=CC=CC=C32       0       0       0   \n",
              "1       CC1=CC2=C(N1)C=CC(=C2)CNC(=O)C3=CC(=CC=C3)OC       1       0       0   \n",
              "2  CC1=C(C=CC(=C1)NC(=O)C2=CC=C(C=C2)[N+](=O)[O-]...       0       0       0   \n",
              "3                CC1=CSC2=NC(=O)C(=NN12)C3=CC=CC=C3N       0       0       0   \n",
              "4              C1=CC(=CC=C1C2=NC(=NO2)C3=CC=NC=C3)Br       0       0       0   \n",
              "\n",
              "   624377  602429  588621  720700  720648  624416  ...  485344  651550  \\\n",
              "0       0       0       0       0       0       0  ...       0       0   \n",
              "1       0       0       0       0       0       0  ...       0       0   \n",
              "2       0       0       0       0       0       0  ...       0       0   \n",
              "3       0       0       0       0       0       0  ...       0       1   \n",
              "4       0       0       0       0       0       0  ...       0       0   \n",
              "\n",
              "   588674  743397  651719  651724  1259313  1259400  588511  588726  \n",
              "0       0       0       0       0        0        1       0       0  \n",
              "1       0       0       0       0        0        0       0       0  \n",
              "2       0       1       0       0        0        0       0       0  \n",
              "3       0       0       0       0        0        0       0       0  \n",
              "4       1       0       0       0        0        0       0       0  \n",
              "\n",
              "[5 rows x 272 columns]"
            ]
          },
          "execution_count": 3,
          "metadata": {},
          "output_type": "execute_result"
        }
      ],
      "source": [
        "# Load the matrix\n",
        "if torch.cuda.is_available():\n",
        "    directory = '/content/drive/MyDrive/Thesis/Data/'\n",
        "else:\n",
        "    directory = '/Volumes/Kubánek UCL/Data/Thesis MSc/PubChem Data'\n",
        "\n",
        "matrix_df = pd.read_csv(directory+'/final/activity_matrix_579_median_binary_at2.csv') #Thesis/Data\n",
        "\n",
        "# shuffle dataframe (otherwise some assays sorted acsendingly)\n",
        "def shuffle_df(df):\n",
        "    df = df.sample(frac=1).reset_index(drop=False)\n",
        "    # save index column values\n",
        "    index_col = df['index']\n",
        "    # drop index column\n",
        "    df = df.drop(columns=['index'])\n",
        "    return df, index_col\n",
        "matrix_df, index_col = shuffle_df(matrix_df)\n",
        "\n",
        "print('Binary activity matrix shape: ', matrix_df.shape)\n",
        "matrix_df.head()"
      ]
    },
    {
      "cell_type": "code",
      "execution_count": 4,
      "metadata": {
        "colab": {
          "base_uri": "https://localhost:8080/"
        },
        "id": "X2wTpqNn2IIo",
        "outputId": "ce0cbb44-e245-4aec-cf5f-ae575a050cee"
      },
      "outputs": [
        {
          "data": {
            "image/png": "[encoded data removed]",
            "text/plain": [
              "<Figure size 1000x500 with 1 Axes>"
            ]
          },
          "metadata": {},
          "output_type": "display_data"
        },
        {
          "name": "stdout",
          "output_type": "stream",
          "text": [
            "Assays with few hits (<1%): \n",
            " # 84 \n",
            " ['720702' '624377' '588621' '624038' '651560' '651602' '504651' '624267'\n",
            " '651957' '624304' '651572' '602244' '602250' '686964' '624040' '651800'\n",
            " '624125' '602123' '588664' '624126' '624169' '720509' '652017' '743269'\n",
            " '651718' '602141' '2380' '2550' '2642' '2648' '2825' '435030' '449728'\n",
            " '463079' '463141' '463210' '485347' '488965' '488975' '488977' '489030'\n",
            " '489031' '492972' '493008' '493087' '493098' '493160' '493187' '493244'\n",
            " '504406' '504523' '504577' '504621' '504634' '504692' '504734' '540267'\n",
            " '540295' '588335' '588627' '588675' '588676' '588819' '602410' '623877'\n",
            " '1511' '1554' '1875' '1950' '1987' '2234' '2300' '2445' '2553' '2690'\n",
            " '434962' '434989' '463111' '463165' '463190' '463212' '485272' '651719'\n",
            " '588511']\n"
          ]
        }
      ],
      "source": [
        "# sum matrix_df across rows, excluding the first column 'SMILES'\n",
        "hit_ratio = matrix_df.iloc[:,1:].sum(axis=0)/matrix_df.shape[0]\n",
        "\n",
        "#plot pos_ratio\n",
        "plt.figure(figsize=(10,5))\n",
        "plt.hist(hit_ratio, bins=20)\n",
        "plt.xlabel('Proportion of hits')\n",
        "plt.ylabel('Number of assays')\n",
        "plt.title(f'Distribution of hits across assays (activity threshold = 2)')\n",
        "plt.show()\n",
        "\n",
        "print('Assays with few hits (<1%): \\n #', len(matrix_df.columns[1:][torch.where(torch.tensor(hit_ratio)<0.01)].values), '\\n', matrix_df.columns[1:][torch.where(torch.tensor(hit_ratio)<0.01)].values)"
      ]
    },
    {
      "cell_type": "markdown",
      "metadata": {
        "id": "vjkmx0VD2IIp"
      },
      "source": [
        "### Split assays into types: cell-based, biochemical & high, medium and low hit-rate"
      ]
    },
    {
      "cell_type": "code",
      "execution_count": 6,
      "metadata": {
        "colab": {
          "base_uri": "https://localhost:8080/"
        },
        "id": "zSXcjDkP2IIp",
        "outputId": "099d6255-ea96-4d44-dd97-a9e3d9b48249"
      },
      "outputs": [
        {
          "name": "stdout",
          "output_type": "stream",
          "text": [
            "Sizes of hit rate categories (low, med, high, all): 84 162 25 271\n",
            "\n",
            "\n",
            "Cell based category sizes (low, med, high): 37 38 7\n",
            "Non-cell based category sizes (low, med, high): 47 124 18\n"
          ]
        }
      ],
      "source": [
        "# load list of cell-based assays\n",
        "with open(directory + '/info/cell_based_assays.txt', 'r') as file:\n",
        "    lines = file.read().splitlines()\n",
        "cell_based = list(map(str, lines))\n",
        "\n",
        "# load list of biochemical non-cell-based assays\n",
        "with open(directory + '/info/non_cell_based_assays.txt', 'r') as file:\n",
        "    lines = file.read().splitlines()\n",
        "non_cell_based = list(map(str, lines))\n",
        "\n",
        "# separate the items into low, medium, and high hit rate items\n",
        "low_hit_rate = matrix_df.columns[1:][torch.where(torch.tensor(hit_ratio)<0.01)].values\n",
        "high_hit_rate = matrix_df.columns[1:][torch.where(torch.tensor(hit_ratio)>=0.05)].values\n",
        "# the rest of the items are medium hit rate items\n",
        "med_hit_rate = list(set(list(matrix_df.columns[1:])) - set(list(low_hit_rate)) - set(list(high_hit_rate)))\n",
        "\n",
        "print('Sizes of hit rate categories (low, med, high, all):', len(low_hit_rate), len(med_hit_rate), len(high_hit_rate), len(hit_ratio))\n",
        "print('\\n')\n",
        "\n",
        "# separating cell-based and non-cell-based into categories based on hit rate\n",
        "cell_based_high_hr =list(set(cell_based).intersection(set(high_hit_rate)))\n",
        "cell_based_med_hr = list(set(cell_based).intersection(set(med_hit_rate)))\n",
        "cell_based_low_hr = list(set(cell_based).intersection(set(low_hit_rate)))\n",
        "print('Cell based category sizes (low, med, high):',len(cell_based_low_hr), len(cell_based_med_hr), len(cell_based_high_hr))\n",
        "non_cell_based_high_hr = list(set(non_cell_based).intersection(set(high_hit_rate)))\n",
        "non_cell_based_med_hr = list(set(non_cell_based).intersection(set(med_hit_rate)))\n",
        "non_cell_based_low_hr = list(set(non_cell_based).intersection(set(low_hit_rate)))\n",
        "print('Non-cell based category sizes (low, med, high):',len(non_cell_based_low_hr), len(non_cell_based_med_hr), len(non_cell_based_high_hr))\n",
        "\n",
        "# save the lists of items\n",
        "with open(directory + '/info/cell_based_high_hr.txt', 'w') as file:\n",
        "    for item in cell_based_high_hr:\n",
        "        file.write(\"%s\\n\" % item)\n",
        "with open(directory + '/info/cell_based_med_hr.txt', 'w') as file:\n",
        "    for item in cell_based_med_hr:\n",
        "        file.write(\"%s\\n\" % item)\n",
        "with open(directory + '/info/cell_based_low_hr.txt', 'w') as file:\n",
        "    for item in cell_based_low_hr:\n",
        "        file.write(\"%s\\n\" % item)\n",
        "with open(directory + '/info/non_cell_based_high_hr.txt', 'w') as file:\n",
        "    for item in non_cell_based_high_hr:\n",
        "        file.write(\"%s\\n\" % item)\n",
        "with open(directory + '/info/non_cell_based_med_hr.txt', 'w') as file:\n",
        "    for item in non_cell_based_med_hr:\n",
        "        file.write(\"%s\\n\" % item)\n",
        "with open(directory + '/info/non_cell_based_low_hr.txt', 'w') as file:\n",
        "    for item in non_cell_based_low_hr:\n",
        "        file.write(\"%s\\n\" % item)\n",
        "\n",
        "assay_order = matrix_df.columns[1:].tolist()\n",
        "# save the assay order\n",
        "with open(directory + '/info/assay_order.txt', 'w') as f:\n",
        "    for assay in assay_order:\n",
        "        f.write(assay + '\\n')"
      ]
    },
    {
      "cell_type": "code",
      "execution_count": 7,
      "metadata": {
        "colab": {
          "base_uri": "https://localhost:8080/"
        },
        "id": "ohV-EmGz2IIp",
        "outputId": "4b9981c7-3feb-41dc-c251-916e6130ea05"
      },
      "outputs": [
        {
          "data": {
            "text/plain": [
              "['743397', '624127', '2796', '1979', '602248', '1910', '2797']"
            ]
          },
          "execution_count": 7,
          "metadata": {},
          "output_type": "execute_result"
        }
      ],
      "source": [
        "cell_based_high_hr"
      ]
    },
    {
      "cell_type": "markdown",
      "metadata": {
        "id": "HgPnbAIFIIKE"
      },
      "source": [
        "# Representation"
      ]
    },
    {
      "cell_type": "markdown",
      "metadata": {
        "id": "VgoO5qXJIIKE"
      },
      "source": [
        "## Fingerprints\n",
        "smiles →  fingerprints"
      ]
    },
    {
      "cell_type": "code",
      "execution_count": 8,
      "metadata": {
        "id": "3gD8ciy5IIKF"
      },
      "outputs": [],
      "source": [
        "def convert_smile_to_fp_bit_string(smile):\n",
        "        \"\"\"\n",
        "        Convert SMILES string to concatenation of RDFKIT, Morgan and MACCSS fingerprints.\n",
        "        \"\"\"\n",
        "        # RDFKIT (fingerprint dim fpSize=1024)\n",
        "        x = Chem.MolFromSmiles(smile)\n",
        "        fp1 = Chem.RDKFingerprint(x, fpSize=1024)\n",
        "\n",
        "        # MACCSS substructure (fingerprint dim 167)\n",
        "        fp2 = MACCSkeys.GenMACCSKeys(x)\n",
        "\n",
        "        # Morgan (fingerprint dim fpSize=1024)\n",
        "        fp_hashes = []\n",
        "        fp3 = AllChem.GetHashedMorganFingerprint(x, 2, nBits=1024)\n",
        "        fp3_array = np.zeros((0,), dtype=np.int8)\n",
        "        DataStructs.ConvertToNumpyArray(fp3, fp3_array)\n",
        "        fp_hashes.append(fp3_array)\n",
        "\n",
        "        # combine all fingerprints\n",
        "        fp = fp1.ToBitString() + fp2.ToBitString()\n",
        "        fp = np.array(list(fp)).astype(np.int8)\n",
        "        fp = np.concatenate([fp] + fp_hashes)\n",
        "        fp = torch.tensor(fp).to(torch.float32)\n",
        "        return fp"
      ]
    },
    {
      "cell_type": "markdown",
      "metadata": {
        "id": "vqxiY9IkIIKF"
      },
      "source": [
        "Get sample fingerprint"
      ]
    },
    {
      "cell_type": "code",
      "execution_count": 9,
      "metadata": {
        "colab": {
          "base_uri": "https://localhost:8080/"
        },
        "id": "D2nilgtgIIKF",
        "outputId": "ab364711-d492-4bbd-a920-a652bbcb528f"
      },
      "outputs": [
        {
          "name": "stdout",
          "output_type": "stream",
          "text": [
            "SMILES: C1=CC=C(C(=C1)CSC2=NC3=CC=CC=C3O2)[N+](=O)[O-]\n",
            "Fingerprint: tensor([1., 1., 1.,  ..., 0., 0., 0.]) torch.Size([2215])\n",
            "RDK Fingerprint:\n"
          ]
        },
        {
          "data": {
            "image/jpeg": "[encoded data removed]",
            "image/png": "[encoded data removed]",
            "text/plain": [
              "<PIL.PngImagePlugin.PngImageFile image mode=RGB size=300x300>"
            ]
          },
          "execution_count": 9,
          "metadata": {},
          "output_type": "execute_result"
        }
      ],
      "source": [
        "smile = matrix_df.sample(1)['SMILES'].item()\n",
        "fp = convert_smile_to_fp_bit_string(smile)\n",
        "print('SMILES:', smile)\n",
        "print('Fingerprint:', fp, fp.shape)\n",
        "\n",
        "x = Chem.MolFromSmiles(smile)\n",
        "fp1 = Chem.RDKFingerprint(x, fpSize=1024)\n",
        "fp1 = np.array(list(fp1.ToBitString())).astype(np.int8)\n",
        "from rdkit.Chem import Draw\n",
        "img = Draw.MolToImage(x)\n",
        "print('RDK Fingerprint:')\n",
        "img"
      ]
    },
    {
      "cell_type": "markdown",
      "metadata": {
        "id": "IhaFsFzEIIKF"
      },
      "source": [
        "## Graph embedding\n",
        "smiles →  graph embedding"
      ]
    },
    {
      "cell_type": "code",
      "execution_count": 10,
      "metadata": {
        "id": "4lvMEw3gIIKF"
      },
      "outputs": [],
      "source": [
        "# smiles to graphs\n",
        "import numpy as np\n",
        "\n",
        "# RDkit\n",
        "from rdkit import Chem\n",
        "from rdkit.Chem.rdmolops import GetAdjacencyMatrix\n",
        "\n",
        "# Pytorch and Pytorch Geometric\n",
        "import torch\n",
        "from torch_geometric.data import Data\n",
        "from torch.utils.data import DataLoader\n",
        "\n",
        "class GraphDatasetClass:\n",
        "    '''\n",
        "    Convert a dataframe of SMILES into a Pytorch Geometric Graph Dataset.\n",
        "    https://www.blopig.com/blog/2022/02/how-to-turn-a-smiles-string-into-a-molecular-graph-for-pytorch-geometric/\n",
        "    '''\n",
        "\n",
        "    def __init__(self):\n",
        "        pass\n",
        "\n",
        "    def one_hot_encoding(self, x, permitted_list):\n",
        "        \"\"\"\n",
        "        Maps input elements x which are not in the permitted list to the last element\n",
        "        of the permitted list.\n",
        "        \"\"\"\n",
        "\n",
        "        if x not in permitted_list:\n",
        "            x = permitted_list[-1]\n",
        "\n",
        "        binary_encoding = [int(boolean_value) for boolean_value in list(map(lambda s: x == s, permitted_list))]\n",
        "\n",
        "        return binary_encoding\n",
        "\n",
        "\n",
        "    def get_atom_features(self, atom,\n",
        "                        use_chirality = True,\n",
        "                        hydrogens_implicit = True):\n",
        "        \"\"\"\n",
        "        Takes an RDKit atom object as input and gives a 1d-numpy array of atom features as output.\n",
        "        \"\"\"\n",
        "\n",
        "        # define list of permitted atoms\n",
        "\n",
        "        permitted_list_of_atoms =  ['C','N','O','S','F','Si','P','Cl','Br','Mg','Na','Ca','Fe','As','Al','I', 'B','V','K','Tl','Yb','Sb','Sn','Ag','Pd','Co','Se','Ti','Zn', 'Li','Ge','Cu','Au','Ni','Cd','In','Mn','Zr','Cr','Pt','Hg','Pb','Unknown']\n",
        "\n",
        "        if hydrogens_implicit == False:\n",
        "            permitted_list_of_atoms = ['H'] + permitted_list_of_atoms\n",
        "\n",
        "        # compute atom features\n",
        "\n",
        "        atom_type_enc = self.one_hot_encoding(str(atom.GetSymbol()), permitted_list_of_atoms)\n",
        "\n",
        "        n_heavy_neighbors_enc = self.one_hot_encoding(int(atom.GetDegree()), [0, 1, 2, 3, 4, \"MoreThanFour\"])\n",
        "\n",
        "        formal_charge_enc = self.one_hot_encoding(int(atom.GetFormalCharge()), [-3, -2, -1, 0, 1, 2, 3, \"Extreme\"])\n",
        "\n",
        "        hybridisation_type_enc = self.one_hot_encoding(str(atom.GetHybridization()), [\"S\", \"SP\", \"SP2\", \"SP3\", \"SP3D\", \"SP3D2\", \"OTHER\"])\n",
        "\n",
        "        is_in_a_ring_enc = [int(atom.IsInRing())]\n",
        "\n",
        "        is_aromatic_enc = [int(atom.GetIsAromatic())]\n",
        "\n",
        "        atomic_mass_scaled = [float((atom.GetMass() - 10.812)/116.092)]\n",
        "\n",
        "        vdw_radius_scaled = [float((Chem.GetPeriodicTable().GetRvdw(atom.GetAtomicNum()) - 1.5)/0.6)]\n",
        "\n",
        "        covalent_radius_scaled = [float((Chem.GetPeriodicTable().GetRcovalent(atom.GetAtomicNum()) - 0.64)/0.76)]\n",
        "\n",
        "        atom_feature_vector = atom_type_enc + n_heavy_neighbors_enc + formal_charge_enc + hybridisation_type_enc + is_in_a_ring_enc + is_aromatic_enc + atomic_mass_scaled + vdw_radius_scaled + covalent_radius_scaled\n",
        "\n",
        "        if use_chirality == True:\n",
        "            chirality_type_enc = self.one_hot_encoding(str(atom.GetChiralTag()), [\"CHI_UNSPECIFIED\", \"CHI_TETRAHEDRAL_CW\", \"CHI_TETRAHEDRAL_CCW\", \"CHI_OTHER\"])\n",
        "            atom_feature_vector += chirality_type_enc\n",
        "\n",
        "        if hydrogens_implicit == True:\n",
        "            n_hydrogens_enc = self.one_hot_encoding(int(atom.GetTotalNumHs()), [0, 1, 2, 3, 4, \"MoreThanFour\"])\n",
        "            atom_feature_vector += n_hydrogens_enc\n",
        "\n",
        "        return np.array(atom_feature_vector)\n",
        "\n",
        "    def get_bond_features(self, bond,\n",
        "                        use_stereochemistry = True):\n",
        "        \"\"\"\n",
        "        Takes an RDKit bond object as input and gives a 1d-numpy array of bond features as output.\n",
        "        \"\"\"\n",
        "\n",
        "        permitted_list_of_bond_types = [Chem.rdchem.BondType.SINGLE, Chem.rdchem.BondType.DOUBLE, Chem.rdchem.BondType.TRIPLE, Chem.rdchem.BondType.AROMATIC]\n",
        "\n",
        "        bond_type_enc = self.one_hot_encoding(bond.GetBondType(), permitted_list_of_bond_types)\n",
        "\n",
        "        bond_is_conj_enc = [int(bond.GetIsConjugated())]\n",
        "\n",
        "        bond_is_in_ring_enc = [int(bond.IsInRing())]\n",
        "\n",
        "        bond_feature_vector = bond_type_enc + bond_is_conj_enc + bond_is_in_ring_enc\n",
        "\n",
        "        if use_stereochemistry == True:\n",
        "            stereo_type_enc = self.one_hot_encoding(str(bond.GetStereo()), [\"STEREOZ\", \"STEREOE\", \"STEREOANY\", \"STEREONONE\"])\n",
        "            bond_feature_vector += stereo_type_enc\n",
        "\n",
        "        return np.array(bond_feature_vector)\n",
        "\n",
        "    def create_pytorch_geometric_graph_data_list_from_smiles_and_labels(self, x_smiles, y):\n",
        "        \"\"\"\n",
        "        Inputs:\n",
        "\n",
        "        x_smiles = [smiles_1, smiles_2, ....] ... a list of SMILES strings\n",
        "        y = [y_1, y_2, ...] ... a list of numerial labels for the SMILES strings (such as associated pKi values)\n",
        "\n",
        "        Outputs:\n",
        "\n",
        "        data_list = [G_1, G_2, ...] ... a list of torch_geometric.data.Data objects which represent labeled molecular graphs that can readily be used for machine learning\n",
        "\n",
        "        \"\"\"\n",
        "\n",
        "        data_list = []\n",
        "\n",
        "        for (smiles, y_val) in tqdm(zip(x_smiles, y), desc='Creating graph dataset...', total=len(x_smiles)):\n",
        "\n",
        "            # convert SMILES to RDKit mol object\n",
        "            mol = Chem.MolFromSmiles(smiles)\n",
        "\n",
        "            # get feature dimensions\n",
        "            n_nodes = mol.GetNumAtoms()\n",
        "            n_edges = 2*mol.GetNumBonds()\n",
        "            unrelated_smiles = \"O=O\"\n",
        "            unrelated_mol = Chem.MolFromSmiles(unrelated_smiles)\n",
        "            n_node_features = len(self.get_atom_features(unrelated_mol.GetAtomWithIdx(0)))\n",
        "            n_edge_features = len(self.get_bond_features(unrelated_mol.GetBondBetweenAtoms(0,1)))\n",
        "\n",
        "            # construct node feature matrix X of shape (n_nodes, n_node_features)\n",
        "            X = np.zeros((n_nodes, n_node_features))\n",
        "\n",
        "            for atom in mol.GetAtoms():\n",
        "                X[atom.GetIdx(), :] = self.get_atom_features(atom)\n",
        "\n",
        "            X = torch.tensor(X, dtype = torch.float)\n",
        "\n",
        "            # construct edge index array E of shape (2, n_edges)\n",
        "            (rows, cols) = np.nonzero(GetAdjacencyMatrix(mol))\n",
        "            torch_rows = torch.from_numpy(rows.astype(np.int64)).to(torch.long)\n",
        "            torch_cols = torch.from_numpy(cols.astype(np.int64)).to(torch.long)\n",
        "            E = torch.stack([torch_rows, torch_cols], dim = 0)\n",
        "\n",
        "            # construct edge feature array EF of shape (n_edges, n_edge_features)\n",
        "            EF = np.zeros((n_edges, n_edge_features))\n",
        "\n",
        "            for (k, (i,j)) in enumerate(zip(rows, cols)):\n",
        "\n",
        "                EF[k] = self.get_bond_features(mol.GetBondBetweenAtoms(int(i),int(j)))\n",
        "\n",
        "            EF = torch.tensor(EF, dtype = torch.float)\n",
        "\n",
        "            # construct label tensor\n",
        "            y_tensor = torch.tensor(np.array([y_val]), dtype = torch.float)\n",
        "\n",
        "            # construct Pytorch Geometric data object and append to data list\n",
        "            data_list.append(Data(x = X, edge_index = E, edge_attr = EF, y = y_tensor))\n",
        "\n",
        "        return data_list"
      ]
    },
    {
      "cell_type": "markdown",
      "metadata": {
        "id": "59Kuh4GnIIKG"
      },
      "source": [
        "## GROVER: graph transformer  fingerprints\n",
        "smiles → node/edge features using RDkit → to fingerprint embedding using GTransformer"
      ]
    },
    {
      "cell_type": "code",
      "execution_count": 11,
      "metadata": {
        "colab": {
          "base_uri": "https://localhost:8080/"
        },
        "id": "OqsZpRCAIIKG",
        "outputId": "ad2ac14b-85fa-43a0-dad1-66ceaad66c04"
      },
      "outputs": [
        {
          "name": "stdout",
          "output_type": "stream",
          "text": [
            "Index(['smiles', 'fps'], dtype='object')\n"
          ]
        }
      ],
      "source": [
        "# import fingerprint .np file\n",
        "if torch.cuda.is_available():\n",
        "    directory = '/content/drive/MyDrive/Thesis/Data/'\n",
        "else:\n",
        "    directory = '/Volumes/Kubánek UCL/Data/Thesis MSc/PubChem Data/final/' #'Data/'\n",
        "\n",
        "grover_fp = np.load(directory + 'fp_large.npz', allow_pickle=True)\n",
        "print(grover_fp.keys())  # Display the keys or attributes in the file\n",
        "# Access and examine the data as needed\n",
        "assert len(matrix_df)==len(grover_fp['smiles']), f'SMILES mismatch: {len(matrix_df)} and {len(grover_fp)} are not equal'\n",
        "\n",
        "# reorder grover_fp to match shuffling of matrix_df\n",
        "grover_fp = grover_fp.reindex(index_col)"
      ]
    },
    {
      "cell_type": "code",
      "execution_count": 12,
      "metadata": {
        "id": "YHW4poWqjGHp",
        "outputId": "26918b7d-4fcb-4c48-b0ea-0cd9ece4fcef"
      },
      "outputs": [
        {
          "data": {
            "text/plain": [
              "(index\n",
              " 166861         CC(=O)C1=CC(=C(C=C1)OC)COC2=NC=NC3=CC=CC=C32\n",
              " 159740         CC1=CC2=C(N1)C=CC(=C2)CNC(=O)C3=CC(=CC=C3)OC\n",
              " 126353    CC1=C(C=CC(=C1)NC(=O)C2=CC=C(C=C2)[N+](=O)[O-]...\n",
              " 52076                   CC1=CSC2=NC(=O)C(=NN12)C3=CC=CC=C3N\n",
              " 217035                C1=CC(=CC=C1C2=NC(=NO2)C3=CC=NC=C3)Br\n",
              "                                 ...                        \n",
              " 178696              CCNC(=O)C(CCSC)NS(=O)(=O)C1=CC=C(C=C1)C\n",
              " 296731           CC(C)C[C@@H](C(=O)OC)NS(=O)(=O)C1=CC=CC=C1\n",
              " 313093    CC1=C(OC2=C1C=C(C=C2)S(=O)(=O)N3CCCC3)C(=O)NCC...\n",
              " 143425    C1CC(OC1)CNC(=O)C(C2=CC=NC=C2)N(CC3=CC=CS3)C(=...\n",
              " 226501    C1CN(CCC1C(=O)N)CC(=O)NC2=CC=C(C=C2)S(=O)(=O)N...\n",
              " Name: smiles, Length: 324192, dtype: object,\n",
              " 5000,\n",
              " array([ 1.9530728e-02,  2.0505188e-01, -1.5338458e-01, ...,\n",
              "         4.7035982e-08,  1.6663340e-01,  3.3119571e-01], dtype=float32))"
            ]
          },
          "execution_count": 12,
          "metadata": {},
          "output_type": "execute_result"
        }
      ],
      "source": [
        "grover_fp['smiles'], grover_fp['fps'][0].shape[0], grover_fp['fps'][0]"
      ]
    },
    {
      "cell_type": "code",
      "execution_count": null,
      "metadata": {
        "id": "k7394zKZjGHp"
      },
      "outputs": [],
      "source": [
        "for gfp, smiles in zip(grover_fp['smiles'][:args['num_data_points']], matrix_df['SMILES'][:args['num_data_points']]):\n",
        "    print(gfp == smiles)"
      ]
    },
    {
      "cell_type": "code",
      "execution_count": null,
      "metadata": {
        "id": "tCQnuBH3jGHp"
      },
      "outputs": [],
      "source": [
        "for i, gfp in enumerate(grover_fp['smiles'][:args['num_data_points']]):\n",
        "    print(i, gfp)\n"
      ]
    },
    {
      "cell_type": "markdown",
      "metadata": {
        "id": "MG-9VYyW7Dud"
      },
      "source": [
        "# Dataset"
      ]
    },
    {
      "cell_type": "code",
      "execution_count": 14,
      "metadata": {
        "id": "kAAqLGZgIIKG"
      },
      "outputs": [],
      "source": [
        "args = {}\n",
        "args['device'] = torch.device('cuda' if torch.cuda.is_available() else 'cpu')\n",
        "\n",
        "# data parameters\n",
        "args['num_data_points'] = 324191 # 324191 # number of data points to use\n",
        "# args['assay_list'] = matrix_df.columns[1:] #cell_based_high_hr #for all: matrix_df.columns.values[1:]\n",
        "# args['num_assays'] = len(matrix_df.columns[1:]) #5 # number of assays to use (i.e., no. of output classes)\n",
        "args['assay_start'] = 0 # which assay to start from\n",
        "args['assay_order'] = assay_order\n",
        "args['num_node_features'] = 79 # number of node features in graph representation\n",
        "args['grover_fp_dim'] = 5000 #grover_fp['fps'][0].shape[0] # None  # dim of grover fingerprints\n",
        "args['fp_dim'] = 2215 # dim of fingerprints\n",
        "\n",
        "\n",
        "# training parameters\n",
        "args['model'] = 'GROVER_FP' # 'GCN', 'GCN_FP', 'FP', 'GROVER', 'GROVER_FP'\n",
        "args['num_layers'] = 5 # number of layers in MLP\n",
        "args['hidden_channels'] = 256 # 64\n",
        "args['dropout'] = 0.2\n",
        "args['batch_size'] = 256\n",
        "args['num_epochs'] = 100\n",
        "args['lr'] = 0.01\n",
        "#args['gradient_clip_norm'] = 1.0\n",
        "#args['network_weight_decay'] = 0.0001\n",
        "#args['lr_decay_factor'] = 0.5\n",
        "\n",
        "# check batch size -> to include examples of classes\n",
        "# dropout maybe higher\n",
        "\n",
        "\n",
        "\n"
      ]
    },
    {
      "cell_type": "code",
      "execution_count": 15,
      "metadata": {
        "id": "eR47vh5vf_Se"
      },
      "outputs": [],
      "source": [
        "from torch_geometric.loader import DataLoader\n",
        "\n",
        "def prepare_datalist(matrix_df, args, graph_fp=True, grover_fp=None):\n",
        "    '''\n",
        "    Convert matrix dataframe to a data_list with pytorch geometric graph data, fingerprints and labels.\n",
        "    Inputs:\n",
        "        matrix_df: dataframe of SMILES, assays and bioactivity labels\n",
        "        args: arguments\n",
        "        graph_fp: if True, includes graph embedding fingerprints into data_list\n",
        "        grover_fp: if True, includes GROVER graph transformer embedding fingerprints into data_list\n",
        "    Outputs:\n",
        "        data_list: list of data objects\n",
        "    '''\n",
        "    # only use subset of data (assays and data points)\n",
        "    assay_list = args['assay_list']\n",
        "    num_assays = args['num_assays']\n",
        "    assay_start = args['assay_start']\n",
        "    num_data_points = args['num_data_points']\n",
        "\n",
        "    # get binary target labels\n",
        "    y = matrix_df[assay_list[assay_start:assay_start+num_assays]].values[:num_data_points]\n",
        "\n",
        "    # get SMILES strings\n",
        "    data = matrix_df['SMILES'].values[:num_data_points]\n",
        "\n",
        "    if graph_fp is True: # add graph fingerprint\n",
        "        GraphDataset = GraphDatasetClass()\n",
        "        # create pytorch geometric graph data list\n",
        "        data_list = GraphDataset.create_pytorch_geometric_graph_data_list_from_smiles_and_labels(data, y)\n",
        "    else: # create simple data_list without graph fingerprint\n",
        "      data_list = []\n",
        "      for label in y:\n",
        "          # construct Pytorch Geometric data object and append to data list\n",
        "          data_list.append(Data(y = label.reshape(1, -1)))\n",
        "\n",
        "    # add fingerprint data to each graph\n",
        "    for i, smile in tqdm(enumerate(data), desc='Adding fingerprints...', total=len(data)):\n",
        "        fp = convert_smile_to_fp_bit_string(smile)\n",
        "        data_list[i].fp = fp\n",
        "\n",
        "\n",
        "    # add grover fingerprint to each graph\n",
        "    if grover_fp is not None:\n",
        "        for i, gfp in tqdm(enumerate(grover_fp['fps'][:args['num_data_points']]), desc='Adding grover embedding...', total=len(data)):\n",
        "          data_list[i].grover_fp = torch.tensor(gfp)\n",
        "\n",
        "    print(f'Example of a graph data object: {data_list[0]}')\n",
        "\n",
        "    return data_list\n",
        "\n",
        "def prepare_dataloader(data_list, args):\n",
        "    '''\n",
        "    Get dataloader dictionary from data_list with desired batch_size\n",
        "    '''\n",
        "    data_list = data_list[:args['num_data_points']]\n",
        "    # split into train and test\n",
        "    train_dataset = data_list[:int(len(data_list)*0.8)]\n",
        "    test_dataset = data_list[int(len(data_list)*0.8):]\n",
        "\n",
        "    # split into train and validation\n",
        "    val_dataset = train_dataset[:int(len(train_dataset)*0.25)]\n",
        "    train_dataset = train_dataset[int(len(train_dataset)*0.25):]\n",
        "\n",
        "    print(f'Number of training graphs: {len(train_dataset)}')\n",
        "    print(f'Number of validation graphs: {len(val_dataset)}')\n",
        "    print(f'Number of test graphs: {len(test_dataset)}')\n",
        "    print(f'Example of a graph data object: {data_list[0]}')\n",
        "\n",
        "    # create data loaders\n",
        "    dataloader = {}\n",
        "    dataloader['train'] = DataLoader(train_dataset, batch_size=args['batch_size'], shuffle=True)\n",
        "    dataloader['val'] = DataLoader(val_dataset, batch_size=args['batch_size'], shuffle=False)\n",
        "    dataloader['test'] = DataLoader(test_dataset, batch_size=args['batch_size'], shuffle=False)\n",
        "\n",
        "    return dataloader\n",
        "\n",
        "def analyze_dataset(dataset, args):\n",
        "    '''\n",
        "    Analyze the distribution of positive classes in the dataset\n",
        "    '''\n",
        "    positive = []\n",
        "    for i in range(len(dataset)):\n",
        "        positive.append(dataset[i].y[0].sum().item())\n",
        "\n",
        "\n",
        "    num_assays = args['num_assays']\n",
        "    # make histogram of the number of positive\n",
        "    plt.figure(figsize=(7, 4))\n",
        "    # define bins\n",
        "    bins = np.linspace(0, num_assays, num_assays+1)-0.5\n",
        "    plt.hist(positive, bins=bins, alpha=0.5, label='train')\n",
        "    num_assays = args['num_assays']\n",
        "    plt.xlabel(f'# of positive hits in target vector (out of {num_assays})')\n",
        "    plt.ylabel('Number of data points')\n",
        "    plt.title('Histogram of positive class distribution')\n",
        "    plt.show()\n",
        "\n",
        "    # for i in range(num_assays+1):\n",
        "    #     print(f'Number of data points with {i} positive targets: ', (np.array(positive) == i).sum(), f'({(np.array(positive) == i).sum()/len(positive)*100:.2f}%)')\n",
        "\n",
        "def data_explore(dataloader):\n",
        "    '''\n",
        "    Explore the data\n",
        "    '''\n",
        "    # check proportion of positive and negative samples across each assay\n",
        "    pos = torch.zeros(args['num_assays'])\n",
        "    for data in dataloader:  # Iterate in batches over the training dataset\n",
        "        # print('inputs:')\n",
        "        # print(' x:', data.x.shape, '| y:',data.y.shape, '| fp:',data.fp.shape, '| grover:', data.grover_fp.shape)\n",
        "        pos += data.y.sum(axis=0)\n",
        "        #  print(data.y.sum(axis=0))\n",
        "    print('# positive samples:', pos)\n",
        "    print(torch.round((pos/len(dataloader.dataset)*100),decimals=2),'% are positive')\n",
        "\n"
      ]
    },
    {
      "cell_type": "code",
      "execution_count": null,
      "metadata": {
        "id": "cgnQ9DnngJmW"
      },
      "outputs": [],
      "source": [
        "args['assay_list'] = matrix_df.columns[1:] # include all assays\n",
        "args['num_assays'] = len(matrix_df.columns[1:])\n",
        "data_list = prepare_datalist(matrix_df, args, graph_fp=True, grover_fp=grover_fp)"
      ]
    },
    {
      "cell_type": "markdown",
      "metadata": {
        "id": "FgbwhmV0E_Mp"
      },
      "source": [
        "Save data_list"
      ]
    },
    {
      "cell_type": "code",
      "execution_count": null,
      "metadata": {
        "id": "FOk-1WF7gSbg"
      },
      "outputs": [],
      "source": [
        "import pickle\n",
        "\n",
        "save_path = directory + 'datalist.pkl'\n",
        "\n",
        "# Save the dictionary using pickle\n",
        "with open(save_path, 'wb') as f:\n",
        "    pickle.dump(data_list, f)\n"
      ]
    },
    {
      "cell_type": "markdown",
      "metadata": {
        "id": "cHmBvrQ8FBxe"
      },
      "source": [
        "# Load data"
      ]
    },
    {
      "cell_type": "code",
      "execution_count": 16,
      "metadata": {
        "id": "bFUFuaaP7MeT"
      },
      "outputs": [],
      "source": [
        "import pickle\n",
        "\n",
        "if torch.cuda.is_available():\n",
        "    directory = '/content/drive/MyDrive/Thesis/Data/'\n",
        "else:\n",
        "    directory = '/Volumes/Kubánek UCL/Data/Thesis MSc/PubChem Data/final/'\n",
        "# Specify the path where you saved the dictionary\n",
        "load_path = directory + 'datalist_no_out.pkl'\n",
        "\n",
        "# Load the dictionary using pickle\n",
        "with open(load_path, 'rb') as f:\n",
        "    data_list = pickle.load(f)\n"
      ]
    },
    {
      "cell_type": "code",
      "execution_count": 11,
      "metadata": {
        "id": "RSq-KICRUfWq"
      },
      "outputs": [],
      "source": [
        "# load the assay groups\n",
        "with open(directory + '/info/cell_based_high_hr.txt', 'r') as file:\n",
        "    lines = file.read().splitlines()\n",
        "cell_based_high_hr = list(map(str, lines))\n",
        "with open(directory + '/info/cell_based_med_hr.txt', 'r') as file:\n",
        "    lines = file.read().splitlines()\n",
        "cell_based_med_hr = list(map(str, lines))\n",
        "with open(directory + '/info/cell_based_low_hr.txt', 'r') as file:\n",
        "    lines = file.read().splitlines()\n",
        "cell_based_low_hr = list(map(str, lines))\n",
        "with open(directory + '/info/non_cell_based_high_hr.txt', 'r') as file:\n",
        "    lines = file.read().splitlines()\n",
        "non_cell_based_high_hr = list(map(str, lines))\n",
        "with open(directory + '/info/non_cell_based_med_hr.txt', 'r') as file:\n",
        "    lines = file.read().splitlines()\n",
        "non_cell_based_med_hr = list(map(str, lines))\n",
        "with open(directory + '/info/non_cell_based_low_hr.txt', 'r') as file:\n",
        "    lines = file.read().splitlines()\n",
        "non_cell_based_low_hr = list(map(str, lines))\n",
        "# load assay order\n",
        "with open(directory + '/info/assay_order.txt', 'r') as f:\n",
        "    assay_order = [line.strip() for line in f.readlines()]\n",
        "\n",
        "args['assay_order'] = assay_order"
      ]
    },
    {
      "cell_type": "code",
      "execution_count": 12,
      "metadata": {
        "colab": {
          "base_uri": "https://localhost:8080/"
        },
        "id": "Q24QpEUYIIKG",
        "outputId": "7c29248f-bc25-4c51-e261-ffff91fd2e5c"
      },
      "outputs": [
        {
          "name": "stdout",
          "output_type": "stream",
          "text": [
            "Number of training graphs: 194514\n",
            "Number of validation graphs: 64838\n",
            "Number of test graphs: 64839\n",
            "Example of a graph data object: Data(x=[24, 79], edge_index=[2, 52], edge_attr=[52, 10], y=[1, 271], fp=[2215], grover_fp=[5000])\n"
          ]
        }
      ],
      "source": [
        "args['batch_size'] = 256\n",
        "dataloader = prepare_dataloader(data_list, args)"
      ]
    },
    {
      "cell_type": "code",
      "execution_count": 15,
      "metadata": {
        "colab": {
          "base_uri": "https://localhost:8080/"
        },
        "id": "m0IiKKQkUfWu",
        "outputId": "1a4974dc-43d6-4bb9-a827-ce7dcee938a2"
      },
      "outputs": [
        {
          "data": {
            "text/plain": [
              "['2797', '743397', '1979', '602248', '624127', '1910', '2796']"
            ]
          },
          "execution_count": 15,
          "metadata": {},
          "output_type": "execute_result"
        }
      ],
      "source": [
        "cell_based_high_hr"
      ]
    },
    {
      "cell_type": "code",
      "execution_count": 16,
      "metadata": {
        "id": "uhwN7chtUfWu"
      },
      "outputs": [],
      "source": [
        "# find indeces of assays in assay_list in assay_order\n",
        "def find_assay_indeces(assay_list, assay_order):\n",
        "    indeces = []\n",
        "    for assay in assay_list:\n",
        "        indeces.append(assay_order.index(assay))\n",
        "    return indeces\n",
        "\n",
        "args['assay_list'] = ['2797']\n",
        "args['num_assays'] = 1\n",
        "args['assays_idx'] = find_assay_indeces(args['assay_list'], assay_order)"
      ]
    },
    {
      "cell_type": "code",
      "execution_count": null,
      "metadata": {
        "colab": {
          "base_uri": "https://localhost:8080/",
          "height": 1000
        },
        "id": "lKdOnWH-2IIr",
        "outputId": "51c6ac2c-62e4-4dc2-c3f6-85cbfa59d381"
      },
      "outputs": [
        {
          "name": "stdout",
          "output_type": "stream",
          "text": [
            "\n",
            "-------------------Train set-------------------\n"
          ]
        },
        {
          "data": {
            "image/png": "[encoded data removed]",
            "text/plain": [
              "<Figure size 700x400 with 1 Axes>"
            ]
          },
          "metadata": {},
          "output_type": "display_data"
        },
        {
          "name": "stdout",
          "output_type": "stream",
          "text": [
            "\n",
            "-------------------Val set-------------------\n"
          ]
        },
        {
          "data": {
            "image/png": "[encoded data removed]",
            "text/plain": [
              "<Figure size 700x400 with 1 Axes>"
            ]
          },
          "metadata": {},
          "output_type": "display_data"
        },
        {
          "name": "stdout",
          "output_type": "stream",
          "text": [
            "\n",
            "-------------------Test set-------------------\n"
          ]
        },
        {
          "data": {
            "image/png": "[encoded data removed]",
            "text/plain": [
              "<Figure size 700x400 with 1 Axes>"
            ]
          },
          "metadata": {},
          "output_type": "display_data"
        }
      ],
      "source": [
        "args['assay_list'] = matrix_df.columns[1:] # include all assays\n",
        "args['num_assays'] = len(matrix_df.columns[1:])\n",
        "print('\\n-------------------Train set-------------------')\n",
        "analyze_dataset(dataloader['train'].dataset, args)\n",
        "print('\\n-------------------Val set-------------------')\n",
        "analyze_dataset(dataloader['val'].dataset, args)\n",
        "print('\\n-------------------Test set-------------------')\n",
        "analyze_dataset(dataloader['test'].dataset, args)"
      ]
    },
    {
      "cell_type": "code",
      "execution_count": null,
      "metadata": {
        "id": "gWPQa8ufi_2d"
      },
      "outputs": [],
      "source": [
        "data_explore(dataloader['train'])"
      ]
    },
    {
      "cell_type": "code",
      "execution_count": null,
      "metadata": {
        "colab": {
          "base_uri": "https://localhost:8080/"
        },
        "id": "WXli7dO02IIr",
        "outputId": "6cfaed0c-5839-43be-a3c2-3d67e3cf7bd4"
      },
      "outputs": [
        {
          "name": "stdout",
          "output_type": "stream",
          "text": [
            "# positive samples: tensor([3362., 6101., 5548., 5589., 4942.])\n",
            "tensor([5.1900, 9.4100, 8.5600, 8.6200, 7.6200]) % are positive\n"
          ]
        }
      ],
      "source": [
        "data_explore(dataloader['test'])"
      ]
    },
    {
      "cell_type": "markdown",
      "metadata": {
        "id": "oYWyacYyIIKG"
      },
      "source": [
        "# Models\n",
        "### GCN and GCN_FP\n",
        "- GCN: graph embedding followed by a final classification layer\n",
        "- GCN_FP: graph + fingerprints embedding followed by a final classification layer"
      ]
    },
    {
      "cell_type": "code",
      "execution_count": 13,
      "metadata": {
        "id": "1q43d46hIIKG"
      },
      "outputs": [],
      "source": [
        "from torch.nn import Linear\n",
        "import torch.nn.functional as F\n",
        "from torch_geometric.nn import GCNConv\n",
        "from torch_geometric.nn import global_mean_pool\n",
        "\n",
        "\n",
        "class GCN(torch.nn.Module):\n",
        "    '''\n",
        "    Define a Graph Convolutional Network (GCN) model architecture.\n",
        "    Can include 'graph' only or 'graph + fingerprints' embedding before final classification layer.\n",
        "    '''\n",
        "    def __init__(self, args):\n",
        "        super(GCN, self).__init__()\n",
        "        torch.manual_seed(12345)\n",
        "\n",
        "        num_node_features = args['num_node_features']\n",
        "        hidden_channels = args['hidden_channels']\n",
        "        num_classes = args['num_assays']\n",
        "        if args['model'] == 'GCN_FP':\n",
        "            fp_dim = args['fp_dim']\n",
        "        else:\n",
        "            fp_dim = 0\n",
        "\n",
        "        self.conv1 = GCNConv(num_node_features, hidden_channels)\n",
        "        self.conv2 = GCNConv(hidden_channels, hidden_channels)\n",
        "        self.conv3 = GCNConv(hidden_channels, hidden_channels)\n",
        "\n",
        "        self.lin = Linear(hidden_channels + fp_dim, num_classes)\n",
        "\n",
        "    def forward(self, x, edge_index, batch, fp=None):\n",
        "        # 1. Obtain node embeddings\n",
        "        x = self.conv1(x, edge_index)\n",
        "        x = x.relu()\n",
        "        x = self.conv2(x, edge_index)\n",
        "        x = x.relu()\n",
        "        x = self.conv3(x, edge_index)\n",
        "\n",
        "        # 2. Readout layer\n",
        "        x = global_mean_pool(x, batch)  # [batch_size, hidden_channels]\n",
        "\n",
        "        # if also using fingerprints\n",
        "        if fp is not None:\n",
        "            # reshape fp to batch_size x fp_dim\n",
        "            fp = fp.reshape(x.shape[0], -1)\n",
        "            # concatenate graph node embeddings with fingerprint\n",
        "            # print('BEFORE CONCAT x:',x.shape, 'fp:', fp.shape)\n",
        "            x = torch.cat([x, fp], dim=1)\n",
        "            # print('AFTER CONCAT x:',x.shape)\n",
        "\n",
        "        # 3. Apply a final classifier\n",
        "        x = F.dropout(x, p=0.1, training=self.training)\n",
        "        x = self.lin(x)\n",
        "\n",
        "        return x\n"
      ]
    },
    {
      "cell_type": "markdown",
      "metadata": {
        "id": "IBtkS2H2UfWv"
      },
      "source": [
        "### Next\n",
        "- add indexing to batch level\n",
        "- add into models & training loop\n",
        "- run same thing like before but now with the new matrix without outliers\n",
        "- run same thing for different assays\n",
        "- run single assay trials"
      ]
    },
    {
      "cell_type": "code",
      "execution_count": 17,
      "metadata": {
        "colab": {
          "base_uri": "https://localhost:8080/"
        },
        "id": "HZHunWSYR9-0",
        "outputId": "ec6e5a30-a341-4297-a84a-5c9a1cf8d6bb"
      },
      "outputs": [
        {
          "name": "stdout",
          "output_type": "stream",
          "text": [
            "TESTING\n",
            "------GCN------\n",
            "inputs:\n",
            " x: torch.Size([6489, 79]) | y: torch.Size([256, 271]) | fp: torch.Size([567040]) | grover: torch.Size([1280000])\n",
            "out: torch.Size([256, 1])\n",
            "gt: torch.Size([256, 1])\n",
            "------GCN_FP------\n",
            "inputs:\n",
            " x: torch.Size([6427, 79]) | y: torch.Size([256, 271]) | fp: torch.Size([567040]) | grover: torch.Size([1280000])\n",
            "out: torch.Size([256, 1])\n",
            "gt: torch.Size([256, 1])\n"
          ]
        }
      ],
      "source": [
        "# TEST that GCN runs for all model types\n",
        "print('TESTING')\n",
        "for model_type in ['GCN','GCN_FP']:\n",
        "  args['model'] = model_type\n",
        "  model = GCN(args)\n",
        "  for data in dataloader['train']:  # Iterate in batches over the training dataset\n",
        "          print(f'------{model_type}------')\n",
        "          print('inputs:')\n",
        "          print(' x:', data.x.shape, '| y:',data.y.shape, '| fp:',data.fp.shape, '| grover:', data.grover_fp.shape)\n",
        "          if args['model'] == 'GCN': # Perform a single forward pass\n",
        "              out = model(data.x, data.edge_index, data.batch)\n",
        "          elif args['model'] == 'GCN_FP':\n",
        "              out = model(data.x, data.edge_index, data.batch, fp=data.fp)\n",
        "          print('out:',out.shape)\n",
        "          print('gt:', data.y[:,args['assays_idx']].shape)\n",
        "          break"
      ]
    },
    {
      "cell_type": "markdown",
      "metadata": {
        "id": "3cENu4SMIIKG"
      },
      "source": [
        "### FP, GROVER and GROVER_FP\n",
        "- FP: fingerprints embedding followed by a final classification layer\n",
        "- GROVER: graph transformer embedding followed by a final classification layer\n",
        "- GROVER_FP: graph transformer + fingerprints embedding followed by a final classification layer"
      ]
    },
    {
      "cell_type": "code",
      "execution_count": 18,
      "metadata": {
        "id": "PXTwqghIIIKG"
      },
      "outputs": [],
      "source": [
        "\n",
        "class LinearBlock(nn.Module):\n",
        "\t\"\"\" basic block in an MLP, with dropout and batch norm \"\"\"\n",
        "\n",
        "\tdef __init__(self, in_feats, out_feats, dropout=0.1):\n",
        "\t\tsuper(LinearBlock, self).__init__()\n",
        "\t\tself.linear = nn.Linear(in_feats, out_feats)\n",
        "\t\tself.bn = nn.BatchNorm1d(out_feats)\n",
        "\t\tself.dropout = nn.Dropout(dropout)\n",
        "\n",
        "\tdef forward(self, x):\n",
        "\t\t# ReLU activation, batch norm, dropout on layer\n",
        "\t\treturn self.bn(self.dropout(F.relu(self.linear(x))))\n",
        "\n",
        "def construct_mlp(in_dim, out_dim, hidden_dim, hidden_layers, dropout=0.1):\n",
        "\t\"\"\"\n",
        "\tConstructs an MLP with specified dimensions.\n",
        "\t\t- total number of layers = hidden_layers + 1 (the + 1 is for the output linear)\n",
        "\t\t- no activation/batch norm/dropout on output layer\n",
        "\t\"\"\"\n",
        "\n",
        "\tassert hidden_layers >= 1, hidden_layers\n",
        "\tmlp_list = []\n",
        "\tmlp_list.append(LinearBlock(in_dim,hidden_dim,dropout=dropout))\n",
        "\tfor i in range(hidden_layers-1):\n",
        "\t\tmlp_list.append(LinearBlock(hidden_dim,hidden_dim,dropout=dropout))\n",
        "\n",
        "\t# no activation/batch norm/dropout on output layer\n",
        "\tmlp_list.append(nn.Linear(hidden_dim,out_dim))\n",
        "\tmlp = nn.Sequential(*mlp_list)\n",
        "\treturn mlp\n",
        "\n",
        "class MLP(nn.Module):\n",
        "\t'''\n",
        "\tMLP with optional Grover fingerprints.\n",
        "\tCustomizable number of layers, hidden dimensions, and dropout.\n",
        "\t'''\n",
        "\tdef __init__(self, args):\n",
        "\n",
        "\t\tsuper(MLP, self).__init__()\n",
        "\n",
        "\t\tself.model_type = args['model']\n",
        "\t\tself.fp_dim = args['fp_dim'] # can be 0\n",
        "\t\tself.grover_fp_dim = args['grover_fp_dim'] # can be 0\n",
        "\t\tself.hidden_dim = args['hidden_channels']\n",
        "\t\tself.output_dim = args['num_assays']\n",
        "\t\tself.num_layers = args['num_layers']\n",
        "\t\tself.dropout = args['dropout']\n",
        "\n",
        "\t\tassert self.model_type in ['FP','GROVER','GROVER_FP'], f'model type not supported: {self.model_type}'\n",
        "\n",
        "\t\tif self.model_type == 'FP':\n",
        "\t\t\tself.grover_fp_dim = 0\n",
        "\t\telif self.model_type == 'GROVER':\n",
        "\t\t\tself.fp_dim = 0\n",
        "\n",
        "\t\tself.ff_layers = construct_mlp(\n",
        "\t\t\tself.fp_dim + self.grover_fp_dim,\n",
        "\t\t\tself.output_dim,\n",
        "\t\t\tself.hidden_dim,\n",
        "\t\t\tself.num_layers,\n",
        "\t\t\tself.dropout\n",
        "\t\t)\n",
        "\n",
        "\tdef forward(self, data):\n",
        "\n",
        "\n",
        "\t\tif self.model_type == 'FP': # only fp is used\n",
        "\t\t\tfingerprints = data.fp\n",
        "\t\t\t# reshape fp to batch_size x fp_dim\n",
        "\t\t\tfingerprints = fingerprints.reshape(int(fingerprints.shape[0]/self.fp_dim), -1)\n",
        "\n",
        "\t\t\toutput = self.ff_layers(fingerprints)\n",
        "\n",
        "\t\telif self.model_type == 'GROVER': # only grover is used\n",
        "\t\t\t# reshape grover_fp to batch_size x grover_fp_dim\n",
        "\t\t\tgrover_fp = data.grover_fp\n",
        "\t\t\tgrover_fp = grover_fp.reshape(int(grover_fp.shape[0]/self.grover_fp_dim), -1)\n",
        "\n",
        "\t\t\toutput = self.ff_layers(grover_fp)\n",
        "\n",
        "\t\telif self.model_type == 'GROVER_FP': #grover and fp are concatenated\n",
        "\t\t\tfingerprints = data.fp\n",
        "\t\t\t# reshape fp to batch_size x fp_dim\n",
        "\t\t\tfingerprints = fingerprints.reshape(int(fingerprints.shape[0]/self.fp_dim), -1)\n",
        "\t\t\t# reshape grover_fp to batch_size x grover_fp_dim\n",
        "\t\t\tgrover_fp = data.grover_fp\n",
        "\t\t\tgrover_fp = grover_fp.reshape(int(grover_fp.shape[0]/self.grover_fp_dim), -1)\n",
        "\n",
        "\t\t\toutput = self.ff_layers(torch.cat([fingerprints, grover_fp], dim=1))\n",
        "\n",
        "\n",
        "\t\treturn output"
      ]
    },
    {
      "cell_type": "code",
      "execution_count": 19,
      "metadata": {
        "colab": {
          "base_uri": "https://localhost:8080/"
        },
        "id": "edtdc5gijGHt",
        "outputId": "cd503d81-5b57-47eb-ac9e-9c963e9e7947"
      },
      "outputs": [
        {
          "data": {
            "text/plain": [
              "Sequential(\n",
              "  (0): LinearBlock(\n",
              "    (linear): Linear(in_features=7215, out_features=256, bias=True)\n",
              "    (bn): BatchNorm1d(256, eps=1e-05, momentum=0.1, affine=True, track_running_stats=True)\n",
              "    (dropout): Dropout(p=0.2, inplace=False)\n",
              "  )\n",
              "  (1): LinearBlock(\n",
              "    (linear): Linear(in_features=256, out_features=256, bias=True)\n",
              "    (bn): BatchNorm1d(256, eps=1e-05, momentum=0.1, affine=True, track_running_stats=True)\n",
              "    (dropout): Dropout(p=0.2, inplace=False)\n",
              "  )\n",
              "  (2): LinearBlock(\n",
              "    (linear): Linear(in_features=256, out_features=256, bias=True)\n",
              "    (bn): BatchNorm1d(256, eps=1e-05, momentum=0.1, affine=True, track_running_stats=True)\n",
              "    (dropout): Dropout(p=0.2, inplace=False)\n",
              "  )\n",
              "  (3): LinearBlock(\n",
              "    (linear): Linear(in_features=256, out_features=256, bias=True)\n",
              "    (bn): BatchNorm1d(256, eps=1e-05, momentum=0.1, affine=True, track_running_stats=True)\n",
              "    (dropout): Dropout(p=0.2, inplace=False)\n",
              "  )\n",
              "  (4): LinearBlock(\n",
              "    (linear): Linear(in_features=256, out_features=256, bias=True)\n",
              "    (bn): BatchNorm1d(256, eps=1e-05, momentum=0.1, affine=True, track_running_stats=True)\n",
              "    (dropout): Dropout(p=0.2, inplace=False)\n",
              "  )\n",
              "  (5): Linear(in_features=256, out_features=1, bias=True)\n",
              ")"
            ]
          },
          "execution_count": 19,
          "metadata": {},
          "output_type": "execute_result"
        }
      ],
      "source": [
        "mlp = construct_mlp(\n",
        "\t\t\targs['fp_dim'] + args['grover_fp_dim'],\n",
        "\t\t\targs['num_assays'],\n",
        "\t\t\targs['hidden_channels'],\n",
        "\t\t\targs['num_layers'],\n",
        "\t\t\targs['dropout'])\n",
        "mlp"
      ]
    },
    {
      "cell_type": "code",
      "execution_count": 20,
      "metadata": {
        "colab": {
          "base_uri": "https://localhost:8080/"
        },
        "id": "tLqTMKaMp_0q",
        "outputId": "88cb6d64-5deb-4905-b1bb-1ef187a679a2"
      },
      "outputs": [
        {
          "name": "stdout",
          "output_type": "stream",
          "text": [
            "TESTING\n",
            "------FP------\n",
            "inputs:\n",
            " x: torch.Size([6525, 79]) | y: torch.Size([256, 271]) | fp: torch.Size([567040]) | grover: torch.Size([1280000])\n",
            "out: torch.Size([256, 1])\n",
            "gt: torch.Size([256, 1])\n",
            "------GROVER------\n",
            "inputs:\n",
            " x: torch.Size([6513, 79]) | y: torch.Size([256, 271]) | fp: torch.Size([567040]) | grover: torch.Size([1280000])\n",
            "out: torch.Size([256, 1])\n",
            "gt: torch.Size([256, 1])\n",
            "------GROVER_FP------\n",
            "inputs:\n",
            " x: torch.Size([6592, 79]) | y: torch.Size([256, 271]) | fp: torch.Size([567040]) | grover: torch.Size([1280000])\n",
            "out: torch.Size([256, 1])\n",
            "gt: torch.Size([256, 1])\n"
          ]
        }
      ],
      "source": [
        "# TEST that MLP runs for all model types\n",
        "print('TESTING')\n",
        "for model_type in ['FP','GROVER','GROVER_FP']:\n",
        "  args['model'] = model_type\n",
        "  model = MLP(args)\n",
        "  for data in dataloader['train']:  # Iterate in batches over the training dataset\n",
        "          print(f'------{model_type}------')\n",
        "          print('inputs:')\n",
        "          print(' x:', data.x.shape, '| y:',data.y.shape, '| fp:',data.fp.shape, '| grover:', data.grover_fp.shape)\n",
        "          out = model(data)  # Perform a single forward pass\n",
        "          print('out:',out.shape)\n",
        "          print('gt:', data.y[:,args['assays_idx']].shape)\n",
        "          break"
      ]
    },
    {
      "cell_type": "markdown",
      "metadata": {
        "id": "jMXuJkTGIIKH"
      },
      "source": [
        "# Training"
      ]
    },
    {
      "cell_type": "code",
      "execution_count": 21,
      "metadata": {
        "id": "A3SbXTXlIIKH"
      },
      "outputs": [],
      "source": [
        "from sklearn.metrics import confusion_matrix, precision_score, recall_score, f1_score, roc_auc_score\n",
        "import time\n",
        "\n",
        "\n",
        "class TrainManager:\n",
        "\n",
        "    def __init__(self, dataloader, args, model=None):\n",
        "\n",
        "        self.args = args\n",
        "        self.num_assays = args['num_assays']\n",
        "        self.num_node_features = args['num_node_features']\n",
        "        self.hidden_channels = args['hidden_channels']\n",
        "\n",
        "        if not model:\n",
        "            # initialize model depending on model type\n",
        "            if args['model'] in ['GCN','GCN_FP']:\n",
        "                self.model = GCN(args)\n",
        "            elif args['model'] in ['FP','GROVER','GROVER_FP']:\n",
        "              self.model = MLP(args)\n",
        "        else:\n",
        "            self.model = model\n",
        "\n",
        "        self.model.to(args['device'])\n",
        "        print(\"Model is on device:\", next(self.model.parameters()).device)\n",
        "        print(f'Number of parameters: {sum(p.numel() for p in self.model.parameters())}')\n",
        "        self.dataloader = dataloader\n",
        "\n",
        "        self.optimizer = torch.optim.Adam(self.model.parameters(), lr=args['lr'])\n",
        "        self.criterion = nn.BCEWithLogitsLoss()\n",
        "\n",
        "        self.curr_epoch = 0\n",
        "\n",
        "        # logging\n",
        "        self.eval_metrics = {}\n",
        "        self.eval_metrics['loss'] = []\n",
        "        self.eval_metrics['acc_train'] = []\n",
        "        self.eval_metrics['acc_test'] = []\n",
        "        self.eval_metrics['auc_train'] = []\n",
        "        self.eval_metrics['auc_test'] = []\n",
        "        self.eval_metrics['precision_train'] = []\n",
        "        self.eval_metrics['precision_test'] = []\n",
        "        self.eval_metrics['recall_train'] = []\n",
        "        self.eval_metrics['recall_test'] = []\n",
        "        self.eval_metrics['f1_train'] = []\n",
        "        self.eval_metrics['f1_test'] = []\n",
        "\n",
        "\n",
        "    def train(self, epochs=100, log=False, wb_log=False):\n",
        "        '''\n",
        "        Train the model for a given number of epochs.\n",
        "        '''\n",
        "\n",
        "        self.wb_log = wb_log\n",
        "\n",
        "        epoch_times = []\n",
        "\n",
        "        for epoch in range(epochs):\n",
        "\n",
        "            self.model.train()\n",
        "            cum_loss = 0\n",
        "            start_time = time.time()\n",
        "\n",
        "            # Iterate in batches over the training dataset\n",
        "            for data in tqdm(self.dataloader['train'], desc=f'Epoch [{self.curr_epoch}/{epochs}]', total=int(len(self.dataloader['train'].dataset)/self.args['batch_size'])):\n",
        "\n",
        "                data = data.to(self.args['device'])\n",
        "\n",
        "                # forward pass based on model type\n",
        "                if self.args['model'] == 'GCN':\n",
        "                    out = self.model(data.x, data.edge_index, data.batch)\n",
        "                elif self.args['model'] == 'GCN_FP':\n",
        "                    out = self.model(data.x, data.edge_index, data.batch, fp=data.fp)\n",
        "                elif self.args['model'] in ['FP','GROVER','GROVER_FP']:\n",
        "                    out = self.model(data)\n",
        "\n",
        "                # data.y = data.y.unsqueeze(1)\n",
        "                # print('data.y:',data.y.shape)\n",
        "                loss = self.criterion(out, data.y[:,args['assays_idx']])  # Compute the loss. (sigmoid inherent in loss)\n",
        "                loss.backward()  # Derive gradients.\n",
        "                self.optimizer.step()  # Update parameters based on gradients.\n",
        "                self.optimizer.zero_grad()  # Clear gradients.\n",
        "                cum_loss += loss.item()\n",
        "\n",
        "            self.eval_metrics['loss'].append(cum_loss/len(self.dataloader['train']))\n",
        "            if wb_log is True:\n",
        "                wandb.log({'epoch': self.curr_epoch, \"loss\": cum_loss/len(self.dataloader['train'])})\n",
        "\n",
        "            epoch_time = time.time() - start_time\n",
        "            epoch_times.append(epoch_time)\n",
        "\n",
        "            if log:\n",
        "                # evaluate\n",
        "                acc_train, auc_train, precision_train, recall_train, f1_train = self.eval(self.dataloader['train'])\n",
        "                acc_test, auc_test, precision_test, recall_test, f1_test = self.eval(self.dataloader['val'])\n",
        "\n",
        "\n",
        "                self.eval_metrics['acc_train'].append(acc_train)\n",
        "                self.eval_metrics['acc_test'].append(acc_test)\n",
        "                self.eval_metrics['auc_train'].append(auc_train)\n",
        "                self.eval_metrics['auc_test'].append(auc_test)\n",
        "                self.eval_metrics['precision_train'].append(precision_train)\n",
        "                self.eval_metrics['precision_test'].append(precision_test)\n",
        "                self.eval_metrics['recall_train'].append(recall_train)\n",
        "                self.eval_metrics['recall_test'].append(recall_test)\n",
        "                self.eval_metrics['f1_train'].append(f1_train)\n",
        "                self.eval_metrics['f1_test'].append(f1_test)\n",
        "\n",
        "                if wb_log is True:\n",
        "                    wandb.log({'epoch': self.curr_epoch, \"AUC train\": auc_train, \"AUC test\": auc_test, \"F1 train\": f1_train, \"F1 test\": f1_test, \"Precision train\": precision_train, \"Precision test\": precision_test, \"Recall train\": recall_train, \"Recall test\": recall_test})\n",
        "\n",
        "\n",
        "                if epoch % 10 == 0:\n",
        "                    print(f'Epoch: {self.curr_epoch}, Loss: {loss.item():.4f}, Train AUC: {auc_train:.4f}, Test AUC: {auc_test:.4f}')\n",
        "                    print(f'                        Train F1: {f1_train:.4f}, Test F1: {f1_test:.4f}')\n",
        "\n",
        "            self.curr_epoch += 1\n",
        "\n",
        "\n",
        "\n",
        "        self.avg_epoch_time = np.mean(epoch_times)\n",
        "        if wb_log is True:\n",
        "            wandb.log({'epoch': self.curr_epoch, \"avg epoch time\": self.avg_epoch_time})\n",
        "\n",
        "    def eval(self, loader):\n",
        "        '''\n",
        "        Evaluate the model on a given dataset (train/val/test).\n",
        "        '''\n",
        "        start_time = time.time()\n",
        "\n",
        "        self.model.eval()\n",
        "\n",
        "        # print(\"Model is on device for eval:\", next(exp.model.parameters()).device)\n",
        "\n",
        "        correct = 0\n",
        "\n",
        "        gts = []\n",
        "        preds = []\n",
        "        with torch.no_grad():\n",
        "            for data in loader:  # Iterate in batches over the training/test dataset.\n",
        "\n",
        "                data = data.to(self.args['device'])\n",
        "\n",
        "                # forward pass based on model type\n",
        "                if self.args['model'] == 'GCN':\n",
        "                    out = self.model(data.x, data.edge_index, data.batch)\n",
        "                elif self.args['model'] == 'GCN_FP':\n",
        "                    out = self.model(data.x, data.edge_index, data.batch, fp=data.fp)\n",
        "                elif self.args['model'] in ['FP','GROVER','GROVER_FP']:\n",
        "                    out = self.model(data)\n",
        "\n",
        "                # convert out to binary\n",
        "                pred = torch.round(torch.sigmoid(out))\n",
        "                preds.append(torch.round(torch.sigmoid(out)).tolist())\n",
        "                gts.append(data.y[:,args['assays_idx']].tolist())\n",
        "                # print('pred:', pred)\n",
        "                # print('data.y:', data.y)\n",
        "                # print('data.y eval:',data.y.shape)\n",
        "                # data.y = data.y.unsqueeze(1)\n",
        "                correct += int((pred == data.y[:,args['assays_idx']]).sum())  # Check against ground-truth labels.\n",
        "\n",
        "\n",
        "\n",
        "\n",
        "        preds = [b[i] for b in preds for i in range(len(b))]\n",
        "        gts = [b[i] for b in gts for i in range(len(b))]\n",
        "\n",
        "        auc = roc_auc_score(gts, preds)\n",
        "        # Calculate macro-averaged precision, recall, and F1 Score\n",
        "        precision = precision_score(gts, preds, average='macro', zero_division=0)\n",
        "        recall = recall_score(gts, preds, average='macro', zero_division=0)\n",
        "        f1 = f1_score(gts, preds, average='macro', zero_division=0)\n",
        "\n",
        "\n",
        "        acc = correct / (len(loader.dataset) * self.args['num_assays']) # Derive ratio of correct predictions.\n",
        "\n",
        "        self.eval_time = time.time() - start_time\n",
        "\n",
        "        if self.wb_log is True:\n",
        "            wandb.log({'epoch': self.curr_epoch, \"eval time\": self.eval_time})\n",
        "\n",
        "        return acc, auc, precision, recall, f1\n",
        "\n",
        "\n",
        "\n",
        "    def analyze(self):\n",
        "        '''\n",
        "        Plot the model performance.\n",
        "        '''\n",
        "\n",
        "        # plot side by side\n",
        "        fig, (ax1, ax2) = plt.subplots(1, 2, figsize=(10, 5))\n",
        "        ax1.plot(self.eval_metrics['loss'])\n",
        "        ax1.set_xlabel('Epoch')\n",
        "        ax1.set_ylabel('Loss')\n",
        "        ax1.set_title('Losses')\n",
        "\n",
        "        ax2.plot(self.eval_metrics['auc_train'], label='train')\n",
        "        ax2.plot(self.eval_metrics['auc_test'], label='test')\n",
        "        ax2.set_xlabel('Epoch')\n",
        "        ax2.set_ylabel('AUC')\n",
        "        ax2.set_title('Area Under Curve')\n",
        "        ax2.legend()\n",
        "        # make main title for the whole plot\n",
        "        if args['model'] in ['GCN', 'GCN_FP']:\n",
        "            plt.suptitle(f'Model: {self.args[\"model\"]} | Node feats: {self.args[\"num_node_features\"]}, Hidden dim: {self.args[\"hidden_channels\"]}, Dropout: {self.args[\"dropout\"]}, Num data points: {self.args[\"num_data_points\"]}, Num assays: {self.args[\"num_assays\"]}, Num epochs: {self.curr_epoch}')\n",
        "        elif args['model'] in ['FP', 'GROVER', 'GROVER_FP']:\n",
        "            plt.suptitle(f'Model: {self.args[\"model\"]} | Num layers: {self.args[\"num_layers\"]}, Hidden dim: {self.args[\"hidden_channels\"]}, Dropout: {self.args[\"dropout\"]}, Num data points: {self.args[\"num_data_points\"]}, Num assays: {self.args[\"num_assays\"]}, Num epochs: {self.curr_epoch}')\n",
        "        plt.show()\n",
        "\n",
        "\n",
        "\n",
        "    def save_model(self, folder, filename, save_weights=True, save_logs=True):\n",
        "        print('saving experiment...')\n",
        "\n",
        "        filename += f'_{self.curr_epoch}e'\n",
        "        if save_weights:\n",
        "            torch.save(self.model.state_dict(), os.path.join(folder, filename+'.pt'))\n",
        "\n",
        "        #if save_logs:\n",
        "\n",
        "    def load_model(self, folder, filename):\n",
        "        print('loading model...')\n",
        "        self.model.load_state_dict(torch.load(os.path.join(folder, filename+'.pt')))\n"
      ]
    },
    {
      "cell_type": "markdown",
      "metadata": {
        "id": "mxwqEHtDIIKH"
      },
      "source": [
        "# Experiments"
      ]
    },
    {
      "cell_type": "code",
      "execution_count": 39,
      "metadata": {
        "colab": {
          "base_uri": "https://localhost:8080/"
        },
        "id": "DRpG9w-Z2IIx",
        "outputId": "6467c51a-edae-4b85-daaf-d8b2e9937849"
      },
      "outputs": [
        {
          "data": {
            "text/plain": [
              "True"
            ]
          },
          "execution_count": 39,
          "metadata": {},
          "output_type": "execute_result"
        }
      ],
      "source": [
        "wandb.login()\n",
        "# API KEY: 69f641df6e6f0934ab302070cf0b3bcd5399ddd3"
      ]
    },
    {
      "cell_type": "code",
      "execution_count": 41,
      "metadata": {
        "colab": {
          "base_uri": "https://localhost:8080/"
        },
        "id": "YKl0T18mhLYo",
        "outputId": "fc703746-e5c4-417f-a9ff-e339e269a5f9"
      },
      "outputs": [
        {
          "data": {
            "text/plain": [
              "['488977',\n",
              " '504634',\n",
              " '2642',\n",
              " '588675',\n",
              " '1511',\n",
              " '463079',\n",
              " '652017',\n",
              " '488975',\n",
              " '624040',\n",
              " '2445',\n",
              " '623877',\n",
              " '463111',\n",
              " '1875',\n",
              " '504692',\n",
              " '588819',\n",
              " '493087',\n",
              " '602250',\n",
              " '624125',\n",
              " '624169',\n",
              " '624126',\n",
              " '435030',\n",
              " '463165',\n",
              " '540295',\n",
              " '651602',\n",
              " '449728',\n",
              " '602410',\n",
              " '434989',\n",
              " '2648',\n",
              " '588676',\n",
              " '624267',\n",
              " '434962',\n",
              " '504734',\n",
              " '588511',\n",
              " '651719',\n",
              " '651957',\n",
              " '588627',\n",
              " '624038']"
            ]
          },
          "execution_count": 41,
          "metadata": {},
          "output_type": "execute_result"
        }
      ],
      "source": [
        "cell_based_low_hr"
      ]
    },
    {
      "cell_type": "code",
      "execution_count": 40,
      "metadata": {
        "colab": {
          "base_uri": "https://localhost:8080/",
          "height": 535,
          "referenced_widgets": [
            "5ed74daff3914d0f80f2cfc44455efa2",
            "a8c52bcaa1384ecf8c5ed3afdc084a38",
            "d31c17b8b4324e52a5920c14bef34759",
            "76b315be0dda45899bc02387c5b2570a",
            "fefdd4f02e6b476c940f4c36a334c38f",
            "a8c473bba7224f58a97ce5a131e36e34",
            "c88cf2ae94d343069efe1df41e5dbe11",
            "0259dd7754f94e47ab0ae7172505a055"
          ]
        },
        "id": "NxiWVecC85c2",
        "outputId": "1e35644d-cfbf-45d1-8374-dab04abc9527"
      },
      "outputs": [
        {
          "data": {
            "application/vnd.jupyter.widget-view+json": {
              "model_id": "5ed74daff3914d0f80f2cfc44455efa2",
              "version_major": 2,
              "version_minor": 0
            },
            "text/plain": [
              "VBox(children=(Label(value='Waiting for wandb.init()...\\r'), FloatProgress(value=0.016668625416665844, max=1.0…"
            ]
          },
          "metadata": {},
          "output_type": "display_data"
        },
        {
          "name": "stdout",
          "output_type": "stream",
          "text": [
            "Problem at: <ipython-input-40-adcfb5cdbcda> 12 <cell line: 12>\n"
          ]
        },
        {
          "ename": "CommError",
          "evalue": "ignored",
          "output_type": "error",
          "traceback": [
            "\u001b[0;31m---------------------------------------------------------------------------\u001b[0m",
            "\u001b[0;31mCommError\u001b[0m                                 Traceback (most recent call last)",
            "\u001b[0;32m<ipython-input-40-adcfb5cdbcda>\u001b[0m in \u001b[0;36m<cell line: 12>\u001b[0;34m()\u001b[0m\n\u001b[1;32m     10\u001b[0m \u001b[0;31m# Create a custom run name dynamically\u001b[0m\u001b[0;34m\u001b[0m\u001b[0;34m\u001b[0m\u001b[0m\n\u001b[1;32m     11\u001b[0m \u001b[0mrun_name\u001b[0m \u001b[0;34m=\u001b[0m \u001b[0;34mf\"{args['model']}_b{args['batch_size']}_d{args['dropout']}_hdim{args['hidden_channels']}_ass{args['assay_list'][0]}\"\u001b[0m\u001b[0;34m\u001b[0m\u001b[0;34m\u001b[0m\u001b[0m\n\u001b[0;32m---> 12\u001b[0;31m run = wandb.init(\n\u001b[0m\u001b[1;32m     13\u001b[0m     \u001b[0mname\u001b[0m\u001b[0;34m=\u001b[0m\u001b[0mrun_name\u001b[0m\u001b[0;34m,\u001b[0m\u001b[0;34m\u001b[0m\u001b[0;34m\u001b[0m\u001b[0m\n\u001b[1;32m     14\u001b[0m     \u001b[0;31m# Set the project where this run will be logged\u001b[0m\u001b[0;34m\u001b[0m\u001b[0;34m\u001b[0m\u001b[0m\n",
            "\u001b[0;32m/usr/local/lib/python3.10/dist-packages/wandb/sdk/wandb_init.py\u001b[0m in \u001b[0;36minit\u001b[0;34m(job_type, dir, config, project, entity, reinit, tags, group, name, notes, magic, config_exclude_keys, config_include_keys, anonymous, mode, allow_val_change, resume, force, tensorboard, sync_tensorboard, monitor_gym, save_code, id, settings)\u001b[0m\n\u001b[1;32m   1164\u001b[0m         \u001b[0;32mif\u001b[0m \u001b[0mlogger\u001b[0m \u001b[0;32mis\u001b[0m \u001b[0;32mnot\u001b[0m \u001b[0;32mNone\u001b[0m\u001b[0;34m:\u001b[0m\u001b[0;34m\u001b[0m\u001b[0;34m\u001b[0m\u001b[0m\n\u001b[1;32m   1165\u001b[0m             \u001b[0mlogger\u001b[0m\u001b[0;34m.\u001b[0m\u001b[0mexception\u001b[0m\u001b[0;34m(\u001b[0m\u001b[0mstr\u001b[0m\u001b[0;34m(\u001b[0m\u001b[0me\u001b[0m\u001b[0;34m)\u001b[0m\u001b[0;34m)\u001b[0m\u001b[0;34m\u001b[0m\u001b[0;34m\u001b[0m\u001b[0m\n\u001b[0;32m-> 1166\u001b[0;31m         \u001b[0;32mraise\u001b[0m \u001b[0me\u001b[0m\u001b[0;34m\u001b[0m\u001b[0;34m\u001b[0m\u001b[0m\n\u001b[0m\u001b[1;32m   1167\u001b[0m     \u001b[0;32mexcept\u001b[0m \u001b[0mKeyboardInterrupt\u001b[0m \u001b[0;32mas\u001b[0m \u001b[0me\u001b[0m\u001b[0;34m:\u001b[0m\u001b[0;34m\u001b[0m\u001b[0;34m\u001b[0m\u001b[0m\n\u001b[1;32m   1168\u001b[0m         \u001b[0;32massert\u001b[0m \u001b[0mlogger\u001b[0m\u001b[0;34m\u001b[0m\u001b[0;34m\u001b[0m\u001b[0m\n",
            "\u001b[0;32m/usr/local/lib/python3.10/dist-packages/wandb/sdk/wandb_init.py\u001b[0m in \u001b[0;36minit\u001b[0;34m(job_type, dir, config, project, entity, reinit, tags, group, name, notes, magic, config_exclude_keys, config_include_keys, anonymous, mode, allow_val_change, resume, force, tensorboard, sync_tensorboard, monitor_gym, save_code, id, settings)\u001b[0m\n\u001b[1;32m   1145\u001b[0m         \u001b[0mexcept_exit\u001b[0m \u001b[0;34m=\u001b[0m \u001b[0mwi\u001b[0m\u001b[0;34m.\u001b[0m\u001b[0msettings\u001b[0m\u001b[0;34m.\u001b[0m\u001b[0m_except_exit\u001b[0m\u001b[0;34m\u001b[0m\u001b[0;34m\u001b[0m\u001b[0m\n\u001b[1;32m   1146\u001b[0m         \u001b[0;32mtry\u001b[0m\u001b[0;34m:\u001b[0m\u001b[0;34m\u001b[0m\u001b[0;34m\u001b[0m\u001b[0m\n\u001b[0;32m-> 1147\u001b[0;31m             \u001b[0mrun\u001b[0m \u001b[0;34m=\u001b[0m \u001b[0mwi\u001b[0m\u001b[0;34m.\u001b[0m\u001b[0minit\u001b[0m\u001b[0;34m(\u001b[0m\u001b[0;34m)\u001b[0m\u001b[0;34m\u001b[0m\u001b[0;34m\u001b[0m\u001b[0m\n\u001b[0m\u001b[1;32m   1148\u001b[0m             \u001b[0mexcept_exit\u001b[0m \u001b[0;34m=\u001b[0m \u001b[0mwi\u001b[0m\u001b[0;34m.\u001b[0m\u001b[0msettings\u001b[0m\u001b[0;34m.\u001b[0m\u001b[0m_except_exit\u001b[0m\u001b[0;34m\u001b[0m\u001b[0;34m\u001b[0m\u001b[0m\n\u001b[1;32m   1149\u001b[0m         \u001b[0;32mexcept\u001b[0m \u001b[0;34m(\u001b[0m\u001b[0mKeyboardInterrupt\u001b[0m\u001b[0;34m,\u001b[0m \u001b[0mException\u001b[0m\u001b[0;34m)\u001b[0m \u001b[0;32mas\u001b[0m \u001b[0me\u001b[0m\u001b[0;34m:\u001b[0m\u001b[0;34m\u001b[0m\u001b[0;34m\u001b[0m\u001b[0m\n",
            "\u001b[0;32m/usr/local/lib/python3.10/dist-packages/wandb/sdk/wandb_init.py\u001b[0m in \u001b[0;36minit\u001b[0;34m(self)\u001b[0m\n\u001b[1;32m    760\u001b[0m                 \u001b[0mbackend\u001b[0m\u001b[0;34m.\u001b[0m\u001b[0mcleanup\u001b[0m\u001b[0;34m(\u001b[0m\u001b[0;34m)\u001b[0m\u001b[0;34m\u001b[0m\u001b[0;34m\u001b[0m\u001b[0m\n\u001b[1;32m    761\u001b[0m                 \u001b[0mself\u001b[0m\u001b[0;34m.\u001b[0m\u001b[0mteardown\u001b[0m\u001b[0;34m(\u001b[0m\u001b[0;34m)\u001b[0m\u001b[0;34m\u001b[0m\u001b[0;34m\u001b[0m\u001b[0m\n\u001b[0;32m--> 762\u001b[0;31m             \u001b[0;32mraise\u001b[0m \u001b[0merror\u001b[0m\u001b[0;34m\u001b[0m\u001b[0;34m\u001b[0m\u001b[0m\n\u001b[0m\u001b[1;32m    763\u001b[0m \u001b[0;34m\u001b[0m\u001b[0m\n\u001b[1;32m    764\u001b[0m         \u001b[0;32massert\u001b[0m \u001b[0mrun_result\u001b[0m \u001b[0;32mis\u001b[0m \u001b[0;32mnot\u001b[0m \u001b[0;32mNone\u001b[0m  \u001b[0;31m# for mypy\u001b[0m\u001b[0;34m\u001b[0m\u001b[0;34m\u001b[0m\u001b[0m\n",
            "\u001b[0;31mCommError\u001b[0m: Run initialization has timed out after 60.0 sec. \nPlease refer to the documentation for additional information: https://docs.wandb.ai/guides/track/tracking-faq#initstarterror-error-communicating-with-wandb-process-"
          ]
        }
      ],
      "source": [
        "args['assay_list'] = ['488977']\n",
        "args['num_assays'] = 1\n",
        "args['assays_idx'] = find_assay_indeces(args['assay_list'], assay_order)\n",
        "\n",
        "args['model'] = 'GROVER_FP'\n",
        "args['dropout'] = 0.2\n",
        "args['batch_size'] = 256\n",
        "args['hidden_channels'] = 256\n",
        "args['lr'] = 0.01\n",
        "# Create a custom run name dynamically\n",
        "run_name = f\"{args['model']}_b{args['batch_size']}_d{args['dropout']}_hdim{args['hidden_channels']}_ass{args['assay_list'][0]}\"\n",
        "run = wandb.init(\n",
        "    name=run_name,\n",
        "    # Set the project where this run will be logged\n",
        "    project=\"GDL_molecular_activity_prediction\",\n",
        "    # Track hyperparameters and run metadata\n",
        "    config={\n",
        "        'num_data_points': args['num_data_points'],\n",
        "        'assays': 'cell_based_high_hr',\n",
        "        'num_assays': args['num_assays'],\n",
        "\n",
        "        'model': args['model'],\n",
        "        'num_layers': args['num_layers'],\n",
        "        'hidden_channels': args['hidden_channels'],\n",
        "        'dropout': args['dropout'],\n",
        "        'batch_size': args['batch_size'],\n",
        "        'num_epochs': args['num_epochs'],\n",
        "        'lr': args['lr'],\n",
        "    })"
      ]
    },
    {
      "cell_type": "code",
      "execution_count": null,
      "metadata": {
        "id": "R4apmXAg4iIn"
      },
      "outputs": [],
      "source": []
    },
    {
      "cell_type": "code",
      "execution_count": null,
      "metadata": {
        "id": "86uzC7MvxtHL"
      },
      "outputs": [],
      "source": [
        "exp = TrainManager(dataloader, args)\n",
        "exp.train(epochs=100, log=True, wb_log=True)"
      ]
    },
    {
      "cell_type": "code",
      "execution_count": null,
      "metadata": {
        "colab": {
          "base_uri": "https://localhost:8080/"
        },
        "id": "7WMupZNNPWPL",
        "outputId": "a7937d1b-d288-4a28-ce4b-ec6dacfed194"
      },
      "outputs": [
        {
          "data": {
            "text/plain": [
              "100"
            ]
          },
          "execution_count": 34,
          "metadata": {},
          "output_type": "execute_result"
        }
      ],
      "source": [
        "exp.curr_epoch"
      ]
    },
    {
      "cell_type": "code",
      "execution_count": 32,
      "metadata": {
        "id": "v47EoU5_xY9E"
      },
      "outputs": [],
      "source": [
        "# Finish the run\n",
        "wandb.finish()"
      ]
    }
  ],
  "metadata": {
    "accelerator": "GPU",
    "colab": {
      "gpuType": "A100",
      "include_colab_link": true,
      "machine_shape": "hm",
      "provenance": []
    },
    "kernelspec": {
      "display_name": "Python 3",
      "name": "python3"
    },
    "language_info": {
      "codemirror_mode": {
        "name": "ipython",
        "version": 3
      },
      "file_extension": ".py",
      "mimetype": "text/x-python",
      "name": "python",
      "nbconvert_exporter": "python",
      "pygments_lexer": "ipython3",
      "version": "3.11.4"
    },
    "orig_nbformat": 4,
    "widgets": {
      "application/vnd.jupyter.widget-state+json": {
        "0259dd7754f94e47ab0ae7172505a055": {
          "model_module": "@jupyter-widgets/controls",
          "model_module_version": "1.5.0",
          "model_name": "ProgressStyleModel",
          "state": {
            "_model_module": "@jupyter-widgets/controls",
            "_model_module_version": "1.5.0",
            "_model_name": "ProgressStyleModel",
            "_view_count": null,
            "_view_module": "@jupyter-widgets/base",
            "_view_module_version": "1.2.0",
            "_view_name": "StyleView",
            "bar_color": null,
            "description_width": ""
          }
        },
        "5ed74daff3914d0f80f2cfc44455efa2": {
          "model_module": "@jupyter-widgets/controls",
          "model_module_version": "1.5.0",
          "model_name": "VBoxModel",
          "state": {
            "_dom_classes": [],
            "_model_module": "@jupyter-widgets/controls",
            "_model_module_version": "1.5.0",
            "_model_name": "VBoxModel",
            "_view_count": null,
            "_view_module": "@jupyter-widgets/controls",
            "_view_module_version": "1.5.0",
            "_view_name": "VBoxView",
            "box_style": "",
            "children": [
              "IPY_MODEL_a8c52bcaa1384ecf8c5ed3afdc084a38",
              "IPY_MODEL_d31c17b8b4324e52a5920c14bef34759"
            ],
            "layout": "IPY_MODEL_76b315be0dda45899bc02387c5b2570a"
          }
        },
        "76b315be0dda45899bc02387c5b2570a": {
          "model_module": "@jupyter-widgets/base",
          "model_module_version": "1.2.0",
          "model_name": "LayoutModel",
          "state": {
            "_model_module": "@jupyter-widgets/base",
            "_model_module_version": "1.2.0",
            "_model_name": "LayoutModel",
            "_view_count": null,
            "_view_module": "@jupyter-widgets/base",
            "_view_module_version": "1.2.0",
            "_view_name": "LayoutView",
            "align_content": null,
            "align_items": null,
            "align_self": null,
            "border": null,
            "bottom": null,
            "display": null,
            "flex": null,
            "flex_flow": null,
            "grid_area": null,
            "grid_auto_columns": null,
            "grid_auto_flow": null,
            "grid_auto_rows": null,
            "grid_column": null,
            "grid_gap": null,
            "grid_row": null,
            "grid_template_areas": null,
            "grid_template_columns": null,
            "grid_template_rows": null,
            "height": null,
            "justify_content": null,
            "justify_items": null,
            "left": null,
            "margin": null,
            "max_height": null,
            "max_width": null,
            "min_height": null,
            "min_width": null,
            "object_fit": null,
            "object_position": null,
            "order": null,
            "overflow": null,
            "overflow_x": null,
            "overflow_y": null,
            "padding": null,
            "right": null,
            "top": null,
            "visibility": null,
            "width": null
          }
        },
        "a8c473bba7224f58a97ce5a131e36e34": {
          "model_module": "@jupyter-widgets/controls",
          "model_module_version": "1.5.0",
          "model_name": "DescriptionStyleModel",
          "state": {
            "_model_module": "@jupyter-widgets/controls",
            "_model_module_version": "1.5.0",
            "_model_name": "DescriptionStyleModel",
            "_view_count": null,
            "_view_module": "@jupyter-widgets/base",
            "_view_module_version": "1.2.0",
            "_view_name": "StyleView",
            "description_width": ""
          }
        },
        "a8c52bcaa1384ecf8c5ed3afdc084a38": {
          "model_module": "@jupyter-widgets/controls",
          "model_module_version": "1.5.0",
          "model_name": "LabelModel",
          "state": {
            "_dom_classes": [],
            "_model_module": "@jupyter-widgets/controls",
            "_model_module_version": "1.5.0",
            "_model_name": "LabelModel",
            "_view_count": null,
            "_view_module": "@jupyter-widgets/controls",
            "_view_module_version": "1.5.0",
            "_view_name": "LabelView",
            "description": "",
            "description_tooltip": null,
            "layout": "IPY_MODEL_fefdd4f02e6b476c940f4c36a334c38f",
            "placeholder": "​",
            "style": "IPY_MODEL_a8c473bba7224f58a97ce5a131e36e34",
            "value": "Waiting for wandb.init()...\r"
          }
        },
        "c88cf2ae94d343069efe1df41e5dbe11": {
          "model_module": "@jupyter-widgets/base",
          "model_module_version": "1.2.0",
          "model_name": "LayoutModel",
          "state": {
            "_model_module": "@jupyter-widgets/base",
            "_model_module_version": "1.2.0",
            "_model_name": "LayoutModel",
            "_view_count": null,
            "_view_module": "@jupyter-widgets/base",
            "_view_module_version": "1.2.0",
            "_view_name": "LayoutView",
            "align_content": null,
            "align_items": null,
            "align_self": null,
            "border": null,
            "bottom": null,
            "display": null,
            "flex": null,
            "flex_flow": null,
            "grid_area": null,
            "grid_auto_columns": null,
            "grid_auto_flow": null,
            "grid_auto_rows": null,
            "grid_column": null,
            "grid_gap": null,
            "grid_row": null,
            "grid_template_areas": null,
            "grid_template_columns": null,
            "grid_template_rows": null,
            "height": null,
            "justify_content": null,
            "justify_items": null,
            "left": null,
            "margin": null,
            "max_height": null,
            "max_width": null,
            "min_height": null,
            "min_width": null,
            "object_fit": null,
            "object_position": null,
            "order": null,
            "overflow": null,
            "overflow_x": null,
            "overflow_y": null,
            "padding": null,
            "right": null,
            "top": null,
            "visibility": null,
            "width": null
          }
        },
        "d31c17b8b4324e52a5920c14bef34759": {
          "model_module": "@jupyter-widgets/controls",
          "model_module_version": "1.5.0",
          "model_name": "FloatProgressModel",
          "state": {
            "_dom_classes": [],
            "_model_module": "@jupyter-widgets/controls",
            "_model_module_version": "1.5.0",
            "_model_name": "FloatProgressModel",
            "_view_count": null,
            "_view_module": "@jupyter-widgets/controls",
            "_view_module_version": "1.5.0",
            "_view_name": "ProgressView",
            "bar_style": "",
            "description": "",
            "description_tooltip": null,
            "layout": "IPY_MODEL_c88cf2ae94d343069efe1df41e5dbe11",
            "max": 1,
            "min": 0,
            "orientation": "horizontal",
            "style": "IPY_MODEL_0259dd7754f94e47ab0ae7172505a055",
            "value": 0.9840207724833514
          }
        },
        "fefdd4f02e6b476c940f4c36a334c38f": {
          "model_module": "@jupyter-widgets/base",
          "model_module_version": "1.2.0",
          "model_name": "LayoutModel",
          "state": {
            "_model_module": "@jupyter-widgets/base",
            "_model_module_version": "1.2.0",
            "_model_name": "LayoutModel",
            "_view_count": null,
            "_view_module": "@jupyter-widgets/base",
            "_view_module_version": "1.2.0",
            "_view_name": "LayoutView",
            "align_content": null,
            "align_items": null,
            "align_self": null,
            "border": null,
            "bottom": null,
            "display": null,
            "flex": null,
            "flex_flow": null,
            "grid_area": null,
            "grid_auto_columns": null,
            "grid_auto_flow": null,
            "grid_auto_rows": null,
            "grid_column": null,
            "grid_gap": null,
            "grid_row": null,
            "grid_template_areas": null,
            "grid_template_columns": null,
            "grid_template_rows": null,
            "height": null,
            "justify_content": null,
            "justify_items": null,
            "left": null,
            "margin": null,
            "max_height": null,
            "max_width": null,
            "min_height": null,
            "min_width": null,
            "object_fit": null,
            "object_position": null,
            "order": null,
            "overflow": null,
            "overflow_x": null,
            "overflow_y": null,
            "padding": null,
            "right": null,
            "top": null,
            "visibility": null,
            "width": null
          }
        }
      }
    }
  },
  "nbformat": 4,
  "nbformat_minor": 0
}
