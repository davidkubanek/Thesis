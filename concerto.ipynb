{
  "cells": [
    {
      "cell_type": "markdown",
      "metadata": {
        "id": "view-in-github",
        "colab_type": "text"
      },
      "source": [
        "<a href=\"https://colab.research.google.com/github/davidkubanek/Thesis/blob/main/concerto.ipynb\" target=\"_parent\"><img src=\"https://colab.research.google.com/assets/colab-badge.svg\" alt=\"Open In Colab\"/></a>"
      ]
    },
    {
      "cell_type": "markdown",
      "metadata": {
        "id": "hpnAQeFgIIKA"
      },
      "source": [
        "# CONCERTO architecture"
      ]
    },
    {
      "cell_type": "code",
      "execution_count": 3,
      "metadata": {
        "id": "t1jm2t5MI4af",
        "colab": {
          "base_uri": "https://localhost:8080/"
        },
        "outputId": "f5aa6550-04af-4859-bfd3-3c3c8b09f4c4"
      },
      "outputs": [
        {
          "output_type": "stream",
          "name": "stdout",
          "text": [
            "Requirement already satisfied: dgl in /usr/local/lib/python3.10/dist-packages (1.1.1)\n",
            "Requirement already satisfied: numpy>=1.14.0 in /usr/local/lib/python3.10/dist-packages (from dgl) (1.23.5)\n",
            "Requirement already satisfied: scipy>=1.1.0 in /usr/local/lib/python3.10/dist-packages (from dgl) (1.10.1)\n",
            "Requirement already satisfied: networkx>=2.1 in /usr/local/lib/python3.10/dist-packages (from dgl) (3.1)\n",
            "Requirement already satisfied: requests>=2.19.0 in /usr/local/lib/python3.10/dist-packages (from dgl) (2.31.0)\n",
            "Requirement already satisfied: tqdm in /usr/local/lib/python3.10/dist-packages (from dgl) (4.65.0)\n",
            "Requirement already satisfied: psutil>=5.8.0 in /usr/local/lib/python3.10/dist-packages (from dgl) (5.9.5)\n",
            "Requirement already satisfied: charset-normalizer<4,>=2 in /usr/local/lib/python3.10/dist-packages (from requests>=2.19.0->dgl) (3.2.0)\n",
            "Requirement already satisfied: idna<4,>=2.5 in /usr/local/lib/python3.10/dist-packages (from requests>=2.19.0->dgl) (3.4)\n",
            "Requirement already satisfied: urllib3<3,>=1.21.1 in /usr/local/lib/python3.10/dist-packages (from requests>=2.19.0->dgl) (1.26.16)\n",
            "Requirement already satisfied: certifi>=2017.4.17 in /usr/local/lib/python3.10/dist-packages (from requests>=2.19.0->dgl) (2023.7.22)\n",
            "Requirement already satisfied: rdkit in /usr/local/lib/python3.10/dist-packages (2023.3.2)\n",
            "Requirement already satisfied: numpy in /usr/local/lib/python3.10/dist-packages (from rdkit) (1.23.5)\n",
            "Requirement already satisfied: Pillow in /usr/local/lib/python3.10/dist-packages (from rdkit) (9.4.0)\n",
            "Requirement already satisfied: torch_geometric in /usr/local/lib/python3.10/dist-packages (2.3.1)\n",
            "Requirement already satisfied: tqdm in /usr/local/lib/python3.10/dist-packages (from torch_geometric) (4.65.0)\n",
            "Requirement already satisfied: numpy in /usr/local/lib/python3.10/dist-packages (from torch_geometric) (1.23.5)\n",
            "Requirement already satisfied: scipy in /usr/local/lib/python3.10/dist-packages (from torch_geometric) (1.10.1)\n",
            "Requirement already satisfied: jinja2 in /usr/local/lib/python3.10/dist-packages (from torch_geometric) (3.1.2)\n",
            "Requirement already satisfied: requests in /usr/local/lib/python3.10/dist-packages (from torch_geometric) (2.31.0)\n",
            "Requirement already satisfied: pyparsing in /usr/local/lib/python3.10/dist-packages (from torch_geometric) (3.1.1)\n",
            "Requirement already satisfied: scikit-learn in /usr/local/lib/python3.10/dist-packages (from torch_geometric) (1.2.2)\n",
            "Requirement already satisfied: psutil>=5.8.0 in /usr/local/lib/python3.10/dist-packages (from torch_geometric) (5.9.5)\n",
            "Requirement already satisfied: MarkupSafe>=2.0 in /usr/local/lib/python3.10/dist-packages (from jinja2->torch_geometric) (2.1.3)\n",
            "Requirement already satisfied: charset-normalizer<4,>=2 in /usr/local/lib/python3.10/dist-packages (from requests->torch_geometric) (3.2.0)\n",
            "Requirement already satisfied: idna<4,>=2.5 in /usr/local/lib/python3.10/dist-packages (from requests->torch_geometric) (3.4)\n",
            "Requirement already satisfied: urllib3<3,>=1.21.1 in /usr/local/lib/python3.10/dist-packages (from requests->torch_geometric) (1.26.16)\n",
            "Requirement already satisfied: certifi>=2017.4.17 in /usr/local/lib/python3.10/dist-packages (from requests->torch_geometric) (2023.7.22)\n",
            "Requirement already satisfied: joblib>=1.1.1 in /usr/local/lib/python3.10/dist-packages (from scikit-learn->torch_geometric) (1.3.1)\n",
            "Requirement already satisfied: threadpoolctl>=2.0.0 in /usr/local/lib/python3.10/dist-packages (from scikit-learn->torch_geometric) (3.2.0)\n",
            "Requirement already satisfied: wandb in /usr/local/lib/python3.10/dist-packages (0.15.8)\n",
            "Requirement already satisfied: Click!=8.0.0,>=7.1 in /usr/local/lib/python3.10/dist-packages (from wandb) (8.1.6)\n",
            "Requirement already satisfied: GitPython!=3.1.29,>=1.0.0 in /usr/local/lib/python3.10/dist-packages (from wandb) (3.1.32)\n",
            "Requirement already satisfied: requests<3,>=2.0.0 in /usr/local/lib/python3.10/dist-packages (from wandb) (2.31.0)\n",
            "Requirement already satisfied: psutil>=5.0.0 in /usr/local/lib/python3.10/dist-packages (from wandb) (5.9.5)\n",
            "Requirement already satisfied: sentry-sdk>=1.0.0 in /usr/local/lib/python3.10/dist-packages (from wandb) (1.29.2)\n",
            "Requirement already satisfied: docker-pycreds>=0.4.0 in /usr/local/lib/python3.10/dist-packages (from wandb) (0.4.0)\n",
            "Requirement already satisfied: PyYAML in /usr/local/lib/python3.10/dist-packages (from wandb) (6.0.1)\n",
            "Requirement already satisfied: pathtools in /usr/local/lib/python3.10/dist-packages (from wandb) (0.1.2)\n",
            "Requirement already satisfied: setproctitle in /usr/local/lib/python3.10/dist-packages (from wandb) (1.3.2)\n",
            "Requirement already satisfied: setuptools in /usr/local/lib/python3.10/dist-packages (from wandb) (67.7.2)\n",
            "Requirement already satisfied: appdirs>=1.4.3 in /usr/local/lib/python3.10/dist-packages (from wandb) (1.4.4)\n",
            "Requirement already satisfied: protobuf!=4.21.0,<5,>=3.19.0 in /usr/local/lib/python3.10/dist-packages (from wandb) (3.20.3)\n",
            "Requirement already satisfied: six>=1.4.0 in /usr/local/lib/python3.10/dist-packages (from docker-pycreds>=0.4.0->wandb) (1.16.0)\n",
            "Requirement already satisfied: gitdb<5,>=4.0.1 in /usr/local/lib/python3.10/dist-packages (from GitPython!=3.1.29,>=1.0.0->wandb) (4.0.10)\n",
            "Requirement already satisfied: charset-normalizer<4,>=2 in /usr/local/lib/python3.10/dist-packages (from requests<3,>=2.0.0->wandb) (3.2.0)\n",
            "Requirement already satisfied: idna<4,>=2.5 in /usr/local/lib/python3.10/dist-packages (from requests<3,>=2.0.0->wandb) (3.4)\n",
            "Requirement already satisfied: urllib3<3,>=1.21.1 in /usr/local/lib/python3.10/dist-packages (from requests<3,>=2.0.0->wandb) (1.26.16)\n",
            "Requirement already satisfied: certifi>=2017.4.17 in /usr/local/lib/python3.10/dist-packages (from requests<3,>=2.0.0->wandb) (2023.7.22)\n",
            "Requirement already satisfied: smmap<6,>=3.0.1 in /usr/local/lib/python3.10/dist-packages (from gitdb<5,>=4.0.1->GitPython!=3.1.29,>=1.0.0->wandb) (5.0.0)\n"
          ]
        }
      ],
      "source": [
        "# for running in colab\n",
        "!pip install dgl\n",
        "!pip install rdkit\n",
        "!pip install torch_geometric\n",
        "!pip install wandb"
      ]
    },
    {
      "cell_type": "code",
      "execution_count": 4,
      "metadata": {
        "colab": {
          "base_uri": "https://localhost:8080/"
        },
        "id": "T69lAzjYIIKB",
        "outputId": "7463e74a-65f1-4553-dabb-71098a031a17"
      },
      "outputs": [
        {
          "output_type": "stream",
          "name": "stdout",
          "text": [
            "cuda\n"
          ]
        }
      ],
      "source": [
        "import numpy as np\n",
        "import pandas as pd\n",
        "import matplotlib.pyplot as plt\n",
        "import torch\n",
        "if not torch.cuda.is_available():\n",
        "  plt.rcParams[\"font.family\"] = \"Palatino\"\n",
        "\n",
        "import dgl\n",
        "import torch.nn as nn\n",
        "import torch.nn.functional as F\n",
        "from torch.optim import Adam, lr_scheduler\n",
        "from torch.utils.data import Dataset, DataLoader\n",
        "from torch_geometric.loader import DataLoader\n",
        "import wandb\n",
        "import warnings\n",
        "from tqdm import tqdm\n",
        "\n",
        "from rdkit import Chem\n",
        "from rdkit.Chem import MACCSkeys\n",
        "from rdkit.Chem import AllChem\n",
        "from rdkit.Chem import DataStructs\n",
        "\n",
        "# check if cuda is available\n",
        "device = torch.device('cuda' if torch.cuda.is_available() else 'cpu')\n",
        "print(device)"
      ]
    },
    {
      "cell_type": "code",
      "execution_count": 5,
      "metadata": {
        "colab": {
          "base_uri": "https://localhost:8080/"
        },
        "id": "zQK8GKzgKVqk",
        "outputId": "d9415d88-9f3e-4a3c-92d6-bf1786c75496"
      },
      "outputs": [
        {
          "output_type": "stream",
          "name": "stdout",
          "text": [
            "Drive already mounted at /content/drive; to attempt to forcibly remount, call drive.mount(\"/content/drive\", force_remount=True).\n"
          ]
        }
      ],
      "source": [
        "from google.colab import drive\n",
        "drive.mount('/content/drive')"
      ]
    },
    {
      "cell_type": "markdown",
      "metadata": {
        "id": "BiDm45e0IIKC"
      },
      "source": [
        "# Data"
      ]
    },
    {
      "cell_type": "markdown",
      "metadata": {
        "id": "326XAtvEIIKC"
      },
      "source": [
        "## Carci + Mut CONCERTO data\n",
        "Load in the carcinogenecity and mutagenecity data as in CONCERTO paper."
      ]
    },
    {
      "cell_type": "code",
      "execution_count": null,
      "metadata": {
        "id": "_RPSdghoIIKC"
      },
      "outputs": [],
      "source": [
        "class CancerMutDatasetClass(Dataset):\n",
        "\t'''\n",
        "\tImports and pre-processes the Cancer and Mutagenecity data and returns them in the form of a dataset\n",
        "\t'''\n",
        "\tdef __init__(self, out_feats=1, drop_ionic=True, min_carbon_count=0, fraction_of_data=1, use_carc_prob=False, carc_percentile_to_drop=0):\n",
        "\t\tself.out_feats = out_feats\n",
        "\t\tself.drop_ionic = drop_ionic\n",
        "\t\tself.min_carbon_count = min_carbon_count\n",
        "\t\tself.fraction_of_data = fraction_of_data\n",
        "\t\tself.use_carc_prob = use_carc_prob\n",
        "\t\tself.carc_percentile_to_drop = carc_percentile_to_drop\n",
        "\n",
        "\tdef load_carc_cpdb(cls):\n",
        "\t\tcpdb = pd.read_csv(\n",
        "\t\t\t'Data/concerto data/cpdb_aggergated.csv',\n",
        "\t\t\tusecols=['smiles', 'td50_log_harmonic', 'cas', 'carc_class', 'carc_class_multi']\n",
        "\t\t)\n",
        "\t\tcpdb['smiles'] = cls.smiles_standardize(cpdb['smiles'].values)\n",
        "\t\tcpdb = cpdb[cpdb['smiles'].notnull()]\n",
        "\t\tcpdb.rename(columns={'td50_log_harmonic': 'td50'}, inplace=True)\n",
        "\t\tassert cpdb['smiles'].duplicated().sum() == 0, \\\n",
        "\t\t\tcpdb[cpdb['smiles'].duplicated(keep=False)].sort_values('smiles').to_string()\n",
        "\t\tcpdb['source'] = 'cpdb'\n",
        "\t\treturn cpdb\n",
        "\n",
        "\tdef load_mut_hansen(cls):\n",
        "\t\tames_df = pd.read_csv('Data/concerto data/hansen_2009_ames.smi', sep='\\t', names=['smiles', 'cas', 'class'])\n",
        "\t\tames_df['smiles'] = cls.smiles_standardize(ames_df['smiles'].values)\n",
        "\t\tames_df = ames_df[ames_df['smiles'].notnull()]\n",
        "\t\tames_df.rename(columns={'class': 'mut_class'}, inplace=True)\n",
        "\t\tames_df.drop(columns='cas', inplace=True)\n",
        "\t\tames_df = ames_df[~ames_df.duplicated(['smiles', 'mut_class'])]\n",
        "\t\tassert ames_df['smiles'].duplicated().sum() == 0, \\\n",
        "\t\t\tames_df[ames_df['smiles'].duplicated(keep=False)].sort_values('smiles').to_string()\n",
        "\t\tames_df['source'] = 'hansen'\n",
        "\t\treturn ames_df\n",
        "\n",
        "\n",
        "\tdef smiles_standardize(cls, smiles):\n",
        "\t\tnew_smiles = []\n",
        "\t\tfor smile in smiles:\n",
        "\t\t\tif pd.isnull(smile):\n",
        "\t\t\t\tnew_smiles.append(None)\n",
        "\t\t\t\tcontinue\n",
        "\t\t\t# Generate the molecule from smile string\n",
        "\t\t\tmol = Chem.MolFromSmiles(smile)\n",
        "\t\t\t# If the smile string is null then continue\n",
        "\t\t\tif pd.isnull(mol):\n",
        "\t\t\t\tnew_smiles.append(None)\n",
        "\t\t\telse:\n",
        "\t\t\t\tnew_smiles.append(Chem.MolToSmiles(mol,canonical=True,isomericSmiles=False,allBondsExplicit=False))\n",
        "\t\treturn new_smiles\n",
        "\n",
        "\tdef count_num_carbons(cls, smile):\n",
        "\t\tmol = Chem.MolFromSmiles(smile)\n",
        "\t\tnum_c = 0\n",
        "\t\tfor atom in mol.GetAtoms():\n",
        "\t\t\tif atom.GetSymbol().upper() == 'C':\n",
        "\t\t\t\tnum_c += 1\n",
        "\t\treturn num_c\n",
        "\n",
        "\tdef load_data(self):\n",
        "\t\t# Loaded data should not overlap mut_hansn and carc_cpdb since they are the two primary training data sources\n",
        "\t\tmut = self.load_mut_hansen()\n",
        "\t\tcarc = self.load_carc_cpdb()\n",
        "\n",
        "\t\tcarc_datasets = []\n",
        "\t\tmut_datasets = []\n",
        "\n",
        "\t\tcarc_datasets.append(carc)\n",
        "\n",
        "\t\t# if 'carc_ccris' in self.carc_datasets:\n",
        "\t\t# \ttemp = self.load_carc_ccris()\n",
        "\t\t# \t# drop samples that are in training data by default cpdb & carc_pred_el\n",
        "\t\t# \ttemp = temp[~temp['smiles'].isin(carc['smiles'])]\n",
        "\t\t# \tcarc_datasets.append(temp)\n",
        "\n",
        "\t\tmut_datasets.append(mut)\n",
        "\n",
        "\t\tif mut_datasets:\n",
        "\t\t\tmut = pd.concat(mut_datasets)\n",
        "\t\telse:\n",
        "\t\t\tmut = pd.DataFrame(columns=mut.columns)\n",
        "\n",
        "\t\tif carc_datasets:\n",
        "\t\t\tcarc = pd.concat(carc_datasets)\n",
        "\t\telse:\n",
        "\t\t\tcarc = pd.DataFrame(columns=carc.columns)\n",
        "\n",
        "\t\t# check for duplicates\n",
        "\t\tif mut['smiles'].duplicated().sum() != 0:\n",
        "\t\t\twarnings.warn(f\"duplicated samples {mut['smiles'].duplicated().sum()} contained in mutagenicity data \"\n",
        "\t\t\t\t\t\t  f\"from {mut_datasets}\\n\"\n",
        "\t\t\t\t\t\t  f\" {mut[mut['smiles'].duplicated(keep=False)].sort_values('smiles').head().to_string()}\")\n",
        "\t\t\tmut.sort_values(['smiles', 'mut_class'], ascending=False)\n",
        "\t\t\tmut = mut[~mut.duplicated('smiles')]\n",
        "\n",
        "\t\tif carc['smiles'].duplicated().sum() != 0:\n",
        "\t\t\twarnings.warn(f\"duplicated samples {carc['smiles'].duplicated().sum()} contained in carcinogenicity data \"\n",
        "\t\t\t\t\t\t  f\"from {carc_datasets}\\n\"\n",
        "\t\t\t\t\t\t  f\" {carc[carc['smiles'].duplicated(keep=False)].sort_values('smiles').head().to_string()}\")\n",
        "\t\t\tcarc = carc[~carc.duplicated('smiles')]\n",
        "\n",
        "\t\t# merge the mut and carc datasets\n",
        "\t\tdf = pd.merge(mut, carc, how='outer', on='smiles')\n",
        "\t\tdf['source'] = df['source_x'].fillna('') + ',' + df['source_y'].fillna('')\n",
        "\t\tdf.drop(columns=['source_x', 'source_y'], inplace=True)\n",
        "\n",
        "\t\trequired_columns = ['td50', 'carc_class', 'mut_class', 'carc_class_multi']\n",
        "\t\tfor column in required_columns:\n",
        "\t\t\tif column not in df.columns:\n",
        "\t\t\t\tdf[column] = np.nan\n",
        "\n",
        "\t\tif self.drop_ionic:\n",
        "\t\t\tdf = df[~df['smiles'].str.contains('\\.')]\n",
        "\n",
        "\t\tdf['carbon_count'] = [self.count_num_carbons(x) for x in df['smiles'].values]\n",
        "\t\tif self.min_carbon_count:\n",
        "\t\t\tdf = df[df['carbon_count'] >= self.min_carbon_count]\n",
        "\n",
        "\t\t# Shuffle the data\n",
        "\t\tindex = np.arange(len(df))\n",
        "\t\tnp.random.seed(1337)\n",
        "\t\tnp.random.shuffle(index)\n",
        "\t\tdf = df.iloc[index].reset_index(drop=True)\n",
        "\n",
        "\t\t# Log of Betas that were fitted using a cox regression model\n",
        "\t\tif self.carc_percentile_to_drop > 0:\n",
        "\t\t\t# cleave off the top percentile\n",
        "\t\t\tlowest_td_50_val = np.nanpercentile(df['td50'].values, self.carc_percentile_to_drop)\n",
        "\t\t\tmask = df[df['td50'] <= lowest_td_50_val].index\n",
        "\t\t\tdf.loc[mask, 'td50'] = lowest_td_50_val\n",
        "\n",
        "\t\tbetas = np.log((np.log(2) / df[\"td50\"].values))\n",
        "\n",
        "\t\t# standardize\n",
        "\t\tbeta_standardized = (betas - np.nanmean(betas)) / np.nanstd(betas)\n",
        "\t\t# normalize\n",
        "\t\tbeta_normalized = betas - np.nanmin(betas)\n",
        "\t\tbeta_normalized = beta_normalized / np.nanmax(beta_normalized)\n",
        "\n",
        "\t\tdf['beta_standardized'] = beta_standardized\n",
        "\t\tdf['beta_normalized'] = beta_normalized\n",
        "\n",
        "\t\tif self.fraction_of_data < 1:\n",
        "\t\t\tnew_data_len = int(len(df) * self.fraction_of_data)\n",
        "\t\t\tdf = df.iloc[:new_data_len]\n",
        "\n",
        "\t\t#save the resulting dataframe\n",
        "\t\tself.df = df\n"
      ]
    },
    {
      "cell_type": "code",
      "execution_count": null,
      "metadata": {
        "id": "LaxYg7WEIIKD"
      },
      "outputs": [],
      "source": [
        "dataset = CancerMutDatasetClass()\n",
        "dataset.load_data()"
      ]
    },
    {
      "cell_type": "code",
      "execution_count": null,
      "metadata": {
        "id": "rqIw9U3KIIKD",
        "outputId": "38d05ec9-18da-4ae4-a48d-a9528aebd544"
      },
      "outputs": [
        {
          "data": {
            "text/html": [
              "<div>\n",
              "<style scoped>\n",
              "    .dataframe tbody tr th:only-of-type {\n",
              "        vertical-align: middle;\n",
              "    }\n",
              "\n",
              "    .dataframe tbody tr th {\n",
              "        vertical-align: top;\n",
              "    }\n",
              "\n",
              "    .dataframe thead th {\n",
              "        text-align: right;\n",
              "    }\n",
              "</style>\n",
              "<table border=\"1\" class=\"dataframe\">\n",
              "  <thead>\n",
              "    <tr style=\"text-align: right;\">\n",
              "      <th></th>\n",
              "      <th>smiles</th>\n",
              "      <th>mut_class</th>\n",
              "      <th>cas</th>\n",
              "      <th>td50</th>\n",
              "      <th>carc_class_multi</th>\n",
              "      <th>carc_class</th>\n",
              "      <th>source</th>\n",
              "      <th>carbon_count</th>\n",
              "      <th>beta_standardized</th>\n",
              "      <th>beta_normalized</th>\n",
              "    </tr>\n",
              "  </thead>\n",
              "  <tbody>\n",
              "    <tr>\n",
              "      <th>1633</th>\n",
              "      <td>CC(C)(C)c1ccc(OP2OCC3(CO2)COP(Oc2ccc(C(C)(C)C)...</td>\n",
              "      <td>0.0</td>\n",
              "      <td>NaN</td>\n",
              "      <td>NaN</td>\n",
              "      <td>NaN</td>\n",
              "      <td>NaN</td>\n",
              "      <td>hansen,</td>\n",
              "      <td>33</td>\n",
              "      <td>NaN</td>\n",
              "      <td>NaN</td>\n",
              "    </tr>\n",
              "    <tr>\n",
              "      <th>4820</th>\n",
              "      <td>Nc1ccc(CO)c([N+](=O)[O-])c1</td>\n",
              "      <td>1.0</td>\n",
              "      <td>NaN</td>\n",
              "      <td>NaN</td>\n",
              "      <td>NaN</td>\n",
              "      <td>NaN</td>\n",
              "      <td>hansen,</td>\n",
              "      <td>7</td>\n",
              "      <td>NaN</td>\n",
              "      <td>NaN</td>\n",
              "    </tr>\n",
              "    <tr>\n",
              "      <th>6547</th>\n",
              "      <td>NCCNCCNCCN</td>\n",
              "      <td>1.0</td>\n",
              "      <td>NaN</td>\n",
              "      <td>NaN</td>\n",
              "      <td>NaN</td>\n",
              "      <td>NaN</td>\n",
              "      <td>hansen,</td>\n",
              "      <td>6</td>\n",
              "      <td>NaN</td>\n",
              "      <td>NaN</td>\n",
              "    </tr>\n",
              "    <tr>\n",
              "      <th>1001</th>\n",
              "      <td>BrCc1c2ccccc2c2ccc3cccc4ccc1c2c43</td>\n",
              "      <td>1.0</td>\n",
              "      <td>NaN</td>\n",
              "      <td>NaN</td>\n",
              "      <td>NaN</td>\n",
              "      <td>NaN</td>\n",
              "      <td>hansen,</td>\n",
              "      <td>21</td>\n",
              "      <td>NaN</td>\n",
              "      <td>NaN</td>\n",
              "    </tr>\n",
              "    <tr>\n",
              "      <th>545</th>\n",
              "      <td>OC1C=Cc2ncccc2C1O</td>\n",
              "      <td>0.0</td>\n",
              "      <td>NaN</td>\n",
              "      <td>NaN</td>\n",
              "      <td>NaN</td>\n",
              "      <td>NaN</td>\n",
              "      <td>hansen,</td>\n",
              "      <td>9</td>\n",
              "      <td>NaN</td>\n",
              "      <td>NaN</td>\n",
              "    </tr>\n",
              "    <tr>\n",
              "      <th>4971</th>\n",
              "      <td>COC(C(=O)O)c1ccccc1</td>\n",
              "      <td>NaN</td>\n",
              "      <td>1701-77-5</td>\n",
              "      <td>6.598778</td>\n",
              "      <td>2.0</td>\n",
              "      <td>1.0</td>\n",
              "      <td>,cpdb</td>\n",
              "      <td>9</td>\n",
              "      <td>-0.085314</td>\n",
              "      <td>0.175281</td>\n",
              "    </tr>\n",
              "    <tr>\n",
              "      <th>1094</th>\n",
              "      <td>CC(C)[N+](C)(CCOC(=O)C1c2ccccc2Oc2ccccc21)C(C)C</td>\n",
              "      <td>0.0</td>\n",
              "      <td>NaN</td>\n",
              "      <td>NaN</td>\n",
              "      <td>NaN</td>\n",
              "      <td>NaN</td>\n",
              "      <td>hansen,</td>\n",
              "      <td>23</td>\n",
              "      <td>NaN</td>\n",
              "      <td>NaN</td>\n",
              "    </tr>\n",
              "    <tr>\n",
              "      <th>1664</th>\n",
              "      <td>CC(=O)Nc1nc2c3cccnc3ccc2n1C</td>\n",
              "      <td>1.0</td>\n",
              "      <td>NaN</td>\n",
              "      <td>NaN</td>\n",
              "      <td>NaN</td>\n",
              "      <td>NaN</td>\n",
              "      <td>hansen,</td>\n",
              "      <td>13</td>\n",
              "      <td>NaN</td>\n",
              "      <td>NaN</td>\n",
              "    </tr>\n",
              "    <tr>\n",
              "      <th>5062</th>\n",
              "      <td>O=[N+]([O-])c1ccc2c3ccccc3c3cccc4ccc1c2c43</td>\n",
              "      <td>1.0</td>\n",
              "      <td>NaN</td>\n",
              "      <td>NaN</td>\n",
              "      <td>NaN</td>\n",
              "      <td>NaN</td>\n",
              "      <td>hansen,</td>\n",
              "      <td>20</td>\n",
              "      <td>NaN</td>\n",
              "      <td>NaN</td>\n",
              "    </tr>\n",
              "    <tr>\n",
              "      <th>1571</th>\n",
              "      <td>CN(C)c1nc(N(C)C)nc(N(C)C)n1</td>\n",
              "      <td>0.0</td>\n",
              "      <td>NaN</td>\n",
              "      <td>NaN</td>\n",
              "      <td>NaN</td>\n",
              "      <td>NaN</td>\n",
              "      <td>hansen,</td>\n",
              "      <td>9</td>\n",
              "      <td>NaN</td>\n",
              "      <td>NaN</td>\n",
              "    </tr>\n",
              "  </tbody>\n",
              "</table>\n",
              "</div>"
            ],
            "text/plain": [
              "                                                 smiles  mut_class        cas  \\\n",
              "1633  CC(C)(C)c1ccc(OP2OCC3(CO2)COP(Oc2ccc(C(C)(C)C)...        0.0        NaN   \n",
              "4820                        Nc1ccc(CO)c([N+](=O)[O-])c1        1.0        NaN   \n",
              "6547                                         NCCNCCNCCN        1.0        NaN   \n",
              "1001                  BrCc1c2ccccc2c2ccc3cccc4ccc1c2c43        1.0        NaN   \n",
              "545                                   OC1C=Cc2ncccc2C1O        0.0        NaN   \n",
              "4971                                COC(C(=O)O)c1ccccc1        NaN  1701-77-5   \n",
              "1094    CC(C)[N+](C)(CCOC(=O)C1c2ccccc2Oc2ccccc21)C(C)C        0.0        NaN   \n",
              "1664                        CC(=O)Nc1nc2c3cccnc3ccc2n1C        1.0        NaN   \n",
              "5062         O=[N+]([O-])c1ccc2c3ccccc3c3cccc4ccc1c2c43        1.0        NaN   \n",
              "1571                        CN(C)c1nc(N(C)C)nc(N(C)C)n1        0.0        NaN   \n",
              "\n",
              "          td50  carc_class_multi  carc_class   source  carbon_count  \\\n",
              "1633       NaN               NaN         NaN  hansen,            33   \n",
              "4820       NaN               NaN         NaN  hansen,             7   \n",
              "6547       NaN               NaN         NaN  hansen,             6   \n",
              "1001       NaN               NaN         NaN  hansen,            21   \n",
              "545        NaN               NaN         NaN  hansen,             9   \n",
              "4971  6.598778               2.0         1.0    ,cpdb             9   \n",
              "1094       NaN               NaN         NaN  hansen,            23   \n",
              "1664       NaN               NaN         NaN  hansen,            13   \n",
              "5062       NaN               NaN         NaN  hansen,            20   \n",
              "1571       NaN               NaN         NaN  hansen,             9   \n",
              "\n",
              "      beta_standardized  beta_normalized  \n",
              "1633                NaN              NaN  \n",
              "4820                NaN              NaN  \n",
              "6547                NaN              NaN  \n",
              "1001                NaN              NaN  \n",
              "545                 NaN              NaN  \n",
              "4971          -0.085314         0.175281  \n",
              "1094                NaN              NaN  \n",
              "1664                NaN              NaN  \n",
              "5062                NaN              NaN  \n",
              "1571                NaN              NaN  "
            ]
          },
          "execution_count": 236,
          "metadata": {},
          "output_type": "execute_result"
        }
      ],
      "source": [
        "# give random draw of data\n",
        "dataset.df.sample(10)"
      ]
    },
    {
      "cell_type": "code",
      "execution_count": null,
      "metadata": {
        "id": "eiHvtRoHIIKE"
      },
      "outputs": [],
      "source": [
        "'''\n",
        "Some things from the original code that I might need to use later\n",
        "'''\n",
        "# Clip loss\n",
        "# torch.nn.utils.clip_grad_norm_(model.parameters(), args[\"gradient_clip_norm\"])\n",
        "# optimizer = Adam(model.parameters(), lr=args['lr'], weight_decay=args['network_weight_decay'])\n",
        "# scheduler = lr_scheduler.ReduceLROnPlateau(optimizer, 'min', factor=args['lr_decay_factor'])\n",
        "\n",
        "# early_stop = stopper.step(val_score, model)\n",
        "# if args[\"use_wandb\"]:\n",
        "#     wandb.log({\n",
        "#         f\"epoch{note}\": epoch + 1,\n",
        "#         f\"training_carcinogenic_loss{note}\": train_carc_loss,\n",
        "#         f\"training_mutagenic_loss{note}\": train_mut_loss,\n",
        "#         f\"training_loss{note}\": train_loss,\n",
        "#         f\"training_mut_{train_mut_metric_name}{note}\": train_mut_metric,\n",
        "#         f\"training_mut_{train_mut_metric_name2}{note}\": train_mut_metric2,\n",
        "#         f\"training_carc_{train_carc_metric_name}{note}\": train_carc_metric,\n",
        "#         f\"training_carc_{train_carc_metric_name2}{note}\": train_carc_metric2,\n",
        "\n",
        "#         f\"validation_loss{note}\": val_loss,\n",
        "#         f\"validation_carc_loss{note}\": val_carc_loss,\n",
        "#         f\"validation_mut_loss{note}\": val_mut_loss,\n",
        "#         f\"validation_carc_{val_carc_metric_name}{note}\": val_carc_metric,\n",
        "#         f\"validation_carc_{val_carc_metric_name2}{note}\": val_carc_metric2,\n",
        "#         f\"validation_mut_{val_mut_metric_name}{note}\": val_mut_metric,\n",
        "#         f\"validation_mut_{val_mut_metric_name2}{note}\": val_mut_metric2,\n",
        "#     })\n",
        "\n",
        "# if early_stop:\n",
        "#     break\n",
        "# stopper.load_checkpoint(model)\n"
      ]
    },
    {
      "cell_type": "markdown",
      "metadata": {
        "id": "5GydVVxwIIKE"
      },
      "source": [
        "## HTSFP PubChem data\n",
        "Load in the HTSFP data from the activity matrix generated in 'HTS_fingerprints'"
      ]
    },
    {
      "cell_type": "code",
      "execution_count": 6,
      "metadata": {
        "colab": {
          "base_uri": "https://localhost:8080/",
          "height": 0
        },
        "id": "APkgleI6IIKE",
        "outputId": "af17f227-ad30-48d6-e2a8-5b237dd7246b"
      },
      "outputs": [
        {
          "output_type": "stream",
          "name": "stdout",
          "text": [
            "Binary activity matrix shape:  (324192, 272)\n"
          ]
        },
        {
          "output_type": "execute_result",
          "data": {
            "text/plain": [
              "                                              SMILES  602399  588352  720702  \\\n",
              "0         CNC(=S)N1CCN(CC1)C2=CC=C(C=C2)[N+](=O)[O-]       0       0       0   \n",
              "1                         C1C(NC(S1)C2=CC=CO2)C(=O)O       1       0       0   \n",
              "2  CC[C@@]1([C@@H]2[C@H]([C@H](N1)CN(C)C(=O)NC3=C...       0       0       0   \n",
              "3              CCC1CCCCN1C(=O)CSC2=NN=C(O2)C3=CC=CS3       0       1       0   \n",
              "4  CC(C)[N+]12CCC(CC1)C(C2)C(C3=CC=CC=C3)(C4=CC=C...       0       0       0   \n",
              "\n",
              "   624377  602429  588621  720700  720648  624416  ...  485344  651550  \\\n",
              "0       0       1       0       0       0       0  ...       0       0   \n",
              "1       0       1       1       0       0       0  ...       0       0   \n",
              "2       0       0       0       0       0       0  ...       0       0   \n",
              "3       0       0       0       0       0       0  ...       0       0   \n",
              "4       0       0       0       0       0       0  ...       0       0   \n",
              "\n",
              "   588674  743397  651719  651724  1259313  1259400  588511  588726  \n",
              "0       0       0       0       0        0        0       0       0  \n",
              "1       0       0       0       0        0        0       0       0  \n",
              "2       0       0       0       0        0        0       0       0  \n",
              "3       0       0       0       0        0        0       0       0  \n",
              "4       0       0       0       0        0        0       0       0  \n",
              "\n",
              "[5 rows x 272 columns]"
            ],
            "text/html": [
              "\n",
              "\n",
              "  <div id=\"df-46e8369d-e22c-428d-9d9e-0a0208c66a16\">\n",
              "    <div class=\"colab-df-container\">\n",
              "      <div>\n",
              "<style scoped>\n",
              "    .dataframe tbody tr th:only-of-type {\n",
              "        vertical-align: middle;\n",
              "    }\n",
              "\n",
              "    .dataframe tbody tr th {\n",
              "        vertical-align: top;\n",
              "    }\n",
              "\n",
              "    .dataframe thead th {\n",
              "        text-align: right;\n",
              "    }\n",
              "</style>\n",
              "<table border=\"1\" class=\"dataframe\">\n",
              "  <thead>\n",
              "    <tr style=\"text-align: right;\">\n",
              "      <th></th>\n",
              "      <th>SMILES</th>\n",
              "      <th>602399</th>\n",
              "      <th>588352</th>\n",
              "      <th>720702</th>\n",
              "      <th>624377</th>\n",
              "      <th>602429</th>\n",
              "      <th>588621</th>\n",
              "      <th>720700</th>\n",
              "      <th>720648</th>\n",
              "      <th>624416</th>\n",
              "      <th>...</th>\n",
              "      <th>485344</th>\n",
              "      <th>651550</th>\n",
              "      <th>588674</th>\n",
              "      <th>743397</th>\n",
              "      <th>651719</th>\n",
              "      <th>651724</th>\n",
              "      <th>1259313</th>\n",
              "      <th>1259400</th>\n",
              "      <th>588511</th>\n",
              "      <th>588726</th>\n",
              "    </tr>\n",
              "  </thead>\n",
              "  <tbody>\n",
              "    <tr>\n",
              "      <th>0</th>\n",
              "      <td>CNC(=S)N1CCN(CC1)C2=CC=C(C=C2)[N+](=O)[O-]</td>\n",
              "      <td>0</td>\n",
              "      <td>0</td>\n",
              "      <td>0</td>\n",
              "      <td>0</td>\n",
              "      <td>1</td>\n",
              "      <td>0</td>\n",
              "      <td>0</td>\n",
              "      <td>0</td>\n",
              "      <td>0</td>\n",
              "      <td>...</td>\n",
              "      <td>0</td>\n",
              "      <td>0</td>\n",
              "      <td>0</td>\n",
              "      <td>0</td>\n",
              "      <td>0</td>\n",
              "      <td>0</td>\n",
              "      <td>0</td>\n",
              "      <td>0</td>\n",
              "      <td>0</td>\n",
              "      <td>0</td>\n",
              "    </tr>\n",
              "    <tr>\n",
              "      <th>1</th>\n",
              "      <td>C1C(NC(S1)C2=CC=CO2)C(=O)O</td>\n",
              "      <td>1</td>\n",
              "      <td>0</td>\n",
              "      <td>0</td>\n",
              "      <td>0</td>\n",
              "      <td>1</td>\n",
              "      <td>1</td>\n",
              "      <td>0</td>\n",
              "      <td>0</td>\n",
              "      <td>0</td>\n",
              "      <td>...</td>\n",
              "      <td>0</td>\n",
              "      <td>0</td>\n",
              "      <td>0</td>\n",
              "      <td>0</td>\n",
              "      <td>0</td>\n",
              "      <td>0</td>\n",
              "      <td>0</td>\n",
              "      <td>0</td>\n",
              "      <td>0</td>\n",
              "      <td>0</td>\n",
              "    </tr>\n",
              "    <tr>\n",
              "      <th>2</th>\n",
              "      <td>CC[C@@]1([C@@H]2[C@H]([C@H](N1)CN(C)C(=O)NC3=C...</td>\n",
              "      <td>0</td>\n",
              "      <td>0</td>\n",
              "      <td>0</td>\n",
              "      <td>0</td>\n",
              "      <td>0</td>\n",
              "      <td>0</td>\n",
              "      <td>0</td>\n",
              "      <td>0</td>\n",
              "      <td>0</td>\n",
              "      <td>...</td>\n",
              "      <td>0</td>\n",
              "      <td>0</td>\n",
              "      <td>0</td>\n",
              "      <td>0</td>\n",
              "      <td>0</td>\n",
              "      <td>0</td>\n",
              "      <td>0</td>\n",
              "      <td>0</td>\n",
              "      <td>0</td>\n",
              "      <td>0</td>\n",
              "    </tr>\n",
              "    <tr>\n",
              "      <th>3</th>\n",
              "      <td>CCC1CCCCN1C(=O)CSC2=NN=C(O2)C3=CC=CS3</td>\n",
              "      <td>0</td>\n",
              "      <td>1</td>\n",
              "      <td>0</td>\n",
              "      <td>0</td>\n",
              "      <td>0</td>\n",
              "      <td>0</td>\n",
              "      <td>0</td>\n",
              "      <td>0</td>\n",
              "      <td>0</td>\n",
              "      <td>...</td>\n",
              "      <td>0</td>\n",
              "      <td>0</td>\n",
              "      <td>0</td>\n",
              "      <td>0</td>\n",
              "      <td>0</td>\n",
              "      <td>0</td>\n",
              "      <td>0</td>\n",
              "      <td>0</td>\n",
              "      <td>0</td>\n",
              "      <td>0</td>\n",
              "    </tr>\n",
              "    <tr>\n",
              "      <th>4</th>\n",
              "      <td>CC(C)[N+]12CCC(CC1)C(C2)C(C3=CC=CC=C3)(C4=CC=C...</td>\n",
              "      <td>0</td>\n",
              "      <td>0</td>\n",
              "      <td>0</td>\n",
              "      <td>0</td>\n",
              "      <td>0</td>\n",
              "      <td>0</td>\n",
              "      <td>0</td>\n",
              "      <td>0</td>\n",
              "      <td>0</td>\n",
              "      <td>...</td>\n",
              "      <td>0</td>\n",
              "      <td>0</td>\n",
              "      <td>0</td>\n",
              "      <td>0</td>\n",
              "      <td>0</td>\n",
              "      <td>0</td>\n",
              "      <td>0</td>\n",
              "      <td>0</td>\n",
              "      <td>0</td>\n",
              "      <td>0</td>\n",
              "    </tr>\n",
              "  </tbody>\n",
              "</table>\n",
              "<p>5 rows × 272 columns</p>\n",
              "</div>\n",
              "      <button class=\"colab-df-convert\" onclick=\"convertToInteractive('df-46e8369d-e22c-428d-9d9e-0a0208c66a16')\"\n",
              "              title=\"Convert this dataframe to an interactive table.\"\n",
              "              style=\"display:none;\">\n",
              "\n",
              "  <svg xmlns=\"http://www.w3.org/2000/svg\" height=\"24px\"viewBox=\"0 0 24 24\"\n",
              "       width=\"24px\">\n",
              "    <path d=\"M0 0h24v24H0V0z\" fill=\"none\"/>\n",
              "    <path d=\"M18.56 5.44l.94 2.06.94-2.06 2.06-.94-2.06-.94-.94-2.06-.94 2.06-2.06.94zm-11 1L8.5 8.5l.94-2.06 2.06-.94-2.06-.94L8.5 2.5l-.94 2.06-2.06.94zm10 10l.94 2.06.94-2.06 2.06-.94-2.06-.94-.94-2.06-.94 2.06-2.06.94z\"/><path d=\"M17.41 7.96l-1.37-1.37c-.4-.4-.92-.59-1.43-.59-.52 0-1.04.2-1.43.59L10.3 9.45l-7.72 7.72c-.78.78-.78 2.05 0 2.83L4 21.41c.39.39.9.59 1.41.59.51 0 1.02-.2 1.41-.59l7.78-7.78 2.81-2.81c.8-.78.8-2.07 0-2.86zM5.41 20L4 18.59l7.72-7.72 1.47 1.35L5.41 20z\"/>\n",
              "  </svg>\n",
              "      </button>\n",
              "\n",
              "\n",
              "\n",
              "    <div id=\"df-e127a440-0ef3-4f9e-b678-546c42de2557\">\n",
              "      <button class=\"colab-df-quickchart\" onclick=\"quickchart('df-e127a440-0ef3-4f9e-b678-546c42de2557')\"\n",
              "              title=\"Suggest charts.\"\n",
              "              style=\"display:none;\">\n",
              "\n",
              "<svg xmlns=\"http://www.w3.org/2000/svg\" height=\"24px\"viewBox=\"0 0 24 24\"\n",
              "     width=\"24px\">\n",
              "    <g>\n",
              "        <path d=\"M19 3H5c-1.1 0-2 .9-2 2v14c0 1.1.9 2 2 2h14c1.1 0 2-.9 2-2V5c0-1.1-.9-2-2-2zM9 17H7v-7h2v7zm4 0h-2V7h2v10zm4 0h-2v-4h2v4z\"/>\n",
              "    </g>\n",
              "</svg>\n",
              "      </button>\n",
              "    </div>\n",
              "\n",
              "<style>\n",
              "  .colab-df-quickchart {\n",
              "    background-color: #E8F0FE;\n",
              "    border: none;\n",
              "    border-radius: 50%;\n",
              "    cursor: pointer;\n",
              "    display: none;\n",
              "    fill: #1967D2;\n",
              "    height: 32px;\n",
              "    padding: 0 0 0 0;\n",
              "    width: 32px;\n",
              "  }\n",
              "\n",
              "  .colab-df-quickchart:hover {\n",
              "    background-color: #E2EBFA;\n",
              "    box-shadow: 0px 1px 2px rgba(60, 64, 67, 0.3), 0px 1px 3px 1px rgba(60, 64, 67, 0.15);\n",
              "    fill: #174EA6;\n",
              "  }\n",
              "\n",
              "  [theme=dark] .colab-df-quickchart {\n",
              "    background-color: #3B4455;\n",
              "    fill: #D2E3FC;\n",
              "  }\n",
              "\n",
              "  [theme=dark] .colab-df-quickchart:hover {\n",
              "    background-color: #434B5C;\n",
              "    box-shadow: 0px 1px 3px 1px rgba(0, 0, 0, 0.15);\n",
              "    filter: drop-shadow(0px 1px 2px rgba(0, 0, 0, 0.3));\n",
              "    fill: #FFFFFF;\n",
              "  }\n",
              "</style>\n",
              "\n",
              "    <script>\n",
              "      async function quickchart(key) {\n",
              "        const containerElement = document.querySelector('#' + key);\n",
              "        const charts = await google.colab.kernel.invokeFunction(\n",
              "            'suggestCharts', [key], {});\n",
              "      }\n",
              "    </script>\n",
              "\n",
              "      <script>\n",
              "\n",
              "function displayQuickchartButton(domScope) {\n",
              "  let quickchartButtonEl =\n",
              "    domScope.querySelector('#df-e127a440-0ef3-4f9e-b678-546c42de2557 button.colab-df-quickchart');\n",
              "  quickchartButtonEl.style.display =\n",
              "    google.colab.kernel.accessAllowed ? 'block' : 'none';\n",
              "}\n",
              "\n",
              "        displayQuickchartButton(document);\n",
              "      </script>\n",
              "      <style>\n",
              "    .colab-df-container {\n",
              "      display:flex;\n",
              "      flex-wrap:wrap;\n",
              "      gap: 12px;\n",
              "    }\n",
              "\n",
              "    .colab-df-convert {\n",
              "      background-color: #E8F0FE;\n",
              "      border: none;\n",
              "      border-radius: 50%;\n",
              "      cursor: pointer;\n",
              "      display: none;\n",
              "      fill: #1967D2;\n",
              "      height: 32px;\n",
              "      padding: 0 0 0 0;\n",
              "      width: 32px;\n",
              "    }\n",
              "\n",
              "    .colab-df-convert:hover {\n",
              "      background-color: #E2EBFA;\n",
              "      box-shadow: 0px 1px 2px rgba(60, 64, 67, 0.3), 0px 1px 3px 1px rgba(60, 64, 67, 0.15);\n",
              "      fill: #174EA6;\n",
              "    }\n",
              "\n",
              "    [theme=dark] .colab-df-convert {\n",
              "      background-color: #3B4455;\n",
              "      fill: #D2E3FC;\n",
              "    }\n",
              "\n",
              "    [theme=dark] .colab-df-convert:hover {\n",
              "      background-color: #434B5C;\n",
              "      box-shadow: 0px 1px 3px 1px rgba(0, 0, 0, 0.15);\n",
              "      filter: drop-shadow(0px 1px 2px rgba(0, 0, 0, 0.3));\n",
              "      fill: #FFFFFF;\n",
              "    }\n",
              "  </style>\n",
              "\n",
              "      <script>\n",
              "        const buttonEl =\n",
              "          document.querySelector('#df-46e8369d-e22c-428d-9d9e-0a0208c66a16 button.colab-df-convert');\n",
              "        buttonEl.style.display =\n",
              "          google.colab.kernel.accessAllowed ? 'block' : 'none';\n",
              "\n",
              "        async function convertToInteractive(key) {\n",
              "          const element = document.querySelector('#df-46e8369d-e22c-428d-9d9e-0a0208c66a16');\n",
              "          const dataTable =\n",
              "            await google.colab.kernel.invokeFunction('convertToInteractive',\n",
              "                                                     [key], {});\n",
              "          if (!dataTable) return;\n",
              "\n",
              "          const docLinkHtml = 'Like what you see? Visit the ' +\n",
              "            '<a target=\"_blank\" href=https://colab.research.google.com/notebooks/data_table.ipynb>data table notebook</a>'\n",
              "            + ' to learn more about interactive tables.';\n",
              "          element.innerHTML = '';\n",
              "          dataTable['output_type'] = 'display_data';\n",
              "          await google.colab.output.renderOutput(dataTable, element);\n",
              "          const docLink = document.createElement('div');\n",
              "          docLink.innerHTML = docLinkHtml;\n",
              "          element.appendChild(docLink);\n",
              "        }\n",
              "      </script>\n",
              "    </div>\n",
              "  </div>\n"
            ]
          },
          "metadata": {},
          "execution_count": 6
        }
      ],
      "source": [
        "# Load the matrix\n",
        "if torch.cuda.is_available():\n",
        "    directory = '/content/drive/MyDrive/Thesis/Data/'\n",
        "else:\n",
        "    directory = '/Volumes/Kubánek UCL/Data/Thesis MSc/PubChem Data/final/'\n",
        "\n",
        "matrix_df = pd.read_csv(directory+'activity_matrix_579_median_binary_at2.csv') #Thesis/Data\n",
        "\n",
        "# shuffle dataframe (otherwise some assays sorted acsendingly)\n",
        "def shuffle_df(df):\n",
        "    df = df.sample(frac=1).reset_index(drop=True)\n",
        "    return df\n",
        "matrix_df = shuffle_df(matrix_df)\n",
        "\n",
        "print('Binary activity matrix shape: ', matrix_df.shape)\n",
        "matrix_df.head()"
      ]
    },
    {
      "cell_type": "code",
      "execution_count": 7,
      "metadata": {
        "colab": {
          "base_uri": "https://localhost:8080/",
          "height": 0
        },
        "id": "X2wTpqNn2IIo",
        "outputId": "8e08aeb0-c72e-489e-dac6-e8ca3225a4a6"
      },
      "outputs": [
        {
          "output_type": "display_data",
          "data": {
            "text/plain": [
              "<Figure size 1000x500 with 1 Axes>"
            ],
            "image/png": "[encoded data removed]"
          },
          "metadata": {}
        },
        {
          "output_type": "stream",
          "name": "stdout",
          "text": [
            "Assays with few hits (<1%): \n",
            " # 84 \n",
            " ['720702' '624377' '588621' '624038' '651560' '651602' '504651' '624267'\n",
            " '651957' '624304' '651572' '602244' '602250' '686964' '624040' '651800'\n",
            " '624125' '602123' '588664' '624126' '624169' '720509' '652017' '743269'\n",
            " '651718' '602141' '2380' '2550' '2642' '2648' '2825' '435030' '449728'\n",
            " '463079' '463141' '463210' '485347' '488965' '488975' '488977' '489030'\n",
            " '489031' '492972' '493008' '493087' '493098' '493160' '493187' '493244'\n",
            " '504406' '504523' '504577' '504621' '504634' '504692' '504734' '540267'\n",
            " '540295' '588335' '588627' '588675' '588676' '588819' '602410' '623877'\n",
            " '1511' '1554' '1875' '1950' '1987' '2234' '2300' '2445' '2553' '2690'\n",
            " '434962' '434989' '463111' '463165' '463190' '463212' '485272' '651719'\n",
            " '588511']\n"
          ]
        }
      ],
      "source": [
        "# sum matrix_df across rows, excluding the first column 'SMILES'\n",
        "hit_ratio = matrix_df.iloc[:,1:].sum(axis=0)/matrix_df.shape[0]\n",
        "\n",
        "#plot pos_ratio\n",
        "plt.figure(figsize=(10,5))\n",
        "plt.hist(hit_ratio, bins=20)\n",
        "plt.xlabel('Proportion of hits')\n",
        "plt.ylabel('Number of assays')\n",
        "plt.title(f'Distribution of hits across assays (activity threshold = 2)')\n",
        "plt.show()\n",
        "\n",
        "print('Assays with few hits (<1%): \\n #', len(matrix_df.columns[1:][torch.where(torch.tensor(hit_ratio)<0.01)].values), '\\n', matrix_df.columns[1:][torch.where(torch.tensor(hit_ratio)<0.01)].values)"
      ]
    },
    {
      "cell_type": "markdown",
      "metadata": {
        "id": "vjkmx0VD2IIp"
      },
      "source": [
        "### Split assays into types: cell-based, biochemical & high, medium and low hit-rate"
      ]
    },
    {
      "cell_type": "code",
      "execution_count": 8,
      "metadata": {
        "colab": {
          "base_uri": "https://localhost:8080/"
        },
        "id": "zSXcjDkP2IIp",
        "outputId": "4ec5478b-5f49-49e8-b3c4-4bdd28879bbf"
      },
      "outputs": [
        {
          "output_type": "stream",
          "name": "stdout",
          "text": [
            "Sizes of hit rate categories (low, med, high, all): 84 162 25 271\n",
            "\n",
            "\n",
            "Cell based category sizes (low, med, high): 37 38 7\n",
            "Non-cell based category sizes (low, med, high): 47 124 18\n"
          ]
        }
      ],
      "source": [
        "# load list of cell-based assays\n",
        "with open(directory + '/info/cell_based_assays.txt', 'r') as file:\n",
        "    lines = file.read().splitlines()\n",
        "cell_based = list(map(str, lines))\n",
        "\n",
        "# load list of biochemical non-cell-based assays\n",
        "with open(directory + '/info/non_cell_based_assays.txt', 'r') as file:\n",
        "    lines = file.read().splitlines()\n",
        "non_cell_based = list(map(str, lines))\n",
        "\n",
        "# separate the items into low, medium, and high hit rate items\n",
        "low_hit_rate = matrix_df.columns[1:][torch.where(torch.tensor(hit_ratio)<0.01)].values\n",
        "high_hit_rate = matrix_df.columns[1:][torch.where(torch.tensor(hit_ratio)>=0.05)].values\n",
        "# the rest of the items are medium hit rate items\n",
        "med_hit_rate = list(set(list(matrix_df.columns[1:])) - set(list(low_hit_rate)) - set(list(high_hit_rate)))\n",
        "\n",
        "print('Sizes of hit rate categories (low, med, high, all):', len(low_hit_rate), len(med_hit_rate), len(high_hit_rate), len(hit_ratio))\n",
        "print('\\n')\n",
        "\n",
        "# separating cell-based and non-cell-based into categories based on hit rate\n",
        "cell_based_high_hr =list(set(cell_based).intersection(set(high_hit_rate)))\n",
        "cell_based_med_hr = list(set(cell_based).intersection(set(med_hit_rate)))\n",
        "cell_based_low_hr = list(set(cell_based).intersection(set(low_hit_rate)))\n",
        "print('Cell based category sizes (low, med, high):',len(cell_based_low_hr), len(cell_based_med_hr), len(cell_based_high_hr))\n",
        "non_cell_based_high_hr = list(set(non_cell_based).intersection(set(high_hit_rate)))\n",
        "non_cell_based_med_hr = list(set(non_cell_based).intersection(set(med_hit_rate)))\n",
        "non_cell_based_low_hr = list(set(non_cell_based).intersection(set(low_hit_rate)))\n",
        "print('Non-cell based category sizes (low, med, high):',len(non_cell_based_low_hr), len(non_cell_based_med_hr), len(non_cell_based_high_hr))\n"
      ]
    },
    {
      "cell_type": "code",
      "execution_count": 9,
      "metadata": {
        "colab": {
          "base_uri": "https://localhost:8080/"
        },
        "id": "ohV-EmGz2IIp",
        "outputId": "c31eb6e4-af4f-4178-9c39-90dcc8374ad0"
      },
      "outputs": [
        {
          "output_type": "execute_result",
          "data": {
            "text/plain": [
              "['1979', '1910', '743397', '2796', '602248', '2797', '624127']"
            ]
          },
          "metadata": {},
          "execution_count": 9
        }
      ],
      "source": [
        "cell_based_high_hr"
      ]
    },
    {
      "cell_type": "markdown",
      "metadata": {
        "id": "HgPnbAIFIIKE"
      },
      "source": [
        "# Representation"
      ]
    },
    {
      "cell_type": "markdown",
      "metadata": {
        "id": "VgoO5qXJIIKE"
      },
      "source": [
        "## Fingerprints\n",
        "smiles →  fingerprints"
      ]
    },
    {
      "cell_type": "code",
      "execution_count": 10,
      "metadata": {
        "id": "3gD8ciy5IIKF"
      },
      "outputs": [],
      "source": [
        "def convert_smile_to_fp_bit_string(smile):\n",
        "        \"\"\"\n",
        "        Convert SMILES string to concatenation of RDFKIT, Morgan and MACCSS fingerprints.\n",
        "        \"\"\"\n",
        "        # RDFKIT (fingerprint dim fpSize=1024)\n",
        "        x = Chem.MolFromSmiles(smile)\n",
        "        fp1 = Chem.RDKFingerprint(x, fpSize=1024)\n",
        "\n",
        "        # MACCSS substructure (fingerprint dim 167)\n",
        "        fp2 = MACCSkeys.GenMACCSKeys(x)\n",
        "\n",
        "        # Morgan (fingerprint dim fpSize=1024)\n",
        "        fp_hashes = []\n",
        "        fp3 = AllChem.GetHashedMorganFingerprint(x, 2, nBits=1024)\n",
        "        fp3_array = np.zeros((0,), dtype=np.int8)\n",
        "        DataStructs.ConvertToNumpyArray(fp3, fp3_array)\n",
        "        fp_hashes.append(fp3_array)\n",
        "\n",
        "        # combine all fingerprints\n",
        "        fp = fp1.ToBitString() + fp2.ToBitString()\n",
        "        fp = np.array(list(fp)).astype(np.int8)\n",
        "        fp = np.concatenate([fp] + fp_hashes)\n",
        "        fp = torch.tensor(fp).to(torch.float32)\n",
        "        return fp"
      ]
    },
    {
      "cell_type": "markdown",
      "metadata": {
        "id": "vqxiY9IkIIKF"
      },
      "source": [
        "Get sample fingerprint"
      ]
    },
    {
      "cell_type": "code",
      "execution_count": 11,
      "metadata": {
        "colab": {
          "base_uri": "https://localhost:8080/",
          "height": 0
        },
        "id": "D2nilgtgIIKF",
        "outputId": "a516270d-c5c1-41dd-c2fb-e0c2463cb631"
      },
      "outputs": [
        {
          "output_type": "stream",
          "name": "stdout",
          "text": [
            "SMILES: CC(C)NS(=O)(=O)C1=CC(=C(C=C1)NCCCN2C=CN=C2)[N+](=O)[O-]\n",
            "Fingerprint: tensor([0., 0., 1.,  ..., 0., 0., 0.]) torch.Size([2215])\n",
            "RDK Fingerprint:\n"
          ]
        },
        {
          "output_type": "execute_result",
          "data": {
            "text/plain": [
              "<PIL.PngImagePlugin.PngImageFile image mode=RGB size=300x300>"
            ],
            "image/png": "[encoded data removed]"
          },
          "metadata": {},
          "execution_count": 11
        }
      ],
      "source": [
        "smile = matrix_df.sample(1)['SMILES'].item()\n",
        "fp = convert_smile_to_fp_bit_string(smile)\n",
        "print('SMILES:', smile)\n",
        "print('Fingerprint:', fp, fp.shape)\n",
        "\n",
        "x = Chem.MolFromSmiles(smile)\n",
        "fp1 = Chem.RDKFingerprint(x, fpSize=1024)\n",
        "fp1 = np.array(list(fp1.ToBitString())).astype(np.int8)\n",
        "from rdkit.Chem import Draw\n",
        "img = Draw.MolToImage(x)\n",
        "print('RDK Fingerprint:')\n",
        "img"
      ]
    },
    {
      "cell_type": "markdown",
      "metadata": {
        "id": "IhaFsFzEIIKF"
      },
      "source": [
        "## Graph embedding\n",
        "smiles →  graph embedding"
      ]
    },
    {
      "cell_type": "code",
      "execution_count": 22,
      "metadata": {
        "id": "4lvMEw3gIIKF"
      },
      "outputs": [],
      "source": [
        "# smiles to graphs\n",
        "import numpy as np\n",
        "\n",
        "# RDkit\n",
        "from rdkit import Chem\n",
        "from rdkit.Chem.rdmolops import GetAdjacencyMatrix\n",
        "\n",
        "# Pytorch and Pytorch Geometric\n",
        "import torch\n",
        "from torch_geometric.data import Data\n",
        "from torch.utils.data import DataLoader\n",
        "\n",
        "class GraphDatasetClass:\n",
        "    '''\n",
        "    Convert a dataframe of SMILES into a Pytorch Geometric Graph Dataset.\n",
        "    https://www.blopig.com/blog/2022/02/how-to-turn-a-smiles-string-into-a-molecular-graph-for-pytorch-geometric/\n",
        "    '''\n",
        "\n",
        "    def __init__(self):\n",
        "        pass\n",
        "\n",
        "    def one_hot_encoding(self, x, permitted_list):\n",
        "        \"\"\"\n",
        "        Maps input elements x which are not in the permitted list to the last element\n",
        "        of the permitted list.\n",
        "        \"\"\"\n",
        "\n",
        "        if x not in permitted_list:\n",
        "            x = permitted_list[-1]\n",
        "\n",
        "        binary_encoding = [int(boolean_value) for boolean_value in list(map(lambda s: x == s, permitted_list))]\n",
        "\n",
        "        return binary_encoding\n",
        "\n",
        "\n",
        "    def get_atom_features(self, atom,\n",
        "                        use_chirality = True,\n",
        "                        hydrogens_implicit = True):\n",
        "        \"\"\"\n",
        "        Takes an RDKit atom object as input and gives a 1d-numpy array of atom features as output.\n",
        "        \"\"\"\n",
        "\n",
        "        # define list of permitted atoms\n",
        "\n",
        "        permitted_list_of_atoms =  ['C','N','O','S','F','Si','P','Cl','Br','Mg','Na','Ca','Fe','As','Al','I', 'B','V','K','Tl','Yb','Sb','Sn','Ag','Pd','Co','Se','Ti','Zn', 'Li','Ge','Cu','Au','Ni','Cd','In','Mn','Zr','Cr','Pt','Hg','Pb','Unknown']\n",
        "\n",
        "        if hydrogens_implicit == False:\n",
        "            permitted_list_of_atoms = ['H'] + permitted_list_of_atoms\n",
        "\n",
        "        # compute atom features\n",
        "\n",
        "        atom_type_enc = self.one_hot_encoding(str(atom.GetSymbol()), permitted_list_of_atoms)\n",
        "\n",
        "        n_heavy_neighbors_enc = self.one_hot_encoding(int(atom.GetDegree()), [0, 1, 2, 3, 4, \"MoreThanFour\"])\n",
        "\n",
        "        formal_charge_enc = self.one_hot_encoding(int(atom.GetFormalCharge()), [-3, -2, -1, 0, 1, 2, 3, \"Extreme\"])\n",
        "\n",
        "        hybridisation_type_enc = self.one_hot_encoding(str(atom.GetHybridization()), [\"S\", \"SP\", \"SP2\", \"SP3\", \"SP3D\", \"SP3D2\", \"OTHER\"])\n",
        "\n",
        "        is_in_a_ring_enc = [int(atom.IsInRing())]\n",
        "\n",
        "        is_aromatic_enc = [int(atom.GetIsAromatic())]\n",
        "\n",
        "        atomic_mass_scaled = [float((atom.GetMass() - 10.812)/116.092)]\n",
        "\n",
        "        vdw_radius_scaled = [float((Chem.GetPeriodicTable().GetRvdw(atom.GetAtomicNum()) - 1.5)/0.6)]\n",
        "\n",
        "        covalent_radius_scaled = [float((Chem.GetPeriodicTable().GetRcovalent(atom.GetAtomicNum()) - 0.64)/0.76)]\n",
        "\n",
        "        atom_feature_vector = atom_type_enc + n_heavy_neighbors_enc + formal_charge_enc + hybridisation_type_enc + is_in_a_ring_enc + is_aromatic_enc + atomic_mass_scaled + vdw_radius_scaled + covalent_radius_scaled\n",
        "\n",
        "        if use_chirality == True:\n",
        "            chirality_type_enc = self.one_hot_encoding(str(atom.GetChiralTag()), [\"CHI_UNSPECIFIED\", \"CHI_TETRAHEDRAL_CW\", \"CHI_TETRAHEDRAL_CCW\", \"CHI_OTHER\"])\n",
        "            atom_feature_vector += chirality_type_enc\n",
        "\n",
        "        if hydrogens_implicit == True:\n",
        "            n_hydrogens_enc = self.one_hot_encoding(int(atom.GetTotalNumHs()), [0, 1, 2, 3, 4, \"MoreThanFour\"])\n",
        "            atom_feature_vector += n_hydrogens_enc\n",
        "\n",
        "        return np.array(atom_feature_vector)\n",
        "\n",
        "    def get_bond_features(self, bond,\n",
        "                        use_stereochemistry = True):\n",
        "        \"\"\"\n",
        "        Takes an RDKit bond object as input and gives a 1d-numpy array of bond features as output.\n",
        "        \"\"\"\n",
        "\n",
        "        permitted_list_of_bond_types = [Chem.rdchem.BondType.SINGLE, Chem.rdchem.BondType.DOUBLE, Chem.rdchem.BondType.TRIPLE, Chem.rdchem.BondType.AROMATIC]\n",
        "\n",
        "        bond_type_enc = self.one_hot_encoding(bond.GetBondType(), permitted_list_of_bond_types)\n",
        "\n",
        "        bond_is_conj_enc = [int(bond.GetIsConjugated())]\n",
        "\n",
        "        bond_is_in_ring_enc = [int(bond.IsInRing())]\n",
        "\n",
        "        bond_feature_vector = bond_type_enc + bond_is_conj_enc + bond_is_in_ring_enc\n",
        "\n",
        "        if use_stereochemistry == True:\n",
        "            stereo_type_enc = self.one_hot_encoding(str(bond.GetStereo()), [\"STEREOZ\", \"STEREOE\", \"STEREOANY\", \"STEREONONE\"])\n",
        "            bond_feature_vector += stereo_type_enc\n",
        "\n",
        "        return np.array(bond_feature_vector)\n",
        "\n",
        "    def create_pytorch_geometric_graph_data_list_from_smiles_and_labels(self, x_smiles, y):\n",
        "        \"\"\"\n",
        "        Inputs:\n",
        "\n",
        "        x_smiles = [smiles_1, smiles_2, ....] ... a list of SMILES strings\n",
        "        y = [y_1, y_2, ...] ... a list of numerial labels for the SMILES strings (such as associated pKi values)\n",
        "\n",
        "        Outputs:\n",
        "\n",
        "        data_list = [G_1, G_2, ...] ... a list of torch_geometric.data.Data objects which represent labeled molecular graphs that can readily be used for machine learning\n",
        "\n",
        "        \"\"\"\n",
        "\n",
        "        data_list = []\n",
        "\n",
        "        for (smiles, y_val) in tqdm(zip(x_smiles, y), desc='Creating graph dataset...', total=len(x_smiles)):\n",
        "\n",
        "            # convert SMILES to RDKit mol object\n",
        "            mol = Chem.MolFromSmiles(smiles)\n",
        "\n",
        "            # get feature dimensions\n",
        "            n_nodes = mol.GetNumAtoms()\n",
        "            n_edges = 2*mol.GetNumBonds()\n",
        "            unrelated_smiles = \"O=O\"\n",
        "            unrelated_mol = Chem.MolFromSmiles(unrelated_smiles)\n",
        "            n_node_features = len(self.get_atom_features(unrelated_mol.GetAtomWithIdx(0)))\n",
        "            n_edge_features = len(self.get_bond_features(unrelated_mol.GetBondBetweenAtoms(0,1)))\n",
        "\n",
        "            # construct node feature matrix X of shape (n_nodes, n_node_features)\n",
        "            X = np.zeros((n_nodes, n_node_features))\n",
        "\n",
        "            for atom in mol.GetAtoms():\n",
        "                X[atom.GetIdx(), :] = self.get_atom_features(atom)\n",
        "\n",
        "            X = torch.tensor(X, dtype = torch.float)\n",
        "\n",
        "            # construct edge index array E of shape (2, n_edges)\n",
        "            (rows, cols) = np.nonzero(GetAdjacencyMatrix(mol))\n",
        "            torch_rows = torch.from_numpy(rows.astype(np.int64)).to(torch.long)\n",
        "            torch_cols = torch.from_numpy(cols.astype(np.int64)).to(torch.long)\n",
        "            E = torch.stack([torch_rows, torch_cols], dim = 0)\n",
        "\n",
        "            # construct edge feature array EF of shape (n_edges, n_edge_features)\n",
        "            EF = np.zeros((n_edges, n_edge_features))\n",
        "\n",
        "            for (k, (i,j)) in enumerate(zip(rows, cols)):\n",
        "\n",
        "                EF[k] = self.get_bond_features(mol.GetBondBetweenAtoms(int(i),int(j)))\n",
        "\n",
        "            EF = torch.tensor(EF, dtype = torch.float)\n",
        "\n",
        "            # construct label tensor\n",
        "            y_tensor = torch.tensor(np.array([y_val]), dtype = torch.float)\n",
        "\n",
        "            # construct Pytorch Geometric data object and append to data list\n",
        "            data_list.append(Data(x = X, edge_index = E, edge_attr = EF, y = y_tensor))\n",
        "\n",
        "        return data_list"
      ]
    },
    {
      "cell_type": "markdown",
      "metadata": {
        "id": "59Kuh4GnIIKG"
      },
      "source": [
        "## GROVER: graph transformer  fingerprints\n",
        "smiles → node/edge features using RDkit → to fingerprint embedding using GTransformer"
      ]
    },
    {
      "cell_type": "code",
      "execution_count": 13,
      "metadata": {
        "id": "OqsZpRCAIIKG",
        "outputId": "174daec1-80d2-4572-eecb-f77b245be296",
        "colab": {
          "base_uri": "https://localhost:8080/"
        }
      },
      "outputs": [
        {
          "output_type": "stream",
          "name": "stdout",
          "text": [
            "Index(['smiles', 'fps'], dtype='object')\n"
          ]
        }
      ],
      "source": [
        "# import fingerprint .np file\n",
        "if torch.cuda.is_available():\n",
        "    directory = '/content/drive/MyDrive/Thesis/Data/'\n",
        "else:\n",
        "    directory = '/Volumes/Kubánek UCL/Data/Thesis MSc/PubChem Data/final/' #'Data/'\n",
        "\n",
        "grover_fp = np.load(directory + 'fp_large.npz', allow_pickle=True)\n",
        "print(grover_fp.keys())  # Display the keys or attributes in the file\n",
        "# Access and examine the data as needed\n",
        "assert len(matrix_df)==len(grover_fp['smiles']), f'SMILES mismatch: {len(matrix_df)} and {len(grover_fp)} are not equal'"
      ]
    },
    {
      "cell_type": "code",
      "execution_count": 14,
      "metadata": {
        "id": "glY9qMR5IIKG",
        "outputId": "08093e4d-bbbe-43d3-ebd2-11494fad495c",
        "colab": {
          "base_uri": "https://localhost:8080/"
        }
      },
      "outputs": [
        {
          "output_type": "execute_result",
          "data": {
            "text/plain": [
              "0         CC1=C(C(=NS1)S(=O)(=O)/C(=N/NC2=CC=CC(=C2)C(F)...\n",
              "1         CC(C)(C)N1C(=NN=N1)C(C2=CC=CC=C2OC)N3CCCC4=CC=...\n",
              "2                    CC1=NN=C(N1/N=C\\C2=CC=C(C=C2)C(=O)OC)C\n",
              "3                               C1=CC=C2C(=C1)C=C(C(=O)O2)N\n",
              "4         C1COCCN1S(=O)(=O)C2=C(C=CC(=C2)C(=O)NC3=CC4=C(...\n",
              "                                ...                        \n",
              "324187    C1CC(C1)C(=O)N2CCC3=C2C=CC(=C3)S(=O)(=O)N4CCC5...\n",
              "324188    CCOC(=O)C1=C(N(N=C1)C2=NC=NC3=C2C=NN3CC4=CC=CC...\n",
              "324189                          CN1CCN(CC1)CC(C2=CC=CC=C2)O\n",
              "324190    CCCC1=NC2=C(C(=C(S2)C)C)C(=N1)SCC(=O)N3CCC4=CC...\n",
              "324191    CC1=CC2=NC3=C(C=C2C=C1)C(=C(S3)C(=O)N4CC(=O)NC...\n",
              "Name: smiles, Length: 324192, dtype: object"
            ]
          },
          "metadata": {},
          "execution_count": 14
        }
      ],
      "source": [
        "grover_fp['smiles']"
      ]
    },
    {
      "cell_type": "code",
      "execution_count": 15,
      "metadata": {
        "id": "BSZ2u2duIIKG",
        "outputId": "3f45f8a1-442c-45ad-d428-2b4dcd0b3603",
        "colab": {
          "base_uri": "https://localhost:8080/"
        }
      },
      "outputs": [
        {
          "output_type": "execute_result",
          "data": {
            "text/plain": [
              "5000"
            ]
          },
          "metadata": {},
          "execution_count": 15
        }
      ],
      "source": [
        "grover_fp['fps'][0].shape[0]"
      ]
    },
    {
      "cell_type": "code",
      "execution_count": 17,
      "metadata": {
        "id": "kAAqLGZgIIKG"
      },
      "outputs": [],
      "source": [
        "args = {}\n",
        "args['device'] = torch.device('cuda' if torch.cuda.is_available() else 'cpu')\n",
        "\n",
        "# data parameters\n",
        "args['num_data_points'] = 324191 # number of data points to use\n",
        "args['assay_list'] = cell_based_high_hr #for all: matrix_df.columns.values[1:]\n",
        "args['num_assays'] = 5 # number of assays to use (i.e., no. of output classes)\n",
        "args['assay_start'] = 0 # which assay to start from\n",
        "\n",
        "args['num_node_features'] = 79 # number of node features in graph representation\n",
        "args['grover_fp_dim'] = 5000 #grover_fp['fps'][0].shape[0] # None  # dim of grover fingerprints\n",
        "args['fp_dim'] = 2215 # dim of fingerprints\n",
        "\n",
        "\n",
        "# training parameters\n",
        "args['model'] = 'GCN' # 'GCN', 'GCN_FP', 'FP', 'GROVER', 'GROVER_FP'\n",
        "args['pred_type'] = 'classification' # 'regression', 'classification'\n",
        "args['num_layers'] = 5 # number of layers in MLP\n",
        "args['hidden_channels'] = 64\n",
        "args['dropout'] = 0.1\n",
        "args['batch_size'] = 200\n",
        "args['num_epochs'] = 100\n",
        "args['lr'] = 0.01\n",
        "#args['gradient_clip_norm'] = 1.0\n",
        "#args['network_weight_decay'] = 0.0001\n",
        "#args['lr_decay_factor'] = 0.5\n",
        "\n",
        "# check batch size -> to include examples of classes\n",
        "# dropout maybe higher\n",
        "\n",
        "\n",
        "\n"
      ]
    },
    {
      "cell_type": "markdown",
      "source": [
        "# Dataset"
      ],
      "metadata": {
        "id": "MG-9VYyW7Dud"
      }
    },
    {
      "cell_type": "code",
      "source": [
        "args['num_data_points'] = 5"
      ],
      "metadata": {
        "id": "ADC8sa3EBkez"
      },
      "execution_count": 19,
      "outputs": []
    },
    {
      "cell_type": "code",
      "source": [
        "from torch_geometric.loader import DataLoader\n",
        "\n",
        "def prepare_datalist(matrix_df, args, graph_fp=True, grover_fp=None):\n",
        "    '''\n",
        "    Convert matrix dataframe to a data_list with pytorch geometric graph data, fingerprints and labels.\n",
        "    Inputs:\n",
        "        matrix_df: dataframe of SMILES, assays and bioactivity labels\n",
        "        args: arguments\n",
        "    Outputs:\n",
        "        data_list: list of data objects\n",
        "    '''\n",
        "    # only use subset of data (assays and data points)\n",
        "    assay_list = args['assay_list']\n",
        "    num_assays = args['num_assays']\n",
        "    assay_start = args['assay_start']\n",
        "    num_data_points = args['num_data_points']\n",
        "\n",
        "    # get binary target labels\n",
        "    y = matrix_df[assay_list[assay_start:assay_start+num_assays]].values[:num_data_points]\n",
        "\n",
        "    # get SMILES strings\n",
        "    data = matrix_df['SMILES'].values[:num_data_points]\n",
        "\n",
        "    if graph_fp is True: # add graph fingerprint\n",
        "        GraphDataset = GraphDatasetClass()\n",
        "        # create pytorch geometric graph data list\n",
        "        data_list = GraphDataset.create_pytorch_geometric_graph_data_list_from_smiles_and_labels(data, y)\n",
        "    else: # create simple data_list without graph fingerprint\n",
        "      data_list = []\n",
        "      for label in y:\n",
        "          # construct Pytorch Geometric data object and append to data list\n",
        "          data_list.append(Data(y = label))\n",
        "\n",
        "    # add fingerprint data to each graph\n",
        "    for i, smile in tqdm(enumerate(data), desc='Adding fingerprints...', total=len(data)):\n",
        "        fp = convert_smile_to_fp_bit_string(smile)\n",
        "        data_list[i].fp = fp\n",
        "\n",
        "\n",
        "    # add grover fingerprint to each graph\n",
        "    if grover_fp is not None:\n",
        "        for i, gfp in tqdm(enumerate(grover_fp['fps'][:args['num_data_points']]), desc='Adding grover embedding...', total=len(data)):\n",
        "          data_list[i].grover_fp = torch.tensor(gfp)\n",
        "\n",
        "\n",
        "    return data_list\n",
        "\n",
        "def prepare_dataloader(data_list, args):\n",
        "    '''\n",
        "    Get dataloader dictionary from data_list with desired batch_size\n",
        "    '''\n",
        "    # split into train and test\n",
        "    train_dataset = data_list[:int(len(data_list)*0.8)]\n",
        "    test_dataset = data_list[int(len(data_list)*0.8):]\n",
        "\n",
        "    # split into train and validation\n",
        "    val_dataset = train_dataset[:int(len(train_dataset)*0.25)]\n",
        "    train_dataset = train_dataset[int(len(train_dataset)*0.25):]\n",
        "\n",
        "    print(f'Number of training graphs: {len(train_dataset)}')\n",
        "    print(f'Number of validation graphs: {len(val_dataset)}')\n",
        "    print(f'Number of test graphs: {len(test_dataset)}')\n",
        "    print(f'Example of a graph data object: {data_list[0]}')\n",
        "\n",
        "    # create data loaders\n",
        "    dataloader = {}\n",
        "    dataloader['train'] = DataLoader(train_dataset, batch_size=args['batch_size'], shuffle=True)\n",
        "    dataloader['val'] = DataLoader(val_dataset, batch_size=args['batch_size'], shuffle=False)\n",
        "    dataloader['test'] = DataLoader(test_dataset, batch_size=args['batch_size'], shuffle=False)\n",
        "\n",
        "    return dataloader\n",
        "\n",
        "def analyze_dataset(dataset, args):\n",
        "    '''\n",
        "    Analyze the distribution of positive classes in the dataset\n",
        "    '''\n",
        "    positive = []\n",
        "    for i in range(len(dataset)):\n",
        "        positive.append(dataset[i].y[0].sum().item())\n",
        "\n",
        "\n",
        "    num_assays = args['num_assays']\n",
        "    # make histogram of the number of positive\n",
        "    plt.figure(figsize=(7, 4))\n",
        "    # define bins\n",
        "    bins = np.linspace(0, num_assays, num_assays+1)-0.5\n",
        "    plt.hist(positive, bins=bins, alpha=0.5, label='train')\n",
        "    num_assays = args['num_assays']\n",
        "    plt.xlabel(f'# of positive hits in target vector (out of {num_assays})')\n",
        "    plt.ylabel('Number of data points')\n",
        "    plt.title('Histogram of positive class distribution')\n",
        "    plt.show()\n",
        "\n",
        "    for i in range(num_assays+1):\n",
        "        print(f'Number of data points with {i} positive targets: ', (np.array(positive) == i).sum(), f'({(np.array(positive) == i).sum()/len(positive)*100:.2f}%)')\n",
        "\n",
        "def data_explore(dataloader):\n",
        "    '''\n",
        "    Explore the data\n",
        "    '''\n",
        "    # check proportion of positive and negative samples across each assay\n",
        "    pos = torch.zeros(args['num_assays'])\n",
        "    for data in dataloader:  # Iterate in batches over the training dataset\n",
        "        # print('inputs:')\n",
        "        # print(' x:', data.x.shape, '| y:',data.y.shape, '| fp:',data.fp.shape, '| grover:', data.grover_fp.shape)\n",
        "        pos += data.y.sum(axis=0)\n",
        "        #  print(data.y.sum(axis=0))\n",
        "    print('# positive samples:', pos)\n",
        "    print(torch.round((pos/len(dataloader.dataset)*100),decimals=2),'% are positive')\n",
        "\n"
      ],
      "metadata": {
        "id": "eR47vh5vf_Se"
      },
      "execution_count": 27,
      "outputs": []
    },
    {
      "cell_type": "code",
      "source": [
        "data_list = prepare_datalist(matrix_df, args, graph_fp=True, grover_fp=grover_fp)"
      ],
      "metadata": {
        "colab": {
          "base_uri": "https://localhost:8080/"
        },
        "id": "cgnQ9DnngJmW",
        "outputId": "dc0d3563-0187-486e-c901-8249a3f84f18"
      },
      "execution_count": 32,
      "outputs": [
        {
          "output_type": "stream",
          "name": "stderr",
          "text": [
            "Creating graph dataset...: 100%|██████████| 5/5 [00:00<00:00, 276.46it/s]\n",
            "Adding fingerprints...: 100%|██████████| 5/5 [00:00<00:00, 279.79it/s]\n",
            "Adding grover embedding...: 100%|██████████| 5/5 [00:00<00:00, 15827.56it/s]\n"
          ]
        }
      ]
    },
    {
      "cell_type": "code",
      "source": [
        "data_list[0]"
      ],
      "metadata": {
        "id": "BjYoggxHDZ9z",
        "outputId": "34c26d57-59f0-4ba5-d9a1-61dfa76550ce",
        "colab": {
          "base_uri": "https://localhost:8080/"
        }
      },
      "execution_count": 33,
      "outputs": [
        {
          "output_type": "execute_result",
          "data": {
            "text/plain": [
              "Data(x=[19, 79], edge_index=[2, 40], edge_attr=[40, 10], y=[1, 5], fp=[2215], grover_fp=[5000])"
            ]
          },
          "metadata": {},
          "execution_count": 33
        }
      ]
    },
    {
      "cell_type": "code",
      "source": [
        "type(data_list[0])"
      ],
      "metadata": {
        "id": "5oR8WQ3cCC2h",
        "outputId": "0d74b4e3-407f-4e54-dccb-c126d60525a2",
        "colab": {
          "base_uri": "https://localhost:8080/"
        }
      },
      "execution_count": 25,
      "outputs": [
        {
          "output_type": "execute_result",
          "data": {
            "text/plain": [
              "torch_geometric.data.data.Data"
            ]
          },
          "metadata": {},
          "execution_count": 25
        }
      ]
    },
    {
      "cell_type": "code",
      "source": [
        "import pickle\n",
        "\n",
        "save_path = directory + 'datalist.pkl'\n",
        "\n",
        "# Save the dictionary using pickle\n",
        "with open(save_path, 'wb') as f:\n",
        "    pickle.dump(data_list, f)\n"
      ],
      "metadata": {
        "id": "FOk-1WF7gSbg"
      },
      "execution_count": null,
      "outputs": []
    },
    {
      "cell_type": "code",
      "source": [
        "import pickle\n",
        "\n",
        "if torch.cuda.is_available():\n",
        "    directory = '/content/drive/MyDrive/Thesis/Data/'\n",
        "else:\n",
        "    directory = '/Volumes/Kubánek UCL/Data/Thesis MSc/PubChem Data/final/'\n",
        "# Specify the path where you saved the dictionary\n",
        "load_path = directory + 'datalist.pkl'\n",
        "\n",
        "# Load the dictionary using pickle\n",
        "with open(load_path, 'rb') as f:\n",
        "    data_list = pickle.load(f)\n"
      ],
      "metadata": {
        "id": "bFUFuaaP7MeT",
        "outputId": "34ca3f55-0610-4764-d9b0-db66eb95aef8",
        "colab": {
          "base_uri": "https://localhost:8080/",
          "height": 250
        }
      },
      "execution_count": 2,
      "outputs": [
        {
          "output_type": "error",
          "ename": "NameError",
          "evalue": "ignored",
          "traceback": [
            "\u001b[0;31m---------------------------------------------------------------------------\u001b[0m",
            "\u001b[0;31mNameError\u001b[0m                                 Traceback (most recent call last)",
            "\u001b[0;32m<ipython-input-2-dfeb160c71bb>\u001b[0m in \u001b[0;36m<cell line: 3>\u001b[0;34m()\u001b[0m\n\u001b[1;32m      1\u001b[0m \u001b[0;32mimport\u001b[0m \u001b[0mpickle\u001b[0m\u001b[0;34m\u001b[0m\u001b[0;34m\u001b[0m\u001b[0m\n\u001b[1;32m      2\u001b[0m \u001b[0;34m\u001b[0m\u001b[0m\n\u001b[0;32m----> 3\u001b[0;31m \u001b[0;32mif\u001b[0m \u001b[0mtorch\u001b[0m\u001b[0;34m.\u001b[0m\u001b[0mcuda\u001b[0m\u001b[0;34m.\u001b[0m\u001b[0mis_available\u001b[0m\u001b[0;34m(\u001b[0m\u001b[0;34m)\u001b[0m\u001b[0;34m:\u001b[0m\u001b[0;34m\u001b[0m\u001b[0;34m\u001b[0m\u001b[0m\n\u001b[0m\u001b[1;32m      4\u001b[0m     \u001b[0mdirectory\u001b[0m \u001b[0;34m=\u001b[0m \u001b[0;34m'/content/drive/MyDrive/Thesis/Data/'\u001b[0m\u001b[0;34m\u001b[0m\u001b[0;34m\u001b[0m\u001b[0m\n\u001b[1;32m      5\u001b[0m \u001b[0;32melse\u001b[0m\u001b[0;34m:\u001b[0m\u001b[0;34m\u001b[0m\u001b[0;34m\u001b[0m\u001b[0m\n",
            "\u001b[0;31mNameError\u001b[0m: name 'torch' is not defined"
          ]
        }
      ]
    },
    {
      "cell_type": "code",
      "source": [
        "data_list"
      ],
      "metadata": {
        "id": "HXUOI1dG8ZHT",
        "outputId": "c0fab6b0-fb3b-4872-d3d0-5f5403eb4870",
        "colab": {
          "base_uri": "https://localhost:8080/",
          "height": 179
        }
      },
      "execution_count": 1,
      "outputs": [
        {
          "output_type": "error",
          "ename": "NameError",
          "evalue": "ignored",
          "traceback": [
            "\u001b[0;31m---------------------------------------------------------------------------\u001b[0m",
            "\u001b[0;31mNameError\u001b[0m                                 Traceback (most recent call last)",
            "\u001b[0;32m<ipython-input-1-b5370bd0714f>\u001b[0m in \u001b[0;36m<cell line: 1>\u001b[0;34m()\u001b[0m\n\u001b[0;32m----> 1\u001b[0;31m \u001b[0mdata_list\u001b[0m\u001b[0;34m\u001b[0m\u001b[0;34m\u001b[0m\u001b[0m\n\u001b[0m",
            "\u001b[0;31mNameError\u001b[0m: name 'data_list' is not defined"
          ]
        }
      ]
    },
    {
      "cell_type": "code",
      "execution_count": null,
      "metadata": {
        "colab": {
          "base_uri": "https://localhost:8080/"
        },
        "id": "Q24QpEUYIIKG",
        "outputId": "7bdd3cec-4e08-4e80-ce18-631657d3bab1"
      },
      "outputs": [
        {
          "output_type": "stream",
          "name": "stderr",
          "text": [
            "[10:50:39] WARNING: not removing hydrogen atom without neighbors\n",
            "[10:53:04] WARNING: not removing hydrogen atom without neighbors\n",
            "[11:09:22] WARNING: not removing hydrogen atom without neighbors\n",
            "[11:15:27] WARNING: not removing hydrogen atom without neighbors\n"
          ]
        },
        {
          "output_type": "stream",
          "name": "stdout",
          "text": [
            "Number of training graphs: 194514\n",
            "Number of validation graphs: 64838\n",
            "Number of test graphs: 64839\n",
            "Example of a graph data object: Data(x=[18, 79], edge_index=[2, 38], edge_attr=[38, 10], y=[1, 5], fp=[2215], grover_fp=[5000])\n"
          ]
        }
      ],
      "source": [
        "args['batch_size'] = 500\n",
        "dataloader = prepare_dataloader(data_list, args)"
      ]
    },
    {
      "cell_type": "markdown",
      "source": [
        "Save the dataloader dictionary"
      ],
      "metadata": {
        "id": "lPTVekJ4YQgL"
      }
    },
    {
      "cell_type": "code",
      "source": [
        "import pickle\n",
        "\n",
        "save_path = directory + 'dataloader_dict.pkl'\n",
        "\n",
        "# Save the dictionary using pickle\n",
        "with open(save_path, 'wb') as f:\n",
        "    pickle.dump(dataloader, f)\n"
      ],
      "metadata": {
        "id": "p2eWC3aaDleM"
      },
      "execution_count": null,
      "outputs": []
    },
    {
      "cell_type": "markdown",
      "source": [
        "Load the dataloader dictionary"
      ],
      "metadata": {
        "id": "HofNo5PaYTPK"
      }
    },
    {
      "cell_type": "code",
      "source": [
        "import pickle\n",
        "\n",
        "# Specify the path where you saved the dictionary\n",
        "load_path = directory + 'dataloader_dict.pkl'\n",
        "\n",
        "# Load the dictionary using pickle\n",
        "with open(load_path, 'rb') as f:\n",
        "    dataloader = pickle.load(f)\n"
      ],
      "metadata": {
        "id": "435Tt4r6Eu85"
      },
      "execution_count": null,
      "outputs": []
    },
    {
      "cell_type": "code",
      "execution_count": null,
      "metadata": {
        "colab": {
          "base_uri": "https://localhost:8080/",
          "height": 1000
        },
        "id": "lKdOnWH-2IIr",
        "outputId": "2cba6a82-50b1-437e-fd46-1201c848b99e"
      },
      "outputs": [
        {
          "output_type": "stream",
          "name": "stdout",
          "text": [
            "\n",
            "-------------------Train set-------------------\n"
          ]
        },
        {
          "output_type": "display_data",
          "data": {
            "text/plain": [
              "<Figure size 700x400 with 1 Axes>"
            ],
            "image/png": "[encoded data removed]"
          },
          "metadata": {}
        },
        {
          "output_type": "stream",
          "name": "stdout",
          "text": [
            "Number of data points with 0 positive targets:  54 (75.00%)\n",
            "Number of data points with 1 positive targets:  14 (19.44%)\n",
            "Number of data points with 2 positive targets:  3 (4.17%)\n",
            "Number of data points with 3 positive targets:  1 (1.39%)\n",
            "Number of data points with 4 positive targets:  0 (0.00%)\n",
            "Number of data points with 5 positive targets:  0 (0.00%)\n",
            "\n",
            "-------------------Val set-------------------\n"
          ]
        },
        {
          "output_type": "display_data",
          "data": {
            "text/plain": [
              "<Figure size 700x400 with 1 Axes>"
            ],
            "image/png": "[encoded data removed]"
          },
          "metadata": {}
        },
        {
          "output_type": "stream",
          "name": "stdout",
          "text": [
            "Number of data points with 0 positive targets:  19 (79.17%)\n",
            "Number of data points with 1 positive targets:  4 (16.67%)\n",
            "Number of data points with 2 positive targets:  1 (4.17%)\n",
            "Number of data points with 3 positive targets:  0 (0.00%)\n",
            "Number of data points with 4 positive targets:  0 (0.00%)\n",
            "Number of data points with 5 positive targets:  0 (0.00%)\n",
            "\n",
            "-------------------Test set-------------------\n"
          ]
        },
        {
          "output_type": "display_data",
          "data": {
            "text/plain": [
              "<Figure size 700x400 with 1 Axes>"
            ],
            "image/png": "[encoded data removed]"
          },
          "metadata": {}
        },
        {
          "output_type": "stream",
          "name": "stdout",
          "text": [
            "Number of data points with 0 positive targets:  231539 (71.44%)\n",
            "Number of data points with 1 positive targets:  70893 (21.87%)\n",
            "Number of data points with 2 positive targets:  18588 (5.74%)\n",
            "Number of data points with 3 positive targets:  2807 (0.87%)\n",
            "Number of data points with 4 positive targets:  253 (0.08%)\n",
            "Number of data points with 5 positive targets:  15 (0.00%)\n"
          ]
        }
      ],
      "source": [
        "print('\\n-------------------Train set-------------------')\n",
        "analyze_dataset(dataloader['train'].dataset, args)\n",
        "print('\\n-------------------Val set-------------------')\n",
        "analyze_dataset(dataloader['val'].dataset, args)\n",
        "print('\\n-------------------Test set-------------------')\n",
        "analyze_dataset(dataloader['test'].dataset, args)"
      ]
    },
    {
      "cell_type": "code",
      "execution_count": null,
      "metadata": {
        "colab": {
          "base_uri": "https://localhost:8080/"
        },
        "id": "gWPQa8ufi_2d",
        "outputId": "c0e8aa69-39d8-4e8e-d10e-b5a783242858"
      },
      "outputs": [
        {
          "output_type": "stream",
          "name": "stdout",
          "text": [
            "# positive samples: tensor([ 9.,  9.,  9., 15.,  6.])\n",
            "tensor([ 7.5000,  7.5000,  7.5000, 12.5000,  5.0000]) % are positive\n"
          ]
        }
      ],
      "source": [
        "data_explore(dataloader['train'])"
      ]
    },
    {
      "cell_type": "code",
      "execution_count": null,
      "metadata": {
        "colab": {
          "base_uri": "https://localhost:8080/"
        },
        "id": "WXli7dO02IIr",
        "outputId": "0f26aab4-a32e-4c57-d46a-98981601b5b7"
      },
      "outputs": [
        {
          "output_type": "stream",
          "name": "stdout",
          "text": [
            "# positive samples: tensor([27891., 16518., 23993., 31126., 18019.])\n",
            "tensor([8.6100, 5.1000, 7.4000, 9.6100, 5.5600]) % are positive\n"
          ]
        }
      ],
      "source": [
        "data_explore(dataloader['test'])"
      ]
    },
    {
      "cell_type": "markdown",
      "metadata": {
        "id": "oYWyacYyIIKG"
      },
      "source": [
        "# Models\n",
        "### GCN and GCN_FP\n",
        "- GCN: graph embedding followed by a final classification layer\n",
        "- GCN_FP: graph + fingerprints embedding followed by a final classification layer"
      ]
    },
    {
      "cell_type": "code",
      "execution_count": null,
      "metadata": {
        "id": "1q43d46hIIKG"
      },
      "outputs": [],
      "source": [
        "from torch.nn import Linear\n",
        "import torch.nn.functional as F\n",
        "from torch_geometric.nn import GCNConv\n",
        "from torch_geometric.nn import global_mean_pool\n",
        "\n",
        "\n",
        "class GCN(torch.nn.Module):\n",
        "    '''\n",
        "    Define a Graph Convolutional Network (GCN) model architecture.\n",
        "    Can include 'graph' only or 'graph + fingerprints' embedding before final classification layer.\n",
        "    '''\n",
        "    def __init__(self, args):\n",
        "        super(GCN, self).__init__()\n",
        "        torch.manual_seed(12345)\n",
        "\n",
        "        num_node_features = args['num_node_features']\n",
        "        hidden_channels = args['hidden_channels']\n",
        "        num_classes = args['num_assays']\n",
        "        if args['model'] == 'GCN_FP':\n",
        "            fp_dim = args['fp_dim']\n",
        "        else:\n",
        "            fp_dim = 0\n",
        "\n",
        "        self.conv1 = GCNConv(num_node_features, hidden_channels)\n",
        "        self.conv2 = GCNConv(hidden_channels, hidden_channels)\n",
        "        self.conv3 = GCNConv(hidden_channels, hidden_channels)\n",
        "\n",
        "        self.lin = Linear(hidden_channels + fp_dim, num_classes)\n",
        "\n",
        "    def forward(self, x, edge_index, batch, fp=None):\n",
        "        # 1. Obtain node embeddings\n",
        "        x = self.conv1(x, edge_index)\n",
        "        x = x.relu()\n",
        "        x = self.conv2(x, edge_index)\n",
        "        x = x.relu()\n",
        "        x = self.conv3(x, edge_index)\n",
        "\n",
        "        # 2. Readout layer\n",
        "        x = global_mean_pool(x, batch)  # [batch_size, hidden_channels]\n",
        "\n",
        "        # if also using fingerprints\n",
        "        if fp is not None:\n",
        "            # reshape fp to batch_size x fp_dim\n",
        "            fp = fp.reshape(x.shape[0], -1)\n",
        "            # concatenate graph node embeddings with fingerprint\n",
        "            # print('BEFORE CONCAT x:',x.shape, 'fp:', fp.shape)\n",
        "            x = torch.cat([x, fp], dim=1)\n",
        "            # print('AFTER CONCAT x:',x.shape)\n",
        "\n",
        "        # 3. Apply a final classifier\n",
        "        x = F.dropout(x, p=0.1, training=self.training)\n",
        "        x = self.lin(x)\n",
        "\n",
        "        return x\n"
      ]
    },
    {
      "cell_type": "code",
      "execution_count": null,
      "metadata": {
        "colab": {
          "base_uri": "https://localhost:8080/"
        },
        "id": "HZHunWSYR9-0",
        "outputId": "7b55c155-a8b4-43c0-9479-81b478b35afe"
      },
      "outputs": [
        {
          "output_type": "stream",
          "name": "stdout",
          "text": [
            "TESTING\n",
            "------GCN------\n",
            "inputs:\n",
            " x: torch.Size([2991, 79]) | y: torch.Size([120, 5]) | fp: torch.Size([265800]) | grover: torch.Size([600000])\n",
            "out: torch.Size([120, 5])\n",
            "gt: torch.Size([120, 5])\n",
            "------GCN_FP------\n",
            "inputs:\n",
            " x: torch.Size([2991, 79]) | y: torch.Size([120, 5]) | fp: torch.Size([265800]) | grover: torch.Size([600000])\n",
            "out: torch.Size([120, 5])\n",
            "gt: torch.Size([120, 5])\n"
          ]
        }
      ],
      "source": [
        "# TEST that GCN runs for all model types\n",
        "print('TESTING')\n",
        "for model_type in ['GCN','GCN_FP']:\n",
        "  args['model'] = model_type\n",
        "  model = GCN(args)\n",
        "  for data in dataloader['train']:  # Iterate in batches over the training dataset\n",
        "          print(f'------{model_type}------')\n",
        "          print('inputs:')\n",
        "          print(' x:', data.x.shape, '| y:',data.y.shape, '| fp:',data.fp.shape, '| grover:', data.grover_fp.shape)\n",
        "          if args['model'] == 'GCN': # Perform a single forward pass\n",
        "              out = model(data.x, data.edge_index, data.batch)\n",
        "          elif args['model'] == 'GCN_FP':\n",
        "              out = model(data.x, data.edge_index, data.batch, fp=data.fp)\n",
        "          print('out:',out.shape)\n",
        "          print('gt:', data.y.shape)\n",
        "          break"
      ]
    },
    {
      "cell_type": "markdown",
      "metadata": {
        "id": "3cENu4SMIIKG"
      },
      "source": [
        "### FP, GROVER and GROVER_FP\n",
        "- FP: fingerprints embedding followed by a final classification layer\n",
        "- GROVER: graph transformer embedding followed by a final classification layer\n",
        "- GROVER_FP: graph transformer + fingerprints embedding followed by a final classification layer"
      ]
    },
    {
      "cell_type": "code",
      "execution_count": null,
      "metadata": {
        "id": "PXTwqghIIIKG"
      },
      "outputs": [],
      "source": [
        "\n",
        "class LinearBlock(nn.Module):\n",
        "\t\"\"\" basic block in an MLP, with dropout and batch norm \"\"\"\n",
        "\n",
        "\tdef __init__(self, in_feats, out_feats, dropout=0.1):\n",
        "\t\tsuper(LinearBlock, self).__init__()\n",
        "\t\tself.linear = nn.Linear(in_feats, out_feats)\n",
        "\t\tself.bn = nn.BatchNorm1d(out_feats)\n",
        "\t\tself.dropout = nn.Dropout(dropout)\n",
        "\n",
        "\tdef forward(self, x):\n",
        "\t\t# ReLU activation, batch norm, dropout on layer\n",
        "\t\treturn self.bn(self.dropout(F.relu(self.linear(x))))\n",
        "\n",
        "def construct_mlp(in_dim, out_dim, hidden_dim, hidden_layers, dropout=0.1):\n",
        "\t\"\"\"\n",
        "\tConstructs an MLP with specified dimensions.\n",
        "\t\t- total number of layers = hidden_layers + 1 (the + 1 is for the output linear)\n",
        "\t\t- no activation/batch norm/dropout on output layer\n",
        "\t\"\"\"\n",
        "\n",
        "\tassert hidden_layers >= 1, hidden_layers\n",
        "\tmlp_list = []\n",
        "\tmlp_list.append(LinearBlock(in_dim,hidden_dim,dropout=dropout))\n",
        "\tfor i in range(hidden_layers-1):\n",
        "\t\tmlp_list.append(LinearBlock(hidden_dim,hidden_dim,dropout=dropout))\n",
        "\n",
        "\t# no activation/batch norm/dropout on output layer\n",
        "\tmlp_list.append(nn.Linear(hidden_dim,out_dim))\n",
        "\tmlp = nn.Sequential(*mlp_list)\n",
        "\treturn mlp\n",
        "\n",
        "class MLP(nn.Module):\n",
        "\t'''\n",
        "\tMLP with optional Grover fingerprints.\n",
        "\tCustomizable number of layers, hidden dimensions, and dropout.\n",
        "\t'''\n",
        "\tdef __init__(self, args):\n",
        "\n",
        "\t\tsuper(MLP, self).__init__()\n",
        "\n",
        "\t\tself.model_type = args['model']\n",
        "\t\tself.fp_dim = args['fp_dim'] # can be 0\n",
        "\t\tself.grover_fp_dim = args['grover_fp_dim'] # can be 0\n",
        "\t\tself.hidden_dim = args['hidden_channels']\n",
        "\t\tself.output_dim = args['num_assays']\n",
        "\t\tself.num_layers = args['num_layers']\n",
        "\t\tself.dropout = args['dropout']\n",
        "\n",
        "\t\tassert self.model_type in ['FP','GROVER','GROVER_FP'], f'model type not supported: {self.model_type}'\n",
        "\n",
        "\t\tif self.model_type == 'FP':\n",
        "\t\t\tself.grover_fp_dim = 0\n",
        "\t\telif self.model_type == 'GROVER':\n",
        "\t\t\tself.fp_dim = 0\n",
        "\n",
        "\t\tself.ff_layers = construct_mlp(\n",
        "\t\t\tself.fp_dim + self.grover_fp_dim,\n",
        "\t\t\tself.output_dim,\n",
        "\t\t\tself.hidden_dim,\n",
        "\t\t\tself.num_layers,\n",
        "\t\t\tself.dropout\n",
        "\t\t)\n",
        "\n",
        "\tdef forward(self, data):\n",
        "\n",
        "\n",
        "\t\tif self.model_type == 'FP': # only fp is used\n",
        "\t\t\tfingerprints = data.fp\n",
        "\t\t\t# reshape fp to batch_size x fp_dim\n",
        "\t\t\tfingerprints = fingerprints.reshape(int(fingerprints.shape[0]/self.fp_dim), -1)\n",
        "\n",
        "\t\t\toutput = self.ff_layers(fingerprints)\n",
        "\n",
        "\t\telif self.model_type == 'GROVER': # only grover is used\n",
        "\t\t\t# reshape grover_fp to batch_size x grover_fp_dim\n",
        "\t\t\tgrover_fp = data.grover_fp\n",
        "\t\t\tgrover_fp = grover_fp.reshape(int(grover_fp.shape[0]/self.grover_fp_dim), -1)\n",
        "\n",
        "\t\t\toutput = self.ff_layers(grover_fp)\n",
        "\n",
        "\t\telif self.model_type == 'GROVER_FP': #grover and fp are concatenated\n",
        "\t\t\tfingerprints = data.fp\n",
        "\t\t\t# reshape fp to batch_size x fp_dim\n",
        "\t\t\tfingerprints = fingerprints.reshape(int(fingerprints.shape[0]/self.fp_dim), -1)\n",
        "\t\t\t# reshape grover_fp to batch_size x grover_fp_dim\n",
        "\t\t\tgrover_fp = data.grover_fp\n",
        "\t\t\tgrover_fp = grover_fp.reshape(int(grover_fp.shape[0]/self.grover_fp_dim), -1)\n",
        "\n",
        "\t\t\toutput = self.ff_layers(torch.cat([fingerprints, grover_fp], dim=1))\n",
        "\n",
        "\n",
        "\t\treturn output"
      ]
    },
    {
      "cell_type": "code",
      "execution_count": null,
      "metadata": {
        "colab": {
          "base_uri": "https://localhost:8080/"
        },
        "id": "tLqTMKaMp_0q",
        "outputId": "71be887b-6b03-4409-ac12-08dac876c66f"
      },
      "outputs": [
        {
          "output_type": "stream",
          "name": "stdout",
          "text": [
            "TESTING\n",
            "------FP------\n",
            "inputs:\n",
            " x: torch.Size([2991, 79]) | y: torch.Size([120, 5]) | fp: torch.Size([265800]) | grover: torch.Size([600000])\n",
            "out: torch.Size([120, 5])\n",
            "gt: torch.Size([120, 5])\n",
            "------GROVER------\n",
            "inputs:\n",
            " x: torch.Size([2991, 79]) | y: torch.Size([120, 5]) | fp: torch.Size([265800]) | grover: torch.Size([600000])\n",
            "out: torch.Size([120, 5])\n",
            "gt: torch.Size([120, 5])\n",
            "------GROVER_FP------\n",
            "inputs:\n",
            " x: torch.Size([2991, 79]) | y: torch.Size([120, 5]) | fp: torch.Size([265800]) | grover: torch.Size([600000])\n",
            "out: torch.Size([120, 5])\n",
            "gt: torch.Size([120, 5])\n"
          ]
        }
      ],
      "source": [
        "# TEST that MLP runs for all model types\n",
        "print('TESTING')\n",
        "for model_type in ['FP','GROVER','GROVER_FP']:\n",
        "  args['model'] = model_type\n",
        "  model = MLP(args)\n",
        "  for data in dataloader['train']:  # Iterate in batches over the training dataset\n",
        "          print(f'------{model_type}------')\n",
        "          print('inputs:')\n",
        "          print(' x:', data.x.shape, '| y:',data.y.shape, '| fp:',data.fp.shape, '| grover:', data.grover_fp.shape)\n",
        "          out = model(data)  # Perform a single forward pass\n",
        "          print('out:',out.shape)\n",
        "          print('gt:', data.y.shape)\n",
        "          break"
      ]
    },
    {
      "cell_type": "markdown",
      "metadata": {
        "id": "jMXuJkTGIIKH"
      },
      "source": [
        "# Training"
      ]
    },
    {
      "cell_type": "code",
      "execution_count": null,
      "metadata": {
        "id": "A3SbXTXlIIKH"
      },
      "outputs": [],
      "source": [
        "from sklearn.metrics import confusion_matrix, precision_score, recall_score, f1_score, roc_auc_score\n",
        "import time\n",
        "\n",
        "\n",
        "class TrainManager:\n",
        "\n",
        "    def __init__(self, dataloader, args, model=None):\n",
        "\n",
        "        self.args = args\n",
        "        self.num_assays = args['num_assays']\n",
        "        self.num_node_features = args['num_node_features']\n",
        "        self.hidden_channels = args['hidden_channels']\n",
        "\n",
        "        if not model:\n",
        "            # initialize model depending on model type\n",
        "            if args['model'] in ['GCN','GCN_FP']:\n",
        "                self.model = GCN(args)\n",
        "            elif args['model'] in ['FP','GROVER','GROVER_FP']:\n",
        "              self.model = MLP(args)\n",
        "        else:\n",
        "            self.model = model\n",
        "\n",
        "        self.model.to(args['device'])\n",
        "        print(\"Model is on device:\", next(self.model.parameters()).device)\n",
        "\n",
        "        self.dataloader = dataloader\n",
        "\n",
        "        self.optimizer = torch.optim.Adam(self.model.parameters(), lr=args['lr'])\n",
        "        self.criterion = nn.BCEWithLogitsLoss()\n",
        "\n",
        "        self.curr_epoch = 0\n",
        "\n",
        "        # logging\n",
        "        self.eval_metrics = {}\n",
        "        self.eval_metrics['loss'] = []\n",
        "        self.eval_metrics['acc_train'] = []\n",
        "        self.eval_metrics['acc_test'] = []\n",
        "        self.eval_metrics['auc_train'] = []\n",
        "        self.eval_metrics['auc_test'] = []\n",
        "        self.eval_metrics['precision_train'] = []\n",
        "        self.eval_metrics['precision_test'] = []\n",
        "        self.eval_metrics['recall_train'] = []\n",
        "        self.eval_metrics['recall_test'] = []\n",
        "        self.eval_metrics['f1_train'] = []\n",
        "        self.eval_metrics['f1_test'] = []\n",
        "\n",
        "\n",
        "    def train(self, epochs=100, log=False, wb_log=False):\n",
        "        '''\n",
        "        Train the model for a given number of epochs.\n",
        "        '''\n",
        "\n",
        "        self.wb_log = wb_log\n",
        "\n",
        "        epoch_times = []\n",
        "\n",
        "        for epoch in range(epochs):\n",
        "\n",
        "            self.model.train()\n",
        "            cum_loss = 0\n",
        "            start_time = time.time()\n",
        "\n",
        "            # Iterate in batches over the training dataset\n",
        "            for data in tqdm(self.dataloader['train'], desc=f'Epoch [{self.curr_epoch}/{epochs}]', total=int(len(self.dataloader['train'].dataset)/self.args['batch_size'])):\n",
        "\n",
        "                data = data.to(self.args['device'])\n",
        "\n",
        "                # forward pass based on model type\n",
        "                if self.args['model'] == 'GCN':\n",
        "                    out = self.model(data.x, data.edge_index, data.batch)\n",
        "                elif self.args['model'] == 'GCN_FP':\n",
        "                    out = self.model(data.x, data.edge_index, data.batch, fp=data.fp)\n",
        "                elif self.args['model'] in ['FP','GROVER','GROVER_FP']:\n",
        "                    out = self.model(data)\n",
        "\n",
        "                # data.y = data.y.unsqueeze(1)\n",
        "                # print('data.y:',data.y.shape)\n",
        "                loss = self.criterion(out, data.y)  # Compute the loss.\n",
        "                loss.backward()  # Derive gradients.\n",
        "                self.optimizer.step()  # Update parameters based on gradients.\n",
        "                self.optimizer.zero_grad()  # Clear gradients.\n",
        "                cum_loss += loss.item()\n",
        "\n",
        "            self.eval_metrics['loss'].append(cum_loss/len(self.dataloader['train']))\n",
        "            if wb_log is True:\n",
        "              wandb.log({\"loss\": cum_loss/len(self.dataloader['train'])})\n",
        "\n",
        "            epoch_time = time.time() - start_time\n",
        "            epoch_times.append(epoch_time)\n",
        "\n",
        "            if log:\n",
        "                # evaluate\n",
        "                acc_train, auc_train, precision_train, recall_train, f1_train = self.eval(self.dataloader['train'])\n",
        "                acc_test, auc_test, precision_test, recall_test, f1_test = self.eval(self.dataloader['val'])\n",
        "\n",
        "\n",
        "                self.eval_metrics['acc_train'].append(acc_train)\n",
        "                self.eval_metrics['acc_test'].append(acc_test)\n",
        "                self.eval_metrics['auc_train'].append(auc_train)\n",
        "                self.eval_metrics['auc_test'].append(auc_test)\n",
        "                self.eval_metrics['precision_train'].append(precision_train)\n",
        "                self.eval_metrics['precision_test'].append(precision_test)\n",
        "                self.eval_metrics['recall_train'].append(recall_train)\n",
        "                self.eval_metrics['recall_test'].append(recall_test)\n",
        "                self.eval_metrics['f1_train'].append(f1_train)\n",
        "                self.eval_metrics['f1_test'].append(f1_test)\n",
        "\n",
        "                if wb_log is True:\n",
        "                  wandb.log({\"AUC train\": auc_train, \"AUC test\": auc_test, \"F1 train\": f1_train, \"F1 test\": f1_test, \"Precision train\": precision_train, \"Precision test\": precision_test, \"Recall train\": recall_train, \"Recall test\": recall_test})\n",
        "\n",
        "\n",
        "                if epoch % 10 == 0:\n",
        "                    print(f'Epoch: {self.curr_epoch}, Loss: {loss.item():.4f}, Train AUC: {auc_train:.4f}, Test AUC: {auc_test:.4f}')\n",
        "                    print(f'                        Train F1: {f1_train:.4f}, Test F1: {f1_test:.4f}')\n",
        "\n",
        "            self.curr_epoch += 1\n",
        "\n",
        "\n",
        "\n",
        "        self.avg_epoch_time = np.mean(epoch_times)\n",
        "        if wb_log is True:\n",
        "            wandb.log({\"avg epoch time\": self.avg_epoch_time})\n",
        "\n",
        "    def eval(self, loader):\n",
        "        '''\n",
        "        Evaluate the model on a given dataset (train/val/test).\n",
        "        '''\n",
        "        start_time = time.time()\n",
        "\n",
        "        self.model.eval()\n",
        "\n",
        "        # print(\"Model is on device for eval:\", next(exp.model.parameters()).device)\n",
        "\n",
        "        correct = 0\n",
        "\n",
        "        gts = []\n",
        "        preds = []\n",
        "        with torch.no_grad():\n",
        "            for data in loader:  # Iterate in batches over the training/test dataset.\n",
        "\n",
        "                data = data.to(self.args['device'])\n",
        "\n",
        "                # forward pass based on model type\n",
        "                if self.args['model'] == 'GCN':\n",
        "                    out = self.model(data.x, data.edge_index, data.batch)\n",
        "                elif self.args['model'] == 'GCN_FP':\n",
        "                    out = self.model(data.x, data.edge_index, data.batch, fp=data.fp)\n",
        "                elif self.args['model'] in ['FP','GROVER','GROVER_FP']:\n",
        "                    out = self.model(data)\n",
        "\n",
        "                # convert out to binary\n",
        "                pred = torch.round(torch.sigmoid(out))\n",
        "                preds.append(torch.round(torch.sigmoid(out)).tolist())\n",
        "                gts.append(data.y.tolist())\n",
        "                # print('pred:', pred)\n",
        "                # print('data.y:', data.y)\n",
        "                # print('data.y eval:',data.y.shape)\n",
        "                # data.y = data.y.unsqueeze(1)\n",
        "                correct += int((pred == data.y).sum())  # Check against ground-truth labels.\n",
        "\n",
        "\n",
        "\n",
        "\n",
        "        preds = [b[i] for b in preds for i in range(len(b))]\n",
        "        gts = [b[i] for b in gts for i in range(len(b))]\n",
        "\n",
        "        auc = roc_auc_score(gts, preds)\n",
        "        # Calculate macro-averaged precision, recall, and F1 Score\n",
        "        precision = precision_score(gts, preds, average='macro', zero_division=0)\n",
        "        recall = recall_score(gts, preds, average='macro', zero_division=0)\n",
        "        f1 = f1_score(gts, preds, average='macro', zero_division=0)\n",
        "\n",
        "\n",
        "        acc = correct / len(loader.dataset)  # Derive ratio of correct predictions.\n",
        "\n",
        "        self.eval_time = time.time() - start_time\n",
        "\n",
        "        if self.wb_log is True:\n",
        "            wandb.log({\"eval time\": self.eval_time})\n",
        "\n",
        "        return acc, auc, precision, recall, f1\n",
        "\n",
        "\n",
        "\n",
        "    def analyze(self):\n",
        "        '''\n",
        "        Plot the model performance.\n",
        "        '''\n",
        "\n",
        "        # plot side by side\n",
        "        fig, (ax1, ax2) = plt.subplots(1, 2, figsize=(10, 5))\n",
        "        ax1.plot(self.eval_metrics['loss'])\n",
        "        ax1.set_xlabel('Epoch')\n",
        "        ax1.set_ylabel('Loss')\n",
        "        ax1.set_title('Losses')\n",
        "\n",
        "        ax2.plot(self.eval_metrics['auc_train'], label='train')\n",
        "        ax2.plot(self.eval_metrics['auc_test'], label='test')\n",
        "        ax2.set_xlabel('Epoch')\n",
        "        ax2.set_ylabel('AUC')\n",
        "        ax2.set_title('Area Under Curve')\n",
        "        ax2.legend()\n",
        "        # make main title for the whole plot\n",
        "        if args['model'] in ['GCN', 'GCN_FP']:\n",
        "            plt.suptitle(f'Model: {self.args[\"model\"]} | Node feats: {self.args[\"num_node_features\"]}, Hidden dim: {self.args[\"hidden_channels\"]}, Dropout: {self.args[\"dropout\"]}, Num data points: {self.args[\"num_data_points\"]}, Num assays: {self.args[\"num_assays\"]}, Num epochs: {self.curr_epoch}')\n",
        "        elif args['model'] in ['FP', 'GROVER', 'GROVER_FP']:\n",
        "            plt.suptitle(f'Model: {self.args[\"model\"]} | Num layers: {self.args[\"num_layers\"]}, Hidden dim: {self.args[\"hidden_channels\"]}, Dropout: {self.args[\"dropout\"]}, Num data points: {self.args[\"num_data_points\"]}, Num assays: {self.args[\"num_assays\"]}, Num epochs: {self.curr_epoch}')\n",
        "        plt.show()\n",
        "\n",
        "\n",
        "\n",
        "    def save_model(self, folder, filename, save_weights=True, save_logs=True):\n",
        "        print('saving experiment...')\n",
        "\n",
        "        filename += f'_{self.curr_epoch}e'\n",
        "        if save_weights:\n",
        "            torch.save(self.model.state_dict(), os.path.join(folder, filename+'.pt'))\n",
        "\n",
        "        #if save_logs:\n",
        "\n",
        "    def load_model(self, folder, filename):\n",
        "        print('loading model...')\n",
        "        self.model.load_state_dict(torch.load(os.path.join(folder, filename+'.pt')))\n"
      ]
    },
    {
      "cell_type": "markdown",
      "metadata": {
        "id": "mxwqEHtDIIKH"
      },
      "source": [
        "# Experiments"
      ]
    },
    {
      "cell_type": "code",
      "execution_count": null,
      "metadata": {
        "colab": {
          "base_uri": "https://localhost:8080/"
        },
        "id": "DRpG9w-Z2IIx",
        "outputId": "28631b89-8517-4a6a-d3b2-76e485710cd9"
      },
      "outputs": [
        {
          "output_type": "stream",
          "name": "stderr",
          "text": [
            "\u001b[34m\u001b[1mwandb\u001b[0m: Currently logged in as: \u001b[33mdavidkubanek\u001b[0m. Use \u001b[1m`wandb login --relogin`\u001b[0m to force relogin\n"
          ]
        },
        {
          "output_type": "execute_result",
          "data": {
            "text/plain": [
              "True"
            ]
          },
          "metadata": {},
          "execution_count": 27
        }
      ],
      "source": [
        "import wandb\n",
        "wandb.login()\n",
        "# API KEY: 69f641df6e6f0934ab302070cf0b3bcd5399ddd3"
      ]
    },
    {
      "cell_type": "code",
      "source": [
        "args['model'] = 'GROVER_FP'\n",
        "args['dropout'] = 0.2\n",
        "# Create a custom run name dynamically\n",
        "run_name = f\"{args['model']}_b{args['batch_size']}_d{args['dropout']}\""
      ],
      "metadata": {
        "id": "NxiWVecC85c2"
      },
      "execution_count": null,
      "outputs": []
    },
    {
      "cell_type": "code",
      "execution_count": null,
      "metadata": {
        "colab": {
          "base_uri": "https://localhost:8080/",
          "height": 104
        },
        "id": "rRPWP3Bk2IIy",
        "outputId": "57b01656-a055-4747-d82f-4ca7ccd26d0c"
      },
      "outputs": [
        {
          "output_type": "display_data",
          "data": {
            "text/plain": [
              "<IPython.core.display.HTML object>"
            ],
            "text/html": [
              "Tracking run with wandb version 0.15.8"
            ]
          },
          "metadata": {}
        },
        {
          "output_type": "display_data",
          "data": {
            "text/plain": [
              "<IPython.core.display.HTML object>"
            ],
            "text/html": [
              "Run data is saved locally in <code>/content/wandb/run-20230809_191436-9wmd7suq</code>"
            ]
          },
          "metadata": {}
        },
        {
          "output_type": "display_data",
          "data": {
            "text/plain": [
              "<IPython.core.display.HTML object>"
            ],
            "text/html": [
              "Syncing run <strong><a href='https://wandb.ai/davidkubanek/GDL_molecular_activity_prediction/runs/9wmd7suq' target=\"_blank\">GROVER_FP_b512_d0.2</a></strong> to <a href='https://wandb.ai/davidkubanek/GDL_molecular_activity_prediction' target=\"_blank\">Weights & Biases</a> (<a href='https://wandb.me/run' target=\"_blank\">docs</a>)<br/>"
            ]
          },
          "metadata": {}
        },
        {
          "output_type": "display_data",
          "data": {
            "text/plain": [
              "<IPython.core.display.HTML object>"
            ],
            "text/html": [
              " View project at <a href='https://wandb.ai/davidkubanek/GDL_molecular_activity_prediction' target=\"_blank\">https://wandb.ai/davidkubanek/GDL_molecular_activity_prediction</a>"
            ]
          },
          "metadata": {}
        },
        {
          "output_type": "display_data",
          "data": {
            "text/plain": [
              "<IPython.core.display.HTML object>"
            ],
            "text/html": [
              " View run at <a href='https://wandb.ai/davidkubanek/GDL_molecular_activity_prediction/runs/9wmd7suq' target=\"_blank\">https://wandb.ai/davidkubanek/GDL_molecular_activity_prediction/runs/9wmd7suq</a>"
            ]
          },
          "metadata": {}
        }
      ],
      "source": [
        "run = wandb.init(\n",
        "    name=run_name,\n",
        "    # Set the project where this run will be logged\n",
        "    project=\"GDL_molecular_activity_prediction\",\n",
        "    # Track hyperparameters and run metadata\n",
        "    config={\n",
        "        'num_data_points': args['num_data_points'],\n",
        "        'assays': 'cell_based_high_hr',\n",
        "        'num_assays': args['num_assays'],\n",
        "\n",
        "        'model': args['model'],\n",
        "        'num_layers': args['num_layers'],\n",
        "        'hidden_channels': args['hidden_channels'],\n",
        "        'dropout': args['dropout'],\n",
        "        'batch_size': args['batch_size'],\n",
        "        'num_epochs': args['num_epochs'],\n",
        "        'lr': args['lr'],\n",
        "    })"
      ]
    },
    {
      "cell_type": "code",
      "source": [
        "exp = TrainManager(dataloader, args)\n",
        "exp.train(epochs=120, log=True, wb_log=True)"
      ],
      "metadata": {
        "colab": {
          "base_uri": "https://localhost:8080/",
          "height": 953
        },
        "id": "86uzC7MvxtHL",
        "outputId": "8e5a1e8c-e917-4b6d-f97c-683599147504"
      },
      "execution_count": null,
      "outputs": [
        {
          "output_type": "stream",
          "name": "stdout",
          "text": [
            "Model is on device: cuda:0\n"
          ]
        },
        {
          "output_type": "stream",
          "name": "stderr",
          "text": [
            "Epoch [0/120]: 1it [00:00, 52.63it/s]\n"
          ]
        },
        {
          "output_type": "error",
          "ename": "ValueError",
          "evalue": "ignored",
          "traceback": [
            "\u001b[0;31m---------------------------------------------------------------------------\u001b[0m",
            "\u001b[0;31mValueError\u001b[0m                                Traceback (most recent call last)",
            "\u001b[0;32m<ipython-input-59-5eeb84ae8a1f>\u001b[0m in \u001b[0;36m<cell line: 2>\u001b[0;34m()\u001b[0m\n\u001b[1;32m      1\u001b[0m \u001b[0mexp\u001b[0m \u001b[0;34m=\u001b[0m \u001b[0mTrainManager\u001b[0m\u001b[0;34m(\u001b[0m\u001b[0mdataloader\u001b[0m\u001b[0;34m,\u001b[0m \u001b[0margs\u001b[0m\u001b[0;34m)\u001b[0m\u001b[0;34m\u001b[0m\u001b[0;34m\u001b[0m\u001b[0m\n\u001b[0;32m----> 2\u001b[0;31m \u001b[0mexp\u001b[0m\u001b[0;34m.\u001b[0m\u001b[0mtrain\u001b[0m\u001b[0;34m(\u001b[0m\u001b[0mepochs\u001b[0m\u001b[0;34m=\u001b[0m\u001b[0;36m120\u001b[0m\u001b[0;34m,\u001b[0m \u001b[0mlog\u001b[0m\u001b[0;34m=\u001b[0m\u001b[0;32mTrue\u001b[0m\u001b[0;34m,\u001b[0m \u001b[0mwb_log\u001b[0m\u001b[0;34m=\u001b[0m\u001b[0;32mTrue\u001b[0m\u001b[0;34m)\u001b[0m\u001b[0;34m\u001b[0m\u001b[0;34m\u001b[0m\u001b[0m\n\u001b[0m",
            "\u001b[0;32m<ipython-input-52-7a3ca6d7542a>\u001b[0m in \u001b[0;36mtrain\u001b[0;34m(self, epochs, log, wb_log)\u001b[0m\n\u001b[1;32m     92\u001b[0m                 \u001b[0;31m# evaluate\u001b[0m\u001b[0;34m\u001b[0m\u001b[0;34m\u001b[0m\u001b[0m\n\u001b[1;32m     93\u001b[0m                 \u001b[0macc_train\u001b[0m\u001b[0;34m,\u001b[0m \u001b[0mauc_train\u001b[0m\u001b[0;34m,\u001b[0m \u001b[0mprecision_train\u001b[0m\u001b[0;34m,\u001b[0m \u001b[0mrecall_train\u001b[0m\u001b[0;34m,\u001b[0m \u001b[0mf1_train\u001b[0m \u001b[0;34m=\u001b[0m \u001b[0mself\u001b[0m\u001b[0;34m.\u001b[0m\u001b[0meval\u001b[0m\u001b[0;34m(\u001b[0m\u001b[0mself\u001b[0m\u001b[0;34m.\u001b[0m\u001b[0mdataloader\u001b[0m\u001b[0;34m[\u001b[0m\u001b[0;34m'train'\u001b[0m\u001b[0;34m]\u001b[0m\u001b[0;34m)\u001b[0m\u001b[0;34m\u001b[0m\u001b[0;34m\u001b[0m\u001b[0m\n\u001b[0;32m---> 94\u001b[0;31m                 \u001b[0macc_test\u001b[0m\u001b[0;34m,\u001b[0m \u001b[0mauc_test\u001b[0m\u001b[0;34m,\u001b[0m \u001b[0mprecision_test\u001b[0m\u001b[0;34m,\u001b[0m \u001b[0mrecall_test\u001b[0m\u001b[0;34m,\u001b[0m \u001b[0mf1_test\u001b[0m \u001b[0;34m=\u001b[0m \u001b[0mself\u001b[0m\u001b[0;34m.\u001b[0m\u001b[0meval\u001b[0m\u001b[0;34m(\u001b[0m\u001b[0mself\u001b[0m\u001b[0;34m.\u001b[0m\u001b[0mdataloader\u001b[0m\u001b[0;34m[\u001b[0m\u001b[0;34m'val'\u001b[0m\u001b[0;34m]\u001b[0m\u001b[0;34m)\u001b[0m\u001b[0;34m\u001b[0m\u001b[0;34m\u001b[0m\u001b[0m\n\u001b[0m\u001b[1;32m     95\u001b[0m \u001b[0;34m\u001b[0m\u001b[0m\n\u001b[1;32m     96\u001b[0m \u001b[0;34m\u001b[0m\u001b[0m\n",
            "\u001b[0;32m<ipython-input-52-7a3ca6d7542a>\u001b[0m in \u001b[0;36meval\u001b[0;34m(self, loader)\u001b[0m\n\u001b[1;32m    165\u001b[0m         \u001b[0mgts\u001b[0m \u001b[0;34m=\u001b[0m \u001b[0;34m[\u001b[0m\u001b[0mb\u001b[0m\u001b[0;34m[\u001b[0m\u001b[0mi\u001b[0m\u001b[0;34m]\u001b[0m \u001b[0;32mfor\u001b[0m \u001b[0mb\u001b[0m \u001b[0;32min\u001b[0m \u001b[0mgts\u001b[0m \u001b[0;32mfor\u001b[0m \u001b[0mi\u001b[0m \u001b[0;32min\u001b[0m \u001b[0mrange\u001b[0m\u001b[0;34m(\u001b[0m\u001b[0mlen\u001b[0m\u001b[0;34m(\u001b[0m\u001b[0mb\u001b[0m\u001b[0;34m)\u001b[0m\u001b[0;34m)\u001b[0m\u001b[0;34m]\u001b[0m\u001b[0;34m\u001b[0m\u001b[0;34m\u001b[0m\u001b[0m\n\u001b[1;32m    166\u001b[0m \u001b[0;34m\u001b[0m\u001b[0m\n\u001b[0;32m--> 167\u001b[0;31m         \u001b[0mauc\u001b[0m \u001b[0;34m=\u001b[0m \u001b[0mroc_auc_score\u001b[0m\u001b[0;34m(\u001b[0m\u001b[0mgts\u001b[0m\u001b[0;34m,\u001b[0m \u001b[0mpreds\u001b[0m\u001b[0;34m)\u001b[0m\u001b[0;34m\u001b[0m\u001b[0;34m\u001b[0m\u001b[0m\n\u001b[0m\u001b[1;32m    168\u001b[0m         \u001b[0;31m# Calculate macro-averaged precision, recall, and F1 Score\u001b[0m\u001b[0;34m\u001b[0m\u001b[0;34m\u001b[0m\u001b[0m\n\u001b[1;32m    169\u001b[0m         \u001b[0mprecision\u001b[0m \u001b[0;34m=\u001b[0m \u001b[0mprecision_score\u001b[0m\u001b[0;34m(\u001b[0m\u001b[0mgts\u001b[0m\u001b[0;34m,\u001b[0m \u001b[0mpreds\u001b[0m\u001b[0;34m,\u001b[0m \u001b[0maverage\u001b[0m\u001b[0;34m=\u001b[0m\u001b[0;34m'macro'\u001b[0m\u001b[0;34m,\u001b[0m \u001b[0mzero_division\u001b[0m\u001b[0;34m=\u001b[0m\u001b[0;36m0\u001b[0m\u001b[0;34m)\u001b[0m\u001b[0;34m\u001b[0m\u001b[0;34m\u001b[0m\u001b[0m\n",
            "\u001b[0;32m/usr/local/lib/python3.10/dist-packages/sklearn/metrics/_ranking.py\u001b[0m in \u001b[0;36mroc_auc_score\u001b[0;34m(y_true, y_score, average, sample_weight, max_fpr, multi_class, labels)\u001b[0m\n\u001b[1;32m    578\u001b[0m         )\n\u001b[1;32m    579\u001b[0m     \u001b[0;32melse\u001b[0m\u001b[0;34m:\u001b[0m  \u001b[0;31m# multilabel-indicator\u001b[0m\u001b[0;34m\u001b[0m\u001b[0;34m\u001b[0m\u001b[0m\n\u001b[0;32m--> 580\u001b[0;31m         return _average_binary_score(\n\u001b[0m\u001b[1;32m    581\u001b[0m             \u001b[0mpartial\u001b[0m\u001b[0;34m(\u001b[0m\u001b[0m_binary_roc_auc_score\u001b[0m\u001b[0;34m,\u001b[0m \u001b[0mmax_fpr\u001b[0m\u001b[0;34m=\u001b[0m\u001b[0mmax_fpr\u001b[0m\u001b[0;34m)\u001b[0m\u001b[0;34m,\u001b[0m\u001b[0;34m\u001b[0m\u001b[0;34m\u001b[0m\u001b[0m\n\u001b[1;32m    582\u001b[0m             \u001b[0my_true\u001b[0m\u001b[0;34m,\u001b[0m\u001b[0;34m\u001b[0m\u001b[0;34m\u001b[0m\u001b[0m\n",
            "\u001b[0;32m/usr/local/lib/python3.10/dist-packages/sklearn/metrics/_base.py\u001b[0m in \u001b[0;36m_average_binary_score\u001b[0;34m(binary_metric, y_true, y_score, average, sample_weight)\u001b[0m\n\u001b[1;32m    116\u001b[0m         \u001b[0my_true_c\u001b[0m \u001b[0;34m=\u001b[0m \u001b[0my_true\u001b[0m\u001b[0;34m.\u001b[0m\u001b[0mtake\u001b[0m\u001b[0;34m(\u001b[0m\u001b[0;34m[\u001b[0m\u001b[0mc\u001b[0m\u001b[0;34m]\u001b[0m\u001b[0;34m,\u001b[0m \u001b[0maxis\u001b[0m\u001b[0;34m=\u001b[0m\u001b[0mnot_average_axis\u001b[0m\u001b[0;34m)\u001b[0m\u001b[0;34m.\u001b[0m\u001b[0mravel\u001b[0m\u001b[0;34m(\u001b[0m\u001b[0;34m)\u001b[0m\u001b[0;34m\u001b[0m\u001b[0;34m\u001b[0m\u001b[0m\n\u001b[1;32m    117\u001b[0m         \u001b[0my_score_c\u001b[0m \u001b[0;34m=\u001b[0m \u001b[0my_score\u001b[0m\u001b[0;34m.\u001b[0m\u001b[0mtake\u001b[0m\u001b[0;34m(\u001b[0m\u001b[0;34m[\u001b[0m\u001b[0mc\u001b[0m\u001b[0;34m]\u001b[0m\u001b[0;34m,\u001b[0m \u001b[0maxis\u001b[0m\u001b[0;34m=\u001b[0m\u001b[0mnot_average_axis\u001b[0m\u001b[0;34m)\u001b[0m\u001b[0;34m.\u001b[0m\u001b[0mravel\u001b[0m\u001b[0;34m(\u001b[0m\u001b[0;34m)\u001b[0m\u001b[0;34m\u001b[0m\u001b[0;34m\u001b[0m\u001b[0m\n\u001b[0;32m--> 118\u001b[0;31m         \u001b[0mscore\u001b[0m\u001b[0;34m[\u001b[0m\u001b[0mc\u001b[0m\u001b[0;34m]\u001b[0m \u001b[0;34m=\u001b[0m \u001b[0mbinary_metric\u001b[0m\u001b[0;34m(\u001b[0m\u001b[0my_true_c\u001b[0m\u001b[0;34m,\u001b[0m \u001b[0my_score_c\u001b[0m\u001b[0;34m,\u001b[0m \u001b[0msample_weight\u001b[0m\u001b[0;34m=\u001b[0m\u001b[0mscore_weight\u001b[0m\u001b[0;34m)\u001b[0m\u001b[0;34m\u001b[0m\u001b[0;34m\u001b[0m\u001b[0m\n\u001b[0m\u001b[1;32m    119\u001b[0m \u001b[0;34m\u001b[0m\u001b[0m\n\u001b[1;32m    120\u001b[0m     \u001b[0;31m# Average the results\u001b[0m\u001b[0;34m\u001b[0m\u001b[0;34m\u001b[0m\u001b[0m\n",
            "\u001b[0;32m/usr/local/lib/python3.10/dist-packages/sklearn/metrics/_ranking.py\u001b[0m in \u001b[0;36m_binary_roc_auc_score\u001b[0;34m(y_true, y_score, sample_weight, max_fpr)\u001b[0m\n\u001b[1;32m    337\u001b[0m     \u001b[0;34m\"\"\"Binary roc auc score.\"\"\"\u001b[0m\u001b[0;34m\u001b[0m\u001b[0;34m\u001b[0m\u001b[0m\n\u001b[1;32m    338\u001b[0m     \u001b[0;32mif\u001b[0m \u001b[0mlen\u001b[0m\u001b[0;34m(\u001b[0m\u001b[0mnp\u001b[0m\u001b[0;34m.\u001b[0m\u001b[0munique\u001b[0m\u001b[0;34m(\u001b[0m\u001b[0my_true\u001b[0m\u001b[0;34m)\u001b[0m\u001b[0;34m)\u001b[0m \u001b[0;34m!=\u001b[0m \u001b[0;36m2\u001b[0m\u001b[0;34m:\u001b[0m\u001b[0;34m\u001b[0m\u001b[0;34m\u001b[0m\u001b[0m\n\u001b[0;32m--> 339\u001b[0;31m         raise ValueError(\n\u001b[0m\u001b[1;32m    340\u001b[0m             \u001b[0;34m\"Only one class present in y_true. ROC AUC score \"\u001b[0m\u001b[0;34m\u001b[0m\u001b[0;34m\u001b[0m\u001b[0m\n\u001b[1;32m    341\u001b[0m             \u001b[0;34m\"is not defined in that case.\"\u001b[0m\u001b[0;34m\u001b[0m\u001b[0;34m\u001b[0m\u001b[0m\n",
            "\u001b[0;31mValueError\u001b[0m: Only one class present in y_true. ROC AUC score is not defined in that case."
          ]
        }
      ]
    },
    {
      "cell_type": "code",
      "source": [
        "exp.curr_epoch"
      ],
      "metadata": {
        "colab": {
          "base_uri": "https://localhost:8080/"
        },
        "id": "7WMupZNNPWPL",
        "outputId": "a7937d1b-d288-4a28-ce4b-ec6dacfed194"
      },
      "execution_count": null,
      "outputs": [
        {
          "output_type": "execute_result",
          "data": {
            "text/plain": [
              "100"
            ]
          },
          "metadata": {},
          "execution_count": 34
        }
      ]
    },
    {
      "cell_type": "code",
      "source": [
        "# Finish the run\n",
        "wandb.finish()"
      ],
      "metadata": {
        "colab": {
          "base_uri": "https://localhost:8080/",
          "height": 529
        },
        "id": "v47EoU5_xY9E",
        "outputId": "6cfad9a5-0559-4bc8-d251-ef86c456e274"
      },
      "execution_count": null,
      "outputs": [
        {
          "output_type": "display_data",
          "data": {
            "text/plain": [
              "<IPython.core.display.HTML object>"
            ],
            "text/html": [
              "Waiting for W&B process to finish... <strong style=\"color:green\">(success).</strong>"
            ]
          },
          "metadata": {}
        },
        {
          "output_type": "display_data",
          "data": {
            "text/plain": [
              "<IPython.core.display.HTML object>"
            ],
            "text/html": [
              "<style>\n",
              "    table.wandb td:nth-child(1) { padding: 0 10px; text-align: left ; width: auto;} td:nth-child(2) {text-align: left ; width: 100%}\n",
              "    .wandb-row { display: flex; flex-direction: row; flex-wrap: wrap; justify-content: flex-start; width: 100% }\n",
              "    .wandb-col { display: flex; flex-direction: column; flex-basis: 100%; flex: 1; padding: 10px; }\n",
              "    </style>\n",
              "<div class=\"wandb-row\"><div class=\"wandb-col\"><h3>Run history:</h3><br/><table class=\"wandb\"><tr><td>AUC test</td><td>▁▃▁▃▃▂▄▂▄▃▄▆▄▃▃▆▅▆▆█▄▅▅▆▆▅▄▇█▅▆▅▆▅▆▇▆▃▇▆</td></tr><tr><td>AUC train</td><td>▁▂▁▂▃▂▃▂▃▃▃▅▄▃▃▅▄▅▅▇▄▅▅▆▆▅▄▇█▅▇▅▆▆▇█▆▄▇▆</td></tr><tr><td>F1 test</td><td>▁▃▁▃▃▃▄▃▅▄▄▆▅▄▄▇▅▆▆█▅▆▆▇▇▆▅▇█▅▇▅▆▆▇▇▇▄▇▆</td></tr><tr><td>F1 train</td><td>▁▂▁▂▃▃▃▃▄▄▄▆▄▃▄▆▅▆▆▇▅▆▆▇▇▆▅▇█▅▇▆▆▆▇█▇▄█▇</td></tr><tr><td>Precision test</td><td>▁▃▅▃▂▃▂▃▃▃▃▂▃▄▃▃▃▂▂▃█▂▂▃▂▃▂▂▃▄▂▄▃▃▁▂▃▂▂▃</td></tr><tr><td>Precision train</td><td>▁█▄▄▃▅▄▄▄▄▄▃▇▆▅▆▆▃▄▆▇▄▆▄▄▆█▆▆▇▄▇▆▆▄▇▆▅▆▇</td></tr><tr><td>Recall test</td><td>▁▃▁▂▃▂▃▂▄▃▃▆▄▃▃▆▄▆▅▇▄▅▅▆▆▅▄▆█▅▆▅▅▅▆▇▆▃▆▆</td></tr><tr><td>Recall train</td><td>▁▂▁▂▃▂▃▂▃▃▃▅▄▃▃▅▄▅▅▇▄▅▅▆▆▅▄▇█▅▆▅▆▆▆▇▆▄▇▆</td></tr><tr><td>avg epoch time</td><td>▁</td></tr><tr><td>eval time</td><td>▁▁▁▁▁▁▁▁▁▁▁▁▁▁▁▁▁▁▁▁▁▁▁▁▁▁▁▁▁▁▁▁▁▁▁▆█▆▆▆</td></tr><tr><td>loss</td><td>█▆▅▄▄▄▃▃▃▃▃▃▃▂▂▂▂▂▂▂▂▂▂▂▂▂▂▂▁▁▁▁▁▁▁▁▁▁▁▁</td></tr></table><br/></div><div class=\"wandb-col\"><h3>Run summary:</h3><br/><table class=\"wandb\"><tr><td>AUC test</td><td>0.54342</td></tr><tr><td>AUC train</td><td>0.57427</td></tr><tr><td>F1 test</td><td>0.1415</td></tr><tr><td>F1 train</td><td>0.22591</td></tr><tr><td>Precision test</td><td>0.38155</td></tr><tr><td>Precision train</td><td>0.56483</td></tr><tr><td>Recall test</td><td>0.09575</td></tr><tr><td>Recall train</td><td>0.15357</td></tr><tr><td>avg epoch time</td><td>17.06905</td></tr><tr><td>eval time</td><td>5.74056</td></tr><tr><td>loss</td><td>0.21992</td></tr></table><br/></div></div>"
            ]
          },
          "metadata": {}
        },
        {
          "output_type": "display_data",
          "data": {
            "text/plain": [
              "<IPython.core.display.HTML object>"
            ],
            "text/html": [
              " View run <strong style=\"color:#cdcd00\">FP_b200_d0.1</strong> at: <a href='https://wandb.ai/davidkubanek/GDL_molecular_activity_prediction/runs/3sei6hwr' target=\"_blank\">https://wandb.ai/davidkubanek/GDL_molecular_activity_prediction/runs/3sei6hwr</a><br/>Synced 5 W&B file(s), 0 media file(s), 0 artifact file(s) and 0 other file(s)"
            ]
          },
          "metadata": {}
        },
        {
          "output_type": "display_data",
          "data": {
            "text/plain": [
              "<IPython.core.display.HTML object>"
            ],
            "text/html": [
              "Find logs at: <code>./wandb/run-20230809_155612-3sei6hwr/logs</code>"
            ]
          },
          "metadata": {}
        }
      ]
    },
    {
      "cell_type": "code",
      "execution_count": null,
      "metadata": {
        "id": "E0sa-e8yN8JL"
      },
      "outputs": [],
      "source": [
        "plt.rcdefaults()"
      ]
    },
    {
      "cell_type": "code",
      "execution_count": null,
      "metadata": {
        "id": "7eo_6lyLIIKH"
      },
      "outputs": [],
      "source": [
        "args['model'] = 'GCN'\n",
        "#args['device'] = gpu\n",
        "exp = TrainManager(dataloader, args)\n",
        "exp.train(epochs=100, log=True)"
      ]
    },
    {
      "cell_type": "code",
      "execution_count": null,
      "metadata": {
        "id": "vHEnUNkDLMxw"
      },
      "outputs": [],
      "source": [
        "args['model'] = 'GCN'\n",
        "args['device'] = 'cpu'#'cuda:0'\n",
        "exp = TrainManager(dataloader, args)\n",
        "exp.train(epochs=20, log=True)"
      ]
    },
    {
      "cell_type": "code",
      "execution_count": null,
      "metadata": {
        "id": "h_ms3woALD1o"
      },
      "outputs": [],
      "source": [
        "plt.rcParams.update({})"
      ]
    },
    {
      "cell_type": "code",
      "execution_count": null,
      "metadata": {
        "colab": {
          "base_uri": "https://localhost:8080/"
        },
        "id": "DV-8r7GWJsCH",
        "outputId": "0801487f-4104-4bbe-df2c-372cf496edb1"
      },
      "outputs": [
        {
          "name": "stdout",
          "output_type": "stream",
          "text": [
            "Model is on device: cuda:0\n"
          ]
        }
      ],
      "source": [
        "device = next(exp.model.parameters()).device\n",
        "\n",
        "print(\"Model is on device:\", device)"
      ]
    },
    {
      "cell_type": "code",
      "execution_count": null,
      "metadata": {
        "colab": {
          "base_uri": "https://localhost:8080/",
          "height": 1000
        },
        "id": "IbkcnuDFIIKH",
        "outputId": "891742d1-3eb6-45a1-e5ba-5dbce8ad9338"
      },
      "outputs": [
        {
          "data": {
            "image/png": "[encoded data removed]",
            "text/plain": [
              "<Figure size 1000x500 with 2 Axes>"
            ]
          },
          "metadata": {},
          "output_type": "display_data"
        }
      ],
      "source": [
        "exp.analyze()"
      ]
    },
    {
      "cell_type": "code",
      "execution_count": null,
      "metadata": {
        "id": "TsHWV5QtIIKI",
        "outputId": "0b2c324b-871c-44c6-87b4-dff08f017587"
      },
      "outputs": [
        {
          "name": "stdout",
          "output_type": "stream",
          "text": [
            "Model is on device: cpu\n",
            "Epoch: 0, Loss: 0.2586, Train AUC: 0.5583, Test AUC: 0.5108\n",
            "                        Train F1: 0.1482, Test F1: 0.0570\n",
            "Epoch: 10, Loss: 0.1120, Train AUC: 0.8129, Test AUC: 0.5398\n",
            "                        Train F1: 0.6777, Test F1: 0.1321\n",
            "Epoch: 20, Loss: 0.0815, Train AUC: 0.8451, Test AUC: 0.5312\n",
            "                        Train F1: 0.7937, Test F1: 0.1295\n",
            "Epoch: 30, Loss: 0.1298, Train AUC: 0.9106, Test AUC: 0.5315\n",
            "                        Train F1: 0.8691, Test F1: 0.1379\n",
            "Epoch: 40, Loss: 0.1892, Train AUC: 0.9632, Test AUC: 0.5471\n",
            "                        Train F1: 0.8435, Test F1: 0.1666\n",
            "Epoch: 50, Loss: 0.0667, Train AUC: 0.9060, Test AUC: 0.5316\n",
            "                        Train F1: 0.8824, Test F1: 0.1300\n",
            "Epoch: 60, Loss: 0.0599, Train AUC: 0.9235, Test AUC: 0.5292\n",
            "                        Train F1: 0.8824, Test F1: 0.1381\n",
            "Epoch: 70, Loss: 0.0588, Train AUC: 0.9119, Test AUC: 0.5245\n",
            "                        Train F1: 0.8398, Test F1: 0.1270\n",
            "Epoch: 80, Loss: 0.0415, Train AUC: 0.9378, Test AUC: 0.5348\n",
            "                        Train F1: 0.9064, Test F1: 0.1404\n",
            "Epoch: 90, Loss: 0.0250, Train AUC: 0.9831, Test AUC: 0.5304\n",
            "                        Train F1: 0.9811, Test F1: 0.1379\n",
            "Epoch: 100, Loss: 0.0255, Train AUC: 0.9717, Test AUC: 0.5397\n",
            "                        Train F1: 0.9652, Test F1: 0.1470\n",
            "Epoch: 110, Loss: 0.0192, Train AUC: 0.9125, Test AUC: 0.5316\n",
            "                        Train F1: 0.8559, Test F1: 0.1345\n",
            "Epoch: 120, Loss: 0.0204, Train AUC: 0.9878, Test AUC: 0.5382\n",
            "                        Train F1: 0.9230, Test F1: 0.1530\n",
            "Epoch: 130, Loss: 0.0149, Train AUC: 0.9985, Test AUC: 0.5375\n",
            "                        Train F1: 0.9978, Test F1: 0.1501\n",
            "Epoch: 140, Loss: 0.0129, Train AUC: 0.9937, Test AUC: 0.5377\n",
            "                        Train F1: 0.9752, Test F1: 0.1524\n",
            "Epoch: 150, Loss: 0.0172, Train AUC: 0.9957, Test AUC: 0.5366\n",
            "                        Train F1: 0.9578, Test F1: 0.1534\n",
            "Epoch: 160, Loss: 0.0186, Train AUC: 0.9901, Test AUC: 0.5348\n",
            "                        Train F1: 0.9892, Test F1: 0.1450\n",
            "Epoch: 170, Loss: 0.0069, Train AUC: 0.9986, Test AUC: 0.5329\n",
            "                        Train F1: 0.9982, Test F1: 0.1463\n",
            "Epoch: 180, Loss: 0.0147, Train AUC: 0.9998, Test AUC: 0.5339\n",
            "                        Train F1: 0.9996, Test F1: 0.1488\n",
            "Epoch: 190, Loss: 0.0080, Train AUC: 0.9931, Test AUC: 0.5327\n",
            "                        Train F1: 0.9924, Test F1: 0.1448\n"
          ]
        }
      ],
      "source": [
        "args['model'] = 'GCN_FP'\n",
        "exp = TrainManager(dataloader, args)\n",
        "exp.train(epochs=200, log=True)"
      ]
    },
    {
      "cell_type": "code",
      "execution_count": null,
      "metadata": {
        "id": "3Xvghic6IIKI"
      },
      "outputs": [],
      "source": [
        "exp.analyze()"
      ]
    },
    {
      "cell_type": "code",
      "execution_count": null,
      "metadata": {
        "colab": {
          "base_uri": "https://localhost:8080/",
          "height": 866
        },
        "id": "q0fQEtowZfpr",
        "outputId": "7b385f63-10c2-4972-b016-699b4947a937"
      },
      "outputs": [
        {
          "output_type": "stream",
          "name": "stdout",
          "text": [
            "Problem at: <ipython-input-61-0cb74df43d84> 19 initialize_wandb_run\n"
          ]
        },
        {
          "output_type": "stream",
          "name": "stderr",
          "text": [
            "Traceback (most recent call last):\n",
            "  File \"/usr/local/lib/python3.10/dist-packages/wandb/sdk/wandb_init.py\", line 1147, in init\n",
            "    run = wi.init()\n",
            "  File \"/usr/local/lib/python3.10/dist-packages/wandb/sdk/wandb_init.py\", line 601, in init\n",
            "    manager._inform_init(settings=self.settings, run_id=self.settings.run_id)\n",
            "  File \"/usr/local/lib/python3.10/dist-packages/wandb/sdk/wandb_manager.py\", line 207, in _inform_init\n",
            "    svc_iface._svc_inform_init(settings=settings, run_id=run_id)\n",
            "  File \"/usr/local/lib/python3.10/dist-packages/wandb/sdk/service/service_sock.py\", line 37, in _svc_inform_init\n",
            "    self._sock_client.send(inform_init=inform_init)\n",
            "  File \"/usr/local/lib/python3.10/dist-packages/wandb/sdk/lib/sock_client.py\", line 211, in send\n",
            "    self.send_server_request(server_req)\n",
            "  File \"/usr/local/lib/python3.10/dist-packages/wandb/sdk/lib/sock_client.py\", line 155, in send_server_request\n",
            "    self._send_message(msg)\n",
            "  File \"/usr/local/lib/python3.10/dist-packages/wandb/sdk/lib/sock_client.py\", line 152, in _send_message\n",
            "    self._sendall_with_error_handle(header + data)\n",
            "  File \"/usr/local/lib/python3.10/dist-packages/wandb/sdk/lib/sock_client.py\", line 130, in _sendall_with_error_handle\n",
            "    sent = self._sock.send(data)\n",
            "BrokenPipeError: [Errno 32] Broken pipe\n"
          ]
        },
        {
          "output_type": "error",
          "ename": "Error",
          "evalue": "ignored",
          "traceback": [
            "\u001b[0;31m---------------------------------------------------------------------------\u001b[0m",
            "\u001b[0;31mBrokenPipeError\u001b[0m                           Traceback (most recent call last)",
            "\u001b[0;32m/usr/local/lib/python3.10/dist-packages/wandb/sdk/wandb_init.py\u001b[0m in \u001b[0;36minit\u001b[0;34m(job_type, dir, config, project, entity, reinit, tags, group, name, notes, magic, config_exclude_keys, config_include_keys, anonymous, mode, allow_val_change, resume, force, tensorboard, sync_tensorboard, monitor_gym, save_code, id, settings)\u001b[0m\n\u001b[1;32m   1146\u001b[0m         \u001b[0;32mtry\u001b[0m\u001b[0;34m:\u001b[0m\u001b[0;34m\u001b[0m\u001b[0;34m\u001b[0m\u001b[0m\n\u001b[0;32m-> 1147\u001b[0;31m             \u001b[0mrun\u001b[0m \u001b[0;34m=\u001b[0m \u001b[0mwi\u001b[0m\u001b[0;34m.\u001b[0m\u001b[0minit\u001b[0m\u001b[0;34m(\u001b[0m\u001b[0;34m)\u001b[0m\u001b[0;34m\u001b[0m\u001b[0;34m\u001b[0m\u001b[0m\n\u001b[0m\u001b[1;32m   1148\u001b[0m             \u001b[0mexcept_exit\u001b[0m \u001b[0;34m=\u001b[0m \u001b[0mwi\u001b[0m\u001b[0;34m.\u001b[0m\u001b[0msettings\u001b[0m\u001b[0;34m.\u001b[0m\u001b[0m_except_exit\u001b[0m\u001b[0;34m\u001b[0m\u001b[0;34m\u001b[0m\u001b[0m\n",
            "\u001b[0;32m/usr/local/lib/python3.10/dist-packages/wandb/sdk/wandb_init.py\u001b[0m in \u001b[0;36minit\u001b[0;34m(self)\u001b[0m\n\u001b[1;32m    600\u001b[0m             \u001b[0mlogger\u001b[0m\u001b[0;34m.\u001b[0m\u001b[0minfo\u001b[0m\u001b[0;34m(\u001b[0m\u001b[0;34m\"setting up manager\"\u001b[0m\u001b[0;34m)\u001b[0m\u001b[0;34m\u001b[0m\u001b[0;34m\u001b[0m\u001b[0m\n\u001b[0;32m--> 601\u001b[0;31m             \u001b[0mmanager\u001b[0m\u001b[0;34m.\u001b[0m\u001b[0m_inform_init\u001b[0m\u001b[0;34m(\u001b[0m\u001b[0msettings\u001b[0m\u001b[0;34m=\u001b[0m\u001b[0mself\u001b[0m\u001b[0;34m.\u001b[0m\u001b[0msettings\u001b[0m\u001b[0;34m,\u001b[0m \u001b[0mrun_id\u001b[0m\u001b[0;34m=\u001b[0m\u001b[0mself\u001b[0m\u001b[0;34m.\u001b[0m\u001b[0msettings\u001b[0m\u001b[0;34m.\u001b[0m\u001b[0mrun_id\u001b[0m\u001b[0;34m)\u001b[0m\u001b[0;34m\u001b[0m\u001b[0;34m\u001b[0m\u001b[0m\n\u001b[0m\u001b[1;32m    602\u001b[0m \u001b[0;34m\u001b[0m\u001b[0m\n",
            "\u001b[0;32m/usr/local/lib/python3.10/dist-packages/wandb/sdk/wandb_manager.py\u001b[0m in \u001b[0;36m_inform_init\u001b[0;34m(self, settings, run_id)\u001b[0m\n\u001b[1;32m    206\u001b[0m         \u001b[0msvc_iface\u001b[0m \u001b[0;34m=\u001b[0m \u001b[0mself\u001b[0m\u001b[0;34m.\u001b[0m\u001b[0m_get_service_interface\u001b[0m\u001b[0;34m(\u001b[0m\u001b[0;34m)\u001b[0m\u001b[0;34m\u001b[0m\u001b[0;34m\u001b[0m\u001b[0m\n\u001b[0;32m--> 207\u001b[0;31m         \u001b[0msvc_iface\u001b[0m\u001b[0;34m.\u001b[0m\u001b[0m_svc_inform_init\u001b[0m\u001b[0;34m(\u001b[0m\u001b[0msettings\u001b[0m\u001b[0;34m=\u001b[0m\u001b[0msettings\u001b[0m\u001b[0;34m,\u001b[0m \u001b[0mrun_id\u001b[0m\u001b[0;34m=\u001b[0m\u001b[0mrun_id\u001b[0m\u001b[0;34m)\u001b[0m\u001b[0;34m\u001b[0m\u001b[0;34m\u001b[0m\u001b[0m\n\u001b[0m\u001b[1;32m    208\u001b[0m \u001b[0;34m\u001b[0m\u001b[0m\n",
            "\u001b[0;32m/usr/local/lib/python3.10/dist-packages/wandb/sdk/service/service_sock.py\u001b[0m in \u001b[0;36m_svc_inform_init\u001b[0;34m(self, settings, run_id)\u001b[0m\n\u001b[1;32m     36\u001b[0m         \u001b[0;32massert\u001b[0m \u001b[0mself\u001b[0m\u001b[0;34m.\u001b[0m\u001b[0m_sock_client\u001b[0m\u001b[0;34m\u001b[0m\u001b[0;34m\u001b[0m\u001b[0m\n\u001b[0;32m---> 37\u001b[0;31m         \u001b[0mself\u001b[0m\u001b[0;34m.\u001b[0m\u001b[0m_sock_client\u001b[0m\u001b[0;34m.\u001b[0m\u001b[0msend\u001b[0m\u001b[0;34m(\u001b[0m\u001b[0minform_init\u001b[0m\u001b[0;34m=\u001b[0m\u001b[0minform_init\u001b[0m\u001b[0;34m)\u001b[0m\u001b[0;34m\u001b[0m\u001b[0;34m\u001b[0m\u001b[0m\n\u001b[0m\u001b[1;32m     38\u001b[0m \u001b[0;34m\u001b[0m\u001b[0m\n",
            "\u001b[0;32m/usr/local/lib/python3.10/dist-packages/wandb/sdk/lib/sock_client.py\u001b[0m in \u001b[0;36msend\u001b[0;34m(self, inform_init, inform_start, inform_attach, inform_finish, inform_teardown)\u001b[0m\n\u001b[1;32m    210\u001b[0m             \u001b[0;32mraise\u001b[0m \u001b[0mException\u001b[0m\u001b[0;34m(\u001b[0m\u001b[0;34m\"unmatched\"\u001b[0m\u001b[0;34m)\u001b[0m\u001b[0;34m\u001b[0m\u001b[0;34m\u001b[0m\u001b[0m\n\u001b[0;32m--> 211\u001b[0;31m         \u001b[0mself\u001b[0m\u001b[0;34m.\u001b[0m\u001b[0msend_server_request\u001b[0m\u001b[0;34m(\u001b[0m\u001b[0mserver_req\u001b[0m\u001b[0;34m)\u001b[0m\u001b[0;34m\u001b[0m\u001b[0;34m\u001b[0m\u001b[0m\n\u001b[0m\u001b[1;32m    212\u001b[0m \u001b[0;34m\u001b[0m\u001b[0m\n",
            "\u001b[0;32m/usr/local/lib/python3.10/dist-packages/wandb/sdk/lib/sock_client.py\u001b[0m in \u001b[0;36msend_server_request\u001b[0;34m(self, msg)\u001b[0m\n\u001b[1;32m    154\u001b[0m     \u001b[0;32mdef\u001b[0m \u001b[0msend_server_request\u001b[0m\u001b[0;34m(\u001b[0m\u001b[0mself\u001b[0m\u001b[0;34m,\u001b[0m \u001b[0mmsg\u001b[0m\u001b[0;34m:\u001b[0m \u001b[0mAny\u001b[0m\u001b[0;34m)\u001b[0m \u001b[0;34m->\u001b[0m \u001b[0;32mNone\u001b[0m\u001b[0;34m:\u001b[0m\u001b[0;34m\u001b[0m\u001b[0;34m\u001b[0m\u001b[0m\n\u001b[0;32m--> 155\u001b[0;31m         \u001b[0mself\u001b[0m\u001b[0;34m.\u001b[0m\u001b[0m_send_message\u001b[0m\u001b[0;34m(\u001b[0m\u001b[0mmsg\u001b[0m\u001b[0;34m)\u001b[0m\u001b[0;34m\u001b[0m\u001b[0;34m\u001b[0m\u001b[0m\n\u001b[0m\u001b[1;32m    156\u001b[0m \u001b[0;34m\u001b[0m\u001b[0m\n",
            "\u001b[0;32m/usr/local/lib/python3.10/dist-packages/wandb/sdk/lib/sock_client.py\u001b[0m in \u001b[0;36m_send_message\u001b[0;34m(self, msg)\u001b[0m\n\u001b[1;32m    151\u001b[0m         \u001b[0;32mwith\u001b[0m \u001b[0mself\u001b[0m\u001b[0;34m.\u001b[0m\u001b[0m_lock\u001b[0m\u001b[0;34m:\u001b[0m\u001b[0;34m\u001b[0m\u001b[0;34m\u001b[0m\u001b[0m\n\u001b[0;32m--> 152\u001b[0;31m             \u001b[0mself\u001b[0m\u001b[0;34m.\u001b[0m\u001b[0m_sendall_with_error_handle\u001b[0m\u001b[0;34m(\u001b[0m\u001b[0mheader\u001b[0m \u001b[0;34m+\u001b[0m \u001b[0mdata\u001b[0m\u001b[0;34m)\u001b[0m\u001b[0;34m\u001b[0m\u001b[0;34m\u001b[0m\u001b[0m\n\u001b[0m\u001b[1;32m    153\u001b[0m \u001b[0;34m\u001b[0m\u001b[0m\n",
            "\u001b[0;32m/usr/local/lib/python3.10/dist-packages/wandb/sdk/lib/sock_client.py\u001b[0m in \u001b[0;36m_sendall_with_error_handle\u001b[0;34m(self, data)\u001b[0m\n\u001b[1;32m    129\u001b[0m             \u001b[0;32mtry\u001b[0m\u001b[0;34m:\u001b[0m\u001b[0;34m\u001b[0m\u001b[0;34m\u001b[0m\u001b[0m\n\u001b[0;32m--> 130\u001b[0;31m                 \u001b[0msent\u001b[0m \u001b[0;34m=\u001b[0m \u001b[0mself\u001b[0m\u001b[0;34m.\u001b[0m\u001b[0m_sock\u001b[0m\u001b[0;34m.\u001b[0m\u001b[0msend\u001b[0m\u001b[0;34m(\u001b[0m\u001b[0mdata\u001b[0m\u001b[0;34m)\u001b[0m\u001b[0;34m\u001b[0m\u001b[0;34m\u001b[0m\u001b[0m\n\u001b[0m\u001b[1;32m    131\u001b[0m                 \u001b[0;31m# sent equal to 0 indicates a closed socket\u001b[0m\u001b[0;34m\u001b[0m\u001b[0;34m\u001b[0m\u001b[0m\n",
            "\u001b[0;31mBrokenPipeError\u001b[0m: [Errno 32] Broken pipe",
            "\nThe above exception was the direct cause of the following exception:\n",
            "\u001b[0;31mError\u001b[0m                                     Traceback (most recent call last)",
            "\u001b[0;32m<ipython-input-97-dae04108aad1>\u001b[0m in \u001b[0;36m<cell line: 2>\u001b[0;34m()\u001b[0m\n\u001b[1;32m      1\u001b[0m \u001b[0margs\u001b[0m\u001b[0;34m[\u001b[0m\u001b[0;34m'model'\u001b[0m\u001b[0;34m]\u001b[0m \u001b[0;34m=\u001b[0m \u001b[0;34m'FP'\u001b[0m\u001b[0;34m\u001b[0m\u001b[0;34m\u001b[0m\u001b[0m\n\u001b[0;32m----> 2\u001b[0;31m \u001b[0minitialize_wandb_run\u001b[0m\u001b[0;34m(\u001b[0m\u001b[0margs\u001b[0m\u001b[0;34m)\u001b[0m\u001b[0;34m\u001b[0m\u001b[0;34m\u001b[0m\u001b[0m\n\u001b[0m\u001b[1;32m      3\u001b[0m \u001b[0mexp\u001b[0m \u001b[0;34m=\u001b[0m \u001b[0mTrainManager\u001b[0m\u001b[0;34m(\u001b[0m\u001b[0mdataloader\u001b[0m\u001b[0;34m,\u001b[0m \u001b[0margs\u001b[0m\u001b[0;34m)\u001b[0m\u001b[0;34m\u001b[0m\u001b[0;34m\u001b[0m\u001b[0m\n\u001b[1;32m      4\u001b[0m \u001b[0mexp\u001b[0m\u001b[0;34m.\u001b[0m\u001b[0mtrain\u001b[0m\u001b[0;34m(\u001b[0m\u001b[0mepochs\u001b[0m\u001b[0;34m=\u001b[0m\u001b[0;36m100\u001b[0m\u001b[0;34m,\u001b[0m \u001b[0mlog\u001b[0m\u001b[0;34m=\u001b[0m\u001b[0;32mTrue\u001b[0m\u001b[0;34m)\u001b[0m\u001b[0;34m\u001b[0m\u001b[0;34m\u001b[0m\u001b[0m\n\u001b[1;32m      5\u001b[0m \u001b[0mwandb\u001b[0m\u001b[0;34m.\u001b[0m\u001b[0mfinish\u001b[0m\u001b[0;34m(\u001b[0m\u001b[0;34m)\u001b[0m\u001b[0;34m\u001b[0m\u001b[0;34m\u001b[0m\u001b[0m\n",
            "\u001b[0;32m<ipython-input-61-0cb74df43d84>\u001b[0m in \u001b[0;36minitialize_wandb_run\u001b[0;34m(args)\u001b[0m\n\u001b[1;32m     17\u001b[0m   \u001b[0mrun_name\u001b[0m \u001b[0;34m=\u001b[0m \u001b[0;34mf\"{args['model']}_b{args['batch_size']}_d{args['dropout']}\"\u001b[0m\u001b[0;34m\u001b[0m\u001b[0;34m\u001b[0m\u001b[0m\n\u001b[1;32m     18\u001b[0m   \u001b[0;31m# Initialize a W&B run with the dynamic run name\u001b[0m\u001b[0;34m\u001b[0m\u001b[0;34m\u001b[0m\u001b[0m\n\u001b[0;32m---> 19\u001b[0;31m   \u001b[0mwandb\u001b[0m\u001b[0;34m.\u001b[0m\u001b[0minit\u001b[0m\u001b[0;34m(\u001b[0m\u001b[0mname\u001b[0m\u001b[0;34m=\u001b[0m\u001b[0mrun_name\u001b[0m\u001b[0;34m,\u001b[0m \u001b[0mproject\u001b[0m\u001b[0;34m=\u001b[0m\u001b[0;34m\"GDL_molecular_activity_prediction\"\u001b[0m\u001b[0;34m,\u001b[0m \u001b[0mconfig\u001b[0m\u001b[0;34m=\u001b[0m\u001b[0mconfig\u001b[0m\u001b[0;34m)\u001b[0m\u001b[0;34m\u001b[0m\u001b[0;34m\u001b[0m\u001b[0m\n\u001b[0m",
            "\u001b[0;32m/usr/local/lib/python3.10/dist-packages/wandb/sdk/wandb_init.py\u001b[0m in \u001b[0;36minit\u001b[0;34m(job_type, dir, config, project, entity, reinit, tags, group, name, notes, magic, config_exclude_keys, config_include_keys, anonymous, mode, allow_val_change, resume, force, tensorboard, sync_tensorboard, monitor_gym, save_code, id, settings)\u001b[0m\n\u001b[1;32m   1183\u001b[0m                 \u001b[0mwandb\u001b[0m\u001b[0;34m.\u001b[0m\u001b[0mtermerror\u001b[0m\u001b[0;34m(\u001b[0m\u001b[0;34m\"Abnormal program exit\"\u001b[0m\u001b[0;34m)\u001b[0m\u001b[0;34m\u001b[0m\u001b[0;34m\u001b[0m\u001b[0m\n\u001b[1;32m   1184\u001b[0m                 \u001b[0mos\u001b[0m\u001b[0;34m.\u001b[0m\u001b[0m_exit\u001b[0m\u001b[0;34m(\u001b[0m\u001b[0;36m1\u001b[0m\u001b[0;34m)\u001b[0m\u001b[0;34m\u001b[0m\u001b[0;34m\u001b[0m\u001b[0m\n\u001b[0;32m-> 1185\u001b[0;31m             \u001b[0;32mraise\u001b[0m \u001b[0mError\u001b[0m\u001b[0;34m(\u001b[0m\u001b[0;34m\"An unexpected error occurred\"\u001b[0m\u001b[0;34m)\u001b[0m \u001b[0;32mfrom\u001b[0m \u001b[0merror_seen\u001b[0m\u001b[0;34m\u001b[0m\u001b[0;34m\u001b[0m\u001b[0m\n\u001b[0m\u001b[1;32m   1186\u001b[0m     \u001b[0;32mreturn\u001b[0m \u001b[0mrun\u001b[0m\u001b[0;34m\u001b[0m\u001b[0;34m\u001b[0m\u001b[0m\n",
            "\u001b[0;31mError\u001b[0m: An unexpected error occurred"
          ]
        }
      ],
      "source": [
        "args['model'] = 'FP'\n",
        "initialize_wandb_run(args)\n",
        "exp = TrainManager(dataloader, args)\n",
        "exp.train(epochs=100, log=True)\n",
        "wandb.finish()"
      ]
    },
    {
      "cell_type": "code",
      "source": [
        "exp = TrainManager(dataloader, args)\n",
        "exp.train(epochs=2, log=True, wb_log=False)"
      ],
      "metadata": {
        "colab": {
          "base_uri": "https://localhost:8080/"
        },
        "id": "qfRICgTNzdvh",
        "outputId": "60706de1-15e5-40a1-8e24-441179658e7d"
      },
      "execution_count": null,
      "outputs": [
        {
          "output_type": "stream",
          "name": "stdout",
          "text": [
            "Model is on device: cuda:0\n"
          ]
        },
        {
          "output_type": "stream",
          "name": "stderr",
          "text": [
            "Epoch [0/2]: 973it [00:16, 57.57it/s]                         \n"
          ]
        },
        {
          "output_type": "stream",
          "name": "stdout",
          "text": [
            "Epoch: 0, Loss: 0.2346, Train AUC: 0.5010, Test AUC: 0.5008\n",
            "                        Train F1: 0.0043, Test F1: 0.0039\n"
          ]
        },
        {
          "output_type": "stream",
          "name": "stderr",
          "text": [
            "Epoch [1/2]: 973it [00:16, 59.72it/s]\n"
          ]
        }
      ]
    },
    {
      "cell_type": "code",
      "source": [
        "exp.avg_epoch_time"
      ],
      "metadata": {
        "colab": {
          "base_uri": "https://localhost:8080/"
        },
        "id": "5WB3GN3t5y_d",
        "outputId": "013fbafa-4935-4c57-9605-8b2ff7a074a7"
      },
      "execution_count": null,
      "outputs": [
        {
          "output_type": "execute_result",
          "data": {
            "text/plain": [
              "16.600234866142273"
            ]
          },
          "metadata": {},
          "execution_count": 99
        }
      ]
    },
    {
      "cell_type": "code",
      "source": [
        "exp.eval_time"
      ],
      "metadata": {
        "colab": {
          "base_uri": "https://localhost:8080/"
        },
        "id": "Ppzb7kPw6Ish",
        "outputId": "b67d1fa6-b943-463c-fbbb-a44d2053e970"
      },
      "execution_count": null,
      "outputs": [
        {
          "output_type": "execute_result",
          "data": {
            "text/plain": [
              "5.796475410461426"
            ]
          },
          "metadata": {},
          "execution_count": 103
        }
      ]
    },
    {
      "cell_type": "code",
      "source": [
        "exp.eval(dataloader['val'])"
      ],
      "metadata": {
        "colab": {
          "base_uri": "https://localhost:8080/"
        },
        "id": "WolQf_g-8OR5",
        "outputId": "fd5390ef-951d-4879-fdbd-3b97b0976b03"
      },
      "execution_count": null,
      "outputs": [
        {
          "output_type": "execute_result",
          "data": {
            "text/plain": [
              "(4.600620006786144,\n",
              " 0.5028505646452232,\n",
              " 0.42302984895708456,\n",
              " 0.005906018908582495,\n",
              " 0.011647619386393023)"
            ]
          },
          "metadata": {},
          "execution_count": 102
        }
      ]
    },
    {
      "cell_type": "code",
      "source": [
        "import time\n",
        "\n",
        "start_time = time.time()"
      ],
      "metadata": {
        "colab": {
          "base_uri": "https://localhost:8080/",
          "height": 214
        },
        "id": "V5qoVnNO3AlY",
        "outputId": "eb673a5a-d9cf-4d56-b96d-7cadd479d220"
      },
      "execution_count": null,
      "outputs": [
        {
          "output_type": "error",
          "ename": "AttributeError",
          "evalue": "ignored",
          "traceback": [
            "\u001b[0;31m---------------------------------------------------------------------------\u001b[0m",
            "\u001b[0;31mAttributeError\u001b[0m                            Traceback (most recent call last)",
            "\u001b[0;32m<ipython-input-90-eace51e2e82e>\u001b[0m in \u001b[0;36m<cell line: 3>\u001b[0;34m()\u001b[0m\n\u001b[1;32m      1\u001b[0m \u001b[0;32mimport\u001b[0m \u001b[0mtime\u001b[0m\u001b[0;34m\u001b[0m\u001b[0;34m\u001b[0m\u001b[0m\n\u001b[1;32m      2\u001b[0m \u001b[0;34m\u001b[0m\u001b[0m\n\u001b[0;32m----> 3\u001b[0;31m \u001b[0mtime\u001b[0m\u001b[0;34m.\u001b[0m\u001b[0mnow\u001b[0m\u001b[0;34m(\u001b[0m\u001b[0;34m)\u001b[0m\u001b[0;34m\u001b[0m\u001b[0;34m\u001b[0m\u001b[0m\n\u001b[0m",
            "\u001b[0;31mAttributeError\u001b[0m: module 'time' has no attribute 'now'"
          ]
        }
      ]
    },
    {
      "cell_type": "code",
      "source": [
        "int(len(self.dataloader['train'].dataset)/self.args['batch_size'])"
      ],
      "metadata": {
        "colab": {
          "base_uri": "https://localhost:8080/"
        },
        "id": "M-zKcGVbzy8z",
        "outputId": "0514fb44-689c-434e-ac8d-992334be0f9d"
      },
      "execution_count": null,
      "outputs": [
        {
          "output_type": "execute_result",
          "data": {
            "text/plain": [
              "972"
            ]
          },
          "metadata": {},
          "execution_count": 75
        }
      ]
    },
    {
      "cell_type": "code",
      "execution_count": null,
      "metadata": {
        "colab": {
          "base_uri": "https://localhost:8080/",
          "height": 1000
        },
        "id": "N356VI0vNK6i",
        "outputId": "3c10ba3f-626d-491b-f82c-61eb2cff6e3d"
      },
      "outputs": [
        {
          "data": {
            "image/png": "[encoded data removed]",
            "text/plain": [
              "<Figure size 1000x500 with 2 Axes>"
            ]
          },
          "metadata": {},
          "output_type": "display_data"
        }
      ],
      "source": [
        "exp.analyze()"
      ]
    },
    {
      "cell_type": "code",
      "execution_count": null,
      "metadata": {
        "colab": {
          "base_uri": "https://localhost:8080/"
        },
        "id": "lygRohSBNK9p",
        "outputId": "3bc42533-e8bf-4e4c-8872-c1c542c6b7a5"
      },
      "outputs": [
        {
          "name": "stdout",
          "output_type": "stream",
          "text": [
            "Model is on device: cuda:0\n",
            "Epoch: 0, Loss: 0.4738, Train Acc: 0.7995, Test Acc: 0.8105\n",
            "Epoch: 10, Loss: 0.4855, Train Acc: 0.7995, Test Acc: 0.8105\n",
            "Epoch: 20, Loss: 0.5276, Train Acc: 0.7995, Test Acc: 0.8105\n",
            "Epoch: 30, Loss: 0.5235, Train Acc: 0.7995, Test Acc: 0.8105\n",
            "Epoch: 40, Loss: 0.5510, Train Acc: 0.7995, Test Acc: 0.8105\n",
            "Epoch: 50, Loss: 0.6075, Train Acc: 0.7995, Test Acc: 0.8105\n",
            "Epoch: 60, Loss: 0.4171, Train Acc: 0.7995, Test Acc: 0.8105\n",
            "Epoch: 70, Loss: 0.5485, Train Acc: 0.7995, Test Acc: 0.8105\n",
            "Epoch: 80, Loss: 0.4848, Train Acc: 0.7995, Test Acc: 0.8105\n",
            "Epoch: 90, Loss: 0.5716, Train Acc: 0.7995, Test Acc: 0.8105\n"
          ]
        }
      ],
      "source": [
        "args['model'] = 'GROVER'\n",
        "exp = TrainManager(dataloader, args)\n",
        "exp.train(epochs=200, log=True)"
      ]
    },
    {
      "cell_type": "code",
      "execution_count": null,
      "metadata": {
        "id": "eWcKTGmKZgPO"
      },
      "outputs": [],
      "source": [
        "exp.analyze()"
      ]
    },
    {
      "cell_type": "markdown",
      "metadata": {
        "id": "P2Z8Vb1obIHc"
      },
      "source": [
        "### GROVER_FP"
      ]
    },
    {
      "cell_type": "code",
      "source": [
        "args['model'] = 'GROVER_FP'\n",
        "exp = TrainManager(dataloader, args)\n",
        "exp.train(epochs=100, log=True)"
      ],
      "metadata": {
        "colab": {
          "base_uri": "https://localhost:8080/"
        },
        "id": "4vs7_9OyZJpP",
        "outputId": "71004bf5-a3e3-4a63-82fe-9c7faac68d82"
      },
      "execution_count": null,
      "outputs": [
        {
          "output_type": "stream",
          "name": "stdout",
          "text": [
            "Model is on device: cuda:0\n",
            "Epoch: 0, Loss: 0.2067, Train AUC: 0.5015, Test AUC: 0.5014\n",
            "                        Train F1: 0.0062, Test F1: 0.0060\n",
            "Epoch: 10, Loss: 0.2028, Train AUC: 0.5157, Test AUC: 0.5121\n",
            "                        Train F1: 0.0600, Test F1: 0.0472\n",
            "Epoch: 20, Loss: 0.2412, Train AUC: 0.5688, Test AUC: 0.5498\n",
            "                        Train F1: 0.2088, Test F1: 0.1595\n",
            "Epoch: 30, Loss: 0.1901, Train AUC: 0.5811, Test AUC: 0.5543\n",
            "                        Train F1: 0.2422, Test F1: 0.1715\n",
            "Epoch: 40, Loss: 0.2461, Train AUC: 0.5727, Test AUC: 0.5453\n",
            "                        Train F1: 0.2212, Test F1: 0.1468\n",
            "Epoch: 50, Loss: 0.2353, Train AUC: 0.5895, Test AUC: 0.5515\n",
            "                        Train F1: 0.2656, Test F1: 0.1652\n",
            "Epoch: 60, Loss: 0.2126, Train AUC: 0.5853, Test AUC: 0.5483\n",
            "                        Train F1: 0.2575, Test F1: 0.1559\n",
            "Epoch: 70, Loss: 0.2469, Train AUC: 0.6061, Test AUC: 0.5551\n",
            "                        Train F1: 0.3052, Test F1: 0.1763\n",
            "Epoch: 80, Loss: 0.2046, Train AUC: 0.6183, Test AUC: 0.5606\n",
            "                        Train F1: 0.3106, Test F1: 0.1775\n",
            "Epoch: 90, Loss: 0.2250, Train AUC: 0.6142, Test AUC: 0.5543\n",
            "                        Train F1: 0.3143, Test F1: 0.1671\n"
          ]
        }
      ]
    },
    {
      "cell_type": "code",
      "source": [
        "exp.eval(dataloader['val'])"
      ],
      "metadata": {
        "colab": {
          "base_uri": "https://localhost:8080/"
        },
        "id": "4Va6v7V8vNC8",
        "outputId": "34974304-efab-47d1-b24c-1bff5bca7132"
      },
      "execution_count": null,
      "outputs": [
        {
          "output_type": "execute_result",
          "data": {
            "text/plain": [
              "(4.598954316912922,\n",
              " 0.5000043701418034,\n",
              " 0.06666666666666667,\n",
              " 4.228329809725158e-05,\n",
              " 8.451299387280793e-05)"
            ]
          },
          "metadata": {},
          "execution_count": 58
        }
      ]
    },
    {
      "cell_type": "markdown",
      "source": [],
      "metadata": {
        "id": "VZW_XwPjZIvc"
      }
    },
    {
      "cell_type": "code",
      "execution_count": null,
      "metadata": {
        "colab": {
          "base_uri": "https://localhost:8080/"
        },
        "id": "OvF3bodnSGms",
        "outputId": "0e9446b8-db48-45f0-f35c-ab5a7e921c7a"
      },
      "outputs": [
        {
          "name": "stdout",
          "output_type": "stream",
          "text": [
            "Model is on device: cpu\n",
            "Epoch: 0, Loss: 0.2124, Train AUC: 0.5015, Test AUC: 0.5015\n",
            "                        Train F1: 0.0084, Test F1: 0.0134\n",
            "Epoch: 10, Loss: 0.1875, Train AUC: 0.5000, Test AUC: 0.5000\n",
            "                        Train F1: 0.0000, Test F1: 0.0000\n",
            "Epoch: 20, Loss: 0.2548, Train AUC: 0.5000, Test AUC: 0.5000\n",
            "                        Train F1: 0.0000, Test F1: 0.0000\n",
            "Epoch: 30, Loss: 0.3522, Train AUC: 0.5000, Test AUC: 0.5000\n",
            "                        Train F1: 0.0000, Test F1: 0.0000\n",
            "Epoch: 40, Loss: 0.1749, Train AUC: 0.5000, Test AUC: 0.5000\n",
            "                        Train F1: 0.0000, Test F1: 0.0000\n",
            "Epoch: 50, Loss: 0.3244, Train AUC: 0.5000, Test AUC: 0.5000\n",
            "                        Train F1: 0.0000, Test F1: 0.0000\n",
            "Epoch: 60, Loss: 0.2458, Train AUC: 0.5000, Test AUC: 0.5000\n",
            "                        Train F1: 0.0000, Test F1: 0.0000\n",
            "Epoch: 70, Loss: 0.3236, Train AUC: 0.5000, Test AUC: 0.5000\n",
            "                        Train F1: 0.0000, Test F1: 0.0000\n",
            "Epoch: 80, Loss: 0.2827, Train AUC: 0.5000, Test AUC: 0.5000\n",
            "                        Train F1: 0.0000, Test F1: 0.0000\n",
            "Epoch: 90, Loss: 0.1614, Train AUC: 0.5000, Test AUC: 0.5000\n",
            "                        Train F1: 0.0000, Test F1: 0.0000\n",
            "Epoch: 100, Loss: 0.2131, Train AUC: 0.5000, Test AUC: 0.5000\n",
            "                        Train F1: 0.0000, Test F1: 0.0000\n",
            "Epoch: 110, Loss: 0.3384, Train AUC: 0.5000, Test AUC: 0.5000\n",
            "                        Train F1: 0.0000, Test F1: 0.0000\n",
            "Epoch: 120, Loss: 0.1976, Train AUC: 0.5000, Test AUC: 0.5000\n",
            "                        Train F1: 0.0000, Test F1: 0.0000\n",
            "Epoch: 130, Loss: 0.1896, Train AUC: 0.5000, Test AUC: 0.5000\n",
            "                        Train F1: 0.0000, Test F1: 0.0000\n",
            "Epoch: 140, Loss: 0.1916, Train AUC: 0.5000, Test AUC: 0.5000\n",
            "                        Train F1: 0.0000, Test F1: 0.0000\n",
            "Epoch: 150, Loss: 0.2407, Train AUC: 0.5000, Test AUC: 0.5000\n",
            "                        Train F1: 0.0000, Test F1: 0.0000\n"
          ]
        },
        {
          "ename": "KeyboardInterrupt",
          "evalue": "",
          "output_type": "error",
          "traceback": [
            "\u001b[0;31m---------------------------------------------------------------------------\u001b[0m",
            "\u001b[0;31mKeyboardInterrupt\u001b[0m                         Traceback (most recent call last)",
            "Cell \u001b[0;32mIn[234], line 3\u001b[0m\n\u001b[1;32m      1\u001b[0m args[\u001b[39m'\u001b[39m\u001b[39mmodel\u001b[39m\u001b[39m'\u001b[39m] \u001b[39m=\u001b[39m \u001b[39m'\u001b[39m\u001b[39mGROVER_FP\u001b[39m\u001b[39m'\u001b[39m\n\u001b[1;32m      2\u001b[0m exp \u001b[39m=\u001b[39m TrainManager(dataloader, args)\n\u001b[0;32m----> 3\u001b[0m exp\u001b[39m.\u001b[39;49mtrain(epochs\u001b[39m=\u001b[39;49m\u001b[39m200\u001b[39;49m, log\u001b[39m=\u001b[39;49m\u001b[39mTrue\u001b[39;49;00m)\n",
            "Cell \u001b[0;32mIn[222], line 58\u001b[0m, in \u001b[0;36mTrainManager.train\u001b[0;34m(self, epochs, log)\u001b[0m\n\u001b[1;32m     54\u001b[0m \u001b[39mfor\u001b[39;00m epoch \u001b[39min\u001b[39;00m \u001b[39mrange\u001b[39m(epochs):\n\u001b[1;32m     56\u001b[0m     cum_loss \u001b[39m=\u001b[39m \u001b[39m0\u001b[39m\n\u001b[0;32m---> 58\u001b[0m     \u001b[39mfor\u001b[39;00m data \u001b[39min\u001b[39;00m \u001b[39mself\u001b[39m\u001b[39m.\u001b[39mdataloader[\u001b[39m'\u001b[39m\u001b[39mtrain\u001b[39m\u001b[39m'\u001b[39m]:  \u001b[39m# Iterate in batches over the training dataset.\u001b[39;00m\n\u001b[1;32m     60\u001b[0m         data \u001b[39m=\u001b[39m data\u001b[39m.\u001b[39mto(\u001b[39mself\u001b[39m\u001b[39m.\u001b[39margs[\u001b[39m'\u001b[39m\u001b[39mdevice\u001b[39m\u001b[39m'\u001b[39m])\n\u001b[1;32m     62\u001b[0m         \u001b[39m# forward pass based on model type\u001b[39;00m\n",
            "File \u001b[0;32m~/opt/miniconda3/envs/thesis/lib/python3.11/site-packages/torch/utils/data/dataloader.py:633\u001b[0m, in \u001b[0;36m_BaseDataLoaderIter.__next__\u001b[0;34m(self)\u001b[0m\n\u001b[1;32m    630\u001b[0m \u001b[39mif\u001b[39;00m \u001b[39mself\u001b[39m\u001b[39m.\u001b[39m_sampler_iter \u001b[39mis\u001b[39;00m \u001b[39mNone\u001b[39;00m:\n\u001b[1;32m    631\u001b[0m     \u001b[39m# TODO(https://github.com/pytorch/pytorch/issues/76750)\u001b[39;00m\n\u001b[1;32m    632\u001b[0m     \u001b[39mself\u001b[39m\u001b[39m.\u001b[39m_reset()  \u001b[39m# type: ignore[call-arg]\u001b[39;00m\n\u001b[0;32m--> 633\u001b[0m data \u001b[39m=\u001b[39m \u001b[39mself\u001b[39;49m\u001b[39m.\u001b[39;49m_next_data()\n\u001b[1;32m    634\u001b[0m \u001b[39mself\u001b[39m\u001b[39m.\u001b[39m_num_yielded \u001b[39m+\u001b[39m\u001b[39m=\u001b[39m \u001b[39m1\u001b[39m\n\u001b[1;32m    635\u001b[0m \u001b[39mif\u001b[39;00m \u001b[39mself\u001b[39m\u001b[39m.\u001b[39m_dataset_kind \u001b[39m==\u001b[39m _DatasetKind\u001b[39m.\u001b[39mIterable \u001b[39mand\u001b[39;00m \\\n\u001b[1;32m    636\u001b[0m         \u001b[39mself\u001b[39m\u001b[39m.\u001b[39m_IterableDataset_len_called \u001b[39mis\u001b[39;00m \u001b[39mnot\u001b[39;00m \u001b[39mNone\u001b[39;00m \u001b[39mand\u001b[39;00m \\\n\u001b[1;32m    637\u001b[0m         \u001b[39mself\u001b[39m\u001b[39m.\u001b[39m_num_yielded \u001b[39m>\u001b[39m \u001b[39mself\u001b[39m\u001b[39m.\u001b[39m_IterableDataset_len_called:\n",
            "File \u001b[0;32m~/opt/miniconda3/envs/thesis/lib/python3.11/site-packages/torch/utils/data/dataloader.py:677\u001b[0m, in \u001b[0;36m_SingleProcessDataLoaderIter._next_data\u001b[0;34m(self)\u001b[0m\n\u001b[1;32m    675\u001b[0m \u001b[39mdef\u001b[39;00m \u001b[39m_next_data\u001b[39m(\u001b[39mself\u001b[39m):\n\u001b[1;32m    676\u001b[0m     index \u001b[39m=\u001b[39m \u001b[39mself\u001b[39m\u001b[39m.\u001b[39m_next_index()  \u001b[39m# may raise StopIteration\u001b[39;00m\n\u001b[0;32m--> 677\u001b[0m     data \u001b[39m=\u001b[39m \u001b[39mself\u001b[39;49m\u001b[39m.\u001b[39;49m_dataset_fetcher\u001b[39m.\u001b[39;49mfetch(index)  \u001b[39m# may raise StopIteration\u001b[39;00m\n\u001b[1;32m    678\u001b[0m     \u001b[39mif\u001b[39;00m \u001b[39mself\u001b[39m\u001b[39m.\u001b[39m_pin_memory:\n\u001b[1;32m    679\u001b[0m         data \u001b[39m=\u001b[39m _utils\u001b[39m.\u001b[39mpin_memory\u001b[39m.\u001b[39mpin_memory(data, \u001b[39mself\u001b[39m\u001b[39m.\u001b[39m_pin_memory_device)\n",
            "File \u001b[0;32m~/opt/miniconda3/envs/thesis/lib/python3.11/site-packages/torch/utils/data/_utils/fetch.py:54\u001b[0m, in \u001b[0;36m_MapDatasetFetcher.fetch\u001b[0;34m(self, possibly_batched_index)\u001b[0m\n\u001b[1;32m     52\u001b[0m \u001b[39melse\u001b[39;00m:\n\u001b[1;32m     53\u001b[0m     data \u001b[39m=\u001b[39m \u001b[39mself\u001b[39m\u001b[39m.\u001b[39mdataset[possibly_batched_index]\n\u001b[0;32m---> 54\u001b[0m \u001b[39mreturn\u001b[39;00m \u001b[39mself\u001b[39;49m\u001b[39m.\u001b[39;49mcollate_fn(data)\n",
            "File \u001b[0;32m~/opt/miniconda3/envs/thesis/lib/python3.11/site-packages/torch_geometric/loader/dataloader.py:20\u001b[0m, in \u001b[0;36mCollater.__call__\u001b[0;34m(self, batch)\u001b[0m\n\u001b[1;32m     18\u001b[0m elem \u001b[39m=\u001b[39m batch[\u001b[39m0\u001b[39m]\n\u001b[1;32m     19\u001b[0m \u001b[39mif\u001b[39;00m \u001b[39misinstance\u001b[39m(elem, BaseData):\n\u001b[0;32m---> 20\u001b[0m     \u001b[39mreturn\u001b[39;00m Batch\u001b[39m.\u001b[39;49mfrom_data_list(batch, \u001b[39mself\u001b[39;49m\u001b[39m.\u001b[39;49mfollow_batch,\n\u001b[1;32m     21\u001b[0m                                 \u001b[39mself\u001b[39;49m\u001b[39m.\u001b[39;49mexclude_keys)\n\u001b[1;32m     22\u001b[0m \u001b[39melif\u001b[39;00m \u001b[39misinstance\u001b[39m(elem, torch\u001b[39m.\u001b[39mTensor):\n\u001b[1;32m     23\u001b[0m     \u001b[39mreturn\u001b[39;00m default_collate(batch)\n",
            "File \u001b[0;32m~/opt/miniconda3/envs/thesis/lib/python3.11/site-packages/torch_geometric/data/batch.py:76\u001b[0m, in \u001b[0;36mBatch.from_data_list\u001b[0;34m(cls, data_list, follow_batch, exclude_keys)\u001b[0m\n\u001b[1;32m     64\u001b[0m \u001b[39m@classmethod\u001b[39m\n\u001b[1;32m     65\u001b[0m \u001b[39mdef\u001b[39;00m \u001b[39mfrom_data_list\u001b[39m(\u001b[39mcls\u001b[39m, data_list: List[BaseData],\n\u001b[1;32m     66\u001b[0m                    follow_batch: Optional[List[\u001b[39mstr\u001b[39m]] \u001b[39m=\u001b[39m \u001b[39mNone\u001b[39;00m,\n\u001b[1;32m     67\u001b[0m                    exclude_keys: Optional[List[\u001b[39mstr\u001b[39m]] \u001b[39m=\u001b[39m \u001b[39mNone\u001b[39;00m):\n\u001b[1;32m     68\u001b[0m \u001b[39m    \u001b[39m\u001b[39mr\u001b[39m\u001b[39m\"\"\"Constructs a :class:`~torch_geometric.data.Batch` object from a\u001b[39;00m\n\u001b[1;32m     69\u001b[0m \u001b[39m    Python list of :class:`~torch_geometric.data.Data` or\u001b[39;00m\n\u001b[1;32m     70\u001b[0m \u001b[39m    :class:`~torch_geometric.data.HeteroData` objects.\u001b[39;00m\n\u001b[0;32m   (...)\u001b[0m\n\u001b[1;32m     73\u001b[0m \u001b[39m    :obj:`follow_batch`.\u001b[39;00m\n\u001b[1;32m     74\u001b[0m \u001b[39m    Will exclude any keys given in :obj:`exclude_keys`.\"\"\"\u001b[39;00m\n\u001b[0;32m---> 76\u001b[0m     batch, slice_dict, inc_dict \u001b[39m=\u001b[39m collate(\n\u001b[1;32m     77\u001b[0m         \u001b[39mcls\u001b[39;49m,\n\u001b[1;32m     78\u001b[0m         data_list\u001b[39m=\u001b[39;49mdata_list,\n\u001b[1;32m     79\u001b[0m         increment\u001b[39m=\u001b[39;49m\u001b[39mTrue\u001b[39;49;00m,\n\u001b[1;32m     80\u001b[0m         add_batch\u001b[39m=\u001b[39;49m\u001b[39mnot\u001b[39;49;00m \u001b[39misinstance\u001b[39;49m(data_list[\u001b[39m0\u001b[39;49m], Batch),\n\u001b[1;32m     81\u001b[0m         follow_batch\u001b[39m=\u001b[39;49mfollow_batch,\n\u001b[1;32m     82\u001b[0m         exclude_keys\u001b[39m=\u001b[39;49mexclude_keys,\n\u001b[1;32m     83\u001b[0m     )\n\u001b[1;32m     85\u001b[0m     batch\u001b[39m.\u001b[39m_num_graphs \u001b[39m=\u001b[39m \u001b[39mlen\u001b[39m(data_list)\n\u001b[1;32m     86\u001b[0m     batch\u001b[39m.\u001b[39m_slice_dict \u001b[39m=\u001b[39m slice_dict\n",
            "File \u001b[0;32m~/opt/miniconda3/envs/thesis/lib/python3.11/site-packages/torch_geometric/data/collate.py:85\u001b[0m, in \u001b[0;36mcollate\u001b[0;34m(cls, data_list, increment, add_batch, follow_batch, exclude_keys)\u001b[0m\n\u001b[1;32m     82\u001b[0m     \u001b[39mcontinue\u001b[39;00m\n\u001b[1;32m     84\u001b[0m \u001b[39m# Collate attributes into a unified representation:\u001b[39;00m\n\u001b[0;32m---> 85\u001b[0m value, slices, incs \u001b[39m=\u001b[39m _collate(attr, values, data_list, stores,\n\u001b[1;32m     86\u001b[0m                                increment)\n\u001b[1;32m     88\u001b[0m \u001b[39mif\u001b[39;00m \u001b[39misinstance\u001b[39m(value, Tensor) \u001b[39mand\u001b[39;00m value\u001b[39m.\u001b[39mis_cuda:\n\u001b[1;32m     89\u001b[0m     device \u001b[39m=\u001b[39m value\u001b[39m.\u001b[39mdevice\n",
            "File \u001b[0;32m~/opt/miniconda3/envs/thesis/lib/python3.11/site-packages/torch_geometric/data/collate.py:160\u001b[0m, in \u001b[0;36m_collate\u001b[0;34m(key, values, data_list, stores, increment)\u001b[0m\n\u001b[1;32m    157\u001b[0m     \u001b[39melse\u001b[39;00m:\n\u001b[1;32m    158\u001b[0m         out \u001b[39m=\u001b[39m \u001b[39mNone\u001b[39;00m\n\u001b[0;32m--> 160\u001b[0m     value \u001b[39m=\u001b[39m torch\u001b[39m.\u001b[39;49mcat(values, dim\u001b[39m=\u001b[39;49mcat_dim \u001b[39mor\u001b[39;49;00m \u001b[39m0\u001b[39;49m, out\u001b[39m=\u001b[39;49mout)\n\u001b[1;32m    161\u001b[0m     \u001b[39mreturn\u001b[39;00m value, slices, incs\n\u001b[1;32m    163\u001b[0m \u001b[39melif\u001b[39;00m \u001b[39misinstance\u001b[39m(elem, SparseTensor) \u001b[39mand\u001b[39;00m increment:\n\u001b[1;32m    164\u001b[0m     \u001b[39m# Concatenate a list of `SparseTensor` along the `cat_dim`.\u001b[39;00m\n\u001b[1;32m    165\u001b[0m     \u001b[39m# NOTE: `cat_dim` may return a tuple to allow for diagonal stacking.\u001b[39;00m\n",
            "\u001b[0;31mKeyboardInterrupt\u001b[0m: "
          ]
        }
      ],
      "source": [
        "args['model'] = 'GROVER_FP'\n",
        "exp = TrainManager(dataloader, args)\n",
        "exp.train(epochs=200, log=True)"
      ]
    },
    {
      "cell_type": "code",
      "execution_count": null,
      "metadata": {
        "colab": {
          "base_uri": "https://localhost:8080/",
          "height": 515
        },
        "id": "A7GernxaSGmt",
        "outputId": "f0ae9d63-8c0d-4819-d5f0-ae75ac98e5e8"
      },
      "outputs": [
        {
          "data": {
            "image/png": "[encoded data removed]",
            "text/plain": [
              "<Figure size 1000x500 with 2 Axes>"
            ]
          },
          "metadata": {},
          "output_type": "display_data"
        }
      ],
      "source": [
        "exp.analyze()"
      ]
    },
    {
      "cell_type": "code",
      "execution_count": null,
      "metadata": {
        "colab": {
          "base_uri": "https://localhost:8080/"
        },
        "id": "F2Y4N15MTtxx",
        "outputId": "c4435894-0fa7-425c-da84-3a25ce7cb872"
      },
      "outputs": [
        {
          "name": "stdout",
          "output_type": "stream",
          "text": [
            "Model is on device: cuda:0\n",
            "Epoch: 0, Loss: 0.4337, Train Acc: 0.8022, Test Acc: 0.8020\n",
            "Epoch: 10, Loss: 0.4334, Train Acc: 0.8023, Test Acc: 0.8020\n",
            "Epoch: 20, Loss: 0.4617, Train Acc: 0.8023, Test Acc: 0.8020\n",
            "Epoch: 30, Loss: 0.5262, Train Acc: 0.8023, Test Acc: 0.8020\n",
            "Epoch: 40, Loss: 0.3913, Train Acc: 0.8023, Test Acc: 0.8020\n",
            "Epoch: 50, Loss: 0.5047, Train Acc: 0.8023, Test Acc: 0.8020\n",
            "Epoch: 60, Loss: 0.4828, Train Acc: 0.8023, Test Acc: 0.8020\n",
            "Epoch: 70, Loss: 0.3990, Train Acc: 0.8023, Test Acc: 0.8020\n",
            "Epoch: 80, Loss: 0.3902, Train Acc: 0.8023, Test Acc: 0.8020\n",
            "Epoch: 90, Loss: 0.3735, Train Acc: 0.8023, Test Acc: 0.8020\n"
          ]
        }
      ],
      "source": [
        "args['model'] = 'GROVER_FP'\n",
        "exp = TrainManager(dataloader, args)\n",
        "exp.train(epochs=100, log=True)"
      ]
    },
    {
      "cell_type": "code",
      "execution_count": null,
      "metadata": {
        "colab": {
          "base_uri": "https://localhost:8080/",
          "height": 515
        },
        "id": "5yjsME-YTvhw",
        "outputId": "a56ab9d7-4a9e-485f-f2eb-c42bda86795f"
      },
      "outputs": [
        {
          "data": {
            "image/png": "[encoded data removed]",
            "text/plain": [
              "<Figure size 1000x500 with 2 Axes>"
            ]
          },
          "metadata": {},
          "output_type": "display_data"
        }
      ],
      "source": [
        "exp.analyze()"
      ]
    }
  ],
  "metadata": {
    "colab": {
      "gpuType": "A100",
      "machine_shape": "hm",
      "provenance": [],
      "include_colab_link": true
    },
    "kernelspec": {
      "display_name": "Python 3",
      "name": "python3"
    },
    "language_info": {
      "codemirror_mode": {
        "name": "ipython",
        "version": 3
      },
      "file_extension": ".py",
      "mimetype": "text/x-python",
      "name": "python",
      "nbconvert_exporter": "python",
      "pygments_lexer": "ipython3",
      "version": "3.11.4"
    },
    "orig_nbformat": 4,
    "accelerator": "GPU"
  },
  "nbformat": 4,
  "nbformat_minor": 0
}